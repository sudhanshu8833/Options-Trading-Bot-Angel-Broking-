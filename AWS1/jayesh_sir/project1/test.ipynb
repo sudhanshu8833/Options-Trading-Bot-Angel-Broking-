{
 "cells": [
  {
   "cell_type": "code",
   "execution_count": 8,
   "metadata": {},
   "outputs": [],
   "source": [
    "\n",
    "from finta import TA\n",
    "import yfinance as yf\n",
    "import numpy as np\n",
    "import pandas as pd\n",
    "import yfinance as yf\n",
    "from alpha_vantage.timeseries import TimeSeries\n",
    "import datetime as dt\n",
    "import copy\n",
    "import matplotlib.pyplot as plt\n",
    "import time\n",
    "import json\n",
    "from csv import writer\n",
    "\n"
   ]
  },
  {
   "cell_type": "code",
   "execution_count": 12,
   "metadata": {},
   "outputs": [
    {
     "name": "stdout",
     "output_type": "stream",
     "text": [
      " 20:05:38 | Logged in!!\n"
     ]
    }
   ],
   "source": [
    "import telepot\n",
    "bot = telepot.Bot('1909267145:AAFD0a_mHpsieVdSxgj_dej9LEFMYF7G_x8')\n",
    "bot.getMe()\n",
    "\n",
    "\n",
    "kickers={'AARTIIND': 7, 'ABFRL': 30108, 'ACC': 22, 'ADANIENT': 25, 'ADANIPORTS': 15083, 'ALKEM': 11703, 'AMARAJABAT': 100, 'AMBUJACEM': 1270, 'APLLTD': 25328, 'APOLLOHOSP': 157, 'APOLLOTYRE': 163, 'ASHOKLEY': 212, 'ASIANPAINT': 236, 'AUBANK': 21238, 'AUROPHARMA': 275, 'AXISBANK': 5900, 'BAJAJ-AUTO': 16669, 'BAJAJFINSV': 16675, 'BAJFINANCE': 317, 'BALKRISIND': 335, 'BANDHANBNK': 2263, 'BANKBARODA': 4668, 'BATAINDIA': 371, 'BEL': 383, 'BERGEPAINT': 404, 'BHARATFORG': 422, 'BHARTIARTL': 10604, 'BHEL': 438, 'BIOCON': 11373, 'BOSCHLTD': 2181, 'BPCL': 526, 'BRITANNIA': 547, 'CADILAHC': 7929, 'CANBK': 10794, 'CHOLAFIN': 685, 'CIPLA': 694, 'COALINDIA': 20374, 'COFORGE': 11543, 'COLPAL': 15141, 'CONCOR': 4749, 'COROMANDEL': 739, 'CUB': 5701, 'CUMMINSIND': 1901, 'DABUR': 772, 'DEEPAKNTR': 19943, 'DIVISLAB': 10940, 'DLF': 14732, 'DRREDDY': 881, 'EICHERMOT': 910, 'ESCORTS': 958, 'EXIDEIND': 676, 'FEDERALBNK': 1023, 'GAIL': 4717, 'GLENMARK': 7406, 'GMRINFRA': 13528, 'GODREJCP': 10099, 'GODREJPROP': 17875, 'GRANULES': 11872, 'GRASIM': 1232, 'GUJGASLTD': 10599, 'HAVELLS': 9819, 'HCLTECH': 7229, 'HDFC': 1330, 'HDFCAMC': 4244, 'HDFCBANK': 1333, 'HDFCLIFE': 467, 'HEROMOTOCO': 1348, 'HINDALCO': 1363, 'HINDPETRO': 1406, 'HINDUNILVR': 1394, 'IBULHSGFIN': 30125, 'ICICIBANK': 4963, 'ICICIGI': 21770, 'ICICIPRULI': 18652, 'IDEA': 14366, 'IDFCFIRSTB': 11184, 'IGL': 11262, 'INDHOTEL': 1512, 'INDIGO': 11195, 'INDUSINDBK': 5258, 'INDUSTOWER': 29135, 'INFY': 1594, 'IOC': 1624, 'IRCTC': 13611, 'ITC': 1660, 'JINDALSTEL': 6733, 'JSWSTEEL': 11723, 'JUBLFOOD': 18096, 'KOTAKBANK': 1922, 'LALPATHLAB':11654, 'LICHSGFIN': 1997, 'LT': 11483, 'LTI': 17818, 'LTTS': 18564, 'LUPIN': 10440,  'MANAPPURAM': 19061, 'MARICO': 4067, 'MARUTI': 10999, 'MCDOWELL-N': 10447, 'METROPOLIS': 9581, 'MFSL': 2142, 'MGL': 17534, 'MINDTREE': 14356, 'MOTHERSUMI': 4204, 'MPHASIS': 4503, 'MRF': 2277, 'MUTHOOTFIN': 23650, 'NAM-INDIA': 357, 'NATIONALUM': 6364, 'NAUKRI': 13751, 'NAVINFLUOR': 14672, 'NESTLEIND': 17963, 'NMDC': 15332, 'NTPC': 11630, 'ONGC': 2475, 'PAGEIND': 14413, 'PEL': 2412, 'PETRONET': 11351, 'PFC': 14299, 'PFIZER': 2643, 'PIDILITIND': 2664, 'PIIND': 24184, 'PNB': 10666, 'POWERGRID': 14977, 'PVR': 13147, 'RAMCOCEM': 2043, 'RBLBANK': 18391, 'RECLTD': 15355, 'RELIANCE': 2885, 'SAIL': 2963, 'SBILIFE': 21808, 'SBIN': 3045, 'SHREECEM': 3103, 'SIEMENS': 3150, 'SRF': 3273, 'SRTRANSFIN': 4306, 'SUNPHARMA': 3351, 'SUNTV': 13404, 'TATACHEM': 3405, 'TATACONSUM': 3432, 'TATAMOTORS': 3456, 'TATAPOWER': 3426, 'TATASTEEL': 3499, 'TCS': 11536, 'TECHM': 13538, 'TITAN': 3506, 'TORNTPHARM': 3518, 'TORNTPOWER': 13786, 'TRENT': 1964, 'TVSMOTOR': 8479, 'UBL': 16713, 'ULTRACEMCO': 11532, 'UPL': 11287, 'VEDL': 3063, 'VOLTAS': 3718, 'WIPRO': 3787, 'ZEEL': 3812}\n",
    "lickers=[]\n",
    "\n",
    "\n",
    "from smartapi import SmartConnect \n",
    "obj=SmartConnect(api_key=\"HXJag4Go\")\n",
    "data = obj.generateSession(\"G19398\",\"9iiiiiiiiiii\")\n",
    "refreshToken= data['data']['refreshToken']\n",
    "feedToken=obj.getfeedToken()\n",
    "userProfile= obj.getProfile(refreshToken)\n",
    "\n",
    "\n",
    "# %%\n",
    "from py5paisa import FivePaisaClient\n",
    "\n",
    "client = FivePaisaClient(email=\"jayeshpatel51999@gmail.com\", passwd=\"jayesh@51999\", dob=\"19791215\")\n",
    "client.login()\n",
    "\n",
    "\n",
    "# %%\n",
    "\n",
    "\n",
    "\n",
    "\n",
    "# %%\n",
    "investment=10000\n",
    "risk=50   \n",
    "portfolio=30000\n",
    "\n",
    "prise=0\n",
    "ltp=0\n",
    "\n",
    "# selection()\n",
    "# print(jikers)\n",
    "# print(\"passthrough at \",time.strftime('%Y-%m-%d %H:%M:%S', time.localtime(time.time())))\n",
    "\n",
    "ohlcv_database=pd.DataFrame()\n",
    "\n",
    "order=[]\n",
    "order1=[]\n",
    "price=0\n",
    "\n",
    "position=\"\"\n",
    "position=\"\"\n",
    "\n",
    "\n",
    "\n",
    "\n",
    "\n",
    "\n",
    "# %%\n",
    "\n",
    "\n",
    "\n",
    "\n",
    "\n",
    "\n",
    "# %%\n",
    "high={}\n",
    "low=0\n",
    "times=99999999999999999\n",
    "high1=1000000000\n",
    "\n",
    "\n",
    "\n",
    "\n",
    "# %%\n",
    "\n",
    "\n",
    "\n",
    "# %%\n",
    "\n",
    "\n",
    "           \n",
    "      \n",
    "\n",
    "        \n",
    "\n",
    "\n",
    "# %%\n",
    "\n",
    "\n",
    "\n",
    "# %%\n",
    "\n",
    "\n",
    "\n",
    "# %%\n",
    "def market_order(instrument,investment,risk):\n",
    "    global price,order,order1,start_time,stock,order1,ltp,kickers\n",
    "\n",
    "\n",
    "    price=58\n",
    "    units=int(investment/price)\n",
    "   \n",
    "    if units>0:\n",
    "        try:\n",
    "            orderparams = {\n",
    "                \"variety\": \"NORMAL\",\n",
    "                \"tradingsymbol\": str(instrument)+'-EQ',\n",
    "                \"symboltoken\": str(kickers[instrument]),\n",
    "                \"transactiontype\": \"BUY\",\n",
    "                \"exchange\": \"NSE\",\n",
    "                \"ordertype\": \"MARKET\",\n",
    "                \"producttype\": \"INTRADAY\",\n",
    "                \"duration\": \"DAY\",\n",
    "            \n",
    "                \n",
    "\n",
    "                \"quantity\": str(abs(units))\n",
    "                }\n",
    "            orderId=obj.placeOrder(orderparams)\n",
    "            print(\"The order id is: {}\".format(orderId))\n",
    "            bot.sendMessage(1039725953, 'long position generatted')\n",
    "        except Exception as e:\n",
    "            print(\"Order placement failed: {}\".format(e.message))\n",
    "      \n",
    "\n",
    "\n",
    "\n",
    "    if units<0:\n",
    "        try:\n",
    "            orderparams = {\n",
    "                \"variety\": \"NORMAL\",\n",
    "                \"tradingsymbol\": str(instrument)+'-EQ',\n",
    "                \"symboltoken\": str(kickers[instrument]),\n",
    "                \"transactiontype\": \"SELL\",\n",
    "                \"exchange\": \"NSE\",\n",
    "                \"ordertype\": \"MARKET\",\n",
    "                \"producttype\": \"INTRADAY\",\n",
    "                \"duration\": \"DAY\",\n",
    "    \n",
    "              \n",
    "                \"quantity\": str(abs(units))\n",
    "                }\n",
    "            orderId=obj.placeOrder(orderparams)\n",
    "            print(\"The order id is: {}\".format(orderId))\n",
    "            bot.sendMessage(1039725953, 'short position generatted')\n",
    "        except Exception as e:\n",
    "            print(\"Order placement failed: {}\".format(e.message))\n",
    "            bot.sendMessage(1039725953, 'could not place the order .... some error ocurred')    \n",
    "        \n",
    "\n"
   ]
  },
  {
   "cell_type": "code",
   "execution_count": 13,
   "metadata": {},
   "outputs": [
    {
     "name": "stdout",
     "output_type": "stream",
     "text": [
      "The order id is: 210730001081767\n"
     ]
    }
   ],
   "source": [
    "market_order('ACC',300,50)"
   ]
  },
  {
   "cell_type": "code",
   "execution_count": 1,
   "metadata": {},
   "outputs": [
    {
     "ename": "NameError",
     "evalue": "name 'hi' is not defined",
     "output_type": "error",
     "traceback": [
      "\u001b[0;31m---------------------------------------------------------------------------\u001b[0m",
      "\u001b[0;31mNameError\u001b[0m                                 Traceback (most recent call last)",
      "\u001b[0;32m<ipython-input-1-55ca6286e3e4>\u001b[0m in \u001b[0;36m<module>\u001b[0;34m\u001b[0m\n\u001b[0;32m----> 1\u001b[0;31m \u001b[0mhi\u001b[0m\u001b[0;34m\u001b[0m\u001b[0;34m\u001b[0m\u001b[0m\n\u001b[0m",
      "\u001b[0;31mNameError\u001b[0m: name 'hi' is not defined"
     ]
    }
   ],
   "source": [
    "hi\n"
   ]
  },
  {
   "cell_type": "code",
   "execution_count": 1,
   "metadata": {},
   "outputs": [],
   "source": [
    "y=int(-23.3)"
   ]
  },
  {
   "cell_type": "code",
   "execution_count": 2,
   "metadata": {},
   "outputs": [
    {
     "data": {
      "text/plain": "-23"
     },
     "execution_count": 2,
     "metadata": {},
     "output_type": "execute_result"
    }
   ],
   "source": [
    "y"
   ]
  },
  {
   "cell_type": "code",
   "execution_count": null,
   "metadata": {},
   "outputs": [],
   "source": []
  }
 ],
 "metadata": {
  "kernelspec": {
   "display_name": "Python 3.9.5 64-bit",
   "name": "python395jvsc74a57bd0aee8b7b246df8f9039afb4144a1f6fd8d2ca17a180786b69acc140d282b71a49"
  },
  "language_info": {
   "codemirror_mode": {
    "name": "ipython",
    "version": 3
   },
   "file_extension": ".py",
   "mimetype": "text/x-python",
   "name": "python",
   "nbconvert_exporter": "python",
   "pygments_lexer": "ipython3",
   "version": "3.9.5"
  },
  "metadata": {
   "interpreter": {
    "hash": "aee8b7b246df8f9039afb4144a1f6fd8d2ca17a180786b69acc140d282b71a49"
   }
  },
  "orig_nbformat": 2
 },
 "nbformat": 4,
 "nbformat_minor": 2
}