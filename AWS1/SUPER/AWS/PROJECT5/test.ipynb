{
 "cells": [
  {
   "cell_type": "code",
   "execution_count": 6,
   "metadata": {},
   "outputs": [],
   "source": [
    "from datetime import date\n",
    "\n",
    "import pandas as pd\n",
    "import time\n",
    "import sys\n",
    "\n",
    "# local modules\n",
    "from binance.client import Client\n",
    "from binance.enums import *\n",
    "from indicator import indicators\n",
    "\n",
    "# local file\n",
    "import secrets\n",
    "from configparser import ConfigParser\n",
    "import yfinance as yf\n",
    "import numpy as np\n",
    "import datetime as dt\n",
    "import requests \n",
    "import json \n",
    "import pandas as pd \n",
    "import numpy as np  \n",
    "import logging\n",
    "\n",
    "config=ConfigParser()\n",
    "config.read('keys.txt')\n",
    "import telepot\n",
    "bot = telepot.Bot('1715056219:AAGxytb3U1gIt1vlVn8Jf5b4za3E1HPuOd4')\n",
    "bot.getMe()\n",
    "\n",
    "# %%\n",
    "client = Client(str(config['KEYS']['binance_api_key']), str(config['KEYS']['binance_api_secret_key']))\n",
    "logging.info(\"Logged in successfully\")\n",
    "\n",
    "\n",
    "# %%\n",
    "position=\"\"\n",
    "logging.basicConfig(filename=\"logfilename.log\", level=logging.INFO)\n",
    "\n",
    "\n",
    "\n",
    "def candle(symbol, interval=\"5m\"):\n",
    "\n",
    "\n",
    "    root_url = 'https://api.binance.com/api/v1/klines'\n",
    "    url = root_url + '?symbol=' + symbol + '&interval=' + interval\n",
    "    data = json.loads(requests.get(url).text)\n",
    "    df = pd.DataFrame(data)\n",
    "    df.columns = ['Datetime',\n",
    "                'Open', 'High', 'Low', 'Close', 'volume',\n",
    "                'close_time', 'qav', 'num_trades',\n",
    "                'taker_base_vol', 'taker_quote_vol', 'ignore']\n",
    "    df.index = [dt.datetime.fromtimestamp(x / 1000.0) for x in df.close_time]\n",
    "    \n",
    "    df.drop(['close_time','qav','num_trades','taker_base_vol', 'taker_quote_vol', 'ignore'],axis=1,inplace=True)\n",
    "           \n",
    "    \n",
    "    df['Open']=pd.to_numeric(df[\"Open\"], downcast=\"float\")\n",
    "    df[\"High\"]=pd.to_numeric(df[\"High\"], downcast=\"float\")\n",
    "    df[\"Low\"]=pd.to_numeric(df[\"Low\"], downcast=\"float\")\n",
    "    df[\"Close\"]=pd.to_numeric(df[\"Close\"], downcast=\"float\")\n",
    "    df[\"volume\"]=pd.to_numeric(df[\"volume\"], downcast=\"float\")\n",
    "    \n",
    "    \n",
    "    \n",
    "    \n",
    "    df1=pd.DataFrame()\n",
    "    Open=[]\n",
    "    \n",
    "    df1['Close']=((df['Open'] + df['High'] + df['Low'] + df['Close'])/4)\n",
    "    for i in range(len(df)):\n",
    "        if i==0:\n",
    "            Open.append(0)\n",
    "\n",
    "        else:\n",
    "            Open.append((df['Open'][i-1]+df['Close'][i-1])/2)\n",
    "    df1['Open']=np.array(Open)\n",
    "    df1['volume']=df['volume']\n",
    "    High=[]\n",
    "    Low=[]\n",
    "    High.append(0)\n",
    "    Low.append(0)\n",
    "    for i in range(1,len(df)):\n",
    "\n",
    "        High.append(max(df['High'][i],df1['Close'][i],df1['Open'][i]))\n",
    "        Low.append(min(df['Low'][i],df1['Close'][i],df1['Open'][i]))\n",
    "\n",
    "    df1['High']=np.array(High)\n",
    "    df1['Low']=np.array(Low)\n",
    "\n",
    "\n",
    "\n",
    "    new_df = indicators.SuperTrend(df1, 5, 1)\n",
    "    logging.info(new_df[:-1])\n",
    "    return new_df\n",
    "\n",
    "\n",
    "    "
   ]
  },
  {
   "cell_type": "code",
   "execution_count": 7,
   "metadata": {},
   "outputs": [
    {
     "ename": "TypeError",
     "evalue": "SMA() got an unexpected keyword argument 'alpha'",
     "output_type": "error",
     "traceback": [
      "\u001b[0;31m---------------------------------------------------------------------------\u001b[0m",
      "\u001b[0;31mTypeError\u001b[0m                                 Traceback (most recent call last)",
      "\u001b[0;32m<ipython-input-7-9252a329d84f>\u001b[0m in \u001b[0;36m<module>\u001b[0;34m\u001b[0m\n\u001b[0;32m----> 1\u001b[0;31m \u001b[0mcandle\u001b[0m\u001b[0;34m(\u001b[0m\u001b[0;34m\"BTCUSDT\"\u001b[0m\u001b[0;34m)\u001b[0m\u001b[0;34m.\u001b[0m\u001b[0mtail\u001b[0m\u001b[0;34m(\u001b[0m\u001b[0;36m50\u001b[0m\u001b[0;34m)\u001b[0m\u001b[0;34m\u001b[0m\u001b[0;34m\u001b[0m\u001b[0m\n\u001b[0m",
      "\u001b[0;32m<ipython-input-6-6bddf38f98d1>\u001b[0m in \u001b[0;36mcandle\u001b[0;34m(symbol, interval)\u001b[0m\n\u001b[1;32m     90\u001b[0m \u001b[0;34m\u001b[0m\u001b[0m\n\u001b[1;32m     91\u001b[0m \u001b[0;34m\u001b[0m\u001b[0m\n\u001b[0;32m---> 92\u001b[0;31m     \u001b[0mnew_df\u001b[0m \u001b[0;34m=\u001b[0m \u001b[0mindicators\u001b[0m\u001b[0;34m.\u001b[0m\u001b[0mSuperTrend\u001b[0m\u001b[0;34m(\u001b[0m\u001b[0mdf1\u001b[0m\u001b[0;34m,\u001b[0m \u001b[0;36m5\u001b[0m\u001b[0;34m,\u001b[0m \u001b[0;36m1\u001b[0m\u001b[0;34m)\u001b[0m\u001b[0;34m\u001b[0m\u001b[0;34m\u001b[0m\u001b[0m\n\u001b[0m\u001b[1;32m     93\u001b[0m     \u001b[0mlogging\u001b[0m\u001b[0;34m.\u001b[0m\u001b[0minfo\u001b[0m\u001b[0;34m(\u001b[0m\u001b[0mnew_df\u001b[0m\u001b[0;34m[\u001b[0m\u001b[0;34m:\u001b[0m\u001b[0;34m-\u001b[0m\u001b[0;36m1\u001b[0m\u001b[0;34m]\u001b[0m\u001b[0;34m)\u001b[0m\u001b[0;34m\u001b[0m\u001b[0;34m\u001b[0m\u001b[0m\n\u001b[1;32m     94\u001b[0m     \u001b[0;32mreturn\u001b[0m \u001b[0mnew_df\u001b[0m\u001b[0;34m\u001b[0m\u001b[0;34m\u001b[0m\u001b[0m\n",
      "\u001b[0;32m~/Desktop/algo-trading/AWS/PROJECT5/indicator/indicators.py\u001b[0m in \u001b[0;36mSuperTrend\u001b[0;34m(df, period, multiplier, ohlc)\u001b[0m\n\u001b[1;32m    192\u001b[0m     \"\"\"\n\u001b[1;32m    193\u001b[0m \u001b[0;34m\u001b[0m\u001b[0m\n\u001b[0;32m--> 194\u001b[0;31m     \u001b[0mATR\u001b[0m\u001b[0;34m(\u001b[0m\u001b[0mdf\u001b[0m\u001b[0;34m,\u001b[0m \u001b[0mperiod\u001b[0m\u001b[0;34m,\u001b[0m \u001b[0mohlc\u001b[0m\u001b[0;34m=\u001b[0m\u001b[0mohlc\u001b[0m\u001b[0;34m)\u001b[0m\u001b[0;34m\u001b[0m\u001b[0;34m\u001b[0m\u001b[0m\n\u001b[0m\u001b[1;32m    195\u001b[0m     \u001b[0matr\u001b[0m \u001b[0;34m=\u001b[0m \u001b[0;34m'ATR_'\u001b[0m \u001b[0;34m+\u001b[0m \u001b[0mstr\u001b[0m\u001b[0;34m(\u001b[0m\u001b[0mperiod\u001b[0m\u001b[0;34m)\u001b[0m\u001b[0;34m\u001b[0m\u001b[0;34m\u001b[0m\u001b[0m\n\u001b[1;32m    196\u001b[0m     \u001b[0mst\u001b[0m \u001b[0;34m=\u001b[0m \u001b[0;34m'ST_'\u001b[0m \u001b[0;34m+\u001b[0m \u001b[0mstr\u001b[0m\u001b[0;34m(\u001b[0m\u001b[0mperiod\u001b[0m\u001b[0;34m)\u001b[0m \u001b[0;34m+\u001b[0m \u001b[0;34m'_'\u001b[0m \u001b[0;34m+\u001b[0m \u001b[0mstr\u001b[0m\u001b[0;34m(\u001b[0m\u001b[0mmultiplier\u001b[0m\u001b[0;34m)\u001b[0m\u001b[0;34m\u001b[0m\u001b[0;34m\u001b[0m\u001b[0m\n",
      "\u001b[0;32m~/Desktop/algo-trading/AWS/PROJECT5/indicator/indicators.py\u001b[0m in \u001b[0;36mATR\u001b[0;34m(df, period, ohlc)\u001b[0m\n\u001b[1;32m    171\u001b[0m \u001b[0;34m\u001b[0m\u001b[0m\n\u001b[1;32m    172\u001b[0m     \u001b[0;31m# Compute EMA of true range using ATR formula after ignoring first row\u001b[0m\u001b[0;34m\u001b[0m\u001b[0;34m\u001b[0m\u001b[0;34m\u001b[0m\u001b[0m\n\u001b[0;32m--> 173\u001b[0;31m     \u001b[0mSMA\u001b[0m\u001b[0;34m(\u001b[0m\u001b[0mdf\u001b[0m\u001b[0;34m,\u001b[0m \u001b[0;34m'TR'\u001b[0m\u001b[0;34m,\u001b[0m \u001b[0matr\u001b[0m\u001b[0;34m,\u001b[0m \u001b[0mperiod\u001b[0m\u001b[0;34m)\u001b[0m\u001b[0;34m\u001b[0m\u001b[0;34m\u001b[0m\u001b[0m\n\u001b[0m\u001b[1;32m    174\u001b[0m \u001b[0;34m\u001b[0m\u001b[0m\n\u001b[1;32m    175\u001b[0m     \u001b[0;32mreturn\u001b[0m \u001b[0mdf\u001b[0m\u001b[0;34m\u001b[0m\u001b[0;34m\u001b[0m\u001b[0m\n",
      "\u001b[0;31mTypeError\u001b[0m: SMA() got an unexpected keyword argument 'alpha'"
     ]
    }
   ],
   "source": [
    "candle(\"BTCUSDT\").tail(50)"
   ]
  },
  {
   "cell_type": "code",
   "execution_count": null,
   "metadata": {},
   "outputs": [],
   "source": [
    "while True:\n",
    "    print(\"passthrough at \",time.strftime('%Y-%m-%d %H:%M:%S', time.localtime(time.time())))\n",
    "    print(candle(\"BTCUSDT\").tail(50))"
   ]
  }
 ],
 "metadata": {
  "kernelspec": {
   "display_name": "Python 3.9.5 64-bit",
   "name": "python395jvsc74a57bd0aee8b7b246df8f9039afb4144a1f6fd8d2ca17a180786b69acc140d282b71a49"
  },
  "language_info": {
   "codemirror_mode": {
    "name": "ipython",
    "version": 3
   },
   "file_extension": ".py",
   "mimetype": "text/x-python",
   "name": "python",
   "nbconvert_exporter": "python",
   "pygments_lexer": "ipython3",
   "version": "3.9.5"
  },
  "metadata": {
   "interpreter": {
    "hash": "aee8b7b246df8f9039afb4144a1f6fd8d2ca17a180786b69acc140d282b71a49"
   }
  },
  "orig_nbformat": 2
 },
 "nbformat": 4,
 "nbformat_minor": 2
}