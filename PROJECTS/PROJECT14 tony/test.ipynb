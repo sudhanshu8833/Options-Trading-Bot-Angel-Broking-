{
 "cells": [
  {
   "cell_type": "code",
   "execution_count": 2,
   "metadata": {},
   "outputs": [],
   "source": [
    "from finta import TA\n",
    "import yfinance as yf\n",
    "import requests\n",
    "import time\n",
    "import pandas as pd\n",
    "import numpy as np\n",
    "import datetime as dt\n",
    "import json\n",
    "import json\n",
    "# from binance import Client, ThreadedWebsocketManager, ThreadedDepthCacheManager\n",
    "from finta import TA\n",
    "import yfinance as yf\n",
    "import requests\n",
    "import time\n",
    "import pandas as pd\n",
    "import numpy as np\n",
    "import datetime as dt\n",
    "import json\n",
    "# from binance import Client, ThreadedWebsocketManager, ThreadedDepthCacheManager\n",
    "\n",
    "from datetime import date\n",
    "\n",
    "import pandas as pd\n",
    "import time\n",
    "import sys\n",
    "import math\n",
    "\n",
    "# local modules\n",
    "\n",
    "from binance.client import Client\n",
    "\n",
    "from binance.enums import *\n",
    "\n",
    "# from indicator import indicators\n",
    "\n",
    "# local file\n",
    "\n",
    "import secrets\n",
    "\n",
    "import yfinance as yf\n",
    "import numpy as np\n",
    "import datetime as dt\n",
    "import requests \n",
    "import json \n",
    "import pandas as pd \n",
    "import numpy as np  \n",
    "import requests\n",
    "import time\n",
    "import urllib\n",
    "import pandas as pd\n",
    "\n",
    "df3 = pd.read_csv(\"parameters.csv\")\n",
    "df3.set_index(\"parameters\",inplace=True)\n",
    "df1=df3.T\n",
    "\n",
    "client = Client(\"G5H5sixYr1dgeip4x43XMe02TIv6CKPluQNkSyTEZcelkfR6XowHXjdThDdP3Qkf\",\"jPWgA6VPV0owVLleUQla2dKXmHpJ44gRf8yUK0Se707DpcqF5YeTDtZpmaDZzT8q\")\n",
    "with open(\"signal.json\") as json_data_file:\n",
    "    data2 = json.load(json_data_file)\n"
   ]
  },
  {
   "cell_type": "code",
   "execution_count": 1,
   "metadata": {},
   "outputs": [
    {
     "data": {
      "text/plain": "[4, 2, 5]"
     },
     "execution_count": 1,
     "metadata": {},
     "output_type": "execute_result"
    }
   ],
   "source": [
    "orders=[4,2,5,5]\n",
    "orders.pop(3)\n",
    "orders"
   ]
  },
  {
   "cell_type": "code",
   "execution_count": null,
   "metadata": {},
   "outputs": [],
   "source": [
    "data=client.futures_klines(symbol='BTCUSDT',interval='15m')"
   ]
  },
  {
   "cell_type": "code",
   "execution_count": null,
   "metadata": {},
   "outputs": [],
   "source": [
    "df = pd.DataFrame(data)\n",
    "df.columns = ['Datetime',\n",
    "            'Open', 'High', 'Low', 'Close', 'volume',\n",
    "            'close_time', 'qav', 'num_trades',\n",
    "            'taker_base_vol', 'taker_quote_vol', 'ignore']\n",
    "df.index = [dt.datetime.fromtimestamp(x / 1000.0) for x in df.close_time]\n",
    "\n",
    "df.drop(['close_time','qav','num_trades','taker_base_vol', 'taker_quote_vol', 'ignore'],axis=1,inplace=True)\n",
    "\n",
    "\n",
    "df['Open']=pd.to_numeric(df[\"Open\"], downcast=\"float\")\n",
    "df[\"High\"]=pd.to_numeric(df[\"High\"], downcast=\"float\")\n",
    "df[\"Low\"]=pd.to_numeric(df[\"Low\"], downcast=\"float\")\n",
    "df[\"Close\"]=pd.to_numeric(df[\"Close\"], downcast=\"float\")\n",
    "df[\"volume\"]=pd.to_numeric(df[\"volume\"], downcast=\"float\")"
   ]
  },
  {
   "cell_type": "code",
   "execution_count": null,
   "metadata": {},
   "outputs": [],
   "source": [
    "df"
   ]
  },
  {
   "cell_type": "code",
   "execution_count": 3,
   "metadata": {},
   "outputs": [],
   "source": [
    "df3 = pd.read_csv(\"multiaccount.csv\")\n",
    "client = Client('VB0Q50UAD6ewtqwuGdGEB8ip2bNKLHz8PbFCfFHcXuMC0xm7GiYLwaPgIbBl7ayh','asuL4Spx17C1JB8D2aPKBxg9far64pQok1TRXzUrfzul728M2rc6CvzXAnhxj8QK')\n"
   ]
  },
  {
   "cell_type": "code",
   "execution_count": null,
   "metadata": {},
   "outputs": [],
   "source": [
    "dicts"
   ]
  },
  {
   "cell_type": "code",
   "execution_count": null,
   "metadata": {},
   "outputs": [],
   "source": [
    "import json\n",
    "with open(\"signal.json\") as json_data_file:\n",
    "    data2 = json.load(json_data_file)"
   ]
  },
  {
   "cell_type": "code",
   "execution_count": 4,
   "metadata": {},
   "outputs": [],
   "source": [
    "data=client.futures_account_balance()"
   ]
  },
  {
   "cell_type": "code",
   "execution_count": 6,
   "metadata": {},
   "outputs": [
    {
     "name": "stdout",
     "output_type": "stream",
     "text": [
      "475.94428142\n"
     ]
    }
   ],
   "source": [
    "for i in range(len(data)):\n",
    "    if data[i]['asset']=='USDT':\n",
    "        p_l=data[i]['withdrawAvailable']\n",
    "\n",
    "print(p_l)"
   ]
  },
  {
   "cell_type": "code",
   "execution_count": 1,
   "metadata": {},
   "outputs": [
    {
     "data": {
      "text/plain": "{'id': 2027091324,\n 'is_bot': True,\n 'first_name': 'moneybhaibot',\n 'username': 'mika25bot',\n 'can_join_groups': True,\n 'can_read_all_group_messages': False,\n 'supports_inline_queries': False}"
     },
     "execution_count": 1,
     "metadata": {},
     "output_type": "execute_result"
    }
   ],
   "source": [
    "import telepot\n",
    "bot = telepot.Bot('2027091324:AAG0rC2ZpVkyEYopRnGuQpABJTnKfE9HabA')\n",
    "bot.getMe()\n"
   ]
  },
  {
   "cell_type": "code",
   "execution_count": 2,
   "metadata": {},
   "outputs": [
    {
     "data": {
      "text/plain": "{'message_id': 417,\n 'from': {'id': 2027091324,\n  'is_bot': True,\n  'first_name': 'moneybhaibot',\n  'username': 'mika25bot'},\n 'chat': {'id': 1039725953,\n  'first_name': 'sudhanshu',\n  'username': 'Sudhanshu_883',\n  'type': 'private'},\n 'date': 1634194844,\n 'text': 'hi'}"
     },
     "execution_count": 2,
     "metadata": {},
     "output_type": "execute_result"
    }
   ],
   "source": [
    "bot.sendMessage(1039725953,'hi')"
   ]
  }
 ],
 "metadata": {
  "kernelspec": {
   "display_name": "Python 3.9.5 64-bit",
   "name": "python395jvsc74a57bd0aee8b7b246df8f9039afb4144a1f6fd8d2ca17a180786b69acc140d282b71a49"
  },
  "language_info": {
   "codemirror_mode": {
    "name": "ipython",
    "version": 3
   },
   "file_extension": ".py",
   "mimetype": "text/x-python",
   "name": "python",
   "nbconvert_exporter": "python",
   "pygments_lexer": "ipython3",
   "version": "3.9.5"
  },
  "metadata": {
   "interpreter": {
    "hash": "aee8b7b246df8f9039afb4144a1f6fd8d2ca17a180786b69acc140d282b71a49"
   }
  },
  "orig_nbformat": 2
 },
 "nbformat": 4,
 "nbformat_minor": 2
}