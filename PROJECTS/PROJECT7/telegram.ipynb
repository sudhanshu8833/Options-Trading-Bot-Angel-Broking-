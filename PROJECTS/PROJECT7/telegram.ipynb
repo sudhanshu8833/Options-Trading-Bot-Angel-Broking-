{
 "cells": [
  {
   "cell_type": "code",
   "execution_count": null,
   "metadata": {},
   "outputs": [],
   "source": []
  },
  {
   "cell_type": "code",
   "execution_count": null,
   "metadata": {},
   "outputs": [],
   "source": []
  },
  {
   "cell_type": "code",
   "execution_count": null,
   "metadata": {},
   "outputs": [],
   "source": [
    "import telepot\n",
    "import pandas as pd\n",
    "bot = telepot.Bot('1715056219:AAGxytb3U1gIt1vlVn8Jf5b4za3E1HPuOd4')\n",
    "bot.getMe()\n",
    "import requests\n",
    "import time\n",
    "import urllib\n",
    "\n",
    "j=0\n",
    "\n",
    "while True:\n",
    "    from pprint import pprint\n",
    "    response = bot.getUpdates()\n",
    "    pprint(response)    \n",
    "\n",
    "    if len(response)>j:\n",
    "        if 'document' in response[-1]['message']:\n",
    "            \n",
    "            if response[-1]['message']['document']['file_name'].upper()=='STOCKS.CSV':\n",
    "                \n",
    "                file_id=response[-1]['message']['document']['file_id']\n",
    "            \n",
    "                endpoint=r\"https://api.telegram.org/bot1715056219:AAGxytb3U1gIt1vlVn8Jf5b4za3E1HPuOd4/getFile?file_id={}\".format(file_id)\n",
    "                content=requests.get(url=endpoint)\n",
    "                content=content.json()\n",
    "            \n",
    "                file_path=content['result']['file_path']\n",
    "                endpoint=r\"https://api.telegram.org/file/bot1715056219:AAGxytb3U1gIt1vlVn8Jf5b4za3E1HPuOd4/{}\".format(file_path)\n",
    "                req = requests.get(endpoint)\n",
    "                url_content = req.content\n",
    "                csv_file = open('stocks.csv', 'wb')\n",
    "            \n",
    "                csv_file.write(url_content)\n",
    "                csv_file.close()\n",
    "            \n",
    "                bot.sendDocument(1039725953, document=open('stocks.csv', 'rb'))\n",
    "                bot.sendMessage(1039725953,'please veriy if the stocks are updated or not')\n",
    "\n",
    "            if response[-1]['message']['document']['file_name'].upper()=='PARAMETERS.CSV':\n",
    "                file_id=response[-1]['message']['document']['file_id']\n",
    "            \n",
    "                endpoint=r\"https://api.telegram.org/bot1715056219:AAGxytb3U1gIt1vlVn8Jf5b4za3E1HPuOd4/getFile?file_id={}\".format(file_id)\n",
    "                content=requests.get(url=endpoint)\n",
    "                content=content.json()\n",
    "            \n",
    "                file_path=content['result']['file_path']\n",
    "                endpoint=r\"https://api.telegram.org/file/bot1715056219:AAGxytb3U1gIt1vlVn8Jf5b4za3E1HPuOd4/{}\".format(file_path)\n",
    "                req = requests.get(endpoint)\n",
    "                url_content = req.content\n",
    "                csv_file = open('parameters.csv', 'wb')\n",
    "            \n",
    "                csv_file.write(url_content)\n",
    "                csv_file.close()\n",
    "            \n",
    "                bot.sendDocument(1039725953, document=open('parameters.csv.csv', 'rb'))\n",
    "                bot.sendMessage(1039725953,'please veriy if the parameters are updated or not')\n",
    "\n",
    "\n",
    "\n",
    "\n",
    "\n",
    "            \n",
    "        else:\n",
    "            message=response[-1]['message']['text']\n",
    "            \n",
    "            message=message.upper()\n",
    "            if message=='SEE STOCKS':\n",
    "                \n",
    "                bot.sendDocument(1039725953, document=open('stocks.csv', 'rb'))\n",
    "\n",
    "            elif message=='CHANGE STOCKS':\n",
    "                bot.sendMessage(1039725953,'please first write \"SEE STOCKS\" and have the list of presently running stocks and make all the changes you want and then send it back' )\n",
    "\n",
    "\n",
    "            elif message=='SEE PARAMETERS':\n",
    "                bot.sendDocument(1039725953, document=open('parameters.csv', 'rb'))\n",
    "            \n",
    "\n",
    "\n",
    "\n",
    "    j=len(response)\n"
   ]
  },
  {
   "cell_type": "code",
   "execution_count": null,
   "metadata": {},
   "outputs": [],
   "source": [
    "response = bot.getUpdates()\n",
    "file_id=response[-1]['message']['document']['file_id']\n",
    "endpoint=r\"https://api.telegram.org/bot1715056219:AAGxytb3U1gIt1vlVn8Jf5b4za3E1HPuOd4/getFile?file_id={}\".format(file_id)\n",
    "content=requests.get(url=endpoint)"
   ]
  },
  {
   "cell_type": "code",
   "execution_count": null,
   "metadata": {},
   "outputs": [],
   "source": [
    "content=content.json()"
   ]
  },
  {
   "cell_type": "code",
   "execution_count": null,
   "metadata": {},
   "outputs": [],
   "source": [
    "\n",
    "file_path=content['result']['file_path']\n"
   ]
  },
  {
   "cell_type": "code",
   "execution_count": null,
   "metadata": {},
   "outputs": [],
   "source": [
    "file_path"
   ]
  },
  {
   "cell_type": "code",
   "execution_count": null,
   "metadata": {},
   "outputs": [],
   "source": [
    "endpoint=r\"https://api.telegram.org/file/bot1715056219:AAGxytb3U1gIt1vlVn8Jf5b4za3E1HPuOd4/{}\".format(file_path)\n",
    "content=requests.get(url=endpoint)\n",
    "\n"
   ]
  },
  {
   "cell_type": "code",
   "execution_count": null,
   "metadata": {},
   "outputs": [],
   "source": [
    "req = requests.get(endpoint)\n",
    "url_content = req.content\n",
    "csv_file = open('downloaded.csv', 'wb')\n",
    "\n",
    "csv_file.write(url_content)\n",
    "csv_file.close()\n"
   ]
  },
  {
   "cell_type": "code",
   "execution_count": null,
   "metadata": {},
   "outputs": [],
   "source": []
  },
  {
   "cell_type": "code",
   "execution_count": null,
   "metadata": {},
   "outputs": [],
   "source": []
  },
  {
   "cell_type": "code",
   "execution_count": null,
   "metadata": {},
   "outputs": [],
   "source": [
    "response[-2]['message']"
   ]
  },
  {
   "cell_type": "code",
   "execution_count": null,
   "metadata": {},
   "outputs": [],
   "source": [
    "response[-1]['message']['document']['file_name'].upper()\n",
    "\n"
   ]
  },
  {
   "cell_type": "code",
   "execution_count": null,
   "metadata": {},
   "outputs": [],
   "source": [
    "from pprint import pprint\n",
    "response = bot.getUpdates()\n",
    "pprint(response) "
   ]
  },
  {
   "cell_type": "code",
   "execution_count": null,
   "metadata": {},
   "outputs": [],
   "source": [
    "response = bot.getUpdates()\n",
    "file_id=response[-1]['message']['document']['file_id']\n",
    "print('1')\n",
    "endpoint=r\"https://api.telegram.org/bot1715056219:AAGxytb3U1gIt1vlVn8Jf5b4za3E1HPuOd4/getFile?file_id={}\".format(file_id)\n",
    "content=requests.get(url=endpoint)\n",
    "content=content.json()\n",
    "print('1')\n",
    "file_path=content['result']['file_path']\n",
    "endpoint=r\"https://api.telegram.org/file/bot1715056219:AAGxytb3U1gIt1vlVn8Jf5b4za3E1HPuOd4/{}\".format(file_path)\n",
    "req = requests.get(endpoint)\n",
    "url_content = req.content\n",
    "csv_file = open('stocks.csv', 'wb')\n",
    "print('1')\n",
    "csv_file.write(url_content)\n",
    "csv_file.close()\n",
    "print('1')\n",
    "bot.sendMessage(1039725953,\"its good\")"
   ]
  },
  {
   "cell_type": "code",
   "execution_count": null,
   "metadata": {},
   "outputs": [],
   "source": []
  }
 ],
 "metadata": {
  "kernelspec": {
   "display_name": "Python 3.9.5 64-bit",
   "name": "python395jvsc74a57bd0aee8b7b246df8f9039afb4144a1f6fd8d2ca17a180786b69acc140d282b71a49"
  },
  "language_info": {
   "codemirror_mode": {
    "name": "ipython",
    "version": 3
   },
   "file_extension": ".py",
   "mimetype": "text/x-python",
   "name": "python",
   "nbconvert_exporter": "python",
   "pygments_lexer": "ipython3",
   "version": "3.9.5"
  },
  "metadata": {
   "interpreter": {
    "hash": "aee8b7b246df8f9039afb4144a1f6fd8d2ca17a180786b69acc140d282b71a49"
   }
  },
  "orig_nbformat": 2
 },
 "nbformat": 4,
 "nbformat_minor": 2
}