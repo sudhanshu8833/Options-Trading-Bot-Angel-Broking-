{
 "cells": [
  {
   "cell_type": "code",
   "execution_count": 13,
   "metadata": {},
   "outputs": [],
   "source": [
    "# generic modules\n",
    "from datetime import date\n",
    "from typing import Final\n",
    "import pandas as pd\n",
    "import time\n",
    "import sys\n",
    "\n",
    "# local modules\n",
    "from binance.client import Client\n",
    "from binance.enums import *\n",
    "from indicator import indicators\n",
    "\n",
    "# local file\n",
    "import secrets\n",
    "from configparser import ConfigParser\n",
    "import yfinance as yf\n",
    "import numpy as np"
   ]
  },
  {
   "cell_type": "code",
   "execution_count": 21,
   "metadata": {},
   "outputs": [
    {
     "data": {
      "text/plain": "['keys.txt']"
     },
     "execution_count": 21,
     "metadata": {},
     "output_type": "execute_result"
    }
   ],
   "source": [
    "config=ConfigParser()\n",
    "config.read('keys.txt')"
   ]
  },
  {
   "cell_type": "code",
   "execution_count": 15,
   "metadata": {},
   "outputs": [
    {
     "name": "stdout",
     "output_type": "stream",
     "text": [
      "Logged in successfully\n"
     ]
    }
   ],
   "source": [
    "client = Client(str(config['KEYS']['binance_api_key']), str(config['KEYS']['binance_api_secret_key']))\n",
    "print(\"Logged in successfully\")"
   ]
  },
  {
   "cell_type": "code",
   "execution_count": 12,
   "metadata": {},
   "outputs": [
    {
     "data": {
      "text/plain": "{'withdrawList': [{'amount': 0.09689584,\n   'transactionFee': 0.006,\n   'address': '0xcd1afdDC14d13d0BAA7E4Bd5293ccFba1515F2C3',\n   'withdrawOrderId': '',\n   'txId': '0xd2ee9ac6acfc00bb99ca88d378303a8de2192ff2cee3fbe7c5a9b89111e95d2b',\n   'id': 'c11641e79ccc4c31af2a27ed1163c76e',\n   'asset': 'ETH',\n   'applyTime': 1621857012000,\n   'status': 6,\n   'network': 'ETH'}],\n 'success': True}"
     },
     "execution_count": 12,
     "metadata": {},
     "output_type": "execute_result"
    }
   ],
   "source": [
    "client.get_withdraw_history()\n"
   ]
  },
  {
   "cell_type": "code",
   "execution_count": 4,
   "metadata": {},
   "outputs": [],
   "source": [
    "position=\"\""
   ]
  },
  {
   "cell_type": "code",
   "execution_count": 18,
   "metadata": {},
   "outputs": [],
   "source": [
    "def candle(symbol, interval=\"5m\"):\n",
    "\n",
    "\n",
    "    root_url = 'https://api.binance.com/api/v1/klines'\n",
    "    url = root_url + '?symbol=' + symbol + '&interval=' + interval\n",
    "    data = json.loads(requests.get(url).text)\n",
    "    df = pd.DataFrame(data)\n",
    "    df.columns = ['Datetime',\n",
    "                'Open', 'High', 'Low', 'Close', 'volume',\n",
    "                'close_time', 'qav', 'num_trades',\n",
    "                'taker_base_vol', 'taker_quote_vol', 'ignore']\n",
    "    df.index = [dt.datetime.fromtimestamp(x / 1000.0) for x in df.close_time]\n",
    "    \n",
    "    df.drop(['close_time','qav','num_trades','taker_base_vol', 'taker_quote_vol', 'ignore'],axis=1,inplace=True)\n",
    "           \n",
    "    \n",
    "    df['Open']=pd.to_numeric(df[\"Open\"], downcast=\"float\")\n",
    "    df[\"High\"]=pd.to_numeric(df[\"High\"], downcast=\"float\")\n",
    "    df[\"Low\"]=pd.to_numeric(df[\"Low\"], downcast=\"float\")\n",
    "    df[\"Close\"]=pd.to_numeric(df[\"Close\"], downcast=\"float\")\n",
    "    df[\"volume\"]=pd.to_numeric(df[\"volume\"], downcast=\"float\")\n",
    "    \n",
    "    \n",
    "    \n",
    "    \n",
    "    df1=pd.DataFrame()\n",
    "    Open=[]\n",
    "    \n",
    "    df1['Close']=((df['Open'] + df['High'] + df['Low'] + df['Close'])/4)\n",
    "    for i in range(len(df)):\n",
    "        if i==0:\n",
    "            Open.append(0)\n",
    "\n",
    "        else:\n",
    "            Open.append((df['Open'][i-1]+df['Close'][i-1])/2)\n",
    "    df1['Open']=np.array(Open)\n",
    "    df1['volume']=df['volume']\n",
    "    High=[]\n",
    "    Low=[]\n",
    "    High.append(0)\n",
    "    Low.append(0)\n",
    "    for i in range(1,len(df)):\n",
    "\n",
    "        High.append(max(df['High'][i],df1['Close'][i],df1['Open'][i]))\n",
    "        Low.append(min(df['Low'][i],df1['Close'][i],df1['Open'][i]))\n",
    "\n",
    "    df1['High']=np.array(High)\n",
    "    df1['Low']=np.array(Low)\n",
    "\n",
    "\n",
    "\n",
    "    new_df = indicators.SuperTrend(df1, int(config['INPUTS']['atr']), int(config['INPUTS']['factor']))\n",
    "    print(new_df[:-1])\n",
    "    return new_df[:-1]\n"
   ]
  },
  {
   "cell_type": "code",
   "execution_count": 23,
   "metadata": {},
   "outputs": [
    {
     "data": {
      "text/plain": "'6'"
     },
     "execution_count": 23,
     "metadata": {},
     "output_type": "execute_result"
    }
   ],
   "source": [
    "config['INPUTS']['atr']"
   ]
  },
  {
   "cell_type": "code",
   "execution_count": 6,
   "metadata": {},
   "outputs": [],
   "source": [
    "def ltp_price(instrument):\n",
    "    prices = client.get_all_tickers()\n",
    "    for i in range(len(prices)):\n",
    "        if prices[i]['symbol']==str(instrument):\n",
    "            \n",
    "            return float(prices[i]['price'])\n",
    "\n",
    "    "
   ]
  },
  {
   "cell_type": "code",
   "execution_count": 7,
   "metadata": {},
   "outputs": [],
   "source": [
    "\n",
    "def market_order():\n",
    "    global position,price1,l\n",
    "    price1=ltp_price(config['INPUTS']['symbol_binance'])\n",
    "    order = client.create_order(\n",
    "        symbol=str(config['INPUTS']['symbol_binance']),\n",
    "        side=Client.SIDE_BUY,\n",
    "        type=Client.ORDER_TYPE_MARKET,\n",
    "       \n",
    "        \n",
    "        quantity=config['INPUTS']['quantity'])\n",
    "\n",
    "\n",
    "    position='long'\n",
    "    l=1\n",
    "\n",
    "\n",
    "\n",
    "\n",
    "def market_order1():\n",
    "    global position,price2,l\n",
    "    price2=ltp_price(config['INPUTS']['symbol_binance'])\n",
    "    order = client.create_order(\n",
    "        symbol=str(config['INPUTS']['symbol_binance']),\n",
    "        side=Client.SIDE_SELL,\n",
    "        type=Client.ORDER_TYPE_MARKET,\n",
    "\n",
    "        \n",
    "        quantity=config['INPUTS']['quantity'])\n",
    "\n",
    "    position='short'\n",
    "    l=1\n",
    "\n"
   ]
  },
  {
   "cell_type": "code",
   "execution_count": null,
   "metadata": {},
   "outputs": [],
   "source": []
  },
  {
   "cell_type": "code",
   "execution_count": 8,
   "metadata": {},
   "outputs": [],
   "source": [
    "def main():\n",
    "    times1=time.time()\n",
    "    global quantity,df,position,price1,price2,l\n",
    "    \n",
    "    df=candle(config['INPUTS']['symbol_yahoo'])\n",
    "    signal=\"\"\n",
    "    if l==0:\n",
    "    \n",
    "    \n",
    "        if df.iloc[:,8][-1]!=df.iloc[:,8][-2] and position==\"\":\n",
    "            if df.iloc[:,8][-1]=='down':\n",
    "                signal='sell'\n",
    "\n",
    "            if df.iloc[:,8][-1]=='up':\n",
    "                signal='buy'\n",
    "    ltp=ltp_price(config['INPUTS']['symbol_binance'])\n",
    "\n",
    "    if l>0:\n",
    "        if df.iloc[:,8][-1]!=df.iloc[:,8][-2] and position==\"\":\n",
    "            if df.iloc[:,8][-1]=='down':\n",
    "                signal='sell'\n",
    "\n",
    "            if df.iloc[:,8][-1]=='up':\n",
    "                signal='buy'\n",
    "\n",
    "        if (position==\"long\" and df.iloc[:,8][-1]!=df.iloc[:,8][-2] and df.iloc[:,8][-1]=='down') or (position==\"long\" and ltp>price1+price1*(config['INPUTS']['take_profit_precentage'])/100) or(position==\"long\" and ltp<price1-price1*(config['INPUTS']['stop_loss_precentage'])/100):\n",
    "            signal=\"squareoffsell\"\n",
    "\n",
    "        if (position==\"short\" and df.iloc[:,8][-1]!=df.iloc[:,8][-2] and df.iloc[:,8][-1]=='up') or (position==\"short\" and ltp<price2-price2*(config['INPUTS']['take_profit_precentage'])/100) or(position==\"short\" and ltp>price2+price2*(config['INPUTS']['stop_loss_precentage'])/100):\n",
    "            signal=\"squareoffbuy\"\n",
    "\n",
    "\n",
    "\n",
    "\n",
    "\n",
    "    if signal=='buy':\n",
    "        market_order()\n",
    "        print(\"New long position initiated for \", config['INPUT']['symbol_binance'])\n",
    "\n",
    "\n",
    "    elif signal=='sell':\n",
    "        market_order1()\n",
    "        print(\"New short position initiated for \", config['INPUT']['symbol_binance'])\n",
    "\n",
    "    \n",
    "    elif signal==\"squareoffsell\":\n",
    "        market_order1()\n",
    "        print(\"long position squared of for \", config['INPUT']['symbol_binance'])\n",
    "        position=\"\"\n",
    "\n",
    "    elif signal==\"squareoffbuy\":\n",
    "        market_order()\n",
    "        print(\"short position squared of for \", config['INPUT']['symbol_binance'])\n",
    "        position=\"\"\n",
    " \n",
    "\n",
    "    while True:\n",
    "        if time.time()>=times1+300:\n",
    "            break\n",
    "        \n",
    "        ltp=ltp_price(config['INPUTS']['symbol_binance'])\n",
    "        if position=='long' and ((ltp>price1+price1*(config['INPUTS']['take_profit_precentage'])/100) or(ltp<price1-price1*(config['INPUTS']['stop_loss_precentage'])/100)):\n",
    "            market_order1()\n",
    "            position=\"\"\n",
    "        if position=='short' and ((ltp<price2-price2*(config['INPUTS']['take_profit_precentage'])/100) or(ltp>price2+price2*(config['INPUTS']['stop_loss_precentage'])/100)):\n",
    "            market_order()\n",
    "            position=\"\"\n",
    "\n",
    "        \n"
   ]
  },
  {
   "cell_type": "code",
   "execution_count": 9,
   "metadata": {},
   "outputs": [],
   "source": [
    "\n",
    "l=0\n",
    "\n",
    "while True:\n",
    "        \n",
    "        try:\n",
    "                main()\n",
    "\n",
    "        except:\n",
    "                print(\"some exception ocurred... moving to next iteration\")\n",
    "                \n",
    "   \n",
    "\n"
   ]
  },
  {
   "cell_type": "code",
   "execution_count": null,
   "metadata": {},
   "outputs": [],
   "source": []
  }
 ],
 "metadata": {
  "kernelspec": {
   "display_name": "Python 3.9.5 64-bit",
   "name": "python395jvsc74a57bd0aee8b7b246df8f9039afb4144a1f6fd8d2ca17a180786b69acc140d282b71a49"
  },
  "language_info": {
   "codemirror_mode": {
    "name": "ipython",
    "version": 3
   },
   "file_extension": ".py",
   "mimetype": "text/x-python",
   "name": "python",
   "nbconvert_exporter": "python",
   "pygments_lexer": "ipython3",
   "version": "3.9.5"
  },
  "metadata": {
   "interpreter": {
    "hash": "aee8b7b246df8f9039afb4144a1f6fd8d2ca17a180786b69acc140d282b71a49"
   }
  },
  "orig_nbformat": 2
 },
 "nbformat": 4,
 "nbformat_minor": 2
}