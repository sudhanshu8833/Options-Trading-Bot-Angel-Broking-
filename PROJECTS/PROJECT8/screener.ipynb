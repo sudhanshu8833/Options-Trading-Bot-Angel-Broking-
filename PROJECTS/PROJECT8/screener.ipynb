{
 "cells": [
  {
   "cell_type": "code",
   "execution_count": 2,
   "metadata": {},
   "outputs": [
    {
     "name": "stderr",
     "output_type": "stream",
     "text": [
      "/Users/sudhanshu/Library/Python/3.9/lib/python/site-packages/IPython/core/interactiveshell.py:3169: DtypeWarning: Columns (0) have mixed types.Specify dtype option on import or set low_memory=False.\n",
      "  has_raised = await self.run_ast_nodes(code_ast.body, cell_name,\n"
     ]
    }
   ],
   "source": [
    "import pandas as pd\n",
    "import time\n",
    "from finta import TA\n",
    "import numpy as np\n",
    "import pandas as pd\n",
    "import datetime as dt\n",
    "import copy\n",
    "import json\n",
    "import yfinance as yf\n",
    "\n",
    "\n",
    "\n",
    "\n",
    "\n",
    "\n",
    "df=pd.read_csv(r'scrip code angelbroking.csv')\n",
    "\n",
    "scripcode=[]\n",
    "symbol=[]\n",
    "\n",
    "\n",
    "\n",
    "\n"
   ]
  },
  {
   "cell_type": "code",
   "execution_count": null,
   "metadata": {},
   "outputs": [],
   "source": [
    "token=[]\n",
    "symbol=[]\n",
    "\n",
    "    \n",
    "for i in range(len(df)):\n",
    "    if df['exch_seg'][i]=='NSE' and '-EQ' in df['symbol'][i]:\n",
    "        \n",
    "        symbol.append(df['symbol'][i])\n",
    "        scripcode.append(df['token'][i])\n",
    "        \n",
    "\n"
   ]
  },
  {
   "cell_type": "code",
   "execution_count": null,
   "metadata": {},
   "outputs": [],
   "source": [
    "for i in range(len(symbol)):\n",
    "    symbol[i]=symbol[i].replace(\"-EQ\",\".NS\")\n",
    "ohlc_dict=pd.DataFrame()\n",
    "ohlc_dict['scripcode']=np.array(scripcode)\n",
    "ohlc_dict['symbol']=np.array(symbol)\n",
    "ohlc_opg=pd.DataFrame()\n",
    "symbol1=[]\n",
    "scripcode1=[]\n",
    "stocks=[]\n",
    "\n"
   ]
  },
  {
   "cell_type": "code",
   "execution_count": 15,
   "metadata": {},
   "outputs": [
    {
     "name": "stdout",
     "output_type": "stream",
     "text": [
      "sahi hai 0\n",
      "sahi hai 1\n",
      "sahi hai 2\n",
      "sahi hai 3\n",
      "sahi hai 4\n",
      "sahi hai 5\n",
      "sahi hai 6\n"
     ]
    }
   ],
   "source": [
    "\n",
    "for i in range(len(ohlc_dict)):\n",
    "    try:\n",
    "    \n",
    "        print(\"sahi hai\",i)\n",
    "        data=yf.Ticker(str(ohlc_dict['symbol'][i])).info\n",
    "        if data['currentPrice']>20 and data['marketCap']>3000000000:\n",
    "            symbol1.append(ohlc_dict['symbol'][i])\n",
    "            scripcode1.append(ohlc_dict['symbol'][i])\n",
    "    except:\n",
    "        print(\"thoda problem hai \")\n",
    "\n",
    "print(symbol1)\n",
    "df1=pd.DataFrame()\n",
    "df1['scripcode']=np.array(scripcode1)\n",
    "df1['symbol']=np.array(symbol1)\n",
    "df1.to_csv(\"df.csv\")\n"
   ]
  },
  {
   "cell_type": "code",
   "execution_count": null,
   "metadata": {},
   "outputs": [],
   "source": [
    "list=[4,2,5]\n",
    "list.pop(2)"
   ]
  },
  {
   "cell_type": "code",
   "execution_count": null,
   "metadata": {},
   "outputs": [],
   "source": [
    "list"
   ]
  },
  {
   "cell_type": "code",
   "execution_count": null,
   "metadata": {},
   "outputs": [],
   "source": [
    "token.pop(3)"
   ]
  },
  {
   "cell_type": "code",
   "execution_count": null,
   "metadata": {},
   "outputs": [],
   "source": [
    "token"
   ]
  },
  {
   "cell_type": "code",
   "execution_count": null,
   "metadata": {},
   "outputs": [],
   "source": [
    "dict={}\n",
    "i=0\n",
    "for ticker in tickers:\n",
    "    dict[ticker]=token[i]\n",
    "    i+=1\n",
    "\n",
    "print(dict)"
   ]
  },
  {
   "cell_type": "code",
   "execution_count": null,
   "metadata": {},
   "outputs": [],
   "source": [
    "len(tickers)"
   ]
  },
  {
   "cell_type": "code",
   "execution_count": null,
   "metadata": {},
   "outputs": [],
   "source": [
    "for i in range(len(df)):\n",
    "    if df['Exch'][i]=='N' and df[\"ExchType\"][i]=='C' and df[\"Series\"][i] == 'EQ':\n",
    "        scripcode.append(df['Scripcode'][i])\n",
    "        symbol.append(df['Name'][i])\n",
    "\n",
    "ohlc_dict=pd.DataFrame()\n",
    "ohlc_dict['scripcode']=np.array(scripcode)\n",
    "ohlc_dict['symbol']=np.array(symbol)\n",
    "ohlc_opg=pd.DataFrame()\n",
    "symbol1=[]\n",
    "scripcode1=[]\n",
    "stocks=[]\n",
    "k=1\n",
    "for i in range(len(ohlc_dict)):\n",
    "    try:\n",
    "        print(\"sahi hai\",i)\n",
    "        df=candle(int(ohlc_dict['scripcode'][i]))\n",
    "        if df['Volume'].iloc[-1]>500000 and df['Close'].iloc[-1]>100 and df['Close'].iloc[-1]<1000:\n",
    "            symbol1.append(ohlc_dict['symbol'][i])\n",
    "            # scripcode1.append(ohlc_dict['scripcode'][i])\n",
    "    except:\n",
    "        print(\"moving aage: \",k)\n",
    "        # k+=1\n",
    "        # stocks.append(ohlc_dict['symbol'])\n",
    "# ohlc_opg['scripcode1']=np.array(scripcode1)\n",
    "# ohlc_opg['symbol1']=np.array(symbol1)\n",
    "\n",
    "print(symbol1)"
   ]
  },
  {
   "cell_type": "code",
   "execution_count": null,
   "metadata": {},
   "outputs": [],
   "source": [
    "ticker=['ALEMBICLTD','CHEMCON','GICRE','ANGELBRKG','NIACL','BERGEPAINT','CANFINHOME','CENTENKA','CESC','HEMIPROP','CLNINDIA','DCMSHRIRAM','ELGIEQUIP','EPL','FINCABLES','GABRIEL','GHCL','GICHSGFIN','NEWGEN','GNFC','FMGOETZE','KANSAINER','CASTROLIND','GUJALKALI','HARRMALAYA','HIMATSEIDE','INDIAGLYCO','BECTORFOOD','JAYSREETEA','JINDALPOLY','KANPRPLA','KAKATCEM','KALPATPOWR','ACRYSIL','KOPRAN','TRENT','MAHSEAMLES','STOVEKRAFT','BDL','MUNJALSHOW','HEIDELBERG','NELCO','ISEC','HERANBA','PRSMJOHNSN','RSWM','ANURAS','HITECH','SURYODAY','WONDERLA','BARBEQUE','LODHA','JTEKTINDIA','STARPAPER','SURYAROSNI','TINPLATE','TIRUMALCHM','UNIVCABLES','JUBLPHARMA','VIPIND','VLSFINANCE','WATERBASE','RITES','ZODIACLOTH','ZUARIGLOB','CAPLIPOINT','TNPL','GREENPLY','JAYAGROGN','PANACEABIO','STERTOOLS','JAGSNPHARM','CREDITACC','JMCPROJECT','AARTIDRUGS','RAMCOIND','HERITGFOOD','INDSWFTLAB','FDC','CIGNITITEC','TRIGYN','GRSE','CYIENT','KOTAKBKETF','INTELLECT','CYBERTECH','GOODLUCK','CAMLINFINE','DTIL','SONATSOFTW','SETFNIFBK','STAR','RAJESHEXPO','RAMCOSYS','GEPIL','AVANTIFEED','ARVINDFASN','STLTECH','TAJGVK','HIKAL','KPITTECH','SMARTLINK','SETFNIF50','SYNGENE','PPL','SHARDAMOTR','TCI','SHREEPUSHK','STCINDIA','RADICO','NATHBIOGEN','CREATIVE','SHK','TVTODAY','VAIBHAVGBL','DATAMATICS','NIITLTD','WESTLIFE','LINCOLN','GUFICBIO','WELENT','JBMA','INDOCO','SUPRAJIT','GOKEX','MANGALAM','NH','MANINDS','ICIL','QUICKHEAL','GSPL','INOXLEISUR','INDOTECH','JKLAKSHMI','EMAMILTD','ACE','SELAN','GESHIP','SOBHA','VENUSREM','BANCOINDIA','PLASTIBLEN','JASH','SANGHVIMOV','PITTIENG','SEQUENT','NAHARSPING','KIRLFER','NCLIND','ALPHAGEO','MOTILALOFS','KSCL','KOLTEPATIL','JYOTHYLAB','BRIGADE','ARIES','DVL','JKIL','ONMOBILE','KNRCON','DHANI','PRINCEPIPE','GET&D','UJJIVAN','CROMPTON','SUMICHEM','PARAGMILK','BLS','MHRIL','SUNTECK','POKARNA','REFEX','DBCORP','TRF','ADVENZYMES','DBL','LGBBROSLTD','VERTOZ','KSL','BLISSGVS','HISARMETAL','BOROLTD','BAJAJCON','BSE','SASTASUNDR','CAREERP','RAMKY','WABAG','CLEDUCATE','OBEROIRLTY','PRESTIGE','IOLCP','GRAVITA','KIRLOSENG','STARCEMENT','BFINVEST','ERIS','CDSL','STEL','APEX','DCAL','CAPACITE','ICICITECH','N100','ESTER','ASHIANA','APLLTD','TRITURBINE','POLYMED','RUPA','MINDACORP','SWANENERGY','KITEX','ZUARI','CARERATING','REPCOHOME','ORIENTREF','APTECHT','PREMEXPLN']\n",
    "len(ticker)"
   ]
  },
  {
   "cell_type": "code",
   "execution_count": null,
   "metadata": {},
   "outputs": [],
   "source": []
  }
 ],
 "metadata": {
  "kernelspec": {
   "display_name": "Python 3.9.5 64-bit",
   "name": "python395jvsc74a57bd0aee8b7b246df8f9039afb4144a1f6fd8d2ca17a180786b69acc140d282b71a49"
  },
  "language_info": {
   "codemirror_mode": {
    "name": "ipython",
    "version": 3
   },
   "file_extension": ".py",
   "mimetype": "text/x-python",
   "name": "python",
   "nbconvert_exporter": "python",
   "pygments_lexer": "ipython3",
   "version": "3.9.5"
  },
  "metadata": {
   "interpreter": {
    "hash": "aee8b7b246df8f9039afb4144a1f6fd8d2ca17a180786b69acc140d282b71a49"
   }
  },
  "orig_nbformat": 2
 },
 "nbformat": 4,
 "nbformat_minor": 2
}