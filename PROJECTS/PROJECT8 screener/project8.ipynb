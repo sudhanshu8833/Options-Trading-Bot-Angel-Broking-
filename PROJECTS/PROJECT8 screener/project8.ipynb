{
 "cells": [
  {
   "cell_type": "code",
   "execution_count": null,
   "metadata": {},
   "outputs": [],
   "source": [
    "from finta import TA\n",
    "import yfinance as yf\n",
    "import numpy as np\n",
    "import pandas as pd\n",
    "import yfinance as yf\n",
    "from alpha_vantage.timeseries import TimeSeries\n",
    "import datetime as dt\n",
    "import copy\n",
    "import matplotlib.pyplot as plt\n",
    "import time\n",
    "import json\n",
    "from csv import writer\n",
    "from finta import TA"
   ]
  },
  {
   "cell_type": "code",
   "execution_count": null,
   "metadata": {},
   "outputs": [],
   "source": [
    "from smartapi import SmartConnect \n",
    "obj=SmartConnect(api_key=\"xucd0zCg\")\n",
    "data = obj.generateSession(\"S776051\",\"Madhya246###\")\n",
    "refreshToken= data['data']['refreshToken']\n",
    "feedToken=obj.getfeedToken()\n",
    "userProfile= obj.getProfile(refreshToken)"
   ]
  },
  {
   "cell_type": "code",
   "execution_count": null,
   "metadata": {},
   "outputs": [],
   "source": [
    "tickers={'AARTIIND': 7, 'ABFRL': 30108, 'ACC': 22, 'ADANIENT': 25, 'ADANIPORTS': 15083, 'ALKEM': 11703, 'AMARAJABAT': 100, 'AMBUJACEM': 1270, 'APLLTD': 25328, 'APOLLOHOSP': 157, 'APOLLOTYRE': 163, 'ASHOKLEY': 212, 'ASIANPAINT': 236, 'AUBANK': 21238, 'AUROPHARMA': 275, 'AXISBANK': 5900, 'BAJAJ-AUTO': 16669, 'BAJAJFINSV': 16675, 'BAJFINANCE': 317, 'BALKRISIND': 335, 'BANDHANBNK': 2263, 'BANKBARODA': 4668, 'BATAINDIA': 371, 'BEL': 383, 'BERGEPAINT': 404, 'BHARATFORG': 422, 'BHARTIARTL': 10604, 'BHEL': 438, 'BIOCON': 11373, 'BOSCHLTD': 2181, 'BPCL': 526, 'BRITANNIA': 547, 'CADILAHC': 7929, 'CANBK': 10794, 'CHOLAFIN': 685, 'CIPLA': 694, 'COALINDIA': 20374, 'COFORGE': 11543, 'COLPAL': 15141, 'CONCOR': 4749, 'COROMANDEL': 739, 'CUB': 5701, 'CUMMINSIND': 1901, 'DABUR': 772, 'DEEPAKNTR': 19943, 'DIVISLAB': 10940, 'DLF': 14732, 'DRREDDY': 881, 'EICHERMOT': 910, 'ESCORTS': 958, 'EXIDEIND': 676, 'FEDERALBNK': 1023, 'GAIL': 4717, 'GLENMARK': 7406, 'GMRINFRA': 13528, 'GODREJCP': 10099, 'GODREJPROP': 17875, 'GRANULES': 11872, 'GRASIM': 1232, 'GUJGASLTD': 10599, 'HAVELLS': 9819, 'HCLTECH': 7229, 'HDFC': 1330, 'HDFCAMC': 4244, 'HDFCBANK': 1333, 'HDFCLIFE': 467, 'HEROMOTOCO': 1348, 'HINDALCO': 1363, 'HINDPETRO': 1406, 'HINDUNILVR': 1394, 'IBULHSGFIN': 30125, 'ICICIBANK': 4963, 'ICICIGI': 21770, 'ICICIPRULI': 18652, 'IDEA': 14366, 'IDFCFIRSTB': 11184, 'IGL': 11262, 'INDHOTEL': 1512, 'INDIGO': 11195, 'INDUSINDBK': 5258, 'INDUSTOWER': 29135, 'INFY': 1594, 'IOC': 1624, 'IRCTC': 13611, 'ITC': 1660, 'JINDALSTEL': 6733, 'JSWSTEEL': 11723, 'JUBLFOOD': 18096, 'KOTAKBANK': 1922, 'LALPATHLAB':11654, 'LICHSGFIN': 1997, 'LT': 11483, 'LTI': 17818, 'LTTS': 18564, 'LUPIN': 10440,  'MANAPPURAM': 19061, 'MARICO': 4067, 'MARUTI': 10999, 'MCDOWELL-N': 10447, 'METROPOLIS': 9581, 'MFSL': 2142, 'MGL': 17534, 'MINDTREE': 14356, 'MOTHERSUMI': 4204, 'MPHASIS': 4503, 'MRF': 2277, 'MUTHOOTFIN': 23650, 'NAM-INDIA': 357, 'NATIONALUM': 6364, 'NAUKRI': 13751, 'NAVINFLUOR': 14672, 'NESTLEIND': 17963, 'NMDC': 15332, 'NTPC': 11630, 'ONGC': 2475, 'PAGEIND': 14413, 'PEL': 2412, 'PETRONET': 11351, 'PFC': 14299, 'PFIZER': 2643, 'PIDILITIND': 2664, 'PIIND': 24184, 'PNB': 10666, 'POWERGRID': 14977, 'PVR': 13147, 'RAMCOCEM': 2043, 'RBLBANK': 18391, 'RECLTD': 15355, 'RELIANCE': 2885, 'SAIL': 2963, 'SBILIFE': 21808, 'SBIN': 3045, 'SHREECEM': 3103, 'SIEMENS': 3150, 'SRF': 3273, 'SRTRANSFIN': 4306, 'SUNPHARMA': 3351, 'SUNTV': 13404, 'TATACHEM': 3405, 'TATACONSUM': 3432, 'TATAMOTORS': 3456, 'TATAPOWER': 3426, 'TATASTEEL': 3499, 'TCS': 11536, 'TECHM': 13538, 'TITAN': 3506, 'TORNTPHARM': 3518, 'TORNTPOWER': 13786, 'TRENT': 1964, 'TVSMOTOR': 8479, 'UBL': 16713, 'ULTRACEMCO': 11532, 'UPL': 11287, 'VEDL': 3063, 'VOLTAS': 3718, 'WIPRO': 3787, 'ZEEL': 3812}"
   ]
  },
  {
   "cell_type": "code",
   "execution_count": null,
   "metadata": {},
   "outputs": [],
   "source": [
    "def candles(instrument,timeframe):\n",
    "        \n",
    "    ohlc_intraday=pd.DataFrame()\n",
    "\n",
    "    historicParam={\n",
    "    \"exchange\": \"NSE\",\n",
    "    \"symboltoken\": str(instrument),\n",
    "    \"interval\": str(timeframe),\n",
    "    \"fromdate\": \"2021-05-20 09:15\", \n",
    "    \"todate\": \"2021-08-20 15:25\"\n",
    "    }\n",
    "\n",
    "    data=obj.getCandleData(historicParam)\n",
    "\n",
    "    data=pd.DataFrame(data)[\"data\"]\n",
    "    open=[]\n",
    "    close=[]\n",
    "    high=[]\n",
    "    low=[]\n",
    "    volume=[]\n",
    "    index=[]\n",
    "    for i in range(len(data)):\n",
    "        open.append(data[i][1])\n",
    "\n",
    "    for i in range(len(data)):\n",
    "        close.append(data[i][4])\n",
    "\n",
    "    for i in range(len(data)):\n",
    "        high.append(data[i][2])\n",
    "\n",
    "    for i in range(len(data)):\n",
    "        low.append(data[i][3])\n",
    "\n",
    "    for i in range(len(data)):\n",
    "        index.append(data[i][0])\n",
    "\n",
    "    for i in range(len(data)):\n",
    "        volume.append(data[i][5])\n",
    "\n",
    "\n",
    "    ohlc_intraday[\"Index\"]=np.array(index)\n",
    "    ohlc_intraday[\"Open\"]=np.array(open)\n",
    "    ohlc_intraday[\"High\"]=np.array(high)\n",
    "    ohlc_intraday[\"Low\"]=np.array(low)\n",
    "\n",
    "    ohlc_intraday[\"Close\"]=np.array(close)\n",
    "    ohlc_intraday[\"Volume\"]=np.array(volume)\n",
    "    ohlc_intraday.set_index(\"Index\",inplace=True)\n",
    "    ohlc_intraday['EMA_20']=TA.EMA(ohlc_intraday,20)\n",
    "    ohlc_intraday['EMA_50']=TA.EMA(ohlc_intraday,50)\n",
    "    ohlc_intraday['EMA_100']=TA.EMA(ohlc_intraday,100)\n",
    "    ohlc_intraday['EMA_200']=TA.EMA(ohlc_intraday,200)\n",
    "    return ohlc_intraday\n",
    "\n"
   ]
  },
  {
   "cell_type": "code",
   "execution_count": null,
   "metadata": {},
   "outputs": [],
   "source": [
    "df=candles('547',\"ONE_HOUR\")\n",
    "df['EMA200']=TA.EMA(df,200)"
   ]
  },
  {
   "cell_type": "code",
   "execution_count": 28,
   "metadata": {},
   "outputs": [
    {
     "data": {
      "text/plain": "504"
     },
     "execution_count": 28,
     "metadata": {},
     "output_type": "execute_result"
    }
   ],
   "source": [
    "len(df)"
   ]
  },
  {
   "cell_type": "code",
   "execution_count": null,
   "metadata": {},
   "outputs": [],
   "source": [
    "len(tickers)"
   ]
  },
  {
   "cell_type": "code",
   "execution_count": null,
   "metadata": {},
   "outputs": [],
   "source": [
    "stocks=[]"
   ]
  },
  {
   "cell_type": "code",
   "execution_count": null,
   "metadata": {},
   "outputs": [],
   "source": [
    "def selection1():\n",
    "    global tickers,stocks\n",
    "    for ticker in tickers:\n",
    "        try:\n",
    "            print('analyzing for:', ticker)\n",
    "            print(\"passthrough at \",time.strftime('%Y-%m-%d %H:%M:%S', time.localtime(time.time())))\n",
    "            df=candles(tickers[ticker],\"ONE_HOUR\")\n",
    "            df['EMA200']=TA.EMA(df,200)\n",
    "            # ltp=obj.ltpData(\"NSE\",str(ticker,tickers[ticker]))['data']['ltp']\n",
    "            High=df['High'][0]\n",
    "            for i in range(len(df)):\n",
    "                if df['High'][i]>High:\n",
    "                    High=df['High'][i]\n",
    "                    k=i\n",
    "\n",
    "            if 0<k<33*7:\n",
    "                pass\n",
    "\n",
    "            else:\n",
    "                continue\n",
    "\n",
    "            j=0\n",
    "            y=0\n",
    "            for i in range(k,len(df)):\n",
    "                if df['Low'][i]>df['EMA200'][i]:\n",
    "                    y+=1\n",
    "\n",
    "\n",
    "\n",
    "            for i in range(k,len(df)):\n",
    "                if df['Low'][i]<df['EMA200'][i]-df['EMA200'][i]*.0001 and y>=33*7*.8:\n",
    "                    j+=1\n",
    "                    k=i\n",
    "\n",
    "                    break\n",
    "\n",
    "\n",
    "            for i in range(k+10,len(df)):\n",
    "                if df['Low'][i]<df['EMA200'][i]-df['EMA200'][i]*.0001 and y>=33*7*.8 :\n",
    "                    j+=1\n",
    "                    k=i\n",
    "                    break\n",
    "            if j>=2:\n",
    "                stocks.append(ticker)\n",
    "            # time.sleep(.50)\n",
    "\n",
    "            \n",
    "        except Exception as e:\n",
    "            print(e)\n",
    "            # bot.sendMessage(1060689126, 'some error occurred')\n",
    "           "
   ]
  },
  {
   "cell_type": "code",
   "execution_count": null,
   "metadata": {},
   "outputs": [],
   "source": [
    "selection1()"
   ]
  },
  {
   "cell_type": "code",
   "execution_count": null,
   "metadata": {},
   "outputs": [],
   "source": [
    "stocks"
   ]
  },
  {
   "cell_type": "code",
   "execution_count": null,
   "metadata": {},
   "outputs": [],
   "source": []
  }
 ],
 "metadata": {
  "kernelspec": {
   "display_name": "Python 3.9.5 64-bit",
   "name": "python395jvsc74a57bd0aee8b7b246df8f9039afb4144a1f6fd8d2ca17a180786b69acc140d282b71a49"
  },
  "language_info": {
   "codemirror_mode": {
    "name": "ipython",
    "version": 3
   },
   "file_extension": ".py",
   "mimetype": "text/x-python",
   "name": "python",
   "nbconvert_exporter": "python",
   "pygments_lexer": "ipython3",
   "version": "3.9.5"
  },
  "metadata": {
   "interpreter": {
    "hash": "aee8b7b246df8f9039afb4144a1f6fd8d2ca17a180786b69acc140d282b71a49"
   }
  },
  "orig_nbformat": 2
 },
 "nbformat": 4,
 "nbformat_minor": 2
}