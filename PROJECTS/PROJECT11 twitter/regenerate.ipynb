{
 "cells": [
  {
   "cell_type": "code",
   "execution_count": 3,
   "metadata": {},
   "outputs": [],
   "source": [
    "import pandas as pd\n",
    "import time\n",
    "import requests\n",
    "import json"
   ]
  },
  {
   "cell_type": "code",
   "execution_count": 5,
   "metadata": {},
   "outputs": [],
   "source": [
    "# access_token='Ors6z7iPqPcemJNYBfKsKFrJtIDFuWis7dbnh/Ohg29qDxBLUsR8CYsxZSrJ9isYFOAt3+c3AOHJzhokKaQfHuuhdVL/RtdyKRtjpVK6aKFt7LybHKjZPi2qLRagoTr7YN5ODu6HAnIj51RrUsZj9x2NqDUzqVR8SjRgpD7mLiw5FgsF+QzHTtVQR2CQ8eAyB1ZdALiAnMPiPSU83uXABiomys0AzDm+Q7ygQq7TQ7u+nsMfk7aP7W2ie7yq19caO3ogaFrGtT8GZDBFNiTH9ONVaUlAqypixM4qCEmTHlaAV1sxCEOPlRW2KQALum4puF2MM4mWBaGpZX8D/24L7VYdyDlsddmZRrfMDjHekdW6tZUXltkGYPq2lmzPYbwZxmHphMXy2UPNpFQT4Wx7Eocct1scb5S5jAFuwYeZhfPnOYAryYO7hud4hF5e1McRgtUiGFPymptb1/lRI1ZNiiJczrxj0mwE6qsavUZDaIfVrfDJ3DWhB5F+XeRQT6kD7YPeuwH/KNktH8oIEyt780CXmESMWXwwvhtEQFj5SReyQA5f9e50KsNYmqP100MQuG4LYrgoVi/JHHvl7kKN9vNsv2DoSjCSeeJr3ICCCcFyLWXGFYidCcB9tBpRwZIuoYvDIGoAORk1TGm01ymHzx087l4ZRxnoX5fXxRzh5i0kD0LHIWHHCxoUzHJ6B5uQL1hqZacp9vwjq09OJpnO9dQIC/lfrdmLdCa0pCFI48/Jp0ocexNY8gXLfc2KW5RD4/NY98WTIJV9hc1XplzcEklgL/tvFNebzaOHkOXiWcUiu2aA/QlzmNuDja/mMj8N+X61IkreYj76UDDM60hv2QOt7pWxnmhoJnP41fIqJJclAgKdrTrnprAFJjvdFwacg3NXTIFIBa9XMxj00rJDuKj1rh6YXFruev63s9T9w5Vn9hUnQ+2K9Sm9HQtr6/SFdqHBXic7tge+yHTm71rI5D5BvRRk3VtL/FUIWr4XWZzp235hm/cZhvVXr0mVc3U0gtltRDxRvDZQdpTEWspklk2qo1qKQflJZyAfEfRJ07UO9rQ77q5IjYKBowvvBWSuukfiwaMN96KaYI8XiOuVRhcDFW/SMU8NL11aGJSkfJMWiPGZF4/EmrloNOfGQVbeiHJ+LI8PKbo=212FD3x19z9sWBHDJACbC00B75E'\n",
    "api_key='MX8PQ92PPJB10TWKDEM4YA6CSEFFV51P'\n",
    "with open(\"refresh.json\") as json_data_file:\n",
    "    data2 = json.load(json_data_file)\n",
    "refresh_token=\"34\""
   ]
  },
  {
   "cell_type": "code",
   "execution_count": 6,
   "metadata": {},
   "outputs": [
    {
     "ename": "KeyError",
     "evalue": "'access_token'",
     "output_type": "error",
     "traceback": [
      "\u001b[0;31m---------------------------------------------------------------------------\u001b[0m",
      "\u001b[0;31mKeyError\u001b[0m                                  Traceback (most recent call last)",
      "\u001b[0;32m<ipython-input-6-b9d165563b89>\u001b[0m in \u001b[0;36m<module>\u001b[0;34m\u001b[0m\n\u001b[1;32m     10\u001b[0m \u001b[0mauthReply\u001b[0m\u001b[0;34m=\u001b[0m\u001b[0mrequests\u001b[0m\u001b[0;34m.\u001b[0m\u001b[0mpost\u001b[0m\u001b[0;34m(\u001b[0m\u001b[0murl\u001b[0m\u001b[0;34m,\u001b[0m\u001b[0mdata\u001b[0m\u001b[0;34m=\u001b[0m\u001b[0mpayload\u001b[0m\u001b[0;34m)\u001b[0m\u001b[0;34m\u001b[0m\u001b[0;34m\u001b[0m\u001b[0m\n\u001b[1;32m     11\u001b[0m \u001b[0mdata1\u001b[0m\u001b[0;34m=\u001b[0m\u001b[0mauthReply\u001b[0m\u001b[0;34m.\u001b[0m\u001b[0mjson\u001b[0m\u001b[0;34m(\u001b[0m\u001b[0;34m)\u001b[0m\u001b[0;34m\u001b[0m\u001b[0;34m\u001b[0m\u001b[0m\n\u001b[0;32m---> 12\u001b[0;31m \u001b[0maccess_token\u001b[0m\u001b[0;34m=\u001b[0m\u001b[0mdata1\u001b[0m\u001b[0;34m[\u001b[0m\u001b[0;34m'access_token'\u001b[0m\u001b[0;34m]\u001b[0m\u001b[0;34m\u001b[0m\u001b[0;34m\u001b[0m\u001b[0m\n\u001b[0m\u001b[1;32m     13\u001b[0m \u001b[0;34m\u001b[0m\u001b[0m\n\u001b[1;32m     14\u001b[0m \u001b[0;34m\u001b[0m\u001b[0m\n",
      "\u001b[0;31mKeyError\u001b[0m: 'access_token'"
     ]
    }
   ],
   "source": [
    "times1=time.time()\n",
    "url='https://api.tdameritrade.com/v1/oauth2/token'\n",
    "\n",
    "payload={'grant_type':'refresh_token',\n",
    "        'refresh_token':refresh_token,\n",
    "        \n",
    "\n",
    "        'client_id':api_key\n",
    "}\n",
    "authReply=requests.post(url,data=payload)\n",
    "data1=authReply.json()\n",
    "access_token=data1['access_token']\n",
    "\n",
    "\n",
    "\n",
    "  \n",
    "# Data to be written\n",
    "dictionary ={\n",
    "    \"access_token\":access_token,\n",
    "    \"refresh_token\":refresh_token\n",
    "}\n",
    "  \n",
    "# Serializing json \n",
    "json_object = json.dumps(dictionary, indent = 2)\n",
    "  \n",
    "# Writing to sample.json\n",
    "with open(\"refresh.json\", \"w\") as outfile:\n",
    "    outfile.write(json_object)\n",
    "\n",
    "\n",
    "\n",
    "\n",
    "\n"
   ]
  },
  {
   "cell_type": "code",
   "execution_count": null,
   "metadata": {},
   "outputs": [],
   "source": [
    "while True:\n",
    "        if time.time()>times1+1500:\n",
    "                url='https://api.tdameritrade.com/v1/oauth2/token'\n",
    "\n",
    "                payload={'grant_type':'refresh_token',\n",
    "                        'refresh_token':refresh_token,\n",
    "                        \n",
    "\n",
    "                        'client_id':api_key\n",
    "                }\n",
    "                authReply=requests.post(url,data=payload)\n",
    "                data=authReply.json()\n",
    "                access_token=data['access_token']\n",
    "                dictionary ={\n",
    "                \"access_token\":access_token,\n",
    "                \"refresh_token\":refresh_token\n",
    "                }\n",
    "                \n",
    "                # Serializing json \n",
    "                json_object = json.dumps(dictionary, indent = 2)\n",
    "                \n",
    "                # Writing to sample.json\n",
    "                with open(\"refresh.json\", \"w\") as outfile:\n",
    "                        outfile.write(json_object)\n",
    "                times1=time.time()"
   ]
  },
  {
   "cell_type": "code",
   "execution_count": 11,
   "metadata": {},
   "outputs": [],
   "source": [
    "price=2.5\n",
    "stock=\"AMZN\"\n",
    "expiry=\"090321\"\n",
    "call_put=\"C\"\n",
    "strike_price=3500\n",
    "accountId=\"232057656\""
   ]
  },
  {
   "cell_type": "code",
   "execution_count": 15,
   "metadata": {},
   "outputs": [],
   "source": [
    "def order():\n",
    "    global accountId\n",
    "    with open(\"refresh.json\") as json_data_file:\n",
    "        data2 = json.load(json_data_file)\n",
    "    access_token=data2['access_token']\n",
    "\n",
    "    endpoint=f'https://api.tdameritrade.com/v1/accounts/{accountId}/orders'\n",
    "\n",
    "    header = {'Authorization':\"Bearer {}\".format(access_token),\n",
    "                \"Content-Type\":\"application/json\"}\n",
    "\n",
    "\n",
    "    payload={\n",
    "        \"complexOrderStrategyType\": \"NONE\",\n",
    "        \"orderType\": \"LIMIT\",\n",
    "        \"session\": \"NORMAL\",\n",
    "        \"price\": str(price),\n",
    "        \"duration\": \"DAY\",\n",
    "        \"orderStrategyType\": \"SINGLE\",\n",
    "        \"orderLegCollection\": [\n",
    "        {\n",
    "            \"instruction\": \"BUY_TO_OPEN\",\n",
    "            \"quantity\": 1,\n",
    "            \"instrument\": {\n",
    "            \"symbol\": stock+'_'+str(expiry)+str(call_put)+str(strike_price),\n",
    "            \"assetType\": \"OPTION\"\n",
    "            }\n",
    "        }\n",
    "        ]\n",
    "    }   \n",
    "\n",
    "    content = requests.post(url = endpoint, json = payload, headers = header)\n",
    "    print(content.status_code)\n"
   ]
  },
  {
   "cell_type": "code",
   "execution_count": 17,
   "metadata": {},
   "outputs": [],
   "source": [
    "order()"
   ]
  },
  {
   "cell_type": "code",
   "execution_count": 18,
   "metadata": {},
   "outputs": [
    {
     "data": {
      "text/plain": "200"
     },
     "execution_count": 18,
     "metadata": {},
     "output_type": "execute_result"
    }
   ],
   "source": [
    "content.status_code"
   ]
  },
  {
   "cell_type": "code",
   "execution_count": 13,
   "metadata": {},
   "outputs": [],
   "source": [
    "account_id=\"497528112\"\n",
    "# access_token='o/AXvBGd3TNNfrE4v6QUzQXpR7iTQChbBrxT9/F2Hnxu+/AALOkWqwO5OJJ/LLBBnuMTHPWIEgCBOOzPVTC5i0EtfFBn3IMVciP//9Pe2Fsly1gt7J41uTEwBH86WxaPe+gyPfZXcU8y6UODMWqcZd6LB6Q8s8SPYXWC2krsySbCqAug+g4bcnNZ3L76wWCxwUcgf7iXOdtlhN7xVwSYpF0VUY6uttI2ZrpSRdjAt/AVL7YSA+gWqsPXHsMnHt7MpHtQuEaiIUoSfBcRoDN2NEcr9ZxpbLymUJjUAD172N5Ggnx1uHtdzcpDj3CIPQjzXg1ykPtYfZAkZFvujS+gvrRV8wFk95AAlLFmmyBAYjXOegyPMF072wyVLNM0+h3EsvKlTkXLbHnctdSlHpzJ/J5E9OaMqrOmhyv3S9n9CH5VvjjVglIuppe28bXITPJty5WMkE49CvLeC3ilHz+g6PzbRgUuAlGvCDTrD4wP/UvqUQ2lTkNUW0SuUGNGgFzb39OLbmBbH0I/L9oHsOVzAAaWcOgX+c6zBdR1MdS0DyuOqYkXM100MQuG4LYrgoVi/JHHvliFpSxRNBoaNUxpkRRvVSluPFvK2vVFGHbJ7dlZqYSscPoAaKlEV4gnERH7wO8pNU1akS9+r/+rXvncSGGIGvrbbAOPDOTXPNpolo9HrxENrgL7sf0Ug4q783qCVK7AgJZ8T+jgprAISQfc/+e3IqV+fxH1+UCGNWEStWlPq9WKzozw9yFW5YWCI+0NzroYuRKhGP0iw9fgfbYpykoHYkq4QXna0uwar/SbtlNvWEpLfc7c/2j67ILCkSQ8GgwzqKb5vgZ1YcnDjMCNUMxYTMKQ1brVQJlMH0y5vlXEngPAyYtDvRKThTEAJiBZE/GBdJsBKPnAIxcpKDByN/ZRhs8ertl3kbt3lHPok74ZocndGsyH9eSMLZCi+r5IRD69QGs22oqJ0Z/wNhSLlxqKULtr7L7gXo5FuU1fsjgcEkbgiwOUx3nZ4HJAslUN1wJKa+zkhavgyN9LLH/L8EdJeplxuC7A3P35IZe92HygSVtZSOWB++csXRDPK9apEjApeKJnnC04gyCP92qZwiRevnQka1G48qQ1H0DpDExz57MZTBgqXA==212FD3x19z9sWBHDJACbC00B75E'"
   ]
  },
  {
   "cell_type": "code",
   "execution_count": 98,
   "metadata": {},
   "outputs": [],
   "source": [
    "# with open(\"refresh.json\") as json_data_file:\n",
    "#     data2 = json.load(json_data_file)\n",
    "# access_token=data2['access_token']\n",
    "import requests\n",
    "\n",
    "with open(\"refresh.json\") as json_data_file:\n",
    "    data2 = json.load(json_data_file)\n",
    "access_token=data2['access_token']\n",
    "account_id=\"497528112\"\n",
    "\n",
    "\n",
    "header = {'Authorization':\"Bearer {}\".format(access_token),\n",
    "          \"Content-Type\":\"application/json\"}\n",
    "\n",
    "# define the endpoint for Saved orders, including your account ID\n",
    "endpoint = r\"https://api.tdameritrade.com/v1/accounts/{}/orders\".format(account_id)\n",
    "\n",
    "# define the payload, in JSON format\n",
    "payload = {'orderType':'MARKET',\n",
    "           'session':'NORMAL',\n",
    "           'duration':'DAY',\n",
    "           'orderStrategyType':'SINGLE',\n",
    "           'orderLegCollection':[{'instruction':'Buy','quantity':1,'instrument':{'symbol':'F','assetType':'EQUITY'}}]}\n",
    "\n",
    "\n",
    "# make a post, NOTE WE'VE CHANGED DATA TO JSON AND ARE USING POST\n",
    "content = requests.post(url = endpoint, json = payload, headers = header)"
   ]
  },
  {
   "cell_type": "code",
   "execution_count": 99,
   "metadata": {},
   "outputs": [
    {
     "data": {
      "text/plain": "{'error': 'When your liquidation value is less than $2K. Only your cash balance is available for purchases.'}"
     },
     "execution_count": 99,
     "metadata": {},
     "output_type": "execute_result"
    }
   ],
   "source": [
    "content.json()"
   ]
  },
  {
   "cell_type": "code",
   "execution_count": 7,
   "metadata": {},
   "outputs": [],
   "source": [
    "with open(\"refresh.json\") as json_data_file:\n",
    "    data2 = json.load(json_data_file)\n",
    "access_token=data2['access_token']"
   ]
  },
  {
   "cell_type": "code",
   "execution_count": 8,
   "metadata": {},
   "outputs": [],
   "source": [
    "headers = {'Authorization':\"Bearer {}\".format(access_token)}"
   ]
  },
  {
   "cell_type": "code",
   "execution_count": 9,
   "metadata": {},
   "outputs": [],
   "source": [
    "# ACCOUNTS ENDPOINT\n",
    "\n",
    "# define an endpoint with a stock of your choice, MUST BE UPPER\n",
    "endpoint = r\"https://api.tdameritrade.com/v1/accounts\"\n",
    "\n",
    "# make a request\n",
    "content = requests.get(url = endpoint, headers = headers)\n",
    "\n",
    "# convert it dictionary object\n",
    "data = content.json()\n",
    "\n",
    "# grab the account id\n",
    "account_id = data[0]['securitiesAccount']['accountId']"
   ]
  },
  {
   "cell_type": "code",
   "execution_count": 10,
   "metadata": {},
   "outputs": [
    {
     "data": {
      "text/plain": "'232057656'"
     },
     "execution_count": 10,
     "metadata": {},
     "output_type": "execute_result"
    }
   ],
   "source": [
    "account_id"
   ]
  },
  {
   "cell_type": "code",
   "execution_count": null,
   "metadata": {},
   "outputs": [],
   "source": [
    "{\n",
    "    'orderType': 'LIMIT',   \n",
    "'price': 310.07,\n",
    "    'session': 'NORMAL',\n",
    "    'duration': 'DAY',\n",
    "    'orderStrategyType': 'SINGLE',\n",
    "    'orderLegCollection': [\n",
    "      {\n",
    "        'instruction': 'BUY',\n",
    "        'quantity': 1,\n",
    "        'instrument': {\n",
    "          'symbol': 'AAPL',\n",
    "          'assetType': 'EQUITY'\n",
    "        }\n",
    "      }\n",
    "    ]\n",
    "  }\n"
   ]
  },
  {
   "cell_type": "code",
   "execution_count": 22,
   "metadata": {},
   "outputs": [],
   "source": [
    "stock='AMZN'\n",
    "price=2.5\n",
    "call_put='C'\n",
    "expiry='090321'\n",
    "strike_price=3500\n",
    "\n",
    "def order():\n",
    "    accountId=\"232057656\"\n",
    "    stock='AMZN'\n",
    "    price=2.5\n",
    "    call_put='C'\n",
    "    expiry='090321'\n",
    "    strike_price=3500\n",
    "    with open(\"refresh.json\") as json_data_file:\n",
    "        data2 = json.load(json_data_file)\n",
    "    access_token=data2['access_token']\n",
    "\n",
    "    endpoint=f'https://api.tdameritrade.com/v1/accounts/{accountId}/savedorders'\n",
    "\n",
    "    header = {'Authorization':\"Bearer {}\".format(access_token),\n",
    "                \"Content-Type\":\"application/json\"}\n",
    "\n",
    "\n",
    "    payload={\n",
    "        \"complexOrderStrategyType\": \"NONE\",\n",
    "        \"orderType\": \"LIMIT\",\n",
    "        \"session\": \"NORMAL\",\n",
    "        \"price\": str(price),\n",
    "        \"duration\": \"DAY\",\n",
    "        \"orderStrategyType\": \"SINGLE\",\n",
    "        \"orderLegCollection\": [\n",
    "        {\n",
    "            \"instruction\": \"BUY_TO_OPEN\",\n",
    "            \"quantity\": 1,\n",
    "            \"instrument\": {\n",
    "            \"symbol\": stock+'_'+str(expiry)+str(call_put)+str(strike_price),\n",
    "            \"assetType\": \"OPTION\"\n",
    "            }\n",
    "        }\n",
    "        ]\n",
    "    }\n",
    "\n",
    "    content = requests.post(url = endpoint, json = payload, headers = header)\n",
    "    print(content.status_code)\n",
    "    # print(content.json())\n"
   ]
  },
  {
   "cell_type": "code",
   "execution_count": 23,
   "metadata": {},
   "outputs": [
    {
     "name": "stdout",
     "output_type": "stream",
     "text": [
      "200\n"
     ]
    }
   ],
   "source": [
    "order()"
   ]
  },
  {
   "cell_type": "code",
   "execution_count": null,
   "metadata": {},
   "outputs": [],
   "source": []
  }
 ],
 "metadata": {
  "kernelspec": {
   "display_name": "Python 3.9.5 64-bit",
   "name": "python395jvsc74a57bd0aee8b7b246df8f9039afb4144a1f6fd8d2ca17a180786b69acc140d282b71a49"
  },
  "language_info": {
   "codemirror_mode": {
    "name": "ipython",
    "version": 3
   },
   "file_extension": ".py",
   "mimetype": "text/x-python",
   "name": "python",
   "nbconvert_exporter": "python",
   "pygments_lexer": "ipython3",
   "version": "3.9.5"
  },
  "metadata": {
   "interpreter": {
    "hash": "aee8b7b246df8f9039afb4144a1f6fd8d2ca17a180786b69acc140d282b71a49"
   }
  },
  "orig_nbformat": 2
 },
 "nbformat": 4,
 "nbformat_minor": 2
}