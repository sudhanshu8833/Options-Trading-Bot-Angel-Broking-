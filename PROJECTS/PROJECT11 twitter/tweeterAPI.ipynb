{
 "cells": [
  {
   "cell_type": "code",
   "execution_count": 1,
   "metadata": {},
   "outputs": [],
   "source": [
    "def find(s, ch):\n",
    "    return [i for i, ltr in enumerate(s) if ltr == ch]"
   ]
  },
  {
   "cell_type": "code",
   "execution_count": 10,
   "metadata": {},
   "outputs": [],
   "source": [
    "string='hi how are you'\n",
    "\n",
    "number=find(string,' ')"
   ]
  },
  {
   "cell_type": "code",
   "execution_count": null,
   "metadata": {},
   "outputs": [],
   "source": []
  },
  {
   "cell_type": "code",
   "execution_count": 11,
   "metadata": {},
   "outputs": [
    {
     "data": {
      "text/plain": "'are'"
     },
     "execution_count": 11,
     "metadata": {},
     "output_type": "execute_result"
    }
   ],
   "source": [
    "string[number[1]+1:number[2]]"
   ]
  },
  {
   "cell_type": "code",
   "execution_count": 6,
   "metadata": {},
   "outputs": [
    {
     "data": {
      "text/plain": "10"
     },
     "execution_count": 6,
     "metadata": {},
     "output_type": "execute_result"
    }
   ],
   "source": [
    "# To add a new cell, type '# %%'\n",
    "# To add a new markdown cell, type '# %% [markdown]'\n",
    "# %%\n",
    "import tweepy\n",
    "import webbrowser\n",
    "import telepot\n",
    "import requests\n",
    "import json\n",
    "import pandas as pd\n",
    "bot = telepot.Bot('1998607437:AAGdLpK6YKr9AQgKbr-gBvyX9cD62bEe1EE')\n",
    "bot.getMe()\n",
    "import time\n",
    "\n",
    "API_KEY= \"WrFxm3ofgDczHQN4YPMTv6nSc\"\n",
    "API_SECRET_KEY=\"hZHU60tQXOwl5wXWWjBwBiKkkdBee9RxyJB53pFVMz0RYf0A0s\"\n",
    "BEARER_TOKEN=\"AAAAAAAAAAAAAAAAAAAAAN36TAEAAAAAF8D%2B%2FTmgRDitCRNSRP6JEYAMspU%3DRHZVjZsfcoAJMMmqfjRXBEfZbugrzrlA2A2tt7Hnva7whgqpbM\"\n",
    "ACCESS_TOKEN='768195544904720384-W2VycRQYajyeKU1FuLJtZhb2Rya1d68'\n",
    "ACCESS_SECRET_TOKEN='3xfyr03bUJan8eembYN9vsDXhD01OvHfUT5WKrMp1xGOq'\n",
    "df3 = pd.read_csv(\"parameters.csv\")\n",
    "df3.set_index(\"parameters\",inplace=True)\n",
    "df1=df3.T\n",
    "\n",
    "\n",
    "\n",
    "callback_uri='oob'\n",
    "username=str(df1['user_name'][0])\n",
    "expiry=str(df1['expiry'][0])\n",
    "tolerance=float(df1['tolerance'][0])\n",
    "auth = tweepy.OAuthHandler(API_KEY, API_SECRET_KEY,callback_uri)\n",
    "user_pin_input=int(df1['user_pin'][0])\n",
    "auth.set_access_token(ACCESS_TOKEN, ACCESS_SECRET_TOKEN)\n",
    "accountId=str(df1['account_id'][0])\n",
    "\n",
    "api = tweepy.API(auth)\n",
    "api=tweepy.API(auth)\n",
    "me=api.me()\n",
    "print(me.screen_name)\n",
    "\n",
    "tweets = api.user_timeline(screen_name=username, \n",
    "                           # 200 is the maximum allowed count\n",
    "                           count=200,\n",
    "                           include_rts = False,\n",
    "                           # Necessary to keep full_text \n",
    "                           # otherwise only the first 140 words are extracted\n",
    "                           tweet_mode = 'extended'\n",
    "                           )\n",
    "\n",
    "\n",
    "\n",
    "position=int(df1['position'][0])\n",
    "l=0\n",
    "j=0\n",
    "def find(s, ch):\n",
    "    return [i for i, ltr in enumerate(s) if ltr == ch]\n",
    "\n",
    "\n",
    "def order():\n",
    "    global accountId,stock,expiry,strike_price,tolerance,position\n",
    "    print(strike_price)\n",
    "    print(price)\n",
    "    print(stock)\n",
    "    print(position)\n",
    "    print(call_put)\n",
    "    print(tolerance)\n",
    "    print(expiry)\n",
    "    print(accountId)\n",
    "    with open(\"refresh.json\") as json_data_file:\n",
    "        data2 = json.load(json_data_file)\n",
    "    access_token=data2['access_token']\n",
    "\n",
    "    # endpoint=f'https://api.tdameritrade.com/v1/accounts/{accountId}/orders'\n",
    "\n",
    "    # header = {'Authorization':\"Bearer {}\".format(access_token),\n",
    "    #             \"Content-Type\":\"application/json\"}\n",
    "\n",
    "\n",
    "    # payload={\n",
    "    #     \"complexOrderStrategyType\": \"NONE\",\n",
    "    #     \"orderType\": \"LIMIT\",\n",
    "    #     \"session\": \"NORMAL\",\n",
    "    #     \"price\": str(price),\n",
    "    #     \"duration\": \"DAY\",\n",
    "    #     \"orderStrategyType\": \"SINGLE\",\n",
    "    #     \"orderLegCollection\": [\n",
    "    #     {\n",
    "    #         \"instruction\": \"BUY_TO_OPEN\",\n",
    "    #         \"quantity\": int(position),\n",
    "    #         \"instrument\": {\n",
    "    #         \"symbol\": str(stock)+'_'+str(expiry)+str(call_put)+str(strike_price),\n",
    "    #         \"assetType\": \"OPTION\"\n",
    "    #         }\n",
    "    #     }\n",
    "    #     ]\n",
    "    # }\n",
    "\n",
    "    # content = requests.post(url = endpoint, json = payload, headers = header)\n",
    "\n",
    "\n",
    "\n",
    "def market_order(twee):\n",
    "    global stock, quantity, strike_price, price, call_put,j,l,accountId,position\n",
    "    tweet=twee\n",
    "    print('ordered')\n",
    "    tickers=['JAN','FEB','MAR','APR','MAY','JUN','JUL','AUG','SEP','OCT','NOV','DEC']\n",
    "    for ticker in tickers:\n",
    "        if ticker in tweet:\n",
    "            j=1\n",
    "            break\n",
    "\n",
    "    if j!=1 and 'C $' in tweet and 'SPY' not in tweet and 'SPX' not in tweet and 'QQQ' not in tweet and 'ALERT BOUGHT' in tweet:\n",
    "        list=find(tweet,' ')\n",
    "        number=list[3]\n",
    "        if len(list)>4:\n",
    "            number21=list[4]\n",
    "            price=float(tweet[number+2:number21])\n",
    "            price=(price+price*(tolerance/100))\n",
    "        price=float(tweet[number+2:])\n",
    "        price=(price+price*(tolerance/100))\n",
    "\n",
    "\n",
    "        price1=round(price,0)\n",
    "        price_mid=price-price1\n",
    "        rem=(price_mid*100)%5\n",
    "        add=(5-rem)/100\n",
    "        price_final=price+add\n",
    "        price_final\n",
    "        price_final=round(price_final,2)\n",
    "        price=price_final\n",
    "\n",
    "        number=find(tweet,' ')[1]\n",
    "        number1=find(tweet,' ')[2]\n",
    "        stock=tweet[number+1:number1]\n",
    "\n",
    "        if 'P $' in tweet:\n",
    "            call_put='P'\n",
    "\n",
    "        elif 'C $' in tweet:\n",
    "            call_put='C'\n",
    "\n",
    "        strike=find(tweet,' ')[2]\n",
    "        upto=tweet.find('C $')\n",
    "        strike_price=int(tweet[strike+1:upto])\n",
    "        quantity=int(position/price)\n",
    "        order()\n",
    "        bot.sendMessage(1039725953,f'Limit Bought for stock={stock} call quantity = {position} strike_price={strike_price} ltp={price}')\n",
    "\n",
    "\n",
    "\n",
    "\n",
    "\n",
    "\n",
    "    elif j!=1 and 'P $' in tweet and 'SPY' not in tweet and 'SPX' not in tweet and 'QQQ' not in tweet and 'ALERT BOUGHT' in tweet:\n",
    "        list=find(tweet,' ')\n",
    "        number=list[3]\n",
    "        if len(list)>4:\n",
    "            number21=list[4]\n",
    "            price=float(tweet[number+2:number21])\n",
    "            price=(price+price*(tolerance/100))\n",
    "        price=float(tweet[number+2:])\n",
    "        price=(price+price*(tolerance/100))\n",
    "\n",
    "        price1=round(price,0)\n",
    "        price_mid=price-price1\n",
    "        rem=(price_mid*100)%5\n",
    "        add=(5-rem)/100\n",
    "        price_final=price+add\n",
    "        price_final\n",
    "        price_final=round(price_final,2)\n",
    "        price=price_final\n",
    "\n",
    "        number=find(tweet,' ')[1]\n",
    "        number1=find(tweet,' ')[2]\n",
    "        stock=tweet[number+1:number1]\n",
    "\n",
    "        if 'P $' in tweet:\n",
    "            call_put='P'\n",
    "\n",
    "        elif 'C $' in tweet:\n",
    "            call_put='C'\n",
    "\n",
    "        strike=find(tweet,' ')[2]\n",
    "        upto=tweet.find('P $')\n",
    "        strike_price=int(tweet[strike+1:upto])\n",
    "        quantity=int(position/price)\n",
    "        order()\n",
    "        bot.sendMessage(1039725953,f'Limit Bought stock={stock} put quantity = {position} strike_price = {strike_price} ltp = {price}')\n",
    "        \n",
    "while True:\n",
    "    time.sleep(1)\n",
    "    for info in tweets[:3]:\n",
    "\n",
    "        if l>0:\n",
    "            # print(\"ID: {}\".format(info.id))\n",
    "            # print(info.created_at)\n",
    "            twee=info.full_text\n",
    "            print(twee)\n",
    "            if twee!=previous_tweet:\n",
    "                market_order(twee)\n",
    "            break\n",
    "\n",
    "        if l==0:\n",
    "            # print(\"ID: {}\".format(info.id))\n",
    "            # print(info.created_at)\n",
    "            \n",
    "            twee=info.full_text    \n",
    "            print(twee)\n",
    "            l=1  \n",
    "            break     \n",
    "    tweets = api.user_timeline(screen_name=username, \n",
    "                           # 200 is the maximum allowed count\n",
    "                           count=200,\n",
    "                           include_rts = False,\n",
    "                           # Necessary to keep full_text \n",
    "                           # otherwise only the first 140 words are extracted\n",
    "                           tweet_mode = 'extended'\n",
    "                           )\n",
    "\n",
    "    previous_tweet=twee\n",
    "    print('################################################################################################')\n",
    "\n",
    "\n",
    "# %%\n",
    "\n",
    "\n",
    "\n"
   ]
  },
  {
   "cell_type": "code",
   "execution_count": 26,
   "metadata": {},
   "outputs": [
    {
     "name": "stdout",
     "output_type": "stream",
     "text": [
      "[6, 13, 18, 25, 31]\n",
      "0.6\n",
      "227.5\n"
     ]
    },
    {
     "ename": "NameError",
     "evalue": "name 'position' is not defined",
     "output_type": "error",
     "traceback": [
      "\u001b[0;31m---------------------------------------------------------------------------\u001b[0m",
      "\u001b[0;31mNameError\u001b[0m                                 Traceback (most recent call last)",
      "\u001b[0;32m<ipython-input-26-1f383a7bee15>\u001b[0m in \u001b[0;36m<module>\u001b[0;34m\u001b[0m\n\u001b[1;32m     46\u001b[0m \u001b[0mstrike_price\u001b[0m\u001b[0;34m=\u001b[0m\u001b[0mvalue\u001b[0m\u001b[0;34m\u001b[0m\u001b[0;34m\u001b[0m\u001b[0m\n\u001b[1;32m     47\u001b[0m \u001b[0;34m\u001b[0m\u001b[0m\n\u001b[0;32m---> 48\u001b[0;31m \u001b[0mquantity\u001b[0m\u001b[0;34m=\u001b[0m\u001b[0mint\u001b[0m\u001b[0;34m(\u001b[0m\u001b[0mposition\u001b[0m\u001b[0;34m/\u001b[0m\u001b[0mprice\u001b[0m\u001b[0;34m)\u001b[0m\u001b[0;34m\u001b[0m\u001b[0;34m\u001b[0m\u001b[0m\n\u001b[0m\u001b[1;32m     49\u001b[0m \u001b[0morder\u001b[0m\u001b[0;34m(\u001b[0m\u001b[0;34m)\u001b[0m\u001b[0;34m\u001b[0m\u001b[0;34m\u001b[0m\u001b[0m\n\u001b[1;32m     50\u001b[0m \u001b[0mbot\u001b[0m\u001b[0;34m.\u001b[0m\u001b[0msendMessage\u001b[0m\u001b[0;34m(\u001b[0m\u001b[0;36m1039725953\u001b[0m\u001b[0;34m,\u001b[0m\u001b[0;34mf'Limit Bought for stock={stock} call quantity = {position} strike_price={strike_price} ltp={price}'\u001b[0m\u001b[0;34m)\u001b[0m\u001b[0;34m\u001b[0m\u001b[0;34m\u001b[0m\u001b[0m\n",
      "\u001b[0;31mNameError\u001b[0m: name 'position' is not defined"
     ]
    }
   ],
   "source": [
    "def find(s, ch):\n",
    "    return [i for i, ltr in enumerate(s) if ltr == ch]\n",
    "\n",
    "tweet=\"#ALERT BOUGHT NVDA 227.5C $0.50 LOTTO\"\n",
    "tolerance=20\n",
    "\n",
    "list=find(tweet,' ')\n",
    "print(list)\n",
    "number=list[3]\n",
    "\n",
    "if len(list)>4:\n",
    "    number21=list[4]\n",
    "    price=float(tweet[number+2:number21])\n",
    "    price=(price+price*(tolerance/100))\n",
    "\n",
    "else:\n",
    "    price=float(tweet[number+2:])\n",
    "    price=(price+price*(tolerance/100))\n",
    "\n",
    "print(price)\n",
    "price1=round(price,0)\n",
    "price_mid=price-price1\n",
    "rem=(price_mid*100)%5\n",
    "add=(5-rem)/100\n",
    "price_final=price+add\n",
    "price_final\n",
    "price_final=round(price_final,2)\n",
    "price=price_final\n",
    "\n",
    "number=find(tweet,' ')[1]\n",
    "number1=find(tweet,' ')[2]\n",
    "stock=tweet[number+1:number1]\n",
    "\n",
    "if 'P $' in tweet:\n",
    "    call_put='P'\n",
    "\n",
    "elif 'C $' in tweet:\n",
    "    call_put='C'\n",
    "\n",
    "strike=find(tweet,' ')[2]\n",
    "upto=tweet.find('C $')\n",
    "\n",
    "value=float(tweet[strike+1:upto])\n",
    "value=round(value,1)\n",
    "print(value)\n",
    "strike_price=value\n",
    "\n",
    "quantity=int(position/price)\n",
    "order()\n",
    "bot.sendMessage(1039725953,f'Limit Bought for stock={stock} call quantity = {position} strike_price={strike_price} ltp={price}')"
   ]
  },
  {
   "cell_type": "code",
   "execution_count": 2,
   "metadata": {},
   "outputs": [
    {
     "data": {
      "text/plain": "{'message_id': 44,\n 'from': {'id': 1998607437,\n  'is_bot': True,\n  'first_name': 'twitter_API_BOT',\n  'username': 'twitter_api_bot'},\n 'chat': {'id': 1039725953,\n  'first_name': 'sudhanshu',\n  'username': 'Sudhanshu_883',\n  'type': 'private'},\n 'date': 1631022395,\n 'text': 'hi'}"
     },
     "execution_count": 2,
     "metadata": {},
     "output_type": "execute_result"
    }
   ],
   "source": [
    "import pandas as pd\n",
    "import telepot\n",
    "bot = telepot.Bot('1998607437:AAGdLpK6YKr9AQgKbr-gBvyX9cD62bEe1EE')\n",
    "bot.getMe()\n",
    "\n",
    "bot.sendMessage(1039725953,'hi')"
   ]
  },
  {
   "cell_type": "code",
   "execution_count": 3,
   "metadata": {},
   "outputs": [
    {
     "data": {
      "text/plain": "0.5"
     },
     "execution_count": 3,
     "metadata": {},
     "output_type": "execute_result"
    }
   ],
   "source": [
    "250.5%1"
   ]
  },
  {
   "cell_type": "code",
   "execution_count": null,
   "metadata": {},
   "outputs": [],
   "source": []
  },
  {
   "cell_type": "code",
   "execution_count": 6,
   "metadata": {},
   "outputs": [
    {
     "name": "stdout",
     "output_type": "stream",
     "text": [
      "250\n"
     ]
    }
   ],
   "source": [
    "value=250.0\n",
    "value=round(value,1)\n",
    "\n",
    "if value%1==0.5:\n",
    "    strike_price=round(value,1)\n",
    "\n",
    "else:\n",
    "    strike_price=int(value)\n",
    "\n",
    "\n",
    "print(strike_price)"
   ]
  },
  {
   "cell_type": "code",
   "execution_count": null,
   "metadata": {},
   "outputs": [],
   "source": []
  }
 ],
 "metadata": {
  "kernelspec": {
   "display_name": "Python 3.9.5 64-bit",
   "name": "python395jvsc74a57bd0aee8b7b246df8f9039afb4144a1f6fd8d2ca17a180786b69acc140d282b71a49"
  },
  "language_info": {
   "codemirror_mode": {
    "name": "ipython",
    "version": 3
   },
   "file_extension": ".py",
   "mimetype": "text/x-python",
   "name": "python",
   "nbconvert_exporter": "python",
   "pygments_lexer": "ipython3",
   "version": "3.9.5"
  },
  "metadata": {
   "interpreter": {
    "hash": "aee8b7b246df8f9039afb4144a1f6fd8d2ca17a180786b69acc140d282b71a49"
   }
  },
  "orig_nbformat": 2
 },
 "nbformat": 4,
 "nbformat_minor": 2
}