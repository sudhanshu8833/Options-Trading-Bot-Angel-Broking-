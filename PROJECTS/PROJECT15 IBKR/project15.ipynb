{
 "cells": [
  {
   "cell_type": "code",
   "execution_count": null,
   "metadata": {},
   "outputs": [],
   "source": [
    "import pandas as pd\n",
    "import time\n",
    "import numpy as np\n",
    "import oandapyV20\n",
    "import oandapyV20.endpoints.instruments as instruments\n",
    "import oandapyV20.endpoints.pricing as pricing\n",
    "import oandapyV20.endpoints.accounts as accounts\n",
    "import oandapyV20.endpoints.orders as orders\n",
    "import oandapyV20.endpoints.trades as trades\n",
    "import pandas as pd\n",
    "\n",
    "\n",
    "client1 = oandapyV20.API(access_token=\"5feaa802c52be3e714d4bd74bc1a9169-8cbadb5f1a922e05aad7d56841b3f44a\",environment=\"practice\")\n",
    "# To add a new cell, type '# %%'\n",
    "# To add a new markdown cell, type '# %% [markdown]'\n",
    "# %%\n",
    "account_id = \"101-002-19512089-001\""
   ]
  },
  {
   "cell_type": "code",
   "execution_count": null,
   "metadata": {},
   "outputs": [],
   "source": [
    "def bid_price():\n",
    "    msft = yf.Ticker(\"EURUSD=X\")\n",
    "\n",
    "    # get stock info\n",
    "    data=msft.info\n",
    "    price=float(data['bid'])\n",
    "    return price\n"
   ]
  },
  {
   "cell_type": "code",
   "execution_count": null,
   "metadata": {},
   "outputs": [],
   "source": []
  },
  {
   "cell_type": "code",
   "execution_count": null,
   "metadata": {},
   "outputs": [],
   "source": [
    "\n",
    "from finta import TA\n",
    "import yfinance as yf\n",
    "import requests\n",
    "import time\n",
    "import pandas as pd\n",
    "import numpy as np\n",
    "import datetime as dt\n",
    "import json\n",
    "# from binance import Client, ThreadedWebsocketManager, ThreadedDepthCacheManager\n",
    "from finta import TA\n",
    "import yfinance as yf\n",
    "import requests\n",
    "import time\n",
    "import pandas as pd\n",
    "import numpy as np\n",
    "import datetime as dt\n",
    "import json\n",
    "# from binance import Client, ThreadedWebsocketManager, ThreadedDepthCacheManager\n",
    "\n",
    "from datetime import date\n",
    "\n",
    "import pandas as pd\n",
    "import time\n",
    "import sys\n",
    "\n",
    "# local modules\n",
    "from binance.client import Client\n",
    "from binance.enums import *\n",
    "# from indicator import indicators\n",
    "\n",
    "# local file\n",
    "import secrets\n",
    "\n",
    "import yfinance as yf\n",
    "import numpy as np\n",
    "import datetime as dt\n",
    "import requests \n",
    "import json \n",
    "import pandas as pd \n",
    "import numpy as np  \n",
    "import requests\n",
    "import time\n",
    "import urllib\n",
    "\n",
    "\n",
    "client = Client(\"G5H5sixYr1dgeip4x43XMe02TIv6CKPluQNkSyTEZcelkfR6XowHXjdThDdP3Qkf\",\"jPWgA6VPV0owVLleUQla2dKXmHpJ44gRf8yUK0Se707DpcqF5YeTDtZpmaDZzT8q\")\n"
   ]
  },
  {
   "cell_type": "code",
   "execution_count": null,
   "metadata": {},
   "outputs": [],
   "source": [
    "client.get_ticker(symbol='BTCUSDT')['askPrice']"
   ]
  },
  {
   "cell_type": "code",
   "execution_count": null,
   "metadata": {},
   "outputs": [],
   "source": [
    "df=pd.DataFrame()"
   ]
  },
  {
   "cell_type": "code",
   "execution_count": null,
   "metadata": {},
   "outputs": [],
   "source": [
    "\n",
    "params = {\"instruments\": \"EUR_USD\"}\n",
    "account_id = \"101-002-19512089-001\"\n",
    "r = pricing.PricingInfo(accountID=account_id, params=params)\n",
    "i=0\n",
    "# while True:\n",
    "#     rv = client1.request(r)\n",
    "#     # print(\"Time=\",rv[\"time\"])\n",
    "#     print(rv[\"prices\"][0][\"closeoutBid\"])\n",
    "#     print(rv[\"prices\"][0][\"closeoutAsk\"])\n",
    "#     print(\"*******************\")\n",
    "\n",
    "\n"
   ]
  },
  {
   "cell_type": "code",
   "execution_count": null,
   "metadata": {},
   "outputs": [],
   "source": [
    "binance=[]\n",
    "IBKR=[]\n"
   ]
  },
  {
   "cell_type": "code",
   "execution_count": null,
   "metadata": {},
   "outputs": [],
   "source": [
    "def main():\n",
    "    global account_id,binance,IBKR\n",
    "    params = {\"instruments\": \"EUR_USD\"}\n",
    "    \n",
    "    r = pricing.PricingInfo(accountID=account_id, params=params)\n",
    "    rv = client1.request(r)\n",
    "    # print(time.time())\n",
    "    EUR_USD=rv[\"prices\"][0][\"closeoutBid\"]\n",
    "    BTC_USD=float(client.get_ticker(symbol='BTCUSDT')['bidPrice'])\n",
    "    BTC_EUR=float(client.get_ticker(symbol='BTCEUR')['askPrice'])\n",
    "    # print(time.time())\n",
    "    binance.append(BTC_USD/BTC_EUR)\n",
    "    IBKR.append(EUR_USD)\n",
    "\n",
    "\n"
   ]
  },
  {
   "cell_type": "code",
   "execution_count": null,
   "metadata": {},
   "outputs": [],
   "source": [
    "times1=time.time()\n",
    "while time.time()<24*60*60+times1:\n",
    "    times1=time.time()\n",
    "    try:\n",
    "    \n",
    "        main()\n",
    "\n",
    "    except Exception as e:\n",
    "        print(str(e))\n",
    "        # bot.sendMessage(1039725953,str(e))"
   ]
  },
  {
   "cell_type": "code",
   "execution_count": null,
   "metadata": {},
   "outputs": [],
   "source": [
    "import pandas as pd\n",
    "df=pd.read_csv('testing1.csv')\n",
    "\n"
   ]
  },
  {
   "cell_type": "code",
   "execution_count": null,
   "metadata": {},
   "outputs": [],
   "source": [
    "df['binance']=df['BTC/USDT']/df['BTC/EUR']"
   ]
  },
  {
   "cell_type": "code",
   "execution_count": null,
   "metadata": {},
   "outputs": [],
   "source": [
    "df"
   ]
  },
  {
   "cell_type": "code",
   "execution_count": null,
   "metadata": {},
   "outputs": [],
   "source": [
    "import numpy as np"
   ]
  },
  {
   "cell_type": "code",
   "execution_count": null,
   "metadata": {},
   "outputs": [],
   "source": [
    "profit=[]\n",
    "for i in range(len(df)):\n",
    "    profit.append(((df['IBKR'][i]-df['binance'][i])/df['IBKR'][i])*100)\n",
    "    \n",
    "df['profit']=np.array(profit)\n"
   ]
  },
  {
   "cell_type": "code",
   "execution_count": null,
   "metadata": {},
   "outputs": [],
   "source": [
    "df"
   ]
  },
  {
   "cell_type": "code",
   "execution_count": null,
   "metadata": {},
   "outputs": [],
   "source": [
    "df.to_csv('testing2.csv')"
   ]
  },
  {
   "cell_type": "code",
   "execution_count": null,
   "metadata": {},
   "outputs": [],
   "source": [
    "from ib_insync import *\n",
    "util.startLoop()  # uncomment this line when in a notebook\n",
    "\n",
    "ib = IB()\n",
    "ib.connect('127.0.0.1', 7497, clientId=23)"
   ]
  },
  {
   "cell_type": "code",
   "execution_count": null,
   "metadata": {},
   "outputs": [],
   "source": [
    "def IBKR1():\n",
    "    contracts = [Forex(pair) for pair in ('EURUSD', 'USDJPY', 'GBPUSD', 'USDCHF', 'USDCAD', 'AUDUSD')]\n",
    "    ib.qualifyContracts(*contracts)\n",
    "\n",
    "    eurusd = contracts[0]\n",
    "\n",
    "    for contract in contracts:\n",
    "        ib.reqMktData(contract, '', False, False)\n",
    "\n",
    "    ticker = ib.ticker(eurusd)\n",
    "    ib.sleep(.5)\n",
    "    value=ticker.bid\n",
    "    return float(value)"
   ]
  },
  {
   "cell_type": "code",
   "execution_count": null,
   "metadata": {},
   "outputs": [],
   "source": [
    "import pathlib\n",
    "from configparser import ConfigParser\n",
    "\n",
    "# Initialize a new instance of the `ConfigParser` object.\n",
    "config = ConfigParser()\n",
    "\n",
    "# Define a new section called `main`.\n",
    "config.add_section('main')\n",
    "\n",
    "# Set the values for the `main` section.\n",
    "config.set('main', 'REGULAR_ACCOUNT', 'U6982481')\n",
    "config.set('main', 'REGULAR_USERNAME', 'sidbot199')\n",
    "\n",
    "config.set('main', 'PAPER_ACCOUNT', 'YOUR_ACCOUNT_NUMBER')\n",
    "config.set('main', 'PAPER_USERNAME', 'YOUR_ACCOUNT_USERNAME')\n",
    "\n",
    "# Make the `config` folder for the user.\n",
    "new_directory = pathlib.Path(\"config/\").mkdir(parents=True, exist_ok=True)\n",
    "\n",
    "# Write the contents of the `ConfigParser` object to the `config.ini` file.\n",
    "with open('config/config.ini', 'w+') as f:\n",
    "    config.write(f)"
   ]
  },
  {
   "cell_type": "code",
   "execution_count": null,
   "metadata": {},
   "outputs": [],
   "source": [
    "from ibw.client import IBClient\n",
    "\n",
    "REGULAR_ACCOUNT = 'U6982481'\n",
    "REGULAR_USERNAME = 'sidbot199'\n",
    "\n",
    "# Create a new session of the IB Web API.\n",
    "ib_client = IBClient(\n",
    "    username=REGULAR_USERNAME,\n",
    "    account=REGULAR_ACCOUNT,\n",
    "    is_server_running=True\n",
    "\n",
    ")\n"
   ]
  },
  {
   "cell_type": "code",
   "execution_count": null,
   "metadata": {},
   "outputs": [],
   "source": [
    "# create a new session.\n",
    "ib_client.create_session()\n",
    "\n",
    "# grab the account data.\n",
    "account_data = ib_client.portfolio_accounts()\n",
    "\n",
    "# print the data.\n",
    "print(account_data)\n",
    "\n",
    "# Grab historical prices.\n",
    "aapl_prices = ib_client.market_data_history(conid=['265598'], period='1d', bar='5min')\n",
    "\n",
    "# print the prices.\n",
    "print(aapl_prices)\n"
   ]
  },
  {
   "cell_type": "code",
   "execution_count": null,
   "metadata": {},
   "outputs": [],
   "source": [
    "account_data = ib_client.portfolio_accounts()"
   ]
  },
  {
   "cell_type": "code",
   "execution_count": null,
   "metadata": {},
   "outputs": [],
   "source": []
  }
 ],
 "metadata": {
  "kernelspec": {
   "display_name": "Python 3.9.5 64-bit",
   "name": "python395jvsc74a57bd0aee8b7b246df8f9039afb4144a1f6fd8d2ca17a180786b69acc140d282b71a49"
  },
  "language_info": {
   "codemirror_mode": {
    "name": "ipython",
    "version": 3
   },
   "file_extension": ".py",
   "mimetype": "text/x-python",
   "name": "python",
   "nbconvert_exporter": "python",
   "pygments_lexer": "ipython3",
   "version": "3.9.5"
  },
  "metadata": {
   "interpreter": {
    "hash": "aee8b7b246df8f9039afb4144a1f6fd8d2ca17a180786b69acc140d282b71a49"
   }
  },
  "orig_nbformat": 2
 },
 "nbformat": 4,
 "nbformat_minor": 2
}