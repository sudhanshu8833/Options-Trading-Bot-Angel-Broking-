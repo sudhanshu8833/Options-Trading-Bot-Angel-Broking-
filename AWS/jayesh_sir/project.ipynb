{
 "cells": [
  {
   "cell_type": "code",
   "execution_count": 2,
   "metadata": {},
   "outputs": [],
   "source": [
    "from finta import TA\n",
    "import yfinance as yf\n",
    "import numpy as np\n",
    "import pandas as pd\n",
    "import yfinance as yf\n",
    "from alpha_vantage.timeseries import TimeSeries\n",
    "import datetime as dt\n",
    "import copy\n",
    "import matplotlib.pyplot as plt\n",
    "import time\n",
    "import json\n",
    "\n",
    "# time.sleep(55)"
   ]
  },
  {
   "cell_type": "code",
   "execution_count": 3,
   "metadata": {},
   "outputs": [],
   "source": [
    "def candles(instrument):\n",
    "        \n",
    "    ohlc_intraday=pd.DataFrame()\n",
    "\n",
    "    historicParam={\n",
    "    \"exchange\": \"NSE\",\n",
    "    \"symboltoken\": str(instrument),\n",
    "    \"interval\": \"FIVE_MINUTE\",\n",
    "    \"fromdate\": \"2021-07-05 09:15\", \n",
    "    \"todate\": \"2021-08-14 15:25\"\n",
    "    }\n",
    "\n",
    "    data=obj.getCandleData(historicParam)\n",
    "\n",
    "    data=pd.DataFrame(data)[\"data\"]\n",
    "    open=[]\n",
    "    close=[]\n",
    "    high=[]\n",
    "    low=[]\n",
    "    volume=[]\n",
    "    index=[]\n",
    "    for i in range(len(data)):\n",
    "        open.append(data[i][1])\n",
    "\n",
    "    for i in range(len(data)):\n",
    "        close.append(data[i][4])\n",
    "\n",
    "    for i in range(len(data)):\n",
    "        high.append(data[i][2])\n",
    "\n",
    "    for i in range(len(data)):\n",
    "        low.append(data[i][3])\n",
    "\n",
    "    for i in range(len(data)):\n",
    "        index.append(data[i][0])\n",
    "\n",
    "    for i in range(len(data)):\n",
    "        volume.append(data[i][5])\n",
    "\n",
    "\n",
    "    ohlc_intraday[\"Index\"]=np.array(index)\n",
    "    ohlc_intraday[\"Open\"]=np.array(open)\n",
    "    ohlc_intraday[\"High\"]=np.array(high)\n",
    "    ohlc_intraday[\"Low\"]=np.array(low)\n",
    "\n",
    "    ohlc_intraday[\"Close\"]=np.array(close)\n",
    "    ohlc_intraday[\"Volume\"]=np.array(volume)\n",
    "    ohlc_intraday.set_index(\"Index\",inplace=True)\n",
    "\n",
    "    return ohlc_intraday"
   ]
  },
  {
   "cell_type": "code",
   "execution_count": 13,
   "metadata": {},
   "outputs": [],
   "source": [
    "df=candles('11654')"
   ]
  },
  {
   "cell_type": "code",
   "execution_count": 14,
   "metadata": {},
   "outputs": [
    {
     "data": {
      "text/html": "<div>\n<style scoped>\n    .dataframe tbody tr th:only-of-type {\n        vertical-align: middle;\n    }\n\n    .dataframe tbody tr th {\n        vertical-align: top;\n    }\n\n    .dataframe thead th {\n        text-align: right;\n    }\n</style>\n<table border=\"1\" class=\"dataframe\">\n  <thead>\n    <tr style=\"text-align: right;\">\n      <th></th>\n      <th>Open</th>\n      <th>High</th>\n      <th>Low</th>\n      <th>Close</th>\n      <th>Volume</th>\n    </tr>\n    <tr>\n      <th>Index</th>\n      <th></th>\n      <th></th>\n      <th></th>\n      <th></th>\n      <th></th>\n    </tr>\n  </thead>\n  <tbody>\n    <tr>\n      <th>2021-07-19T14:20:00+05:30</th>\n      <td>3414.10</td>\n      <td>3419.95</td>\n      <td>3407.35</td>\n      <td>3410.50</td>\n      <td>3470</td>\n    </tr>\n    <tr>\n      <th>2021-07-19T14:25:00+05:30</th>\n      <td>3409.00</td>\n      <td>3422.95</td>\n      <td>3409.00</td>\n      <td>3420.45</td>\n      <td>2801</td>\n    </tr>\n    <tr>\n      <th>2021-07-19T14:30:00+05:30</th>\n      <td>3420.45</td>\n      <td>3430.10</td>\n      <td>3418.35</td>\n      <td>3427.55</td>\n      <td>745</td>\n    </tr>\n    <tr>\n      <th>2021-07-19T14:35:00+05:30</th>\n      <td>3430.20</td>\n      <td>3443.95</td>\n      <td>3419.10</td>\n      <td>3429.60</td>\n      <td>3552</td>\n    </tr>\n    <tr>\n      <th>2021-07-19T14:40:00+05:30</th>\n      <td>3429.90</td>\n      <td>3437.95</td>\n      <td>3426.20</td>\n      <td>3433.00</td>\n      <td>1088</td>\n    </tr>\n    <tr>\n      <th>2021-07-19T14:45:00+05:30</th>\n      <td>3433.00</td>\n      <td>3447.90</td>\n      <td>3430.10</td>\n      <td>3442.30</td>\n      <td>3012</td>\n    </tr>\n    <tr>\n      <th>2021-07-19T14:50:00+05:30</th>\n      <td>3442.25</td>\n      <td>3451.50</td>\n      <td>3441.35</td>\n      <td>3447.70</td>\n      <td>2250</td>\n    </tr>\n    <tr>\n      <th>2021-07-19T14:55:00+05:30</th>\n      <td>3445.20</td>\n      <td>3459.85</td>\n      <td>3442.50</td>\n      <td>3456.65</td>\n      <td>2288</td>\n    </tr>\n    <tr>\n      <th>2021-07-19T15:00:00+05:30</th>\n      <td>3458.95</td>\n      <td>3459.95</td>\n      <td>3446.60</td>\n      <td>3447.90</td>\n      <td>2528</td>\n    </tr>\n    <tr>\n      <th>2021-07-19T15:05:00+05:30</th>\n      <td>3447.85</td>\n      <td>3455.65</td>\n      <td>3441.35</td>\n      <td>3445.60</td>\n      <td>3448</td>\n    </tr>\n    <tr>\n      <th>2021-07-19T15:10:00+05:30</th>\n      <td>3447.60</td>\n      <td>3447.60</td>\n      <td>3435.30</td>\n      <td>3442.80</td>\n      <td>3028</td>\n    </tr>\n    <tr>\n      <th>2021-07-19T15:15:00+05:30</th>\n      <td>3442.15</td>\n      <td>3450.40</td>\n      <td>3439.80</td>\n      <td>3448.50</td>\n      <td>1574</td>\n    </tr>\n    <tr>\n      <th>2021-07-19T15:20:00+05:30</th>\n      <td>3450.30</td>\n      <td>3464.05</td>\n      <td>3448.25</td>\n      <td>3464.05</td>\n      <td>2388</td>\n    </tr>\n    <tr>\n      <th>2021-07-19T15:25:00+05:30</th>\n      <td>3464.15</td>\n      <td>3468.70</td>\n      <td>3451.45</td>\n      <td>3451.45</td>\n      <td>4631</td>\n    </tr>\n    <tr>\n      <th>2021-07-20T09:15:00+05:30</th>\n      <td>3438.25</td>\n      <td>3465.00</td>\n      <td>3425.45</td>\n      <td>3459.05</td>\n      <td>3749</td>\n    </tr>\n    <tr>\n      <th>2021-07-20T09:15:00+05:30</th>\n      <td>3438.25</td>\n      <td>3465.00</td>\n      <td>3425.45</td>\n      <td>3459.05</td>\n      <td>3749</td>\n    </tr>\n    <tr>\n      <th>2021-07-20T09:20:00+05:30</th>\n      <td>3459.00</td>\n      <td>3459.00</td>\n      <td>3430.00</td>\n      <td>3438.85</td>\n      <td>4640</td>\n    </tr>\n    <tr>\n      <th>2021-07-20T09:25:00+05:30</th>\n      <td>3438.85</td>\n      <td>3449.95</td>\n      <td>3425.65</td>\n      <td>3425.65</td>\n      <td>3012</td>\n    </tr>\n    <tr>\n      <th>2021-07-20T09:30:00+05:30</th>\n      <td>3425.65</td>\n      <td>3430.95</td>\n      <td>3421.00</td>\n      <td>3423.40</td>\n      <td>2106</td>\n    </tr>\n    <tr>\n      <th>2021-07-20T09:35:00+05:30</th>\n      <td>3423.90</td>\n      <td>3426.25</td>\n      <td>3415.00</td>\n      <td>3424.20</td>\n      <td>1533</td>\n    </tr>\n  </tbody>\n</table>\n</div>",
      "text/plain": "                              Open     High      Low    Close  Volume\nIndex                                                                \n2021-07-19T14:20:00+05:30  3414.10  3419.95  3407.35  3410.50    3470\n2021-07-19T14:25:00+05:30  3409.00  3422.95  3409.00  3420.45    2801\n2021-07-19T14:30:00+05:30  3420.45  3430.10  3418.35  3427.55     745\n2021-07-19T14:35:00+05:30  3430.20  3443.95  3419.10  3429.60    3552\n2021-07-19T14:40:00+05:30  3429.90  3437.95  3426.20  3433.00    1088\n2021-07-19T14:45:00+05:30  3433.00  3447.90  3430.10  3442.30    3012\n2021-07-19T14:50:00+05:30  3442.25  3451.50  3441.35  3447.70    2250\n2021-07-19T14:55:00+05:30  3445.20  3459.85  3442.50  3456.65    2288\n2021-07-19T15:00:00+05:30  3458.95  3459.95  3446.60  3447.90    2528\n2021-07-19T15:05:00+05:30  3447.85  3455.65  3441.35  3445.60    3448\n2021-07-19T15:10:00+05:30  3447.60  3447.60  3435.30  3442.80    3028\n2021-07-19T15:15:00+05:30  3442.15  3450.40  3439.80  3448.50    1574\n2021-07-19T15:20:00+05:30  3450.30  3464.05  3448.25  3464.05    2388\n2021-07-19T15:25:00+05:30  3464.15  3468.70  3451.45  3451.45    4631\n2021-07-20T09:15:00+05:30  3438.25  3465.00  3425.45  3459.05    3749\n2021-07-20T09:15:00+05:30  3438.25  3465.00  3425.45  3459.05    3749\n2021-07-20T09:20:00+05:30  3459.00  3459.00  3430.00  3438.85    4640\n2021-07-20T09:25:00+05:30  3438.85  3449.95  3425.65  3425.65    3012\n2021-07-20T09:30:00+05:30  3425.65  3430.95  3421.00  3423.40    2106\n2021-07-20T09:35:00+05:30  3423.90  3426.25  3415.00  3424.20    1533"
     },
     "execution_count": 14,
     "metadata": {},
     "output_type": "execute_result"
    }
   ],
   "source": [
    "df.tail(20)"
   ]
  },
  {
   "cell_type": "code",
   "execution_count": 10,
   "metadata": {},
   "outputs": [
    {
     "name": "stdout",
     "output_type": "stream",
     "text": [
      " 09:36:58 | Success\n"
     ]
    }
   ],
   "source": [
    "req_list_=[{\"Exch\":\"N\",\"ExchType\":\"C\",\"Symbol\":'L&TFH'}]\n",
    "    \n",
    "data=client.fetch_market_feed(req_list_)\n",
    "ltp=float(data['Data'][0]['LastRate'])\n",
    "prise=float(data['Data'][0]['PClose'])   "
   ]
  },
  {
   "cell_type": "code",
   "execution_count": 12,
   "metadata": {},
   "outputs": [
    {
     "data": {
      "text/plain": "89.55"
     },
     "execution_count": 12,
     "metadata": {},
     "output_type": "execute_result"
    }
   ],
   "source": [
    "ltp"
   ]
  },
  {
   "cell_type": "code",
   "execution_count": 5,
   "metadata": {},
   "outputs": [],
   "source": [
    "from smartapi import SmartConnect \n",
    "obj=SmartConnect(api_key=\"iJ3YYOXH\")\n",
    "data = obj.generateSession(\"S776051\",\"Madhya246###\")\n",
    "refreshToken= data['data']['refreshToken']\n",
    "feedToken=obj.getfeedToken()\n",
    "userProfile= obj.getProfile(refreshToken)"
   ]
  },
  {
   "cell_type": "code",
   "execution_count": 6,
   "metadata": {},
   "outputs": [
    {
     "name": "stdout",
     "output_type": "stream",
     "text": [
      " 09:34:16 | Logged in!!\n"
     ]
    }
   ],
   "source": [
    "from py5paisa import FivePaisaClient\n",
    "\n",
    "client = FivePaisaClient(email=\"sudhanshu8833@gmail.com\", passwd=\"Madhya246###\", dob=\"20010626\")\n",
    "client.login()"
   ]
  },
  {
   "cell_type": "code",
   "execution_count": 7,
   "metadata": {},
   "outputs": [],
   "source": [
    "df=candles(1901)"
   ]
  },
  {
   "cell_type": "code",
   "execution_count": 8,
   "metadata": {},
   "outputs": [
    {
     "data": {
      "text/html": "<div>\n<style scoped>\n    .dataframe tbody tr th:only-of-type {\n        vertical-align: middle;\n    }\n\n    .dataframe tbody tr th {\n        vertical-align: top;\n    }\n\n    .dataframe thead th {\n        text-align: right;\n    }\n</style>\n<table border=\"1\" class=\"dataframe\">\n  <thead>\n    <tr style=\"text-align: right;\">\n      <th></th>\n      <th>Open</th>\n      <th>High</th>\n      <th>Low</th>\n      <th>Close</th>\n      <th>Volume</th>\n    </tr>\n    <tr>\n      <th>Index</th>\n      <th></th>\n      <th></th>\n      <th></th>\n      <th></th>\n      <th></th>\n    </tr>\n  </thead>\n  <tbody>\n    <tr>\n      <th>2021-07-05T09:15:00+05:30</th>\n      <td>881.35</td>\n      <td>887.75</td>\n      <td>880.00</td>\n      <td>885.05</td>\n      <td>28159</td>\n    </tr>\n    <tr>\n      <th>2021-07-05T09:20:00+05:30</th>\n      <td>885.30</td>\n      <td>889.95</td>\n      <td>884.65</td>\n      <td>888.00</td>\n      <td>30611</td>\n    </tr>\n    <tr>\n      <th>2021-07-05T09:25:00+05:30</th>\n      <td>887.55</td>\n      <td>888.30</td>\n      <td>884.65</td>\n      <td>886.55</td>\n      <td>8194</td>\n    </tr>\n    <tr>\n      <th>2021-07-05T09:30:00+05:30</th>\n      <td>886.05</td>\n      <td>887.00</td>\n      <td>885.10</td>\n      <td>887.00</td>\n      <td>3889</td>\n    </tr>\n    <tr>\n      <th>2021-07-05T09:35:00+05:30</th>\n      <td>886.75</td>\n      <td>887.15</td>\n      <td>885.00</td>\n      <td>886.95</td>\n      <td>6787</td>\n    </tr>\n    <tr>\n      <th>...</th>\n      <td>...</td>\n      <td>...</td>\n      <td>...</td>\n      <td>...</td>\n      <td>...</td>\n    </tr>\n    <tr>\n      <th>2021-07-16T15:05:00+05:30</th>\n      <td>858.70</td>\n      <td>859.00</td>\n      <td>857.35</td>\n      <td>857.45</td>\n      <td>10123</td>\n    </tr>\n    <tr>\n      <th>2021-07-16T15:10:00+05:30</th>\n      <td>857.45</td>\n      <td>858.00</td>\n      <td>856.95</td>\n      <td>857.85</td>\n      <td>10005</td>\n    </tr>\n    <tr>\n      <th>2021-07-16T15:15:00+05:30</th>\n      <td>857.30</td>\n      <td>857.70</td>\n      <td>856.05</td>\n      <td>856.10</td>\n      <td>9879</td>\n    </tr>\n    <tr>\n      <th>2021-07-16T15:20:00+05:30</th>\n      <td>856.55</td>\n      <td>858.65</td>\n      <td>854.70</td>\n      <td>858.10</td>\n      <td>26352</td>\n    </tr>\n    <tr>\n      <th>2021-07-16T15:25:00+05:30</th>\n      <td>857.95</td>\n      <td>860.00</td>\n      <td>857.45</td>\n      <td>857.50</td>\n      <td>17183</td>\n    </tr>\n  </tbody>\n</table>\n<p>751 rows × 5 columns</p>\n</div>",
      "text/plain": "                             Open    High     Low   Close  Volume\nIndex                                                            \n2021-07-05T09:15:00+05:30  881.35  887.75  880.00  885.05   28159\n2021-07-05T09:20:00+05:30  885.30  889.95  884.65  888.00   30611\n2021-07-05T09:25:00+05:30  887.55  888.30  884.65  886.55    8194\n2021-07-05T09:30:00+05:30  886.05  887.00  885.10  887.00    3889\n2021-07-05T09:35:00+05:30  886.75  887.15  885.00  886.95    6787\n...                           ...     ...     ...     ...     ...\n2021-07-16T15:05:00+05:30  858.70  859.00  857.35  857.45   10123\n2021-07-16T15:10:00+05:30  857.45  858.00  856.95  857.85   10005\n2021-07-16T15:15:00+05:30  857.30  857.70  856.05  856.10    9879\n2021-07-16T15:20:00+05:30  856.55  858.65  854.70  858.10   26352\n2021-07-16T15:25:00+05:30  857.95  860.00  857.45  857.50   17183\n\n[751 rows x 5 columns]"
     },
     "execution_count": 8,
     "metadata": {},
     "output_type": "execute_result"
    }
   ],
   "source": [
    "df"
   ]
  },
  {
   "cell_type": "code",
   "execution_count": 416,
   "metadata": {},
   "outputs": [
    {
     "name": "stdout",
     "output_type": "stream",
     "text": [
      "2021-07-05T09:15:00+05:30\n",
      "2021-07-06T09:15:00+05:30\n",
      "2021-07-07T09:15:00+05:30\n",
      "2021-07-08T09:15:00+05:30\n",
      "2021-07-09T09:15:00+05:30\n",
      "2021-07-12T09:15:00+05:30\n",
      "2021-07-13T09:15:00+05:30\n",
      "2021-07-14T09:15:00+05:30\n",
      "2021-07-15T09:15:00+05:30\n",
      "2021-07-15T09:15:00+05:30\n",
      "2021-07-16T09:15:00+05:30\n"
     ]
    }
   ],
   "source": [
    "tr=9\n",
    "trr=15\n",
    "for i in range(len(df)):\n",
    "    if str(tr)+':'+str(trr) in df.index[i]:\n",
    "        print(df.index[i])"
   ]
  },
  {
   "cell_type": "code",
   "execution_count": 336,
   "metadata": {},
   "outputs": [],
   "source": [
    "kickers={'AARTIIND': 7, 'ABFRL': 30108, 'ACC': 22, 'ADANIENT': 25, 'ADANIPORTS': 15083, 'ALKEM': 11703, 'AMARAJABAT': 100, 'AMBUJACEM': 1270, 'APLLTD': 25328, 'APOLLOHOSP': 157, 'APOLLOTYRE': 163, 'ASHOKLEY': 212, 'ASIANPAINT': 236, 'AUBANK': 21238, 'AUROPHARMA': 275, 'AXISBANK': 5900, 'BAJAJ-AUTO': 16669, 'BAJAJFINSV': 16675, 'BAJFINANCE': 317, 'BALKRISIND': 335, 'BANDHANBNK': 2263, 'BANKBARODA': 4668, 'BATAINDIA': 371, 'BEL': 383, 'BERGEPAINT': 404, 'BHARATFORG': 422, 'BHARTIARTL': 10604, 'BHEL': 438, 'BIOCON': 11373, 'BOSCHLTD': 2181, 'BPCL': 526, 'BRITANNIA': 547, 'CADILAHC': 7929, 'CANBK': 10794, 'CHOLAFIN': 685, 'CIPLA': 694, 'COALINDIA': 20374, 'COFORGE': 11543, 'COLPAL': 15141, 'CONCOR': 4749, 'COROMANDEL': 739, 'CUB': 5701, 'CUMMINSIND': 1901, 'DABUR': 772, 'DEEPAKNTR': 19943, 'DIVISLAB': 10940, 'DLF': 14732, 'DRREDDY': 881, 'EICHERMOT': 910, 'ESCORTS': 958, 'EXIDEIND': 676, 'FEDERALBNK': 1023, 'GAIL': 4717, 'GLENMARK': 7406, 'GMRINFRA': 13528, 'GODREJCP': 10099, 'GODREJPROP': 17875, 'GRANULES': 11872, 'GRASIM': 1232, 'GUJGASLTD': 10599, 'HAVELLS': 9819, 'HCLTECH': 7229, 'HDFC': 1330, 'HDFCAMC': 4244, 'HDFCBANK': 1333, 'HDFCLIFE': 467, 'HEROMOTOCO': 1348, 'HINDALCO': 1363, 'HINDPETRO': 1406, 'HINDUNILVR': 1394, 'IBULHSGFIN': 30125, 'ICICIBANK': 4963, 'ICICIGI': 21770, 'ICICIPRULI': 18652, 'IDEA': 14366, 'IDFCFIRSTB': 11184, 'IGL': 11262, 'INDHOTEL': 1512, 'INDIGO': 11195, 'INDUSINDBK': 5258, 'INDUSTOWER': 29135, 'INFY': 1594, 'IOC': 1624, 'IRCTC': 13611, 'ITC': 1660, 'JINDALSTEL': 6733, 'JSWSTEEL': 11723, 'JUBLFOOD': 18096, 'KOTAKBANK': 1922, 'L&TFH': 11654, 'LALPATHLAB': 1997, 'LICHSGFIN': 19104, 'LT': 17395, 'LTI': 11483, 'LTTS': 17700, 'LUPIN': 17818, 'M&M': 18564, 'M&MFIN': 10440, 'MANAPPURAM': 19061, 'MARICO': 4067, 'MARUTI': 10999, 'MCDOWELL-N': 10447, 'METROPOLIS': 9581, 'MFSL': 2142, 'MGL': 17534, 'MINDTREE': 14356, 'MOTHERSUMI': 4204, 'MPHASIS': 4503, 'MRF': 2277, 'MUTHOOTFIN': 23650, 'NAM-INDIA': 357, 'NATIONALUM': 6364, 'NAUKRI': 13751, 'NAVINFLUOR': 14672, 'NESTLEIND': 17963, 'NMDC': 15332, 'NTPC': 11630, 'ONGC': 2475, 'PAGEIND': 14413, 'PEL': 2412, 'PETRONET': 11351, 'PFC': 14299, 'PFIZER': 2643, 'PIDILITIND': 2664, 'PIIND': 24184, 'PNB': 10666, 'POWERGRID': 14977, 'PVR': 13147, 'RAMCOCEM': 2043, 'RBLBANK': 18391, 'RECLTD': 15355, 'RELIANCE': 2885, 'SAIL': 2963, 'SBILIFE': 21808, 'SBIN': 3045, 'SHREECEM': 3103, 'SIEMENS': 3150, 'SRF': 3273, 'SRTRANSFIN': 4306, 'SUNPHARMA': 3351, 'SUNTV': 13404, 'TATACHEM': 3405, 'TATACONSUM': 3432, 'TATAMOTORS': 3456, 'TATAPOWER': 3426, 'TATASTEEL': 3499, 'TCS': 11536, 'TECHM': 13538, 'TITAN': 3506, 'TORNTPHARM': 3518, 'TORNTPOWER': 13786, 'TRENT': 1964, 'TVSMOTOR': 8479, 'UBL': 16713, 'ULTRACEMCO': 11532, 'UPL': 11287, 'VEDL': 3063, 'VOLTAS': 3718, 'WIPRO': 3787, 'ZEEL': 3812}\n",
    "tame=time.time()\n",
    "lickers=[]"
   ]
  },
  {
   "cell_type": "code",
   "execution_count": null,
   "metadata": {},
   "outputs": [],
   "source": [
    "# def selection():\n",
    "    \n",
    "#     global kickers,jickers\n",
    "#     for ticker in kickers:\n",
    "#         try:\n",
    "       \n",
    "#             req_list_=[{\"Exch\":\"N\",\"ExchType\":\"C\",\"Symbol\":ticker}]\n",
    "                \n",
    "#             data=client.fetch_market_feed(req_list_)\n",
    "#             ltp=float(data['Data'][0]['LastRate'])\n",
    "#             prise=float(data['Data'][0]['PClose'])        \n",
    "#             if ltp==0:\n",
    "#                 kickers.remove(ticker)\n",
    "#                 continue\n",
    "#             if prise==0:\n",
    "#                 kickers.remove(ticker)\n",
    "#                 continue\n",
    "#             print(\"\\n \\n analyzzing for \",ticker)\n",
    "#             print(ltp)\n",
    "\n",
    "         \n",
    "\n",
    "        \n",
    "#             if ((prise-ltp)/prise)*100>.5:\n",
    "#                     jikers.append(ticker)\n",
    "                    \n",
    "#         except:\n",
    "#             print(\"some problem....moving to next iteration\")"
   ]
  },
  {
   "cell_type": "code",
   "execution_count": null,
   "metadata": {},
   "outputs": [],
   "source": [
    "\n",
    "investment=5000\n",
    "risk=50   \n",
    "portfolio=30000\n",
    "\n",
    "prise=0\n",
    "ltp=0\n",
    "\n",
    "# selection()\n",
    "# print(jikers)\n",
    "# print(\"passthrough at \",time.strftime('%Y-%m-%d %H:%M:%S', time.localtime(time.time())))\n",
    "\n",
    "ohlcv_database=pd.DataFrame()\n",
    "\n",
    "order={}\n",
    "order1={}\n",
    "price={}\n",
    "price1={}\n",
    "position={}\n",
    "for ticker in jikers:\n",
    "    price[ticker]=0\n",
    "    price1[ticker]=0\n",
    "    \n",
    "    position[ticker]=\"\"\n",
    "\n",
    "\n"
   ]
  },
  {
   "cell_type": "code",
   "execution_count": null,
   "metadata": {},
   "outputs": [],
   "source": [
    "def selection1():\n",
    "    global lickers,kickers\n",
    "    for ticker in kickers:\n",
    "        print('analyzing for:', ticker)\n",
    "        print(\"passthrough at \",time.strftime('%Y-%m-%d %H:%M:%S', time.localtime(time.time())))\n",
    "        df=candles(kickers[ticker])\n",
    "        try:\n",
    "            if df['Close'].iloc[-1]>df['Open'].iloc[-1] and ((df['Close'].iloc[-2]-df['Open'].iloc[-1])/df['Close'].iloc[-2])*100>.5:\n",
    "                lickers.append(ticker)\n",
    "\n",
    "        except:\n",
    "            print('something went wrong... moving to next iteration')\n"
   ]
  },
  {
   "cell_type": "code",
   "execution_count": null,
   "metadata": {},
   "outputs": [],
   "source": [
    "\n",
    "selection1()\n",
    "print(lickers)\n",
    "# print(\"passthrough at \",time.strftime('%Y-%m-%d %H:%M:%S', time.localtime(time.time())))\n"
   ]
  },
  {
   "cell_type": "code",
   "execution_count": null,
   "metadata": {},
   "outputs": [],
   "source": [
    "high={}\n",
    "low={}\n",
    "time={}\n",
    "high1={}\n",
    "\n",
    "for ticker in lickers:\n",
    "    high[ticker]=1000000000\n",
    "    low[ticker]=0\n",
    "    time[ticker]=99999999999999999\n",
    "    high1[ticker]=1000000000\n"
   ]
  },
  {
   "cell_type": "code",
   "execution_count": null,
   "metadata": {},
   "outputs": [],
   "source": [
    "time.sleep(300-(time.time()-tame))"
   ]
  },
  {
   "cell_type": "code",
   "execution_count": null,
   "metadata": {},
   "outputs": [],
   "source": [
    "yickers=[]\n",
    "value={}\n",
    "for ticker in yickers:\n",
    "    value[ticker]=0\n",
    "\n",
    "def selection2():\n",
    "    global lickers,yickers,high,kickers,value\n",
    "    for ticker in lickers:\n",
    "        print('analyzing for: ',ticker)\n",
    "        df=candles(kickers[ticker])\n",
    "        try:\n",
    "            if df['Close'].iloc[-1]>df['High'].iloc[-2]:\n",
    "                yickers.append(ticker)\n",
    "                value[ticker]=abs((df['Close'].iloc[-1]-df['Open'].iloc[-2])/df['Open'].iloc[-2])\n",
    "\n",
    "                high[ticker]=df['High'].iloc[-1]\n",
    "\n",
    "        except:\n",
    "            print(\"something went wrong... moving to next iteration\")\n",
    "\n",
    "        "
   ]
  },
  {
   "cell_type": "code",
   "execution_count": null,
   "metadata": {},
   "outputs": [],
   "source": [
    "max=0\n",
    "for ticker in yickers:\n",
    "    if value[ticker]>max:\n",
    "        max=value[ticker]\n",
    "        stock=ticker\n",
    "\n",
    "\n",
    "\n",
    "\n",
    "yickers=[]\n",
    "yickers.append(stock)\n",
    "\n",
    "\n"
   ]
  },
  {
   "cell_type": "code",
   "execution_count": null,
   "metadata": {},
   "outputs": [],
   "source": [
    "def market_order(instrument,investment,risk):\n",
    "    global price,position,price_in,portfolio,order,order1,start_time\n",
    "    # if time.time()>=start_time+5700:\n",
    "\n",
    "    #     continue\n",
    "    order[instrument]=[]\n",
    "    order[instrument].append(float(ltp))\n",
    "    order[instrument].append(time.strftime('%Y-%m-%d %H:%M:%S', time.localtime(time.time())))\n",
    "    \n",
    "    price[instrument]=float(ltp)    \n",
    "    units=round(investment/price[instrument],0)\n",
    "    \n",
    "\n",
    "   \n",
    "    if units>0:\n",
    "        position[instrument]=\"long\"\n",
    "        order[instrument].append(\"long\")\n",
    "\n",
    "        portfolio=portfolio-units*price[instrument]\n",
    "\n",
    "    elif units<0:\n",
    "\n",
    "        position[instrument]=\"short\"\n",
    "        order[instrument].append(\"short\")\n",
    "        portfolio=portfolio+abs(units*price[instrument])\n",
    "\n",
    "\n",
    "    print(\"order filled for \",instrument)\n",
    "\n",
    "def market_order2(instrument,investment,risk):\n",
    "    global price,position,price_in,portfolio,order,order1\n",
    "   \n",
    "    order[instrument].append(float(ltp))\n",
    "    order[instrument].append(time.strftime('%Y-%m-%d %H:%M:%S', time.localtime(time.time())))\n",
    "    \n",
    "    price[instrument]=float(ltp)    \n",
    "    units=round(investment/price[instrument],0)\n",
    "    \n",
    "\n",
    "    order1[instrument]=[]\n",
    "    order1[instrument].append(float(ltp))\n",
    "    order1[instrument].append(time.strftime('%Y-%m-%d %H:%M:%S', time.localtime(time.time())))\n",
    "    # if units>0:\n",
    "    #     position[instrument]=\"long\"\n",
    "    #     order[instrument].append(\"long\")\n",
    "\n",
    "    #     portfolio=portfolio-units*price[instrument]\n",
    "    \n",
    "\n",
    "    if units<0:\n",
    "\n",
    "        position[instrument]=\"short\"\n",
    "        order1[instrument].append(\"short\")\n",
    "        portfolio=portfolio+abs(units*price[instrument])\n",
    "\n",
    "\n",
    "    print(\"order squared off and filled for \",instrument)\n",
    "# %%\n",
    "def market_order3(instrument,investment):\n",
    "    global price,price1,position,price_out,portfolio,order\n",
    "\n",
    "\n",
    "\n",
    "    price1[instrument]=float(ltp)    \n",
    "    order1[instrument].append(float(ltp))\n",
    "    units=round(investment/price1[instrument],0)\n",
    "    order1[instrument].append(time.strftime('%Y-%m-%d %H:%M:%S', time.localtime(time.time())))\n",
    "\n",
    "    if units>0:\n",
    "\n",
    "\n",
    "            \n",
    "        position[instrument]=\"\"\n",
    "        portfolio=portfolio-units*price1[instrument] \n",
    "\n",
    "\n",
    "    if units<0:\n",
    "        position[instrument]=\"\"\n",
    "\n",
    "        portfolio=portfolio+abs(units*price1[instrument]) \n",
    "\n",
    " \n",
    "    print(\"order squared off for \",instrument)\n",
    "\n",
    "def market_order1(instrument,investment):\n",
    "    global price,price1,position,price_out,portfolio,order\n",
    "\n",
    "\n",
    "\n",
    "    price1[instrument]=float(ltp)    \n",
    "    order[instrument].append(float(ltp))\n",
    "    units=round(investment/price1[instrument],0)\n",
    "    order[instrument].append(time.strftime('%Y-%m-%d %H:%M:%S', time.localtime(time.time())))\n",
    "\n",
    "    if units>0:\n",
    "\n",
    "\n",
    "            \n",
    "        position[instrument]=\"\"\n",
    "        portfolio=portfolio-units*price1[instrument] \n",
    "\n",
    "\n",
    "    if units<0:\n",
    "        position[instrument]=\"\"\n",
    "\n",
    "        portfolio=portfolio+abs(units*price1[instrument]) \n",
    "\n",
    " \n",
    "    print(\"order squared off for \",instrument)\n",
    "\n"
   ]
  },
  {
   "cell_type": "code",
   "execution_count": null,
   "metadata": {},
   "outputs": [],
   "source": [
    "def trade_signal(instrument,l_s):\n",
    "    \n",
    "    global yickers,investment,risk,ltp,position,prise,high,start_time,low,high1\n",
    "\n",
    "\n",
    "\n",
    "    signal=\"\"\n",
    "    if l_s==\"\":\n",
    "    \n",
    "        if ltp>high[instrument]:\n",
    "            signal=\"buy\"\n",
    "            time[instrument]=time.time()\n",
    "\n",
    "\n",
    "                        \n",
    "      \n",
    "\n",
    "    elif l_s==\"long\":\n",
    "        if ltp<=low[instrument]-low[instrument]*.004:\n",
    "            \n",
    "            signal=\"sell\"\n",
    "            time[instrument]=time.time()\n",
    "\n",
    "           \n",
    "                    \n",
    "    elif l_s==\"short\":\n",
    "        if high1[instrument]<price[instrument]+price[instrument]*.004:\n",
    "            if ltp>=price[instrument]+.004*price[instrument]:\n",
    "                signal=\"squareoffbuy\"\n",
    "\n",
    "        elif high1[instrument]>price[instrument]+price[instrument]*.004:\n",
    "            if ltp>=high1[instrument]:\n",
    "                signal='squareoffbuy'\n",
    "\n",
    "            \n",
    "\n",
    "\n",
    "    return signal    "
   ]
  },
  {
   "cell_type": "code",
   "execution_count": null,
   "metadata": {},
   "outputs": [],
   "source": [
    "def main():\n",
    "    global yickers,investment,risk,ltp,position,prise,high,start_time,low,high1,kickers\n",
    "    \n",
    "    for ticker in yickers:\n",
    "        if position[ticker]=='long':\n",
    "            if time.time()>=time[ticker]+300 and time.time()<time[ticker]+305:\n",
    "            \n",
    "                df=candles(kickers[ticker])\n",
    "                low[ticker]=df['Low'].iloc[-1]\n",
    "\n",
    "        if position[ticker]=='short':\n",
    "            if time.time()>=time[ticker]+300 and time.time()<time[ticker]+305:\n",
    "                df=candles(kickers[ticker])\n",
    "                high1[ticker]=df['Low'].iloc[-1]\n",
    "    \n",
    "    # for ticker in yickers.copy():\n",
    "        try:\n",
    "            req_list_=[{\"Exch\":\"N\",\"ExchType\":\"C\",\"Symbol\":ticker}]\n",
    "                \n",
    "            data=client.fetch_market_feed(req_list_)\n",
    "            ltp=float(data['Data'][0]['LastRate'])\n",
    "            prise=float(data['Data'][0]['PClose'])        \n",
    "            if ltp==0:\n",
    "                yickers.remove(ticker)\n",
    "                continue\n",
    "            if prise==0:\n",
    "                yickers.remove(ticker)\n",
    "                continue\n",
    "            print(\"\\n \\n analyzzing for \",ticker)\n",
    "            print(ltp)\n",
    "\n",
    "\n",
    "            l_s= position[ticker]\n",
    "            print(l_s)\n",
    "            signal=trade_signal(ticker,l_s)\n",
    "            if signal==\"buy\":\n",
    "                if time.time()>=start_time+5700:\n",
    "                    continue\n",
    "\n",
    "                market_order(ticker,investment,risk)\n",
    "                print(\"New long position initiated for \",ticker)\n",
    "\n",
    "            elif signal==\"sell\":\n",
    "                market_order2(ticker,-2*investment,risk)\n",
    "                print(\"New short position initiated for \", ticker)\n",
    "\n",
    "            elif signal==\"squareoffbuy\":\n",
    "                market_order3(ticker,investment)\n",
    "\n",
    "            elif signal==\"squareoffsell\":\n",
    "                market_order1(ticker,-1*investment)\n",
    "        except:\n",
    "            print(\"something went wrong... moving to next iteration\")"
   ]
  },
  {
   "cell_type": "code",
   "execution_count": null,
   "metadata": {},
   "outputs": [],
   "source": [
    "\n",
    "start_time=time.time()\n",
    "\n",
    "timeout=start_time+60*60*6\n",
    "\n",
    "while time.time()<=timeout:\n",
    "    try:\n",
    "  \n",
    "        # print(\"passthrough at \",time.strftime('%Y-%m-%d %H:%M:%S', time.localtime(time.time())))\n",
    "        main()\n",
    "        # print(\"passthrough at \",time.strftime('%Y-%m-%d %H:%M:%S', time.localtime(time.time())))\n",
    "\n",
    "    except KeyboardInterrupt:\n",
    "        print(\"keyboard interuption ....... exiting\")"
   ]
  },
  {
   "cell_type": "code",
   "execution_count": null,
   "metadata": {},
   "outputs": [],
   "source": [
    "for ticker in yickers.copy():\n",
    "    req_list_=[{\"Exch\":\"N\",\"ExchType\":\"C\",\"Symbol\":ticker}]\n",
    "        \n",
    "    data=client.fetch_market_feed(req_list_)\n",
    "    ltp=float(data['Data'][0]['LastRate'])        \n",
    "    if ltp==0:\n",
    "        yickers.pop(ticker,None)\n",
    "        continue\n",
    "    print(\"\\n \\n analyzzing for \",ticker)\n",
    "    print(ltp)\n",
    "    if position[ticker]==\"long\":\n",
    "        market_order1(ticker,-1*investment)\n",
    "\n",
    "    if position[ticker]==\"short\":\n",
    "        market_order3(ticker,investment)     "
   ]
  },
  {
   "cell_type": "code",
   "execution_count": null,
   "metadata": {},
   "outputs": [],
   "source": [
    "df=pd.DataFrame(order)\n",
    "df=df.T\n",
    "df.columns=[\"price_in\",\"time_in\",\"type\",\"price_out\",\"time_out\"]\n",
    "df[\"stocks\"]=df.index\n",
    "\n",
    "\n",
    "\n",
    "profit=[]\n",
    "for i in range(len(df)):\n",
    "    if df['type'][i]=='long':\n",
    "        profit.append(((df['price_out'][i]-df['price_in'][i])/df['price_in'][i])*100)\n",
    "\n",
    "    elif df['type'][i]=='short':\n",
    "        profit.append(((df['price_in'][i]-df['price_out'][i])/df['price_out'][i])*100)\n",
    "\n",
    "df[\"profit\"]=np.array(profit)\n",
    "\n",
    "\n",
    "df.to_csv(\"opg1111.csv\")\n",
    "\n",
    "\n",
    "\n",
    "df1=pd.DataFrame(order1)\n",
    "df1=df.T\n",
    "df1.columns=[\"price_in\",\"time_in\",\"type\",\"price_out\",\"time_out\"]\n",
    "df1[\"stocks\"]=df1.index\n",
    "\n",
    "\n",
    "\n",
    "profit=[]\n",
    "for i in range(len(df1)):\n",
    "    if df1['type'][i]=='long':\n",
    "        profit.append(((df1['price_out'][i]-df1['price_in'][i])/df1['price_in'][i])*100)\n",
    "\n",
    "    elif df1['type'][i]=='short':\n",
    "        profit.append(((df1['price_in'][i]-df1['price_out'][i])/df1['price_out'][i])*100)\n",
    "\n",
    "df1[\"profit\"]=np.array(profit)\n",
    "\n",
    "\n",
    "df1.to_csv(\"opg11112.csv\")\n",
    "\n",
    "print(portfolio)"
   ]
  },
  {
   "cell_type": "code",
   "execution_count": 3,
   "metadata": {},
   "outputs": [],
   "source": [
    "data=yf.download('MSFT',dt.datetime.today()-dt.timedelta(30),dt.datetime.today())"
   ]
  },
  {
   "cell_type": "code",
   "execution_count": 44,
   "metadata": {},
   "outputs": [],
   "source": [
    "df=candles(25)"
   ]
  },
  {
   "cell_type": "code",
   "execution_count": null,
   "metadata": {},
   "outputs": [],
   "source": [
    "df=candles(25)\n",
    "timedate=time.localtime(time.time())\n",
    "t=timedate.tm_min%5\n",
    "tr=timedate.tm_min-t\n",
    "trr=timedate.tm_hour\n",
    "\n",
    "if position=='long' and str(tr) in df.index[-2] and str(trr) in df.index[-2]:\n",
    "    \n",
    "        \n",
    "        \n",
    "        low=df['Low'].iloc[-2]\n",
    "\n",
    "if position=='short' and str(tr) in df.index[-2] and str(trr) in df.index[-2]:\n",
    "\n",
    "    \n",
    "    high1=df['Low'].iloc[-2]"
   ]
  }
 ],
 "metadata": {
  "kernelspec": {
   "display_name": "Python 3.9.5 64-bit",
   "name": "python395jvsc74a57bd0aee8b7b246df8f9039afb4144a1f6fd8d2ca17a180786b69acc140d282b71a49"
  },
  "language_info": {
   "codemirror_mode": {
    "name": "ipython",
    "version": 3
   },
   "file_extension": ".py",
   "mimetype": "text/x-python",
   "name": "python",
   "nbconvert_exporter": "python",
   "pygments_lexer": "ipython3",
   "version": "3.9.5"
  },
  "metadata": {
   "interpreter": {
    "hash": "aee8b7b246df8f9039afb4144a1f6fd8d2ca17a180786b69acc140d282b71a49"
   }
  },
  "orig_nbformat": 2
 },
 "nbformat": 4,
 "nbformat_minor": 2
}