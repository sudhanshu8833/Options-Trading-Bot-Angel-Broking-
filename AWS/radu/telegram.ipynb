{
 "cells": [
  {
   "cell_type": "code",
   "execution_count": 2,
   "metadata": {},
   "outputs": [],
   "source": [
    "\n"
   ]
  },
  {
   "cell_type": "code",
   "execution_count": 4,
   "metadata": {},
   "outputs": [],
   "source": [
    "import telepot\n",
    "import pandas as pd\n",
    "bot = telepot.Bot('1715056219:AAGxytb3U1gIt1vlVn8Jf5b4za3E1HPuOd4')\n",
    "bot.getMe()\n",
    "import requests\n",
    "import time\n",
    "import urllib\n",
    "\n",
    "j=0\n",
    "\n",
    "while True:\n",
    "    try:\n",
    "        from pprint import pprint\n",
    "        response = bot.getUpdates()\n",
    "    \n",
    "\n",
    "        if len(response)>j:\n",
    "            if 'document' in response[-1]['message']:\n",
    "                \n",
    "                # if response[-1]['message']['document']['file_name'].upper()=='STOCKS.CSV':\n",
    "                    \n",
    "                #     file_id=response[-1]['message']['document']['file_id']\n",
    "                \n",
    "                #     endpoint=r\"https://api.telegram.org/bot1715056219:AAGxytb3U1gIt1vlVn8Jf5b4za3E1HPuOd4/getFile?file_id={}\".format(file_id)\n",
    "                #     content=requests.get(url=endpoint)\n",
    "                #     content=content.json()\n",
    "                \n",
    "                #     file_path=content['result']['file_path']\n",
    "                #     endpoint=r\"https://api.telegram.org/file/bot1715056219:AAGxytb3U1gIt1vlVn8Jf5b4za3E1HPuOd4/{}\".format(file_path)\n",
    "                #     req = requests.get(endpoint)\n",
    "                #     url_content = req.content\n",
    "                #     csv_file = open('stocks.csv', 'wb')\n",
    "                \n",
    "                #     csv_file.write(url_content)\n",
    "                #     csv_file.close()\n",
    "                \n",
    "                #     bot.sendDocument(1039725953, document=open('stocks.csv', 'rb'))\n",
    "                #     bot.sendMessage(1039725953,'please veriy if the stocks are updated or not')\n",
    "\n",
    "                if response[-1]['message']['document']['file_name'].upper()=='PARAMETERS.CSV':\n",
    "                    file_id=response[-1]['message']['document']['file_id']\n",
    "                \n",
    "                    endpoint=r\"https://api.telegram.org/bot1715056219:AAGxytb3U1gIt1vlVn8Jf5b4za3E1HPuOd4/getFile?file_id={}\".format(file_id)\n",
    "                    content=requests.get(url=endpoint)\n",
    "                    content=content.json()\n",
    "                \n",
    "                    file_path=content['result']['file_path']\n",
    "                    endpoint=r\"https://api.telegram.org/file/bot1715056219:AAGxytb3U1gIt1vlVn8Jf5b4za3E1HPuOd4/{}\".format(file_path)\n",
    "                    req = requests.get(endpoint)\n",
    "                    url_content = req.content\n",
    "                    csv_file = open('parameters.csv', 'wb')\n",
    "                \n",
    "                    csv_file.write(url_content)\n",
    "                    csv_file.close()\n",
    "                \n",
    "                    bot.sendDocument(1039725953, document=open('parameters.csv', 'rb'))\n",
    "                    bot.sendMessage(1039725953,'please veriy if the parameters are updated or not')\n",
    "                    \n",
    "\n",
    "\n",
    "\n",
    "\n",
    "                \n",
    "            else:\n",
    "                message=response[-1]['message']['text']\n",
    "                \n",
    "                message=message.upper()\n",
    "                # if message=='SEE STOCKS':\n",
    "                    \n",
    "                #     bot.sendDocument(1039725953, document=open('stocks.csv', 'rb'))\n",
    "\n",
    "                # if message=='CHANGE STOCKS':\n",
    "                #     bot.sendMessage(1039725953,'please first write \"SEE STOCKS\" and have the list of presently running stocks and make all the changes you want and then send it back' )\n",
    "\n",
    "\n",
    "                if message=='SEE PARAMETERS':\n",
    "                    bot.sendDocument(1039725953, document=open('parameters.csv', 'rb'))\n",
    "                    \n",
    "\n",
    "\n",
    "\n",
    "        j=len(response)\n",
    "\n",
    "    except:\n",
    "        print(\"some error\")\n"
   ]
  },
  {
   "cell_type": "code",
   "execution_count": 1,
   "metadata": {},
   "outputs": [],
   "source": [
    "import telepot\n",
    "bot = telepot.Bot('1715056219:AAGxytb3U1gIt1vlVn8Jf5b4za3E1HPuOd4')\n",
    "bot.getMe()\n",
    "response = bot.getUpdates()"
   ]
  },
  {
   "cell_type": "code",
   "execution_count": 2,
   "metadata": {},
   "outputs": [
    {
     "data": {
      "text/plain": "[{'update_id': 104467720,\n  'message': {'message_id': 58889,\n   'from': {'id': 1039725953,\n    'is_bot': False,\n    'first_name': 'sudhanshu',\n    'username': 'Sudhanshu_883',\n    'language_code': 'en'},\n   'chat': {'id': 1039725953,\n    'first_name': 'sudhanshu',\n    'username': 'Sudhanshu_883',\n    'type': 'private'},\n   'date': 1629208524,\n   'text': 'Cancel AAPL'}},\n {'update_id': 104467721,\n  'message': {'message_id': 58891,\n   'from': {'id': 1039725953,\n    'is_bot': False,\n    'first_name': 'sudhanshu',\n    'username': 'Sudhanshu_883',\n    'language_code': 'en'},\n   'chat': {'id': 1039725953,\n    'first_name': 'sudhanshu',\n    'username': 'Sudhanshu_883',\n    'type': 'private'},\n   'date': 1629209707,\n   'text': 'See stocks'}},\n {'update_id': 104467722,\n  'message': {'message_id': 58893,\n   'from': {'id': 1039725953,\n    'is_bot': False,\n    'first_name': 'sudhanshu',\n    'username': 'Sudhanshu_883',\n    'language_code': 'en'},\n   'chat': {'id': 1039725953,\n    'first_name': 'sudhanshu',\n    'username': 'Sudhanshu_883',\n    'type': 'private'},\n   'date': 1629209761,\n   'text': 'See stocks'}},\n {'update_id': 104467723,\n  'message': {'message_id': 58896,\n   'from': {'id': 1039725953,\n    'is_bot': False,\n    'first_name': 'sudhanshu',\n    'username': 'Sudhanshu_883',\n    'language_code': 'en'},\n   'chat': {'id': 1039725953,\n    'first_name': 'sudhanshu',\n    'username': 'Sudhanshu_883',\n    'type': 'private'},\n   'date': 1629210073,\n   'text': 'Change stocks'}},\n {'update_id': 104467724,\n  'message': {'message_id': 58898,\n   'from': {'id': 1039725953,\n    'is_bot': False,\n    'first_name': 'sudhanshu',\n    'username': 'Sudhanshu_883',\n    'language_code': 'en'},\n   'chat': {'id': 1039725953,\n    'first_name': 'sudhanshu',\n    'username': 'Sudhanshu_883',\n    'type': 'private'},\n   'date': 1629210095,\n   'text': 'See stocks'}},\n {'update_id': 104467725,\n  'message': {'message_id': 58900,\n   'from': {'id': 1039725953,\n    'is_bot': False,\n    'first_name': 'sudhanshu',\n    'username': 'Sudhanshu_883',\n    'language_code': 'en'},\n   'chat': {'id': 1039725953,\n    'first_name': 'sudhanshu',\n    'username': 'Sudhanshu_883',\n    'type': 'private'},\n   'date': 1629210230,\n   'document': {'file_name': 'telegram.csv',\n    'mime_type': 'text/csv',\n    'file_id': 'BQACAgUAAxkBAALmFGEbxnYa5XVIpY3c0PC1ng-Hp-utAALTAgACrgThVK5ozyymtid9IAQ',\n    'file_unique_id': 'AgAD0wIAAq4E4VQ',\n    'file_size': 2714}}},\n {'update_id': 104467726,\n  'message': {'message_id': 58901,\n   'from': {'id': 1039725953,\n    'is_bot': False,\n    'first_name': 'sudhanshu',\n    'username': 'Sudhanshu_883',\n    'language_code': 'en'},\n   'chat': {'id': 1039725953,\n    'first_name': 'sudhanshu',\n    'username': 'Sudhanshu_883',\n    'type': 'private'},\n   'date': 1629212018,\n   'forward_from': {'id': 1039725953,\n    'is_bot': False,\n    'first_name': 'sudhanshu',\n    'username': 'Sudhanshu_883',\n    'language_code': 'en'},\n   'forward_date': 1629210230,\n   'document': {'file_name': 'telegram.csv',\n    'mime_type': 'text/csv',\n    'file_id': 'BQACAgUAAxkBAALmFWEbzXJMnM6CWeZIrzjO3TYeRiQaAALTAgACrgThVK5ozyymtid9IAQ',\n    'file_unique_id': 'AgAD0wIAAq4E4VQ',\n    'file_size': 2714}}},\n {'update_id': 104467727,\n  'message': {'message_id': 58902,\n   'from': {'id': 1039725953,\n    'is_bot': False,\n    'first_name': 'sudhanshu',\n    'username': 'Sudhanshu_883',\n    'language_code': 'en'},\n   'chat': {'id': 1039725953,\n    'first_name': 'sudhanshu',\n    'username': 'Sudhanshu_883',\n    'type': 'private'},\n   'date': 1629214100,\n   'forward_from': {'id': 1039725953,\n    'is_bot': False,\n    'first_name': 'sudhanshu',\n    'username': 'Sudhanshu_883',\n    'language_code': 'en'},\n   'forward_date': 1629210230,\n   'document': {'file_name': 'telegram.csv',\n    'mime_type': 'text/csv',\n    'file_id': 'BQACAgUAAxkBAALmFmEb1ZQf1Cs44hDtfc9rRlG0m-1xAALTAgACrgThVK5ozyymtid9IAQ',\n    'file_unique_id': 'AgAD0wIAAq4E4VQ',\n    'file_size': 2714}}},\n {'update_id': 104467728,\n  'message': {'message_id': 58903,\n   'from': {'id': 1039725953,\n    'is_bot': False,\n    'first_name': 'sudhanshu',\n    'username': 'Sudhanshu_883',\n    'language_code': 'en'},\n   'chat': {'id': 1039725953,\n    'first_name': 'sudhanshu',\n    'username': 'Sudhanshu_883',\n    'type': 'private'},\n   'date': 1629214177,\n   'forward_from': {'id': 1039725953,\n    'is_bot': False,\n    'first_name': 'sudhanshu',\n    'username': 'Sudhanshu_883',\n    'language_code': 'en'},\n   'forward_date': 1629210230,\n   'document': {'file_name': 'telegram.csv',\n    'mime_type': 'text/csv',\n    'file_id': 'BQACAgUAAxkBAALmF2Eb1eFGvgQiSWcmz3V16vcVqU4CAALTAgACrgThVK5ozyymtid9IAQ',\n    'file_unique_id': 'AgAD0wIAAq4E4VQ',\n    'file_size': 2714}}},\n {'update_id': 104467729,\n  'message': {'message_id': 58904,\n   'from': {'id': 1039725953,\n    'is_bot': False,\n    'first_name': 'sudhanshu',\n    'username': 'Sudhanshu_883',\n    'language_code': 'en'},\n   'chat': {'id': 1039725953,\n    'first_name': 'sudhanshu',\n    'username': 'Sudhanshu_883',\n    'type': 'private'},\n   'date': 1629214223,\n   'text': 'Change stocks'}},\n {'update_id': 104467730,\n  'message': {'message_id': 58906,\n   'from': {'id': 1039725953,\n    'is_bot': False,\n    'first_name': 'sudhanshu',\n    'username': 'Sudhanshu_883',\n    'language_code': 'en'},\n   'chat': {'id': 1039725953,\n    'first_name': 'sudhanshu',\n    'username': 'Sudhanshu_883',\n    'type': 'private'},\n   'date': 1629214238,\n   'text': 'Send stocks'}},\n {'update_id': 104467731,\n  'message': {'message_id': 58907,\n   'from': {'id': 1039725953,\n    'is_bot': False,\n    'first_name': 'sudhanshu',\n    'username': 'Sudhanshu_883',\n    'language_code': 'en'},\n   'chat': {'id': 1039725953,\n    'first_name': 'sudhanshu',\n    'username': 'Sudhanshu_883',\n    'type': 'private'},\n   'date': 1629214243,\n   'text': 'See stocks'}},\n {'update_id': 104467732,\n  'message': {'message_id': 58909,\n   'from': {'id': 1039725953,\n    'is_bot': False,\n    'first_name': 'sudhanshu',\n    'username': 'Sudhanshu_883',\n    'language_code': 'en'},\n   'chat': {'id': 1039725953,\n    'first_name': 'sudhanshu',\n    'username': 'Sudhanshu_883',\n    'type': 'private'},\n   'date': 1629214312,\n   'forward_from': {'id': 1039725953,\n    'is_bot': False,\n    'first_name': 'sudhanshu',\n    'username': 'Sudhanshu_883',\n    'language_code': 'en'},\n   'forward_date': 1629210230,\n   'document': {'file_name': 'telegram.csv',\n    'mime_type': 'text/csv',\n    'file_id': 'BQACAgUAAxkBAALmHWEb1mguRoZn1meLILNGcXdwseUvAALTAgACrgThVK5ozyymtid9IAQ',\n    'file_unique_id': 'AgAD0wIAAq4E4VQ',\n    'file_size': 2714}}},\n {'update_id': 104467733,\n  'message': {'message_id': 58911,\n   'from': {'id': 1039725953,\n    'is_bot': False,\n    'first_name': 'sudhanshu',\n    'username': 'Sudhanshu_883',\n    'language_code': 'en'},\n   'chat': {'id': 1039725953,\n    'first_name': 'sudhanshu',\n    'username': 'Sudhanshu_883',\n    'type': 'private'},\n   'date': 1629214530,\n   'document': {'file_name': 'stocks.csv',\n    'mime_type': 'text/csv',\n    'file_id': 'BQACAgUAAxkBAALmH2Eb10JZQLB_LsUyqVtlOgZpUZ1aAAIFAwACrgThVLTt6kdR4IBtIAQ',\n    'file_unique_id': 'AgADBQMAAq4E4VQ',\n    'file_size': 2714}}},\n {'update_id': 104467734,\n  'message': {'message_id': 58915,\n   'from': {'id': 1039725953,\n    'is_bot': False,\n    'first_name': 'sudhanshu',\n    'username': 'Sudhanshu_883',\n    'language_code': 'en'},\n   'chat': {'id': 1039725953,\n    'first_name': 'sudhanshu',\n    'username': 'Sudhanshu_883',\n    'type': 'private'},\n   'date': 1629214842,\n   'document': {'file_name': 'stocks.csv',\n    'mime_type': 'text/csv',\n    'file_id': 'BQACAgUAAxkBAALmI2Eb2HpL2gV8B1-MbC9YZ5Vp-aBDAAIIAwACrgThVM8-5mWmR4NlIAQ',\n    'file_unique_id': 'AgADCAMAAq4E4VQ',\n    'file_size': 2714}}},\n {'update_id': 104467735,\n  'message': {'message_id': 64523,\n   'from': {'id': 1039725953,\n    'is_bot': False,\n    'first_name': 'sudhanshu',\n    'username': 'Sudhanshu_883',\n    'language_code': 'en'},\n   'chat': {'id': 1039725953,\n    'first_name': 'sudhanshu',\n    'username': 'Sudhanshu_883',\n    'type': 'private'},\n   'date': 1629277002,\n   'text': 'see parameters'}},\n {'update_id': 104467736,\n  'message': {'message_id': 64525,\n   'from': {'id': 1039725953,\n    'is_bot': False,\n    'first_name': 'sudhanshu',\n    'username': 'Sudhanshu_883',\n    'language_code': 'en'},\n   'chat': {'id': 1039725953,\n    'first_name': 'sudhanshu',\n    'username': 'Sudhanshu_883',\n    'type': 'private'},\n   'date': 1629277127,\n   'document': {'file_name': 'parameters.csv',\n    'mime_type': 'text/csv',\n    'file_id': 'BQACAgUAAxkBAAL8DWEcy8fzd3EF83mRKGuCX41fjr94AAL2AwACrgTpVC11wIC8lIgMIAQ',\n    'file_unique_id': 'AgAD9gMAAq4E6VQ',\n    'file_size': 312}}},\n {'update_id': 104467737,\n  'message': {'message_id': 64533,\n   'from': {'id': 1851811921,\n    'is_bot': False,\n    'first_name': 'Radu',\n    'last_name': 'Neagos',\n    'language_code': 'en'},\n   'chat': {'id': 1851811921,\n    'first_name': 'Radu',\n    'last_name': 'Neagos',\n    'type': 'private'},\n   'date': 1629277417,\n   'text': '/start',\n   'entities': [{'offset': 0, 'length': 6, 'type': 'bot_command'}]}},\n {'update_id': 104467738,\n  'message': {'message_id': 64534,\n   'from': {'id': 1851811921,\n    'is_bot': False,\n    'first_name': 'Radu',\n    'last_name': 'Neagos',\n    'language_code': 'en'},\n   'chat': {'id': 1851811921,\n    'first_name': 'Radu',\n    'last_name': 'Neagos',\n    'type': 'private'},\n   'date': 1629277420,\n   'text': 'hy'}}]"
     },
     "execution_count": 2,
     "metadata": {},
     "output_type": "execute_result"
    }
   ],
   "source": [
    "response"
   ]
  },
  {
   "cell_type": "code",
   "execution_count": null,
   "metadata": {},
   "outputs": [],
   "source": []
  }
 ],
 "metadata": {
  "language_info": {
   "name": "python",
   "nbconvert_exporter": "python"
  },
  "orig_nbformat": 2
 },
 "nbformat": 4,
 "nbformat_minor": 2
}