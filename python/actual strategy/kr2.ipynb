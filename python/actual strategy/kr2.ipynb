{
 "metadata": {
  "language_info": {
   "codemirror_mode": {
    "name": "ipython",
    "version": 3
   },
   "file_extension": ".py",
   "mimetype": "text/x-python",
   "name": "python",
   "nbconvert_exporter": "python",
   "pygments_lexer": "ipython3",
   "version": "3.9.5"
  },
  "orig_nbformat": 2,
  "kernelspec": {
   "name": "python395jvsc74a57bd0aee8b7b246df8f9039afb4144a1f6fd8d2ca17a180786b69acc140d282b71a49",
   "display_name": "Python 3.9.5 64-bit"
  },
  "metadata": {
   "interpreter": {
    "hash": "aee8b7b246df8f9039afb4144a1f6fd8d2ca17a180786b69acc140d282b71a49"
   }
  }
 },
 "nbformat": 4,
 "nbformat_minor": 2,
 "cells": [
  {
   "cell_type": "code",
   "execution_count": 1,
   "metadata": {},
   "outputs": [],
   "source": [
    "import oandapyV20\n",
    "import oandapyV20.endpoints.instruments as instruments\n",
    "import oandapyV20.endpoints.orders as orders\n",
    "import oandapyV20.endpoints.trades as trades\n",
    "import pandas as pd\n",
    "import matplotlib.pyplot as plt\n",
    "import time"
   ]
  },
  {
   "cell_type": "code",
   "execution_count": 2,
   "metadata": {},
   "outputs": [],
   "source": [
    "client = oandapyV20.API(access_token=\"5feaa802c52be3e714d4bd74bc1a9169-8cbadb5f1a922e05aad7d56841b3f44a\",environment=\"practice\")\n",
    "account_id = \"101-002-19512089-001\""
   ]
  },
  {
   "cell_type": "code",
   "execution_count": 3,
   "metadata": {},
   "outputs": [],
   "source": [
    "tickers=[\"EUR_USD\",\"AUD_USD\",\"GBP_USD\",\"USD_JPY\",\"EUR_JPY\"]"
   ]
  },
  {
   "cell_type": "code",
   "execution_count": 4,
   "metadata": {},
   "outputs": [],
   "source": [
    "def market_order(instrument,investment,risk):\n",
    "        account_id = \"101-002-19512089-001\"\n",
    "\n",
    "        params = {\"instruments\": instrument}\n",
    "        price=pricing.PricingInfo(accountID=account_id,params=params)\n",
    "        price=int(client.request(price)[\"prices\"][0][\"closeoutBid\"])\n",
    "        units=round(investment/price,0)\n",
    "        sl=1\n",
    "\n",
    "        data = {\n",
    "                \"order\": {\n",
    "                \"price\": \"\",\n",
    "                \"stopLossOnFill\": {\n",
    "                \"trailingStopLossOnFill\": \"GTC\",\n",
    "                \"distance\": str(sl)\n",
    "                                },\n",
    "                \"timeInForce\": \"FOK\",\n",
    "                \"instrument\": str(instrument),\n",
    "                \"units\": str(units),\n",
    "                \"type\": \"MARKET\",\n",
    "                \"positionFill\": \"DEFAULT\"\n",
    "                        }\n",
    "                }\n",
    "        r = orders.OrderCreate(accountID=account_id, data=data)\n",
    "        client.request(r)\n",
    "        print(\"order filled for \",instrument)"
   ]
  },
  {
   "cell_type": "code",
   "execution_count": 12,
   "metadata": {},
   "outputs": [],
   "source": [
    "def long_short(instrument):\n",
    "    account_id = \"101-002-19512089-001\"\n",
    "    r=trades.OpenTrades(accountID=account_id)\n",
    "    r.response()\n"
   ]
  },
  {
   "cell_type": "code",
   "execution_count": 6,
   "metadata": {},
   "outputs": [],
   "source": [
    "r=trades.OpenTrades(accountID=account_id)"
   ]
  },
  {
   "cell_type": "code",
   "execution_count": 7,
   "metadata": {},
   "outputs": [],
   "source": [
    "open_trades=client.request(r)"
   ]
  },
  {
   "cell_type": "code",
   "execution_count": 14,
   "metadata": {},
   "outputs": [
    {
     "output_type": "error",
     "ename": "TypeError",
     "evalue": "'dict' object is not callable",
     "traceback": [
      "\u001b[0;31m---------------------------------------------------------------------------\u001b[0m",
      "\u001b[0;31mTypeError\u001b[0m                                 Traceback (most recent call last)",
      "\u001b[0;32m<ipython-input-14-976eb7a74594>\u001b[0m in \u001b[0;36m<module>\u001b[0;34m\u001b[0m\n\u001b[0;32m----> 1\u001b[0;31m \u001b[0mr\u001b[0m\u001b[0;34m.\u001b[0m\u001b[0mresponse\u001b[0m\u001b[0;34m(\u001b[0m\u001b[0mopen_trades\u001b[0m\u001b[0;34m)\u001b[0m\u001b[0;34m\u001b[0m\u001b[0;34m\u001b[0m\u001b[0m\n\u001b[0m",
      "\u001b[0;31mTypeError\u001b[0m: 'dict' object is not callable"
     ]
    }
   ],
   "source": []
  },
  {
   "cell_type": "code",
   "execution_count": 16,
   "metadata": {},
   "outputs": [],
   "source": [
    "r = trades.OpenTrades(accountID=account_id)\n"
   ]
  },
  {
   "cell_type": "code",
   "execution_count": 18,
   "metadata": {},
   "outputs": [],
   "source": [
    "open_trades=client.request(r)[\"trades\"]"
   ]
  },
  {
   "cell_type": "code",
   "execution_count": 22,
   "metadata": {},
   "outputs": [
    {
     "output_type": "execute_result",
     "data": {
      "text/plain": [
       "'EUR_JPY'"
      ]
     },
     "metadata": {},
     "execution_count": 22
    }
   ],
   "source": [
    "open_trades[\"trades\"][0][\"instrument\"]"
   ]
  },
  {
   "cell_type": "code",
   "execution_count": null,
   "metadata": {},
   "outputs": [],
   "source": []
  }
 ]
}