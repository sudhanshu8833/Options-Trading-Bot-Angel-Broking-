{
 "cells": [
  {
   "cell_type": "code",
   "execution_count": 1,
   "metadata": {},
   "outputs": [],
   "source": [
    "import oandapyV20\n",
    "import oandapyV20.endpoints.instruments as instruments\n",
    "import oandapyV20.endpoints.orders as orders\n",
    "import oandapyV20.endpoints.trades as trades\n",
    "import pandas as pd\n",
    "import matplotlib.pyplot as plt\n",
    "import time"
   ]
  },
  {
   "cell_type": "code",
   "execution_count": 2,
   "metadata": {},
   "outputs": [],
   "source": [
    "tickers=[\"CAD_JPY\",\"CHF_HKD\",\"CHF_ZAR\",\"EUR_GBP\"]"
   ]
  },
  {
   "cell_type": "code",
   "execution_count": 3,
   "metadata": {},
   "outputs": [],
   "source": [
    "client = oandapyV20.API(access_token=\"5feaa802c52be3e714d4bd74bc1a9169-8cbadb5f1a922e05aad7d56841b3f44a\",environment=\"practice\")\n",
    "account_id = \"101-002-19512089-001\""
   ]
  },
  {
   "cell_type": "code",
   "execution_count": 4,
   "metadata": {},
   "outputs": [],
   "source": [
    "tickers=[\"CAD_JPY\",\"CHF_HKD\",\"CHF_ZAR\",\"EUR_GBP\"]\n",
    "pos_size=2000\n",
    "\n"
   ]
  },
  {
   "cell_type": "code",
   "execution_count": 5,
   "metadata": {},
   "outputs": [
    {
     "output_type": "error",
     "ename": "SyntaxError",
     "evalue": "invalid syntax (<ipython-input-5-c3c59862d9b8>, line 5)",
     "traceback": [
      "\u001b[0;36m  File \u001b[0;32m\"<ipython-input-5-c3c59862d9b8>\"\u001b[0;36m, line \u001b[0;32m5\u001b[0m\n\u001b[0;31m    print(\"doing it at \"time.strtime(\"%Y-%m-%d %H:%M:%S\",time.localtime(time.time())))\u001b[0m\n\u001b[0m                        ^\u001b[0m\n\u001b[0;31mSyntaxError\u001b[0m\u001b[0;31m:\u001b[0m invalid syntax\n"
     ]
    }
   ],
   "source": [
    "start_time=time.time()\n",
    "timeout=time.time()+60*60*1\n",
    "while time.time()<=timeout:\n",
    "    try:\n",
    "        print(\"doing it at \"time.strtime(\"%Y-%m-%d %H:%M:%S\",time.localtime(time.time())))\n",
    "        main()\n",
    "        time.sleep()\n",
    "\n",
    "    except KeyboardInterrupt:\n",
    "        print(\"exiting program due to keyboard interuption\") \n"
   ]
  },
  {
   "cell_type": "code",
   "execution_count": null,
   "metadata": {},
   "outputs": [],
   "source": [
    "def main():\n",
    "    r = trades.OpenTrades(accountID=account_id)\n",
    "    open_trades = client.request(r)['trades']\n",
    "    for i in range(len(open_trades)):\n",
    "        if open_trades[i][\"\"]\n"
   ]
  },
  {
   "cell_type": "code",
   "execution_count": 6,
   "metadata": {},
   "outputs": [],
   "source": [
    "def candles(instrument):\n",
    "    params = {\"count\": 50,\"granularity\": \"M1\"} #granularity can be in seconds S5 - S30, minutes M1 - M30, hours H1 - H12, days D, weeks W or months M\n",
    "    candles = instruments.InstrumentsCandles(instrument=instrument,params=params)\n",
    "    client.request(candles)\n",
    "    ohlc_dict = candles.response[\"candles\"]\n",
    "    ohlc = pd.DataFrame(ohlc_dict)\n",
    "    ohlc_df = ohlc.mid.dropna().apply(pd.Series)\n",
    "    ohlc_df[\"volume\"] = ohlc[\"volume\"]\n",
    "    ohlc_df.index = ohlc[\"time\"]\n",
    "    ohlc_df = ohlc_df.apply(pd.to_numeric)\n",
    "    return ohlc_df"
   ]
  },
  {
   "cell_type": "code",
   "execution_count": null,
   "metadata": {},
   "outputs": [],
   "source": [
    "def trade_signals(df,l_s):\n",
    "    df[\"open-close\"]=abs(df[\"Open\"]-df[\"Close\"])\n",
    "    \n",
    "\n",
    "    if l_s=\"\":\n",
    "        if df[\"Volume\"].tolist()[-1]>1.5*df[\"Volume\"].rolling(20).max() and df[\"Open\"][-1]<df[\"Close\"][-1] and df[\"open-close\"][-1]>df[\"open-close\"].rolling(20).avg():\n",
    "            signal=\"buy\"\n",
    "\n",
    "        elif df[\"Volume\"].tolist()[-1]>1.5*df[\"Volume\"].rolling(20).max() and df[\"Open\"][-1]>df[\"Close\"][-1] and df[\"open-close\"][-1]>df[\"open-close\"].rolling(20).avg():\n",
    "            signal=\"sell\"\n",
    "\n",
    "    elif l_s=\"long\":\n",
    "        if df[\"Close\"][-1]<df[\"\"]"
   ]
  }
 ],
 "metadata": {
  "kernelspec": {
   "name": "python395jvsc74a57bd0aee8b7b246df8f9039afb4144a1f6fd8d2ca17a180786b69acc140d282b71a49",
   "display_name": "Python 3.9.5 64-bit"
  },
  "language_info": {
   "codemirror_mode": {
    "name": "ipython",
    "version": 3
   },
   "file_extension": ".py",
   "mimetype": "text/x-python",
   "name": "python",
   "nbconvert_exporter": "python",
   "pygments_lexer": "ipython3",
   "version": "3.9.5"
  },
  "metadata": {
   "interpreter": {
    "hash": "aee8b7b246df8f9039afb4144a1f6fd8d2ca17a180786b69acc140d282b71a49"
   }
  }
 },
 "nbformat": 4,
 "nbformat_minor": 5
}