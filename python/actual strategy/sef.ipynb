{
 "metadata": {
  "language_info": {
   "codemirror_mode": {
    "name": "ipython",
    "version": 3
   },
   "file_extension": ".py",
   "mimetype": "text/x-python",
   "name": "python",
   "nbconvert_exporter": "python",
   "pygments_lexer": "ipython3",
   "version": "3.9.5"
  },
  "orig_nbformat": 2,
  "kernelspec": {
   "name": "python395jvsc74a57bd0aee8b7b246df8f9039afb4144a1f6fd8d2ca17a180786b69acc140d282b71a49",
   "display_name": "Python 3.9.5 64-bit"
  },
  "metadata": {
   "interpreter": {
    "hash": "aee8b7b246df8f9039afb4144a1f6fd8d2ca17a180786b69acc140d282b71a49"
   }
  }
 },
 "nbformat": 4,
 "nbformat_minor": 2,
 "cells": [
  {
   "cell_type": "code",
   "execution_count": 4,
   "metadata": {},
   "outputs": [],
   "source": [
    "import oandapyV20\n",
    "import oandapyV20.endpoints.instruments as instruments\n",
    "import oandapyV20.endpoints.pricing as pricing\n",
    "import oandapyV20.endpoints.accounts as accounts\n",
    "import oandapyV20.endpoints.orders as orders\n",
    "import oandapyV20.endpoints.trades as trades\n",
    "import pandas as pd"
   ]
  },
  {
   "cell_type": "code",
   "execution_count": 5,
   "metadata": {},
   "outputs": [],
   "source": [
    "client = oandapyV20.API(access_token=\"5feaa802c52be3e714d4bd74bc1a9169-8cbadb5f1a922e05aad7d56841b3f44a\",environment=\"practice\")\n",
    "account_id = \"101-002-19512089-001\""
   ]
  },
  {
   "cell_type": "code",
   "execution_count": 7,
   "metadata": {},
   "outputs": [
    {
     "output_type": "execute_result",
     "data": {
      "text/plain": [
       "'109.312'"
      ]
     },
     "metadata": {},
     "execution_count": 7
    }
   ],
   "source": []
  },
  {
   "cell_type": "code",
   "execution_count": 6,
   "metadata": {},
   "outputs": [],
   "source": [
    "def market_order(instrument,investment,risk):\n",
    "    \"\"\"units can be positive or negative, stop loss (in pips) added/subtracted to price \"\"\"  \n",
    "    account_id = \"101-002-19512089-001\"\n",
    "\n",
    "    params = {\"instruments\": instrument}\n",
    "    price=pricing.PricingInfo(accountID=account_id,params=params)\n",
    "    price=float(client.request(price)[\"prices\"][0][\"closeoutBid\"])\n",
    "    units=round(investment/price,0)\n",
    "    sl=round(risk/units,3)\n",
    "\n",
    "    data = {\n",
    "            \"order\": {\n",
    "            \"price\": \"\",\n",
    "            \"stopLossOnFill\": {\n",
    "            \"trailingStopLossOnFill\": \"GTC\",\n",
    "            \"distance\": str(sl)\n",
    "                              },\n",
    "            \"timeInForce\": \"FOK\",\n",
    "            \"instrument\": str(instrument),\n",
    "            \"units\": str(units),\n",
    "            \"type\": \"MARKET\",\n",
    "            \"positionFill\": \"DEFAULT\"\n",
    "                    }\n",
    "            }\n",
    "    r = orders.OrderCreate(accountID=account_id, data=data)\n",
    "    client.request(r)\n",
    "    print(\"order filled for \",instrument)"
   ]
  },
  {
   "cell_type": "code",
   "execution_count": 7,
   "metadata": {},
   "outputs": [
    {
     "output_type": "stream",
     "name": "stdout",
     "text": [
      "order filled for  EUR_JPY\n"
     ]
    }
   ],
   "source": [
    "market_order(\"EUR_JPY\",5000,100)"
   ]
  },
  {
   "cell_type": "code",
   "execution_count": null,
   "metadata": {},
   "outputs": [],
   "source": []
  }
 ]
}