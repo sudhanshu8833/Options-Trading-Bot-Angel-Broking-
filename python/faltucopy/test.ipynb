{
 "cells": [
  {
   "cell_type": "code",
   "execution_count": 5,
   "metadata": {},
   "outputs": [
    {
     "name": "stdout",
     "output_type": "stream",
     "text": [
      " 15:07:48 | Logged in!!\n"
     ]
    }
   ],
   "source": [
    "import pandas as pd\n",
    "import time\n",
    "import yfinance as yf\n",
    "from finta import TA\n",
    "import numpy as np\n",
    "import pandas as pd\n",
    "import datetime as dt\n",
    "import copy\n",
    "import json\n",
    "from py5paisa import FivePaisaClient\n",
    "import datetime as dt\n",
    "\n",
    "client = FivePaisaClient(email=\"sudhanshu8833@gmail.com\", passwd=\"Madhya246###\", dob=\"20010626\")\n",
    "client.login()\n"
   ]
  },
  {
   "cell_type": "code",
   "execution_count": 14,
   "metadata": {},
   "outputs": [
    {
     "name": "stdout",
     "output_type": "stream",
     "text": [
      "[*********************100%***********************]  1 of 1 completed\n"
     ]
    }
   ],
   "source": [
    "df=yf.download('GSFC.NS',dt.datetime.today()-dt.timedelta(20),dt.datetime.today(),interval='15m')"
   ]
  },
  {
   "cell_type": "code",
   "execution_count": 15,
   "metadata": {},
   "outputs": [
    {
     "data": {
      "text/html": "<div>\n<style scoped>\n    .dataframe tbody tr th:only-of-type {\n        vertical-align: middle;\n    }\n\n    .dataframe tbody tr th {\n        vertical-align: top;\n    }\n\n    .dataframe thead th {\n        text-align: right;\n    }\n</style>\n<table border=\"1\" class=\"dataframe\">\n  <thead>\n    <tr style=\"text-align: right;\">\n      <th></th>\n      <th>Open</th>\n      <th>High</th>\n      <th>Low</th>\n      <th>Close</th>\n      <th>Adj Close</th>\n      <th>Volume</th>\n    </tr>\n    <tr>\n      <th>Datetime</th>\n      <th></th>\n      <th></th>\n      <th></th>\n      <th></th>\n      <th></th>\n      <th></th>\n    </tr>\n  </thead>\n  <tbody>\n    <tr>\n      <th>2021-06-11 15:00:00+05:30</th>\n      <td>116.699997</td>\n      <td>116.900002</td>\n      <td>116.699997</td>\n      <td>116.900002</td>\n      <td>116.900002</td>\n      <td>0</td>\n    </tr>\n    <tr>\n      <th>2021-06-11 15:15:00+05:30</th>\n      <td>116.849998</td>\n      <td>116.900002</td>\n      <td>116.550003</td>\n      <td>116.650002</td>\n      <td>116.650002</td>\n      <td>284522</td>\n    </tr>\n    <tr>\n      <th>2021-06-14 09:15:00+05:30</th>\n      <td>116.849998</td>\n      <td>117.000000</td>\n      <td>113.800003</td>\n      <td>113.949997</td>\n      <td>113.949997</td>\n      <td>115239</td>\n    </tr>\n    <tr>\n      <th>2021-06-14 09:30:00+05:30</th>\n      <td>114.000000</td>\n      <td>115.349998</td>\n      <td>113.250000</td>\n      <td>115.099998</td>\n      <td>115.099998</td>\n      <td>154022</td>\n    </tr>\n    <tr>\n      <th>2021-06-14 09:45:00+05:30</th>\n      <td>114.949997</td>\n      <td>115.500000</td>\n      <td>114.550003</td>\n      <td>115.500000</td>\n      <td>115.500000</td>\n      <td>98525</td>\n    </tr>\n    <tr>\n      <th>...</th>\n      <td>...</td>\n      <td>...</td>\n      <td>...</td>\n      <td>...</td>\n      <td>...</td>\n      <td>...</td>\n    </tr>\n    <tr>\n      <th>2021-07-01 14:15:00+05:30</th>\n      <td>116.000000</td>\n      <td>116.199997</td>\n      <td>116.000000</td>\n      <td>116.099998</td>\n      <td>116.099998</td>\n      <td>13154</td>\n    </tr>\n    <tr>\n      <th>2021-07-01 14:30:00+05:30</th>\n      <td>116.150002</td>\n      <td>116.150002</td>\n      <td>115.800003</td>\n      <td>115.949997</td>\n      <td>115.949997</td>\n      <td>21678</td>\n    </tr>\n    <tr>\n      <th>2021-07-01 14:45:00+05:30</th>\n      <td>115.900002</td>\n      <td>116.550003</td>\n      <td>115.800003</td>\n      <td>116.300003</td>\n      <td>116.300003</td>\n      <td>58952</td>\n    </tr>\n    <tr>\n      <th>2021-07-01 15:00:00+05:30</th>\n      <td>116.599998</td>\n      <td>116.949997</td>\n      <td>116.500000</td>\n      <td>116.750000</td>\n      <td>116.750000</td>\n      <td>105140</td>\n    </tr>\n    <tr>\n      <th>2021-07-01 15:11:55+05:30</th>\n      <td>116.849998</td>\n      <td>116.849998</td>\n      <td>116.849998</td>\n      <td>116.849998</td>\n      <td>116.849998</td>\n      <td>0</td>\n    </tr>\n  </tbody>\n</table>\n<p>352 rows × 6 columns</p>\n</div>",
      "text/plain": "                                 Open        High         Low       Close  \\\nDatetime                                                                    \n2021-06-11 15:00:00+05:30  116.699997  116.900002  116.699997  116.900002   \n2021-06-11 15:15:00+05:30  116.849998  116.900002  116.550003  116.650002   \n2021-06-14 09:15:00+05:30  116.849998  117.000000  113.800003  113.949997   \n2021-06-14 09:30:00+05:30  114.000000  115.349998  113.250000  115.099998   \n2021-06-14 09:45:00+05:30  114.949997  115.500000  114.550003  115.500000   \n...                               ...         ...         ...         ...   \n2021-07-01 14:15:00+05:30  116.000000  116.199997  116.000000  116.099998   \n2021-07-01 14:30:00+05:30  116.150002  116.150002  115.800003  115.949997   \n2021-07-01 14:45:00+05:30  115.900002  116.550003  115.800003  116.300003   \n2021-07-01 15:00:00+05:30  116.599998  116.949997  116.500000  116.750000   \n2021-07-01 15:11:55+05:30  116.849998  116.849998  116.849998  116.849998   \n\n                            Adj Close  Volume  \nDatetime                                       \n2021-06-11 15:00:00+05:30  116.900002       0  \n2021-06-11 15:15:00+05:30  116.650002  284522  \n2021-06-14 09:15:00+05:30  113.949997  115239  \n2021-06-14 09:30:00+05:30  115.099998  154022  \n2021-06-14 09:45:00+05:30  115.500000   98525  \n...                               ...     ...  \n2021-07-01 14:15:00+05:30  116.099998   13154  \n2021-07-01 14:30:00+05:30  115.949997   21678  \n2021-07-01 14:45:00+05:30  116.300003   58952  \n2021-07-01 15:00:00+05:30  116.750000  105140  \n2021-07-01 15:11:55+05:30  116.849998       0  \n\n[352 rows x 6 columns]"
     },
     "execution_count": 15,
     "metadata": {},
     "output_type": "execute_result"
    }
   ],
   "source": [
    "df"
   ]
  },
  {
   "cell_type": "code",
   "execution_count": 1,
   "metadata": {},
   "outputs": [],
   "source": [
    "var='high'\n",
    "\n",
    "var2=var+'hello'"
   ]
  },
  {
   "cell_type": "code",
   "execution_count": 2,
   "metadata": {},
   "outputs": [
    {
     "data": {
      "text/plain": "'highhello'"
     },
     "execution_count": 2,
     "metadata": {},
     "output_type": "execute_result"
    }
   ],
   "source": [
    "var2"
   ]
  },
  {
   "cell_type": "code",
   "execution_count": null,
   "metadata": {},
   "outputs": [],
   "source": []
  }
 ],
 "metadata": {
  "kernelspec": {
   "display_name": "Python 3.9.5 64-bit",
   "name": "python395jvsc74a57bd0aee8b7b246df8f9039afb4144a1f6fd8d2ca17a180786b69acc140d282b71a49"
  },
  "language_info": {
   "codemirror_mode": {
    "name": "ipython",
    "version": 3
   },
   "file_extension": ".py",
   "mimetype": "text/x-python",
   "name": "python",
   "nbconvert_exporter": "python",
   "pygments_lexer": "ipython3",
   "version": "3.9.5"
  },
  "metadata": {
   "interpreter": {
    "hash": "aee8b7b246df8f9039afb4144a1f6fd8d2ca17a180786b69acc140d282b71a49"
   }
  },
  "orig_nbformat": 2
 },
 "nbformat": 4,
 "nbformat_minor": 2
}