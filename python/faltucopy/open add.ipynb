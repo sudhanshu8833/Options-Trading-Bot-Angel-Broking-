{
 "cells": [
  {
   "cell_type": "code",
   "execution_count": 1,
   "metadata": {},
   "outputs": [
    {
     "name": "stdout",
     "output_type": "stream",
     "text": [
      " 18:06:50 | Logged in!!\n"
     ]
    }
   ],
   "source": [
    "import pandas as pd\n",
    "import time\n",
    "from finta import TA\n",
    "import numpy as np\n",
    "import pandas as pd\n",
    "import datetime as dt\n",
    "import copy\n",
    "import json\n",
    "from py5paisa import FivePaisaClient\n",
    "\n",
    "client = FivePaisaClient(email=\"sudhanshu8833@gmail.com\", passwd=\"Madhya246###\", dob=\"20010626\")\n",
    "client.login()\n"
   ]
  },
  {
   "cell_type": "code",
   "execution_count": 2,
   "metadata": {},
   "outputs": [],
   "source": [
    "def candle(instrument):\n",
    "    df=client.historical_data('N','C',instrument,'1d','2021-06-20','2021-07-26')\n",
    "    return df"
   ]
  },
  {
   "cell_type": "code",
   "execution_count": 4,
   "metadata": {},
   "outputs": [],
   "source": [
    "df=pd.read_csv(r'opg.csv')"
   ]
  },
  {
   "cell_type": "code",
   "execution_count": 5,
   "metadata": {},
   "outputs": [
    {
     "data": {
      "text/html": "<div>\n<style scoped>\n    .dataframe tbody tr th:only-of-type {\n        vertical-align: middle;\n    }\n\n    .dataframe tbody tr th {\n        vertical-align: top;\n    }\n\n    .dataframe thead th {\n        text-align: right;\n    }\n</style>\n<table border=\"1\" class=\"dataframe\">\n  <thead>\n    <tr style=\"text-align: right;\">\n      <th></th>\n      <th>Unnamed: 0</th>\n      <th>price_in</th>\n      <th>time_in</th>\n      <th>type</th>\n      <th>price_out</th>\n      <th>time_out</th>\n      <th>stocks</th>\n      <th>open</th>\n      <th>profit</th>\n    </tr>\n  </thead>\n  <tbody>\n    <tr>\n      <th>0</th>\n      <td>477</td>\n      <td>108.95</td>\n      <td>2021-07-01 03:45:04</td>\n      <td>long</td>\n      <td>115.00</td>\n      <td>2021-07-01 03:45:38</td>\n      <td>477</td>\n      <td>116.05</td>\n      <td>5.553006</td>\n    </tr>\n    <tr>\n      <th>1</th>\n      <td>9683</td>\n      <td>265.60</td>\n      <td>2021-07-01 03:45:12</td>\n      <td>short</td>\n      <td>270.40</td>\n      <td>2021-07-01 04:13:45</td>\n      <td>9683</td>\n      <td>252.50</td>\n      <td>-1.775148</td>\n    </tr>\n    <tr>\n      <th>2</th>\n      <td>11155</td>\n      <td>186.95</td>\n      <td>2021-07-01 03:45:12</td>\n      <td>short</td>\n      <td>186.95</td>\n      <td>2021-07-01 05:45:03</td>\n      <td>11155</td>\n      <td>178.05</td>\n      <td>0.000000</td>\n    </tr>\n    <tr>\n      <th>3</th>\n      <td>11860</td>\n      <td>218.60</td>\n      <td>2021-07-01 03:45:14</td>\n      <td>short</td>\n      <td>224.40</td>\n      <td>2021-07-01 03:51:51</td>\n      <td>11860</td>\n      <td>203.20</td>\n      <td>-2.584670</td>\n    </tr>\n    <tr>\n      <th>4</th>\n      <td>12489</td>\n      <td>280.65</td>\n      <td>2021-07-01 03:45:14</td>\n      <td>short</td>\n      <td>273.70</td>\n      <td>2021-07-01 03:58:06</td>\n      <td>12489</td>\n      <td>270.35</td>\n      <td>2.539277</td>\n    </tr>\n    <tr>\n      <th>5</th>\n      <td>14134</td>\n      <td>142.10</td>\n      <td>2021-07-01 03:45:15</td>\n      <td>short</td>\n      <td>139.60</td>\n      <td>2021-07-01 03:48:00</td>\n      <td>14134</td>\n      <td>138.20</td>\n      <td>1.790831</td>\n    </tr>\n    <tr>\n      <th>6</th>\n      <td>14296</td>\n      <td>293.70</td>\n      <td>2021-07-01 03:45:15</td>\n      <td>long</td>\n      <td>292.30</td>\n      <td>2021-07-01 05:45:03</td>\n      <td>14296</td>\n      <td>312.60</td>\n      <td>-0.476677</td>\n    </tr>\n    <tr>\n      <th>7</th>\n      <td>14435</td>\n      <td>140.35</td>\n      <td>2021-07-01 03:45:16</td>\n      <td>short</td>\n      <td>140.10</td>\n      <td>2021-07-01 05:45:03</td>\n      <td>14435</td>\n      <td>137.00</td>\n      <td>0.178444</td>\n    </tr>\n    <tr>\n      <th>8</th>\n      <td>14582</td>\n      <td>348.95</td>\n      <td>2021-07-01 03:45:16</td>\n      <td>long</td>\n      <td>337.35</td>\n      <td>2021-07-01 03:46:25</td>\n      <td>14582</td>\n      <td>365.40</td>\n      <td>-3.324258</td>\n    </tr>\n    <tr>\n      <th>9</th>\n      <td>17641</td>\n      <td>302.35</td>\n      <td>2021-07-01 03:45:17</td>\n      <td>short</td>\n      <td>299.70</td>\n      <td>2021-07-01 05:45:03</td>\n      <td>17641</td>\n      <td>297.00</td>\n      <td>0.884218</td>\n    </tr>\n    <tr>\n      <th>10</th>\n      <td>25584</td>\n      <td>126.25</td>\n      <td>2021-07-01 03:45:19</td>\n      <td>short</td>\n      <td>123.85</td>\n      <td>2021-07-01 05:36:45</td>\n      <td>25584</td>\n      <td>125.75</td>\n      <td>1.937828</td>\n    </tr>\n    <tr>\n      <th>11</th>\n      <td>17424</td>\n      <td>698.00</td>\n      <td>2021-07-01 03:45:20</td>\n      <td>short</td>\n      <td>680.10</td>\n      <td>2021-07-01 03:48:02</td>\n      <td>17424</td>\n      <td>605.70</td>\n      <td>2.631966</td>\n    </tr>\n    <tr>\n      <th>12</th>\n      <td>48</td>\n      <td>1039.15</td>\n      <td>2021-07-01 03:45:20</td>\n      <td>short</td>\n      <td>1059.00</td>\n      <td>2021-07-01 05:45:03</td>\n      <td>48</td>\n      <td>995.90</td>\n      <td>-1.874410</td>\n    </tr>\n  </tbody>\n</table>\n</div>",
      "text/plain": "    Unnamed: 0  price_in              time_in   type  price_out  \\\n0          477    108.95  2021-07-01 03:45:04   long     115.00   \n1         9683    265.60  2021-07-01 03:45:12  short     270.40   \n2        11155    186.95  2021-07-01 03:45:12  short     186.95   \n3        11860    218.60  2021-07-01 03:45:14  short     224.40   \n4        12489    280.65  2021-07-01 03:45:14  short     273.70   \n5        14134    142.10  2021-07-01 03:45:15  short     139.60   \n6        14296    293.70  2021-07-01 03:45:15   long     292.30   \n7        14435    140.35  2021-07-01 03:45:16  short     140.10   \n8        14582    348.95  2021-07-01 03:45:16   long     337.35   \n9        17641    302.35  2021-07-01 03:45:17  short     299.70   \n10       25584    126.25  2021-07-01 03:45:19  short     123.85   \n11       17424    698.00  2021-07-01 03:45:20  short     680.10   \n12          48   1039.15  2021-07-01 03:45:20  short    1059.00   \n\n               time_out  stocks    open    profit  \n0   2021-07-01 03:45:38     477  116.05  5.553006  \n1   2021-07-01 04:13:45    9683  252.50 -1.775148  \n2   2021-07-01 05:45:03   11155  178.05  0.000000  \n3   2021-07-01 03:51:51   11860  203.20 -2.584670  \n4   2021-07-01 03:58:06   12489  270.35  2.539277  \n5   2021-07-01 03:48:00   14134  138.20  1.790831  \n6   2021-07-01 05:45:03   14296  312.60 -0.476677  \n7   2021-07-01 05:45:03   14435  137.00  0.178444  \n8   2021-07-01 03:46:25   14582  365.40 -3.324258  \n9   2021-07-01 05:45:03   17641  297.00  0.884218  \n10  2021-07-01 05:36:45   25584  125.75  1.937828  \n11  2021-07-01 03:48:02   17424  605.70  2.631966  \n12  2021-07-01 05:45:03      48  995.90 -1.874410  "
     },
     "execution_count": 5,
     "metadata": {},
     "output_type": "execute_result"
    }
   ],
   "source": [
    "df"
   ]
  },
  {
   "cell_type": "code",
   "execution_count": 6,
   "metadata": {},
   "outputs": [],
   "source": [
    "OPEN=[]\n",
    "for i in range(len(df)):\n",
    "    ohlc_dict=candle(int(df['stocks'][i]))['Open'].iloc[-1]\n",
    "    OPEN.append(ohlc_dict)"
   ]
  },
  {
   "cell_type": "code",
   "execution_count": 7,
   "metadata": {},
   "outputs": [
    {
     "data": {
      "text/plain": "[106.65,\n 245.0,\n 136.7,\n 200.7,\n 246.8,\n 127.8,\n 265.0,\n 144.7,\n 341.65,\n 298.15,\n 118.3,\n 607.9,\n 930.0]"
     },
     "execution_count": 7,
     "metadata": {},
     "output_type": "execute_result"
    }
   ],
   "source": [
    "OPEN"
   ]
  },
  {
   "cell_type": "code",
   "execution_count": 8,
   "metadata": {},
   "outputs": [],
   "source": [
    "df['OPEN']=np.array(OPEN)"
   ]
  },
  {
   "cell_type": "code",
   "execution_count": 9,
   "metadata": {},
   "outputs": [
    {
     "data": {
      "text/html": "<div>\n<style scoped>\n    .dataframe tbody tr th:only-of-type {\n        vertical-align: middle;\n    }\n\n    .dataframe tbody tr th {\n        vertical-align: top;\n    }\n\n    .dataframe thead th {\n        text-align: right;\n    }\n</style>\n<table border=\"1\" class=\"dataframe\">\n  <thead>\n    <tr style=\"text-align: right;\">\n      <th></th>\n      <th>Unnamed: 0</th>\n      <th>price_in</th>\n      <th>time_in</th>\n      <th>type</th>\n      <th>price_out</th>\n      <th>time_out</th>\n      <th>stocks</th>\n      <th>open</th>\n      <th>profit</th>\n      <th>OPEN</th>\n    </tr>\n  </thead>\n  <tbody>\n    <tr>\n      <th>0</th>\n      <td>477</td>\n      <td>108.95</td>\n      <td>2021-07-01 03:45:04</td>\n      <td>long</td>\n      <td>115.00</td>\n      <td>2021-07-01 03:45:38</td>\n      <td>477</td>\n      <td>116.05</td>\n      <td>5.553006</td>\n      <td>106.65</td>\n    </tr>\n    <tr>\n      <th>1</th>\n      <td>9683</td>\n      <td>265.60</td>\n      <td>2021-07-01 03:45:12</td>\n      <td>short</td>\n      <td>270.40</td>\n      <td>2021-07-01 04:13:45</td>\n      <td>9683</td>\n      <td>252.50</td>\n      <td>-1.775148</td>\n      <td>245.00</td>\n    </tr>\n    <tr>\n      <th>2</th>\n      <td>11155</td>\n      <td>186.95</td>\n      <td>2021-07-01 03:45:12</td>\n      <td>short</td>\n      <td>186.95</td>\n      <td>2021-07-01 05:45:03</td>\n      <td>11155</td>\n      <td>178.05</td>\n      <td>0.000000</td>\n      <td>136.70</td>\n    </tr>\n    <tr>\n      <th>3</th>\n      <td>11860</td>\n      <td>218.60</td>\n      <td>2021-07-01 03:45:14</td>\n      <td>short</td>\n      <td>224.40</td>\n      <td>2021-07-01 03:51:51</td>\n      <td>11860</td>\n      <td>203.20</td>\n      <td>-2.584670</td>\n      <td>200.70</td>\n    </tr>\n    <tr>\n      <th>4</th>\n      <td>12489</td>\n      <td>280.65</td>\n      <td>2021-07-01 03:45:14</td>\n      <td>short</td>\n      <td>273.70</td>\n      <td>2021-07-01 03:58:06</td>\n      <td>12489</td>\n      <td>270.35</td>\n      <td>2.539277</td>\n      <td>246.80</td>\n    </tr>\n    <tr>\n      <th>5</th>\n      <td>14134</td>\n      <td>142.10</td>\n      <td>2021-07-01 03:45:15</td>\n      <td>short</td>\n      <td>139.60</td>\n      <td>2021-07-01 03:48:00</td>\n      <td>14134</td>\n      <td>138.20</td>\n      <td>1.790831</td>\n      <td>127.80</td>\n    </tr>\n    <tr>\n      <th>6</th>\n      <td>14296</td>\n      <td>293.70</td>\n      <td>2021-07-01 03:45:15</td>\n      <td>long</td>\n      <td>292.30</td>\n      <td>2021-07-01 05:45:03</td>\n      <td>14296</td>\n      <td>312.60</td>\n      <td>-0.476677</td>\n      <td>265.00</td>\n    </tr>\n    <tr>\n      <th>7</th>\n      <td>14435</td>\n      <td>140.35</td>\n      <td>2021-07-01 03:45:16</td>\n      <td>short</td>\n      <td>140.10</td>\n      <td>2021-07-01 05:45:03</td>\n      <td>14435</td>\n      <td>137.00</td>\n      <td>0.178444</td>\n      <td>144.70</td>\n    </tr>\n    <tr>\n      <th>8</th>\n      <td>14582</td>\n      <td>348.95</td>\n      <td>2021-07-01 03:45:16</td>\n      <td>long</td>\n      <td>337.35</td>\n      <td>2021-07-01 03:46:25</td>\n      <td>14582</td>\n      <td>365.40</td>\n      <td>-3.324258</td>\n      <td>341.65</td>\n    </tr>\n    <tr>\n      <th>9</th>\n      <td>17641</td>\n      <td>302.35</td>\n      <td>2021-07-01 03:45:17</td>\n      <td>short</td>\n      <td>299.70</td>\n      <td>2021-07-01 05:45:03</td>\n      <td>17641</td>\n      <td>297.00</td>\n      <td>0.884218</td>\n      <td>298.15</td>\n    </tr>\n    <tr>\n      <th>10</th>\n      <td>25584</td>\n      <td>126.25</td>\n      <td>2021-07-01 03:45:19</td>\n      <td>short</td>\n      <td>123.85</td>\n      <td>2021-07-01 05:36:45</td>\n      <td>25584</td>\n      <td>125.75</td>\n      <td>1.937828</td>\n      <td>118.30</td>\n    </tr>\n    <tr>\n      <th>11</th>\n      <td>17424</td>\n      <td>698.00</td>\n      <td>2021-07-01 03:45:20</td>\n      <td>short</td>\n      <td>680.10</td>\n      <td>2021-07-01 03:48:02</td>\n      <td>17424</td>\n      <td>605.70</td>\n      <td>2.631966</td>\n      <td>607.90</td>\n    </tr>\n    <tr>\n      <th>12</th>\n      <td>48</td>\n      <td>1039.15</td>\n      <td>2021-07-01 03:45:20</td>\n      <td>short</td>\n      <td>1059.00</td>\n      <td>2021-07-01 05:45:03</td>\n      <td>48</td>\n      <td>995.90</td>\n      <td>-1.874410</td>\n      <td>930.00</td>\n    </tr>\n  </tbody>\n</table>\n</div>",
      "text/plain": "    Unnamed: 0  price_in              time_in   type  price_out  \\\n0          477    108.95  2021-07-01 03:45:04   long     115.00   \n1         9683    265.60  2021-07-01 03:45:12  short     270.40   \n2        11155    186.95  2021-07-01 03:45:12  short     186.95   \n3        11860    218.60  2021-07-01 03:45:14  short     224.40   \n4        12489    280.65  2021-07-01 03:45:14  short     273.70   \n5        14134    142.10  2021-07-01 03:45:15  short     139.60   \n6        14296    293.70  2021-07-01 03:45:15   long     292.30   \n7        14435    140.35  2021-07-01 03:45:16  short     140.10   \n8        14582    348.95  2021-07-01 03:45:16   long     337.35   \n9        17641    302.35  2021-07-01 03:45:17  short     299.70   \n10       25584    126.25  2021-07-01 03:45:19  short     123.85   \n11       17424    698.00  2021-07-01 03:45:20  short     680.10   \n12          48   1039.15  2021-07-01 03:45:20  short    1059.00   \n\n               time_out  stocks    open    profit    OPEN  \n0   2021-07-01 03:45:38     477  116.05  5.553006  106.65  \n1   2021-07-01 04:13:45    9683  252.50 -1.775148  245.00  \n2   2021-07-01 05:45:03   11155  178.05  0.000000  136.70  \n3   2021-07-01 03:51:51   11860  203.20 -2.584670  200.70  \n4   2021-07-01 03:58:06   12489  270.35  2.539277  246.80  \n5   2021-07-01 03:48:00   14134  138.20  1.790831  127.80  \n6   2021-07-01 05:45:03   14296  312.60 -0.476677  265.00  \n7   2021-07-01 05:45:03   14435  137.00  0.178444  144.70  \n8   2021-07-01 03:46:25   14582  365.40 -3.324258  341.65  \n9   2021-07-01 05:45:03   17641  297.00  0.884218  298.15  \n10  2021-07-01 05:36:45   25584  125.75  1.937828  118.30  \n11  2021-07-01 03:48:02   17424  605.70  2.631966  607.90  \n12  2021-07-01 05:45:03      48  995.90 -1.874410  930.00  "
     },
     "execution_count": 9,
     "metadata": {},
     "output_type": "execute_result"
    }
   ],
   "source": [
    "df"
   ]
  },
  {
   "cell_type": "code",
   "execution_count": null,
   "metadata": {},
   "outputs": [],
   "source": []
  }
 ],
 "metadata": {
  "kernelspec": {
   "display_name": "Python 3.9.5 64-bit",
   "name": "python395jvsc74a57bd0aee8b7b246df8f9039afb4144a1f6fd8d2ca17a180786b69acc140d282b71a49"
  },
  "language_info": {
   "name": "python",
   "version": ""
  },
  "metadata": {
   "interpreter": {
    "hash": "aee8b7b246df8f9039afb4144a1f6fd8d2ca17a180786b69acc140d282b71a49"
   }
  },
  "orig_nbformat": 2
 },
 "nbformat": 4,
 "nbformat_minor": 2
}