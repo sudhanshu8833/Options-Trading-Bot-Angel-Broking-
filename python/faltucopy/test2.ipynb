{
 "cells": [
  {
   "cell_type": "code",
   "execution_count": 1,
   "metadata": {},
   "outputs": [
    {
     "name": "stdout",
     "output_type": "stream",
     "text": [
      " 08:52:50 | Logged in!!\n"
     ]
    }
   ],
   "source": [
    "# %%\n",
    "import pandas as pd\n",
    "import time\n",
    "from finta import TA\n",
    "import numpy as np\n",
    "import pandas as pd\n",
    "import datetime as dt\n",
    "import copy\n",
    "import json\n",
    "from py5paisa import FivePaisaClient\n",
    "\n",
    "client = FivePaisaClient(email=\"sudhanshu8833@gmail.com\", passwd=\"Madhya246###\", dob=\"20010626\")\n",
    "client.login()\n"
   ]
  },
  {
   "cell_type": "code",
   "execution_count": 4,
   "metadata": {},
   "outputs": [],
   "source": [
    "df=client.historical_data('N','C','7','1d','2021-06-20','2021-07-26')\n"
   ]
  },
  {
   "cell_type": "code",
   "execution_count": 5,
   "metadata": {},
   "outputs": [
    {
     "data": {
      "text/html": "<div>\n<style scoped>\n    .dataframe tbody tr th:only-of-type {\n        vertical-align: middle;\n    }\n\n    .dataframe tbody tr th {\n        vertical-align: top;\n    }\n\n    .dataframe thead th {\n        text-align: right;\n    }\n</style>\n<table border=\"1\" class=\"dataframe\">\n  <thead>\n    <tr style=\"text-align: right;\">\n      <th></th>\n      <th>Datetime</th>\n      <th>Open</th>\n      <th>High</th>\n      <th>Low</th>\n      <th>Close</th>\n      <th>Volume</th>\n    </tr>\n  </thead>\n  <tbody>\n    <tr>\n      <th>0</th>\n      <td>2021-06-21T09:15:00</td>\n      <td>1765.05</td>\n      <td>1812.50</td>\n      <td>1750.00</td>\n      <td>1775.10</td>\n      <td>954197</td>\n    </tr>\n    <tr>\n      <th>1</th>\n      <td>2021-06-22T09:15:00</td>\n      <td>908.90</td>\n      <td>909.00</td>\n      <td>873.20</td>\n      <td>880.00</td>\n      <td>1832605</td>\n    </tr>\n    <tr>\n      <th>2</th>\n      <td>2021-06-23T09:15:00</td>\n      <td>882.55</td>\n      <td>886.60</td>\n      <td>861.65</td>\n      <td>866.00</td>\n      <td>837207</td>\n    </tr>\n    <tr>\n      <th>3</th>\n      <td>2021-06-24T09:15:00</td>\n      <td>864.40</td>\n      <td>875.95</td>\n      <td>855.35</td>\n      <td>871.75</td>\n      <td>1032584</td>\n    </tr>\n    <tr>\n      <th>4</th>\n      <td>2021-06-25T09:15:00</td>\n      <td>874.05</td>\n      <td>875.00</td>\n      <td>845.05</td>\n      <td>862.10</td>\n      <td>1388804</td>\n    </tr>\n    <tr>\n      <th>5</th>\n      <td>2021-06-28T09:15:00</td>\n      <td>866.80</td>\n      <td>874.45</td>\n      <td>860.10</td>\n      <td>871.95</td>\n      <td>639374</td>\n    </tr>\n    <tr>\n      <th>6</th>\n      <td>2021-06-29T09:15:00</td>\n      <td>870.95</td>\n      <td>878.70</td>\n      <td>856.90</td>\n      <td>865.60</td>\n      <td>586939</td>\n    </tr>\n  </tbody>\n</table>\n</div>",
      "text/plain": "              Datetime     Open     High      Low    Close   Volume\n0  2021-06-21T09:15:00  1765.05  1812.50  1750.00  1775.10   954197\n1  2021-06-22T09:15:00   908.90   909.00   873.20   880.00  1832605\n2  2021-06-23T09:15:00   882.55   886.60   861.65   866.00   837207\n3  2021-06-24T09:15:00   864.40   875.95   855.35   871.75  1032584\n4  2021-06-25T09:15:00   874.05   875.00   845.05   862.10  1388804\n5  2021-06-28T09:15:00   866.80   874.45   860.10   871.95   639374\n6  2021-06-29T09:15:00   870.95   878.70   856.90   865.60   586939"
     },
     "execution_count": 5,
     "metadata": {},
     "output_type": "execute_result"
    }
   ],
   "source": []
  },
  {
   "cell_type": "code",
   "execution_count": null,
   "metadata": {},
   "outputs": [],
   "source": []
  }
 ],
 "metadata": {
  "kernelspec": {
   "display_name": "Python 3.9.5 64-bit",
   "name": "python395jvsc74a57bd0aee8b7b246df8f9039afb4144a1f6fd8d2ca17a180786b69acc140d282b71a49"
  },
  "language_info": {
   "codemirror_mode": {
    "name": "ipython",
    "version": 3
   },
   "file_extension": ".py",
   "mimetype": "text/x-python",
   "name": "python",
   "nbconvert_exporter": "python",
   "pygments_lexer": "ipython3",
   "version": "3.9.5"
  },
  "metadata": {
   "interpreter": {
    "hash": "aee8b7b246df8f9039afb4144a1f6fd8d2ca17a180786b69acc140d282b71a49"
   }
  },
  "orig_nbformat": 2
 },
 "nbformat": 4,
 "nbformat_minor": 2
}