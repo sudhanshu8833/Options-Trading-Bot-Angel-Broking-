{
 "cells": [
  {
   "cell_type": "code",
   "execution_count": 1,
   "metadata": {},
   "outputs": [
    {
     "name": "stdout",
     "output_type": "stream",
     "text": [
      " 22:47:39 | Logged in!!\n"
     ]
    }
   ],
   "source": [
    "import pandas as pd\n",
    "import time\n",
    "from finta import TA\n",
    "import numpy as np\n",
    "import pandas as pd\n",
    "import datetime as dt\n",
    "import yfinance as yf\n",
    "import datetime as dt\n",
    "import copy\n",
    "import json\n",
    "from py5paisa import FivePaisaClient\n",
    "import telepot\n",
    "\n",
    "client = FivePaisaClient(email=\"sudhanshu8833@gmail.com\", passwd=\"Madhya246###\", dob=\"20010626\")\n",
    "client.login()\n"
   ]
  },
  {
   "cell_type": "code",
   "execution_count": 2,
   "metadata": {},
   "outputs": [],
   "source": [
    "def candle(instrument):\n",
    "    df=client.historical_data('N','C',instrument,'1d','2021-06-20','2021-07-26')\n",
    "    return df"
   ]
  },
  {
   "cell_type": "code",
   "execution_count": 20,
   "metadata": {},
   "outputs": [
    {
     "data": {
      "text/html": "<div>\n<style scoped>\n    .dataframe tbody tr th:only-of-type {\n        vertical-align: middle;\n    }\n\n    .dataframe tbody tr th {\n        vertical-align: top;\n    }\n\n    .dataframe thead th {\n        text-align: right;\n    }\n</style>\n<table border=\"1\" class=\"dataframe\">\n  <thead>\n    <tr style=\"text-align: right;\">\n      <th></th>\n      <th>Datetime</th>\n      <th>Open</th>\n      <th>High</th>\n      <th>Low</th>\n      <th>Close</th>\n      <th>Volume</th>\n    </tr>\n  </thead>\n  <tbody>\n    <tr>\n      <th>0</th>\n      <td>2021-06-21T09:15:00</td>\n      <td>884.80</td>\n      <td>926.10</td>\n      <td>880.00</td>\n      <td>918.10</td>\n      <td>1854382</td>\n    </tr>\n    <tr>\n      <th>1</th>\n      <td>2021-06-22T09:15:00</td>\n      <td>929.65</td>\n      <td>929.65</td>\n      <td>913.50</td>\n      <td>915.00</td>\n      <td>910719</td>\n    </tr>\n    <tr>\n      <th>2</th>\n      <td>2021-06-23T09:15:00</td>\n      <td>923.35</td>\n      <td>924.80</td>\n      <td>905.00</td>\n      <td>910.45</td>\n      <td>705128</td>\n    </tr>\n    <tr>\n      <th>3</th>\n      <td>2021-06-24T09:15:00</td>\n      <td>913.25</td>\n      <td>939.00</td>\n      <td>907.05</td>\n      <td>923.00</td>\n      <td>2218610</td>\n    </tr>\n    <tr>\n      <th>4</th>\n      <td>2021-06-25T09:15:00</td>\n      <td>930.00</td>\n      <td>958.95</td>\n      <td>927.65</td>\n      <td>943.00</td>\n      <td>4177564</td>\n    </tr>\n    <tr>\n      <th>5</th>\n      <td>2021-06-28T09:15:00</td>\n      <td>952.75</td>\n      <td>964.60</td>\n      <td>945.50</td>\n      <td>952.90</td>\n      <td>1703706</td>\n    </tr>\n    <tr>\n      <th>6</th>\n      <td>2021-06-29T09:15:00</td>\n      <td>951.85</td>\n      <td>957.55</td>\n      <td>941.75</td>\n      <td>950.05</td>\n      <td>1203920</td>\n    </tr>\n    <tr>\n      <th>7</th>\n      <td>2021-06-30T09:15:00</td>\n      <td>956.00</td>\n      <td>1019.95</td>\n      <td>952.50</td>\n      <td>1019.80</td>\n      <td>8490267</td>\n    </tr>\n    <tr>\n      <th>8</th>\n      <td>2021-07-01T09:15:00</td>\n      <td>1032.30</td>\n      <td>1193.00</td>\n      <td>1032.30</td>\n      <td>1174.00</td>\n      <td>19302711</td>\n    </tr>\n  </tbody>\n</table>\n</div>",
      "text/plain": "              Datetime     Open     High      Low    Close    Volume\n0  2021-06-21T09:15:00   884.80   926.10   880.00   918.10   1854382\n1  2021-06-22T09:15:00   929.65   929.65   913.50   915.00    910719\n2  2021-06-23T09:15:00   923.35   924.80   905.00   910.45    705128\n3  2021-06-24T09:15:00   913.25   939.00   907.05   923.00   2218610\n4  2021-06-25T09:15:00   930.00   958.95   927.65   943.00   4177564\n5  2021-06-28T09:15:00   952.75   964.60   945.50   952.90   1703706\n6  2021-06-29T09:15:00   951.85   957.55   941.75   950.05   1203920\n7  2021-06-30T09:15:00   956.00  1019.95   952.50  1019.80   8490267\n8  2021-07-01T09:15:00  1032.30  1193.00  1032.30  1174.00  19302711"
     },
     "execution_count": 20,
     "metadata": {},
     "output_type": "execute_result"
    }
   ],
   "source": [
    "candle(48)"
   ]
  },
  {
   "cell_type": "code",
   "execution_count": 3,
   "metadata": {},
   "outputs": [],
   "source": [
    "df=pd.read_csv(r'opg.csv')"
   ]
  },
  {
   "cell_type": "code",
   "execution_count": 4,
   "metadata": {},
   "outputs": [
    {
     "data": {
      "text/html": "<div>\n<style scoped>\n    .dataframe tbody tr th:only-of-type {\n        vertical-align: middle;\n    }\n\n    .dataframe tbody tr th {\n        vertical-align: top;\n    }\n\n    .dataframe thead th {\n        text-align: right;\n    }\n</style>\n<table border=\"1\" class=\"dataframe\">\n  <thead>\n    <tr style=\"text-align: right;\">\n      <th></th>\n      <th>Unnamed: 0</th>\n      <th>price_in</th>\n      <th>time_in</th>\n      <th>type</th>\n      <th>price_out</th>\n      <th>time_out</th>\n      <th>stocks</th>\n      <th>open</th>\n      <th>profit</th>\n    </tr>\n  </thead>\n  <tbody>\n    <tr>\n      <th>0</th>\n      <td>477</td>\n      <td>108.95</td>\n      <td>2021-07-01 03:45:04</td>\n      <td>long</td>\n      <td>115.00</td>\n      <td>2021-07-01 03:45:38</td>\n      <td>477</td>\n      <td>116.05</td>\n      <td>5.553006</td>\n    </tr>\n    <tr>\n      <th>1</th>\n      <td>9683</td>\n      <td>265.60</td>\n      <td>2021-07-01 03:45:12</td>\n      <td>short</td>\n      <td>270.40</td>\n      <td>2021-07-01 04:13:45</td>\n      <td>9683</td>\n      <td>252.50</td>\n      <td>-1.775148</td>\n    </tr>\n    <tr>\n      <th>2</th>\n      <td>11155</td>\n      <td>186.95</td>\n      <td>2021-07-01 03:45:12</td>\n      <td>short</td>\n      <td>186.95</td>\n      <td>2021-07-01 05:45:03</td>\n      <td>11155</td>\n      <td>178.05</td>\n      <td>0.000000</td>\n    </tr>\n    <tr>\n      <th>3</th>\n      <td>11860</td>\n      <td>218.60</td>\n      <td>2021-07-01 03:45:14</td>\n      <td>short</td>\n      <td>224.40</td>\n      <td>2021-07-01 03:51:51</td>\n      <td>11860</td>\n      <td>203.20</td>\n      <td>-2.584670</td>\n    </tr>\n    <tr>\n      <th>4</th>\n      <td>12489</td>\n      <td>280.65</td>\n      <td>2021-07-01 03:45:14</td>\n      <td>short</td>\n      <td>273.70</td>\n      <td>2021-07-01 03:58:06</td>\n      <td>12489</td>\n      <td>270.35</td>\n      <td>2.539277</td>\n    </tr>\n    <tr>\n      <th>5</th>\n      <td>14134</td>\n      <td>142.10</td>\n      <td>2021-07-01 03:45:15</td>\n      <td>short</td>\n      <td>139.60</td>\n      <td>2021-07-01 03:48:00</td>\n      <td>14134</td>\n      <td>138.20</td>\n      <td>1.790831</td>\n    </tr>\n    <tr>\n      <th>6</th>\n      <td>14296</td>\n      <td>293.70</td>\n      <td>2021-07-01 03:45:15</td>\n      <td>long</td>\n      <td>292.30</td>\n      <td>2021-07-01 05:45:03</td>\n      <td>14296</td>\n      <td>312.60</td>\n      <td>-0.476677</td>\n    </tr>\n    <tr>\n      <th>7</th>\n      <td>14435</td>\n      <td>140.35</td>\n      <td>2021-07-01 03:45:16</td>\n      <td>short</td>\n      <td>140.10</td>\n      <td>2021-07-01 05:45:03</td>\n      <td>14435</td>\n      <td>137.00</td>\n      <td>0.178444</td>\n    </tr>\n    <tr>\n      <th>8</th>\n      <td>14582</td>\n      <td>348.95</td>\n      <td>2021-07-01 03:45:16</td>\n      <td>long</td>\n      <td>337.35</td>\n      <td>2021-07-01 03:46:25</td>\n      <td>14582</td>\n      <td>365.40</td>\n      <td>-3.324258</td>\n    </tr>\n    <tr>\n      <th>9</th>\n      <td>17641</td>\n      <td>302.35</td>\n      <td>2021-07-01 03:45:17</td>\n      <td>short</td>\n      <td>299.70</td>\n      <td>2021-07-01 05:45:03</td>\n      <td>17641</td>\n      <td>297.00</td>\n      <td>0.884218</td>\n    </tr>\n    <tr>\n      <th>10</th>\n      <td>25584</td>\n      <td>126.25</td>\n      <td>2021-07-01 03:45:19</td>\n      <td>short</td>\n      <td>123.85</td>\n      <td>2021-07-01 05:36:45</td>\n      <td>25584</td>\n      <td>125.75</td>\n      <td>1.937828</td>\n    </tr>\n    <tr>\n      <th>11</th>\n      <td>17424</td>\n      <td>698.00</td>\n      <td>2021-07-01 03:45:20</td>\n      <td>short</td>\n      <td>680.10</td>\n      <td>2021-07-01 03:48:02</td>\n      <td>17424</td>\n      <td>605.70</td>\n      <td>2.631966</td>\n    </tr>\n    <tr>\n      <th>12</th>\n      <td>48</td>\n      <td>1039.15</td>\n      <td>2021-07-01 03:45:20</td>\n      <td>short</td>\n      <td>1059.00</td>\n      <td>2021-07-01 05:45:03</td>\n      <td>48</td>\n      <td>995.90</td>\n      <td>-1.874410</td>\n    </tr>\n  </tbody>\n</table>\n</div>",
      "text/plain": "    Unnamed: 0  price_in              time_in   type  price_out  \\\n0          477    108.95  2021-07-01 03:45:04   long     115.00   \n1         9683    265.60  2021-07-01 03:45:12  short     270.40   \n2        11155    186.95  2021-07-01 03:45:12  short     186.95   \n3        11860    218.60  2021-07-01 03:45:14  short     224.40   \n4        12489    280.65  2021-07-01 03:45:14  short     273.70   \n5        14134    142.10  2021-07-01 03:45:15  short     139.60   \n6        14296    293.70  2021-07-01 03:45:15   long     292.30   \n7        14435    140.35  2021-07-01 03:45:16  short     140.10   \n8        14582    348.95  2021-07-01 03:45:16   long     337.35   \n9        17641    302.35  2021-07-01 03:45:17  short     299.70   \n10       25584    126.25  2021-07-01 03:45:19  short     123.85   \n11       17424    698.00  2021-07-01 03:45:20  short     680.10   \n12          48   1039.15  2021-07-01 03:45:20  short    1059.00   \n\n               time_out  stocks    open    profit  \n0   2021-07-01 03:45:38     477  116.05  5.553006  \n1   2021-07-01 04:13:45    9683  252.50 -1.775148  \n2   2021-07-01 05:45:03   11155  178.05  0.000000  \n3   2021-07-01 03:51:51   11860  203.20 -2.584670  \n4   2021-07-01 03:58:06   12489  270.35  2.539277  \n5   2021-07-01 03:48:00   14134  138.20  1.790831  \n6   2021-07-01 05:45:03   14296  312.60 -0.476677  \n7   2021-07-01 05:45:03   14435  137.00  0.178444  \n8   2021-07-01 03:46:25   14582  365.40 -3.324258  \n9   2021-07-01 05:45:03   17641  297.00  0.884218  \n10  2021-07-01 05:36:45   25584  125.75  1.937828  \n11  2021-07-01 03:48:02   17424  605.70  2.631966  \n12  2021-07-01 05:45:03      48  995.90 -1.874410  "
     },
     "execution_count": 4,
     "metadata": {},
     "output_type": "execute_result"
    }
   ],
   "source": [
    "df"
   ]
  },
  {
   "cell_type": "code",
   "execution_count": 18,
   "metadata": {},
   "outputs": [
    {
     "name": "stdout",
     "output_type": "stream",
     "text": [
      "[*********************100%***********************]  1 of 1 completed\n"
     ]
    }
   ],
   "source": [
    "df=yf.download('GLOBUSSPR.NS',dt.datetime.today()-dt.timedelta(30),dt.datetime.today())"
   ]
  },
  {
   "cell_type": "code",
   "execution_count": 19,
   "metadata": {},
   "outputs": [
    {
     "data": {
      "text/html": "<div>\n<style scoped>\n    .dataframe tbody tr th:only-of-type {\n        vertical-align: middle;\n    }\n\n    .dataframe tbody tr th {\n        vertical-align: top;\n    }\n\n    .dataframe thead th {\n        text-align: right;\n    }\n</style>\n<table border=\"1\" class=\"dataframe\">\n  <thead>\n    <tr style=\"text-align: right;\">\n      <th></th>\n      <th>Open</th>\n      <th>High</th>\n      <th>Low</th>\n      <th>Close</th>\n      <th>Adj Close</th>\n      <th>Volume</th>\n    </tr>\n    <tr>\n      <th>Date</th>\n      <th></th>\n      <th></th>\n      <th></th>\n      <th></th>\n      <th></th>\n      <th></th>\n    </tr>\n  </thead>\n  <tbody>\n    <tr>\n      <th>2021-06-02</th>\n      <td>320.899994</td>\n      <td>326.950012</td>\n      <td>319.000000</td>\n      <td>323.299988</td>\n      <td>323.299988</td>\n      <td>278601</td>\n    </tr>\n    <tr>\n      <th>2021-06-03</th>\n      <td>326.000000</td>\n      <td>337.500000</td>\n      <td>323.450012</td>\n      <td>334.399994</td>\n      <td>334.399994</td>\n      <td>325478</td>\n    </tr>\n    <tr>\n      <th>2021-06-04</th>\n      <td>337.850006</td>\n      <td>359.950012</td>\n      <td>335.000000</td>\n      <td>351.700012</td>\n      <td>351.700012</td>\n      <td>1642567</td>\n    </tr>\n    <tr>\n      <th>2021-06-07</th>\n      <td>358.700012</td>\n      <td>369.500000</td>\n      <td>355.100006</td>\n      <td>360.600006</td>\n      <td>360.600006</td>\n      <td>1084293</td>\n    </tr>\n    <tr>\n      <th>2021-06-08</th>\n      <td>365.000000</td>\n      <td>375.000000</td>\n      <td>357.149994</td>\n      <td>368.549988</td>\n      <td>368.549988</td>\n      <td>807306</td>\n    </tr>\n    <tr>\n      <th>2021-06-09</th>\n      <td>370.799988</td>\n      <td>376.700012</td>\n      <td>352.000000</td>\n      <td>359.299988</td>\n      <td>359.299988</td>\n      <td>675765</td>\n    </tr>\n    <tr>\n      <th>2021-06-10</th>\n      <td>368.000000</td>\n      <td>371.750000</td>\n      <td>362.799988</td>\n      <td>368.399994</td>\n      <td>368.399994</td>\n      <td>392470</td>\n    </tr>\n    <tr>\n      <th>2021-06-11</th>\n      <td>375.000000</td>\n      <td>393.750000</td>\n      <td>368.399994</td>\n      <td>389.700012</td>\n      <td>389.700012</td>\n      <td>1594277</td>\n    </tr>\n    <tr>\n      <th>2021-06-14</th>\n      <td>391.950012</td>\n      <td>410.000000</td>\n      <td>378.299988</td>\n      <td>404.700012</td>\n      <td>404.700012</td>\n      <td>2784443</td>\n    </tr>\n    <tr>\n      <th>2021-06-15</th>\n      <td>423.000000</td>\n      <td>449.000000</td>\n      <td>418.000000</td>\n      <td>423.200012</td>\n      <td>423.200012</td>\n      <td>2690227</td>\n    </tr>\n    <tr>\n      <th>2021-06-16</th>\n      <td>424.899994</td>\n      <td>459.799988</td>\n      <td>408.000000</td>\n      <td>442.200012</td>\n      <td>442.200012</td>\n      <td>3210946</td>\n    </tr>\n    <tr>\n      <th>2021-06-17</th>\n      <td>444.799988</td>\n      <td>530.599976</td>\n      <td>437.299988</td>\n      <td>530.599976</td>\n      <td>530.599976</td>\n      <td>5544580</td>\n    </tr>\n    <tr>\n      <th>2021-06-18</th>\n      <td>556.400024</td>\n      <td>583.650024</td>\n      <td>541.400024</td>\n      <td>583.650024</td>\n      <td>583.650024</td>\n      <td>4930782</td>\n    </tr>\n    <tr>\n      <th>2021-06-21</th>\n      <td>575.000000</td>\n      <td>633.900024</td>\n      <td>531.250000</td>\n      <td>595.349976</td>\n      <td>595.349976</td>\n      <td>3790411</td>\n    </tr>\n    <tr>\n      <th>2021-06-22</th>\n      <td>605.000000</td>\n      <td>626.900024</td>\n      <td>581.750000</td>\n      <td>589.750000</td>\n      <td>589.750000</td>\n      <td>1285856</td>\n    </tr>\n    <tr>\n      <th>2021-06-23</th>\n      <td>604.849976</td>\n      <td>604.849976</td>\n      <td>567.000000</td>\n      <td>580.700012</td>\n      <td>580.700012</td>\n      <td>240357</td>\n    </tr>\n    <tr>\n      <th>2021-06-24</th>\n      <td>584.000000</td>\n      <td>590.000000</td>\n      <td>560.250000</td>\n      <td>573.799988</td>\n      <td>573.799988</td>\n      <td>217356</td>\n    </tr>\n    <tr>\n      <th>2021-06-25</th>\n      <td>585.000000</td>\n      <td>600.000000</td>\n      <td>570.000000</td>\n      <td>585.849976</td>\n      <td>585.849976</td>\n      <td>149634</td>\n    </tr>\n    <tr>\n      <th>2021-06-28</th>\n      <td>591.000000</td>\n      <td>615.099976</td>\n      <td>591.000000</td>\n      <td>615.099976</td>\n      <td>615.099976</td>\n      <td>300046</td>\n    </tr>\n    <tr>\n      <th>2021-06-29</th>\n      <td>645.000000</td>\n      <td>645.849976</td>\n      <td>631.000000</td>\n      <td>645.849976</td>\n      <td>645.849976</td>\n      <td>90638</td>\n    </tr>\n    <tr>\n      <th>2021-06-30</th>\n      <td>678.099976</td>\n      <td>678.099976</td>\n      <td>678.099976</td>\n      <td>678.099976</td>\n      <td>678.099976</td>\n      <td>56807</td>\n    </tr>\n    <tr>\n      <th>2021-07-01</th>\n      <td>712.000000</td>\n      <td>712.000000</td>\n      <td>658.000000</td>\n      <td>712.000000</td>\n      <td>712.000000</td>\n      <td>579999</td>\n    </tr>\n    <tr>\n      <th>2021-07-02</th>\n      <td>736.000000</td>\n      <td>747.599976</td>\n      <td>730.250000</td>\n      <td>747.599976</td>\n      <td>747.599976</td>\n      <td>105914</td>\n    </tr>\n  </tbody>\n</table>\n</div>",
      "text/plain": "                  Open        High         Low       Close   Adj Close  \\\nDate                                                                     \n2021-06-02  320.899994  326.950012  319.000000  323.299988  323.299988   \n2021-06-03  326.000000  337.500000  323.450012  334.399994  334.399994   \n2021-06-04  337.850006  359.950012  335.000000  351.700012  351.700012   \n2021-06-07  358.700012  369.500000  355.100006  360.600006  360.600006   \n2021-06-08  365.000000  375.000000  357.149994  368.549988  368.549988   \n2021-06-09  370.799988  376.700012  352.000000  359.299988  359.299988   \n2021-06-10  368.000000  371.750000  362.799988  368.399994  368.399994   \n2021-06-11  375.000000  393.750000  368.399994  389.700012  389.700012   \n2021-06-14  391.950012  410.000000  378.299988  404.700012  404.700012   \n2021-06-15  423.000000  449.000000  418.000000  423.200012  423.200012   \n2021-06-16  424.899994  459.799988  408.000000  442.200012  442.200012   \n2021-06-17  444.799988  530.599976  437.299988  530.599976  530.599976   \n2021-06-18  556.400024  583.650024  541.400024  583.650024  583.650024   \n2021-06-21  575.000000  633.900024  531.250000  595.349976  595.349976   \n2021-06-22  605.000000  626.900024  581.750000  589.750000  589.750000   \n2021-06-23  604.849976  604.849976  567.000000  580.700012  580.700012   \n2021-06-24  584.000000  590.000000  560.250000  573.799988  573.799988   \n2021-06-25  585.000000  600.000000  570.000000  585.849976  585.849976   \n2021-06-28  591.000000  615.099976  591.000000  615.099976  615.099976   \n2021-06-29  645.000000  645.849976  631.000000  645.849976  645.849976   \n2021-06-30  678.099976  678.099976  678.099976  678.099976  678.099976   \n2021-07-01  712.000000  712.000000  658.000000  712.000000  712.000000   \n2021-07-02  736.000000  747.599976  730.250000  747.599976  747.599976   \n\n             Volume  \nDate                 \n2021-06-02   278601  \n2021-06-03   325478  \n2021-06-04  1642567  \n2021-06-07  1084293  \n2021-06-08   807306  \n2021-06-09   675765  \n2021-06-10   392470  \n2021-06-11  1594277  \n2021-06-14  2784443  \n2021-06-15  2690227  \n2021-06-16  3210946  \n2021-06-17  5544580  \n2021-06-18  4930782  \n2021-06-21  3790411  \n2021-06-22  1285856  \n2021-06-23   240357  \n2021-06-24   217356  \n2021-06-25   149634  \n2021-06-28   300046  \n2021-06-29    90638  \n2021-06-30    56807  \n2021-07-01   579999  \n2021-07-02   105914  "
     },
     "execution_count": 19,
     "metadata": {},
     "output_type": "execute_result"
    }
   ],
   "source": [
    "df"
   ]
  },
  {
   "cell_type": "code",
   "execution_count": 5,
   "metadata": {},
   "outputs": [],
   "source": [
    "OPEN=[]\n",
    "for i in range(len(df)):\n",
    "    ohlc_dict=candle(int(df['stocks'][i]))['Open'].iloc[-1]\n",
    "    OPEN.append(ohlc_dict)"
   ]
  },
  {
   "cell_type": "code",
   "execution_count": 6,
   "metadata": {},
   "outputs": [
    {
     "data": {
      "text/plain": "[117.85,\n 264.45,\n 186.95,\n 217.45,\n 278.0,\n 140.75,\n 293.7,\n 139.8,\n 348.95,\n 303.0,\n 125.8,\n 607.9,\n 1032.3]"
     },
     "execution_count": 6,
     "metadata": {},
     "output_type": "execute_result"
    }
   ],
   "source": [
    "OPEN"
   ]
  },
  {
   "cell_type": "code",
   "execution_count": 7,
   "metadata": {},
   "outputs": [],
   "source": [
    "df['OPEN']=np.array(OPEN)"
   ]
  },
  {
   "cell_type": "code",
   "execution_count": 8,
   "metadata": {},
   "outputs": [
    {
     "data": {
      "text/html": "<div>\n<style scoped>\n    .dataframe tbody tr th:only-of-type {\n        vertical-align: middle;\n    }\n\n    .dataframe tbody tr th {\n        vertical-align: top;\n    }\n\n    .dataframe thead th {\n        text-align: right;\n    }\n</style>\n<table border=\"1\" class=\"dataframe\">\n  <thead>\n    <tr style=\"text-align: right;\">\n      <th></th>\n      <th>Unnamed: 0</th>\n      <th>price_in</th>\n      <th>time_in</th>\n      <th>type</th>\n      <th>price_out</th>\n      <th>time_out</th>\n      <th>stocks</th>\n      <th>open</th>\n      <th>profit</th>\n      <th>OPEN</th>\n    </tr>\n  </thead>\n  <tbody>\n    <tr>\n      <th>0</th>\n      <td>477</td>\n      <td>108.95</td>\n      <td>2021-07-01 03:45:04</td>\n      <td>long</td>\n      <td>115.00</td>\n      <td>2021-07-01 03:45:38</td>\n      <td>477</td>\n      <td>116.05</td>\n      <td>5.553006</td>\n      <td>117.85</td>\n    </tr>\n    <tr>\n      <th>1</th>\n      <td>9683</td>\n      <td>265.60</td>\n      <td>2021-07-01 03:45:12</td>\n      <td>short</td>\n      <td>270.40</td>\n      <td>2021-07-01 04:13:45</td>\n      <td>9683</td>\n      <td>252.50</td>\n      <td>-1.775148</td>\n      <td>264.45</td>\n    </tr>\n    <tr>\n      <th>2</th>\n      <td>11155</td>\n      <td>186.95</td>\n      <td>2021-07-01 03:45:12</td>\n      <td>short</td>\n      <td>186.95</td>\n      <td>2021-07-01 05:45:03</td>\n      <td>11155</td>\n      <td>178.05</td>\n      <td>0.000000</td>\n      <td>186.95</td>\n    </tr>\n    <tr>\n      <th>3</th>\n      <td>11860</td>\n      <td>218.60</td>\n      <td>2021-07-01 03:45:14</td>\n      <td>short</td>\n      <td>224.40</td>\n      <td>2021-07-01 03:51:51</td>\n      <td>11860</td>\n      <td>203.20</td>\n      <td>-2.584670</td>\n      <td>217.45</td>\n    </tr>\n    <tr>\n      <th>4</th>\n      <td>12489</td>\n      <td>280.65</td>\n      <td>2021-07-01 03:45:14</td>\n      <td>short</td>\n      <td>273.70</td>\n      <td>2021-07-01 03:58:06</td>\n      <td>12489</td>\n      <td>270.35</td>\n      <td>2.539277</td>\n      <td>278.00</td>\n    </tr>\n    <tr>\n      <th>5</th>\n      <td>14134</td>\n      <td>142.10</td>\n      <td>2021-07-01 03:45:15</td>\n      <td>short</td>\n      <td>139.60</td>\n      <td>2021-07-01 03:48:00</td>\n      <td>14134</td>\n      <td>138.20</td>\n      <td>1.790831</td>\n      <td>140.75</td>\n    </tr>\n    <tr>\n      <th>6</th>\n      <td>14296</td>\n      <td>293.70</td>\n      <td>2021-07-01 03:45:15</td>\n      <td>long</td>\n      <td>292.30</td>\n      <td>2021-07-01 05:45:03</td>\n      <td>14296</td>\n      <td>312.60</td>\n      <td>-0.476677</td>\n      <td>293.70</td>\n    </tr>\n    <tr>\n      <th>7</th>\n      <td>14435</td>\n      <td>140.35</td>\n      <td>2021-07-01 03:45:16</td>\n      <td>short</td>\n      <td>140.10</td>\n      <td>2021-07-01 05:45:03</td>\n      <td>14435</td>\n      <td>137.00</td>\n      <td>0.178444</td>\n      <td>139.80</td>\n    </tr>\n    <tr>\n      <th>8</th>\n      <td>14582</td>\n      <td>348.95</td>\n      <td>2021-07-01 03:45:16</td>\n      <td>long</td>\n      <td>337.35</td>\n      <td>2021-07-01 03:46:25</td>\n      <td>14582</td>\n      <td>365.40</td>\n      <td>-3.324258</td>\n      <td>348.95</td>\n    </tr>\n    <tr>\n      <th>9</th>\n      <td>17641</td>\n      <td>302.35</td>\n      <td>2021-07-01 03:45:17</td>\n      <td>short</td>\n      <td>299.70</td>\n      <td>2021-07-01 05:45:03</td>\n      <td>17641</td>\n      <td>297.00</td>\n      <td>0.884218</td>\n      <td>303.00</td>\n    </tr>\n    <tr>\n      <th>10</th>\n      <td>25584</td>\n      <td>126.25</td>\n      <td>2021-07-01 03:45:19</td>\n      <td>short</td>\n      <td>123.85</td>\n      <td>2021-07-01 05:36:45</td>\n      <td>25584</td>\n      <td>125.75</td>\n      <td>1.937828</td>\n      <td>125.80</td>\n    </tr>\n    <tr>\n      <th>11</th>\n      <td>17424</td>\n      <td>698.00</td>\n      <td>2021-07-01 03:45:20</td>\n      <td>short</td>\n      <td>680.10</td>\n      <td>2021-07-01 03:48:02</td>\n      <td>17424</td>\n      <td>605.70</td>\n      <td>2.631966</td>\n      <td>607.90</td>\n    </tr>\n    <tr>\n      <th>12</th>\n      <td>48</td>\n      <td>1039.15</td>\n      <td>2021-07-01 03:45:20</td>\n      <td>short</td>\n      <td>1059.00</td>\n      <td>2021-07-01 05:45:03</td>\n      <td>48</td>\n      <td>995.90</td>\n      <td>-1.874410</td>\n      <td>1032.30</td>\n    </tr>\n  </tbody>\n</table>\n</div>",
      "text/plain": "    Unnamed: 0  price_in              time_in   type  price_out  \\\n0          477    108.95  2021-07-01 03:45:04   long     115.00   \n1         9683    265.60  2021-07-01 03:45:12  short     270.40   \n2        11155    186.95  2021-07-01 03:45:12  short     186.95   \n3        11860    218.60  2021-07-01 03:45:14  short     224.40   \n4        12489    280.65  2021-07-01 03:45:14  short     273.70   \n5        14134    142.10  2021-07-01 03:45:15  short     139.60   \n6        14296    293.70  2021-07-01 03:45:15   long     292.30   \n7        14435    140.35  2021-07-01 03:45:16  short     140.10   \n8        14582    348.95  2021-07-01 03:45:16   long     337.35   \n9        17641    302.35  2021-07-01 03:45:17  short     299.70   \n10       25584    126.25  2021-07-01 03:45:19  short     123.85   \n11       17424    698.00  2021-07-01 03:45:20  short     680.10   \n12          48   1039.15  2021-07-01 03:45:20  short    1059.00   \n\n               time_out  stocks    open    profit     OPEN  \n0   2021-07-01 03:45:38     477  116.05  5.553006   117.85  \n1   2021-07-01 04:13:45    9683  252.50 -1.775148   264.45  \n2   2021-07-01 05:45:03   11155  178.05  0.000000   186.95  \n3   2021-07-01 03:51:51   11860  203.20 -2.584670   217.45  \n4   2021-07-01 03:58:06   12489  270.35  2.539277   278.00  \n5   2021-07-01 03:48:00   14134  138.20  1.790831   140.75  \n6   2021-07-01 05:45:03   14296  312.60 -0.476677   293.70  \n7   2021-07-01 05:45:03   14435  137.00  0.178444   139.80  \n8   2021-07-01 03:46:25   14582  365.40 -3.324258   348.95  \n9   2021-07-01 05:45:03   17641  297.00  0.884218   303.00  \n10  2021-07-01 05:36:45   25584  125.75  1.937828   125.80  \n11  2021-07-01 03:48:02   17424  605.70  2.631966   607.90  \n12  2021-07-01 05:45:03      48  995.90 -1.874410  1032.30  "
     },
     "execution_count": 8,
     "metadata": {},
     "output_type": "execute_result"
    }
   ],
   "source": [
    "df"
   ]
  },
  {
   "cell_type": "code",
   "execution_count": 3,
   "metadata": {},
   "outputs": [
    {
     "data": {
      "text/plain": "{'message_id': 10,\n 'from': {'id': 1715056219,\n  'is_bot': True,\n  'first_name': 'trading bot',\n  'username': 'trading_112_bot'},\n 'chat': {'id': 1039725953, 'first_name': 'sudhanshu', 'type': 'private'},\n 'date': 1626283292,\n 'text': '2021-07-14 22:51:31'}"
     },
     "execution_count": 3,
     "metadata": {},
     "output_type": "execute_result"
    }
   ],
   "source": [
    "import telepot\n",
    "bot = telepot.Bot('1715056219:AAGxytb3U1gIt1vlVn8Jf5b4za3E1HPuOd4')\n",
    "bot.getMe()\n",
    "\n",
    "\n",
    "bot.sendMessage(1039725953, time.strftime('%Y-%m-%d %H:%M:%S', time.localtime(time.time())))"
   ]
  },
  {
   "cell_type": "code",
   "execution_count": null,
   "metadata": {},
   "outputs": [],
   "source": []
  }
 ],
 "metadata": {
  "kernelspec": {
   "display_name": "Python 3.9.5 64-bit",
   "name": "python395jvsc74a57bd0aee8b7b246df8f9039afb4144a1f6fd8d2ca17a180786b69acc140d282b71a49"
  },
  "language_info": {
   "codemirror_mode": {
    "name": "ipython",
    "version": 3
   },
   "file_extension": ".py",
   "mimetype": "text/x-python",
   "name": "python",
   "nbconvert_exporter": "python",
   "pygments_lexer": "ipython3",
   "version": "3.9.5"
  },
  "metadata": {
   "interpreter": {
    "hash": "aee8b7b246df8f9039afb4144a1f6fd8d2ca17a180786b69acc140d282b71a49"
   }
  },
  "orig_nbformat": 2
 },
 "nbformat": 4,
 "nbformat_minor": 2
}