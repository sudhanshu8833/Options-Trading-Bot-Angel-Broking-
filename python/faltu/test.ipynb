{
 "cells": [
  {
   "cell_type": "code",
   "execution_count": 1,
   "metadata": {},
   "outputs": [],
   "source": []
  },
  {
   "cell_type": "code",
   "execution_count": 2,
   "metadata": {},
   "outputs": [
    {
     "data": {
      "text/plain": "123"
     },
     "execution_count": 2,
     "metadata": {},
     "output_type": "execute_result"
    }
   ],
   "source": []
  },
  {
   "cell_type": "code",
   "execution_count": 7,
   "metadata": {},
   "outputs": [
    {
     "name": "stdout",
     "output_type": "stream",
     "text": [
      "[*********************100%***********************]  1 of 1 completed\n"
     ]
    }
   ],
   "source": [
    "df=yf.download(\"MSFT\",period=\"1mo\",interval='1h')"
   ]
  },
  {
   "cell_type": "code",
   "execution_count": 8,
   "metadata": {},
   "outputs": [],
   "source": [
    "df.to_csv(\"opg.csv\")"
   ]
  },
  {
   "cell_type": "code",
   "execution_count": 9,
   "metadata": {},
   "outputs": [
    {
     "data": {
      "text/plain": "{'message_id': 2,\n 'from': {'id': 1946014673,\n  'is_bot': True,\n  'first_name': 'opg_bot',\n  'username': 'opg_123_bot'},\n 'chat': {'id': 1039725953,\n  'first_name': 'sudhanshu',\n  'username': 'Sudhanshu_883',\n  'type': 'private'},\n 'date': 1628446254,\n 'document': {'file_name': 'opg.csv',\n  'mime_type': 'text/csv',\n  'file_id': 'BQACAgUAAxkDAAMCYRAeLqtRN2Kkc5_YAAGwg4w0s1VtAAImAgACxLqAVAUjHuWlRz5yIAQ',\n  'file_unique_id': 'AgADJgIAAsS6gFQ',\n  'file_size': 19820}}"
     },
     "execution_count": 9,
     "metadata": {},
     "output_type": "execute_result"
    }
   ],
   "source": [
    "\n",
    "bot.sendDocument(1039725953, document=open('opg.csv', 'rb'))"
   ]
  },
  {
   "cell_type": "code",
   "execution_count": 6,
   "metadata": {},
   "outputs": [
    {
     "name": "stdout",
     "output_type": "stream",
     "text": [
      "[*********************100%***********************]  1 of 1 completed\n"
     ]
    }
   ],
   "source": [
    "import yfinance as yf\n",
    "df=yf.download(\"INFY.NS\", period=\"1mo\", interval=\"15m\")"
   ]
  },
  {
   "cell_type": "code",
   "execution_count": 7,
   "metadata": {},
   "outputs": [
    {
     "data": {
      "text/html": "<div>\n<style scoped>\n    .dataframe tbody tr th:only-of-type {\n        vertical-align: middle;\n    }\n\n    .dataframe tbody tr th {\n        vertical-align: top;\n    }\n\n    .dataframe thead th {\n        text-align: right;\n    }\n</style>\n<table border=\"1\" class=\"dataframe\">\n  <thead>\n    <tr style=\"text-align: right;\">\n      <th></th>\n      <th>Open</th>\n      <th>High</th>\n      <th>Low</th>\n      <th>Close</th>\n      <th>Adj Close</th>\n      <th>Volume</th>\n    </tr>\n    <tr>\n      <th>Datetime</th>\n      <th></th>\n      <th></th>\n      <th></th>\n      <th></th>\n      <th></th>\n      <th></th>\n    </tr>\n  </thead>\n  <tbody>\n    <tr>\n      <th>2021-07-09 10:30:00+05:30</th>\n      <td>1564.500000</td>\n      <td>1569.900024</td>\n      <td>1563.650024</td>\n      <td>1568.500000</td>\n      <td>1568.500000</td>\n      <td>210520</td>\n    </tr>\n    <tr>\n      <th>2021-07-09 10:45:00+05:30</th>\n      <td>1568.500000</td>\n      <td>1568.599976</td>\n      <td>1564.150024</td>\n      <td>1564.500000</td>\n      <td>1564.500000</td>\n      <td>143752</td>\n    </tr>\n    <tr>\n      <th>2021-07-09 11:00:00+05:30</th>\n      <td>1564.500000</td>\n      <td>1566.500000</td>\n      <td>1563.650024</td>\n      <td>1564.199951</td>\n      <td>1564.199951</td>\n      <td>118464</td>\n    </tr>\n    <tr>\n      <th>2021-07-09 11:15:00+05:30</th>\n      <td>1564.199951</td>\n      <td>1564.199951</td>\n      <td>1561.699951</td>\n      <td>1562.300049</td>\n      <td>1562.300049</td>\n      <td>136342</td>\n    </tr>\n    <tr>\n      <th>2021-07-09 11:30:00+05:30</th>\n      <td>1562.300049</td>\n      <td>1562.349976</td>\n      <td>1556.099976</td>\n      <td>1559.000000</td>\n      <td>1559.000000</td>\n      <td>289554</td>\n    </tr>\n    <tr>\n      <th>...</th>\n      <td>...</td>\n      <td>...</td>\n      <td>...</td>\n      <td>...</td>\n      <td>...</td>\n      <td>...</td>\n    </tr>\n    <tr>\n      <th>2021-08-09 09:45:00+05:30</th>\n      <td>1656.949951</td>\n      <td>1657.849976</td>\n      <td>1653.000000</td>\n      <td>1653.050049</td>\n      <td>1653.050049</td>\n      <td>106137</td>\n    </tr>\n    <tr>\n      <th>2021-08-09 10:00:00+05:30</th>\n      <td>1653.000000</td>\n      <td>1657.250000</td>\n      <td>1652.250000</td>\n      <td>1655.500000</td>\n      <td>1655.500000</td>\n      <td>82433</td>\n    </tr>\n    <tr>\n      <th>2021-08-09 10:15:00+05:30</th>\n      <td>1655.449951</td>\n      <td>1656.099976</td>\n      <td>1653.000000</td>\n      <td>1655.150024</td>\n      <td>1655.150024</td>\n      <td>112065</td>\n    </tr>\n    <tr>\n      <th>2021-08-09 10:30:00+05:30</th>\n      <td>1655.050049</td>\n      <td>1655.150024</td>\n      <td>1652.550049</td>\n      <td>1652.550049</td>\n      <td>1652.550049</td>\n      <td>5725</td>\n    </tr>\n    <tr>\n      <th>2021-08-09 10:31:40+05:30</th>\n      <td>1653.300049</td>\n      <td>1653.300049</td>\n      <td>1653.300049</td>\n      <td>1653.300049</td>\n      <td>1653.300049</td>\n      <td>0</td>\n    </tr>\n  </tbody>\n</table>\n<p>502 rows × 6 columns</p>\n</div>",
      "text/plain": "                                  Open         High          Low        Close  \\\nDatetime                                                                        \n2021-07-09 10:30:00+05:30  1564.500000  1569.900024  1563.650024  1568.500000   \n2021-07-09 10:45:00+05:30  1568.500000  1568.599976  1564.150024  1564.500000   \n2021-07-09 11:00:00+05:30  1564.500000  1566.500000  1563.650024  1564.199951   \n2021-07-09 11:15:00+05:30  1564.199951  1564.199951  1561.699951  1562.300049   \n2021-07-09 11:30:00+05:30  1562.300049  1562.349976  1556.099976  1559.000000   \n...                                ...          ...          ...          ...   \n2021-08-09 09:45:00+05:30  1656.949951  1657.849976  1653.000000  1653.050049   \n2021-08-09 10:00:00+05:30  1653.000000  1657.250000  1652.250000  1655.500000   \n2021-08-09 10:15:00+05:30  1655.449951  1656.099976  1653.000000  1655.150024   \n2021-08-09 10:30:00+05:30  1655.050049  1655.150024  1652.550049  1652.550049   \n2021-08-09 10:31:40+05:30  1653.300049  1653.300049  1653.300049  1653.300049   \n\n                             Adj Close  Volume  \nDatetime                                        \n2021-07-09 10:30:00+05:30  1568.500000  210520  \n2021-07-09 10:45:00+05:30  1564.500000  143752  \n2021-07-09 11:00:00+05:30  1564.199951  118464  \n2021-07-09 11:15:00+05:30  1562.300049  136342  \n2021-07-09 11:30:00+05:30  1559.000000  289554  \n...                                ...     ...  \n2021-08-09 09:45:00+05:30  1653.050049  106137  \n2021-08-09 10:00:00+05:30  1655.500000   82433  \n2021-08-09 10:15:00+05:30  1655.150024  112065  \n2021-08-09 10:30:00+05:30  1652.550049    5725  \n2021-08-09 10:31:40+05:30  1653.300049       0  \n\n[502 rows x 6 columns]"
     },
     "execution_count": 7,
     "metadata": {},
     "output_type": "execute_result"
    }
   ],
   "source": [
    "df"
   ]
  },
  {
   "cell_type": "code",
   "execution_count": null,
   "metadata": {},
   "outputs": [],
   "source": []
  }
 ],
 "metadata": {
  "kernelspec": {
   "display_name": "Python 3.9.5 64-bit",
   "name": "python395jvsc74a57bd0aee8b7b246df8f9039afb4144a1f6fd8d2ca17a180786b69acc140d282b71a49"
  },
  "language_info": {
   "codemirror_mode": {
    "name": "ipython",
    "version": 3
   },
   "file_extension": ".py",
   "mimetype": "text/x-python",
   "name": "python",
   "nbconvert_exporter": "python",
   "pygments_lexer": "ipython3",
   "version": "3.9.5"
  },
  "metadata": {
   "interpreter": {
    "hash": "aee8b7b246df8f9039afb4144a1f6fd8d2ca17a180786b69acc140d282b71a49"
   }
  },
  "orig_nbformat": 2
 },
 "nbformat": 4,
 "nbformat_minor": 2
}