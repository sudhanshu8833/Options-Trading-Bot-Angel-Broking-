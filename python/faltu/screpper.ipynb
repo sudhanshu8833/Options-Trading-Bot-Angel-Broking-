{
 "cells": [
  {
   "cell_type": "code",
   "execution_count": 2,
   "metadata": {},
   "outputs": [],
   "source": [
    "import requests\n",
    "#import json\n",
    "import dirtyjson\n",
    "\n",
    "url = 'https://nseindia.com/corporates/corpInfo/equities/getAnnouncements.jsp?period=Latest%20Announced'\n",
    "\n",
    "r = requests.get(url)\n",
    "#data = r.json() # doesn't work because JSON data has some mistakes\n",
    "\n",
    "#text = r.text.strip()\n",
    "#print(text)\n",
    "#data = json.loads(text) # doesn't work because JSON data has some mistakes\n",
    "\n",
    "data = dirtyjson.loads(r.text)\n",
    "#print(data)\n",
    "\n",
    "for item in data['rows']:\n",
    "    #print(item)\n",
    "    print(item.keys())\n",
    "    print(item['sym'])\n",
    "    print(item['desc'])\n",
    "    print(item['name'])\n",
    "    print(item['date'][:2], item['date'][2:4], item['date'][4:8])\n",
    "    "
   ]
  },
  {
   "cell_type": "code",
   "execution_count": 1,
   "metadata": {},
   "outputs": [
    {
     "name": "stdout",
     "output_type": "stream",
     "text": [
      "[*********************100%***********************]  1 of 1 completed\n"
     ]
    }
   ],
   "source": [
    "import yfinance as yf\n",
    "import datetime as dt\n",
    "\n",
    "data=yf.download('INFY.NS',period='10d',interval='5m')"
   ]
  },
  {
   "cell_type": "code",
   "execution_count": 2,
   "metadata": {},
   "outputs": [
    {
     "data": {
      "text/html": "<div>\n<style scoped>\n    .dataframe tbody tr th:only-of-type {\n        vertical-align: middle;\n    }\n\n    .dataframe tbody tr th {\n        vertical-align: top;\n    }\n\n    .dataframe thead th {\n        text-align: right;\n    }\n</style>\n<table border=\"1\" class=\"dataframe\">\n  <thead>\n    <tr style=\"text-align: right;\">\n      <th></th>\n      <th>Open</th>\n      <th>High</th>\n      <th>Low</th>\n      <th>Close</th>\n      <th>Adj Close</th>\n      <th>Volume</th>\n    </tr>\n    <tr>\n      <th>Datetime</th>\n      <th></th>\n      <th></th>\n      <th></th>\n      <th></th>\n      <th></th>\n      <th></th>\n    </tr>\n  </thead>\n  <tbody>\n    <tr>\n      <th>2021-07-07 09:15:00+05:30</th>\n      <td>1567.750000</td>\n      <td>1567.750000</td>\n      <td>1557.000000</td>\n      <td>1557.699951</td>\n      <td>1557.699951</td>\n      <td>124853</td>\n    </tr>\n    <tr>\n      <th>2021-07-07 09:20:00+05:30</th>\n      <td>1556.500000</td>\n      <td>1557.599976</td>\n      <td>1554.099976</td>\n      <td>1555.550049</td>\n      <td>1555.550049</td>\n      <td>293530</td>\n    </tr>\n    <tr>\n      <th>2021-07-07 09:25:00+05:30</th>\n      <td>1555.550049</td>\n      <td>1567.150024</td>\n      <td>1555.550049</td>\n      <td>1567.050049</td>\n      <td>1567.050049</td>\n      <td>192708</td>\n    </tr>\n    <tr>\n      <th>2021-07-07 09:30:00+05:30</th>\n      <td>1567.000000</td>\n      <td>1567.849976</td>\n      <td>1565.050049</td>\n      <td>1565.199951</td>\n      <td>1565.199951</td>\n      <td>140728</td>\n    </tr>\n    <tr>\n      <th>2021-07-07 09:35:00+05:30</th>\n      <td>1565.199951</td>\n      <td>1565.199951</td>\n      <td>1553.050049</td>\n      <td>1558.699951</td>\n      <td>1558.699951</td>\n      <td>343860</td>\n    </tr>\n    <tr>\n      <th>...</th>\n      <td>...</td>\n      <td>...</td>\n      <td>...</td>\n      <td>...</td>\n      <td>...</td>\n      <td>...</td>\n    </tr>\n    <tr>\n      <th>2021-07-20 15:05:00+05:30</th>\n      <td>1552.550049</td>\n      <td>1552.550049</td>\n      <td>1550.750000</td>\n      <td>1551.150024</td>\n      <td>1551.150024</td>\n      <td>181798</td>\n    </tr>\n    <tr>\n      <th>2021-07-20 15:10:00+05:30</th>\n      <td>1551.150024</td>\n      <td>1551.599976</td>\n      <td>1550.050049</td>\n      <td>1550.599976</td>\n      <td>1550.599976</td>\n      <td>220508</td>\n    </tr>\n    <tr>\n      <th>2021-07-20 15:15:00+05:30</th>\n      <td>1550.550049</td>\n      <td>1550.550049</td>\n      <td>1546.849976</td>\n      <td>1547.949951</td>\n      <td>1547.949951</td>\n      <td>220214</td>\n    </tr>\n    <tr>\n      <th>2021-07-20 15:20:00+05:30</th>\n      <td>1547.949951</td>\n      <td>1548.949951</td>\n      <td>1546.550049</td>\n      <td>1548.849976</td>\n      <td>1548.849976</td>\n      <td>163260</td>\n    </tr>\n    <tr>\n      <th>2021-07-20 15:25:00+05:30</th>\n      <td>1548.800049</td>\n      <td>1549.800049</td>\n      <td>1547.000000</td>\n      <td>1548.199951</td>\n      <td>1548.199951</td>\n      <td>161528</td>\n    </tr>\n  </tbody>\n</table>\n<p>750 rows × 6 columns</p>\n</div>",
      "text/plain": "                                  Open         High          Low        Close  \\\nDatetime                                                                        \n2021-07-07 09:15:00+05:30  1567.750000  1567.750000  1557.000000  1557.699951   \n2021-07-07 09:20:00+05:30  1556.500000  1557.599976  1554.099976  1555.550049   \n2021-07-07 09:25:00+05:30  1555.550049  1567.150024  1555.550049  1567.050049   \n2021-07-07 09:30:00+05:30  1567.000000  1567.849976  1565.050049  1565.199951   \n2021-07-07 09:35:00+05:30  1565.199951  1565.199951  1553.050049  1558.699951   \n...                                ...          ...          ...          ...   \n2021-07-20 15:05:00+05:30  1552.550049  1552.550049  1550.750000  1551.150024   \n2021-07-20 15:10:00+05:30  1551.150024  1551.599976  1550.050049  1550.599976   \n2021-07-20 15:15:00+05:30  1550.550049  1550.550049  1546.849976  1547.949951   \n2021-07-20 15:20:00+05:30  1547.949951  1548.949951  1546.550049  1548.849976   \n2021-07-20 15:25:00+05:30  1548.800049  1549.800049  1547.000000  1548.199951   \n\n                             Adj Close  Volume  \nDatetime                                        \n2021-07-07 09:15:00+05:30  1557.699951  124853  \n2021-07-07 09:20:00+05:30  1555.550049  293530  \n2021-07-07 09:25:00+05:30  1567.050049  192708  \n2021-07-07 09:30:00+05:30  1565.199951  140728  \n2021-07-07 09:35:00+05:30  1558.699951  343860  \n...                                ...     ...  \n2021-07-20 15:05:00+05:30  1551.150024  181798  \n2021-07-20 15:10:00+05:30  1550.599976  220508  \n2021-07-20 15:15:00+05:30  1547.949951  220214  \n2021-07-20 15:20:00+05:30  1548.849976  163260  \n2021-07-20 15:25:00+05:30  1548.199951  161528  \n\n[750 rows x 6 columns]"
     },
     "execution_count": 2,
     "metadata": {},
     "output_type": "execute_result"
    }
   ],
   "source": [
    "data"
   ]
  },
  {
   "cell_type": "code",
   "execution_count": null,
   "metadata": {},
   "outputs": [],
   "source": []
  }
 ],
 "metadata": {
  "kernelspec": {
   "display_name": "Python 3.9.5 64-bit",
   "name": "python395jvsc74a57bd0aee8b7b246df8f9039afb4144a1f6fd8d2ca17a180786b69acc140d282b71a49"
  },
  "language_info": {
   "codemirror_mode": {
    "name": "ipython",
    "version": 3
   },
   "file_extension": ".py",
   "mimetype": "text/x-python",
   "name": "python",
   "nbconvert_exporter": "python",
   "pygments_lexer": "ipython3",
   "version": "3.9.5"
  },
  "metadata": {
   "interpreter": {
    "hash": "aee8b7b246df8f9039afb4144a1f6fd8d2ca17a180786b69acc140d282b71a49"
   }
  },
  "orig_nbformat": 2
 },
 "nbformat": 4,
 "nbformat_minor": 2
}