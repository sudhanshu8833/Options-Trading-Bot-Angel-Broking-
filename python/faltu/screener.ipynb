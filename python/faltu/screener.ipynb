{
 "cells": [
  {
   "cell_type": "code",
   "execution_count": 1,
   "metadata": {},
   "outputs": [
    {
     "name": "stdout",
     "output_type": "stream",
     "text": [
      " 22:48:40 | Logged in!!\n"
     ]
    },
    {
     "name": "stderr",
     "output_type": "stream",
     "text": [
      "/Users/sudhanshu/Library/Python/3.9/lib/python/site-packages/IPython/core/interactiveshell.py:3169: DtypeWarning: Columns (0) have mixed types.Specify dtype option on import or set low_memory=False.\n",
      "  has_raised = await self.run_ast_nodes(code_ast.body, cell_name,\n"
     ]
    }
   ],
   "source": [
    "import pandas as pd\n",
    "import time\n",
    "from finta import TA\n",
    "import numpy as np\n",
    "import pandas as pd\n",
    "import datetime as dt\n",
    "import copy\n",
    "import json\n",
    "from py5paisa import FivePaisaClient\n",
    "\n",
    "client = FivePaisaClient(email=\"sudhanshu8833@gmail.com\", passwd=\"Madhya246###\", dob=\"20010626\")\n",
    "client.login()\n",
    "\n",
    "tickers=[\"AARTIIND\",\"ABFRL\",\"ACC\",\"ADANIENT\",\"ADANIPORTS\",\"ALKEM\",\"AMARAJABAT\",\"AMBUJACEM\",\"APLLTD\",\"APOLLOHOSP\",\"APOLLOTYRE\",\"ASHOKLEY\",\"ASIANPAINT\",\"AUBANK\",\"AUROPHARMA\",\"AXISBANK\",\"BAJAJ-AUTO\",\"BAJAJFINSV\",\"BAJFINANCE\",\"BALKRISIND\",\"BANDHANBNK\",\"BANKBARODA\",\"BATAINDIA\",\"BEL\",\"BERGEPAINT\",\"BHARATFORG\",\"BHARTIARTL\",\"BHEL\",\"BIOCON\",\"BOSCHLTD\",\"BPCL\",\"BRITANNIA\",\"CADILAHC\",\"CANBK\",\"CHOLAFIN\",\"CIPLA\",\"COALINDIA\",\"COFORGE\",\"COLPAL\",\"CONCOR\",\"COROMANDEL\",\"CUB\",\"CUMMINSIND\",\"DABUR\",\"DEEPAKNTR\",\"DIVISLAB\",\"DLF\",\"DRREDDY\",\"EICHERMOT\",\"ESCORTS\",\"EXIDEIND\",\"FEDERALBNK\",\"GAIL\",\"GLENMARK\",\"GMRINFRA\",\"GODREJCP\",\"GODREJPROP\",\"GRANULES\",\"GRASIM\",\"GUJGASLTD\",\"HAVELLS\",\"HCLTECH\",\"HDFC\",\"HDFCAMC\",\"HDFCBANK\",\"HDFCLIFE\",\"HEROMOTOCO\",\"HINDALCO\",\"HINDPETRO\",\"HINDUNILVR\",\"IBULHSGFIN\",\"ICICIBANK\",\"ICICIGI\",\"ICICIPRULI\",\"IDEA\",\"IDFCFIRSTB\",\"IGL\",\"INDHOTEL\",\"INDIGO\",\"INDUSINDBK\",\"INDUSTOWER\",\"INFY\",\"IOC\",\"IRCTC\",\"ITC\",\"JINDALSTEL\",\"JSWSTEEL\",\"JUBLFOOD\",\"KOTAKBANK\",\"L&TFH\",\"LALPATHLAB\",\"LICHSGFIN\",\"LT\",\"LTI\",\"LTTS\",\"LUPIN\",\"M&M\",\"M&MFIN\",\"MANAPPURAM\",\"MARICO\",\"MARUTI\",\"MCDOWELL-N\",\"METROPOLIS\",\"MFSL\",\"MGL\",\"MINDTREE\",\"MOTHERSUMI\",\"MPHASIS\",\"MRF\",\"MUTHOOTFIN\",\"NAM-INDIA\",\"NATIONALUM\",\"NAUKRI\",\"NAVINFLUOR\",\"NESTLEIND\",\"NMDC\",\"NTPC\",\"ONGC\",\"PAGEIND\",\"PEL\",\"PETRONET\",\"PFC\",\"PFIZER\",\"PIDILITIND\",\"PIIND\",\"PNB\",\"POWERGRID\",\"PVR\",\"RAMCOCEM\",\"RBLBANK\",\"RECLTD\",\"RELIANCE\",\"SAIL\",\"SBILIFE\",\"SBIN\",\"SHREECEM\",\"SIEMENS\",\"SRF\",\"SRTRANSFIN\",\"SUNPHARMA\",\"SUNTV\",\"TATACHEM\",\"TATACONSUM\",\"TATAMOTORS\",\"TATAPOWER\",\"TATASTEEL\",\"TCS\",\"TECHM\",\"TITAN\",\"TORNTPHARM\",\"TORNTPOWER\",\"TRENT\",\"TVSMOTOR\",\"UBL\",\"ULTRACEMCO\",\"UPL\",\"VEDL\",\"VOLTAS\",\"WIPRO\",\"ZEEL\"]\n",
    "\t\t\t\t\t\t\t\n",
    "\n",
    "\n",
    "\n",
    "\n",
    "df=pd.read_csv(r'csvjson.csv')\n",
    "\n",
    "scripcode=[]\n",
    "symbol=[]\n",
    "\n",
    "\n",
    "\n",
    "\n"
   ]
  },
  {
   "cell_type": "code",
   "execution_count": 2,
   "metadata": {},
   "outputs": [
    {
     "data": {
      "text/html": "<div>\n<style scoped>\n    .dataframe tbody tr th:only-of-type {\n        vertical-align: middle;\n    }\n\n    .dataframe tbody tr th {\n        vertical-align: top;\n    }\n\n    .dataframe thead th {\n        text-align: right;\n    }\n</style>\n<table border=\"1\" class=\"dataframe\">\n  <thead>\n    <tr style=\"text-align: right;\">\n      <th></th>\n      <th>token</th>\n      <th>symbol</th>\n      <th>name</th>\n      <th>expiry</th>\n      <th>strike</th>\n      <th>lotsize</th>\n      <th>instrumenttype</th>\n      <th>exch_seg</th>\n      <th>tick_size</th>\n    </tr>\n  </thead>\n  <tbody>\n    <tr>\n      <th>0</th>\n      <td>13287</td>\n      <td>M\\u0026MFIN-BL</td>\n      <td>M\\u0026MFIN</td>\n      <td>NaN</td>\n      <td>-1</td>\n      <td>1</td>\n      <td>NaN</td>\n      <td>NSE</td>\n      <td>5</td>\n    </tr>\n    <tr>\n      <th>1</th>\n      <td>11032</td>\n      <td>SANGINITA-EQ</td>\n      <td>SANGINITA</td>\n      <td>NaN</td>\n      <td>-1</td>\n      <td>1</td>\n      <td>NaN</td>\n      <td>NSE</td>\n      <td>5</td>\n    </tr>\n    <tr>\n      <th>2</th>\n      <td>10237</td>\n      <td>UTRQP31P15-MF</td>\n      <td>UTRQP31P15</td>\n      <td>NaN</td>\n      <td>-1</td>\n      <td>1</td>\n      <td>NaN</td>\n      <td>NSE</td>\n      <td>1</td>\n    </tr>\n    <tr>\n      <th>3</th>\n      <td>4272</td>\n      <td>ECLFINANCE-NF</td>\n      <td>ECLFINANCE</td>\n      <td>NaN</td>\n      <td>-1</td>\n      <td>1</td>\n      <td>NaN</td>\n      <td>NSE</td>\n      <td>1</td>\n    </tr>\n    <tr>\n      <th>4</th>\n      <td>9219</td>\n      <td>TPLPLASTEH-EQ</td>\n      <td>TPLPLASTEH</td>\n      <td>NaN</td>\n      <td>-1</td>\n      <td>1</td>\n      <td>NaN</td>\n      <td>NSE</td>\n      <td>5</td>\n    </tr>\n    <tr>\n      <th>...</th>\n      <td>...</td>\n      <td>...</td>\n      <td>...</td>\n      <td>...</td>\n      <td>...</td>\n      <td>...</td>\n      <td>...</td>\n      <td>...</td>\n      <td>...</td>\n    </tr>\n    <tr>\n      <th>88824</th>\n      <td>SYBEANIDR20JUL21CE6200S</td>\n      <td>SYBEANIDR20JUL21CE6200S</td>\n      <td>SYBEANIDR</td>\n      <td>20JUL2021</td>\n      <td>620000</td>\n      <td>5</td>\n      <td>OPTFUT</td>\n      <td>NCDEX</td>\n      <td>100</td>\n    </tr>\n    <tr>\n      <th>88825</th>\n      <td>WHEATFAQ20AUG21PE1990S</td>\n      <td>WHEATFAQ20AUG21PE1990S</td>\n      <td>WHEATFAQ</td>\n      <td>20AUG2021</td>\n      <td>199000</td>\n      <td>10</td>\n      <td>OPTFUT</td>\n      <td>NCDEX</td>\n      <td>50</td>\n    </tr>\n    <tr>\n      <th>88826</th>\n      <td>MAIZE20JUL21CE1325S</td>\n      <td>MAIZE20JUL21CE1325S</td>\n      <td>MAIZE</td>\n      <td>20JUL2021</td>\n      <td>132500</td>\n      <td>10</td>\n      <td>OPTFUT</td>\n      <td>NCDEX</td>\n      <td>50</td>\n    </tr>\n    <tr>\n      <th>88827</th>\n      <td>GUARGUM518JUN21PE6500S</td>\n      <td>GUARGUM518JUN21PE6500S</td>\n      <td>GUARGUM5</td>\n      <td>18JUN2021</td>\n      <td>650000</td>\n      <td>5</td>\n      <td>OPTFUT</td>\n      <td>NCDEX</td>\n      <td>50</td>\n    </tr>\n    <tr>\n      <th>88828</th>\n      <td>RMSEED20SEP21CE6850S</td>\n      <td>RMSEED20SEP21CE6850S</td>\n      <td>RMSEED</td>\n      <td>20SEP2021</td>\n      <td>685000</td>\n      <td>10</td>\n      <td>OPTFUT</td>\n      <td>NCDEX</td>\n      <td>50</td>\n    </tr>\n  </tbody>\n</table>\n<p>88829 rows × 9 columns</p>\n</div>",
      "text/plain": "                         token                   symbol         name  \\\n0                        13287           M\\u0026MFIN-BL  M\\u0026MFIN   \n1                        11032             SANGINITA-EQ    SANGINITA   \n2                        10237            UTRQP31P15-MF   UTRQP31P15   \n3                         4272            ECLFINANCE-NF   ECLFINANCE   \n4                         9219            TPLPLASTEH-EQ   TPLPLASTEH   \n...                        ...                      ...          ...   \n88824  SYBEANIDR20JUL21CE6200S  SYBEANIDR20JUL21CE6200S    SYBEANIDR   \n88825   WHEATFAQ20AUG21PE1990S   WHEATFAQ20AUG21PE1990S     WHEATFAQ   \n88826      MAIZE20JUL21CE1325S      MAIZE20JUL21CE1325S        MAIZE   \n88827   GUARGUM518JUN21PE6500S   GUARGUM518JUN21PE6500S     GUARGUM5   \n88828     RMSEED20SEP21CE6850S     RMSEED20SEP21CE6850S       RMSEED   \n\n          expiry  strike  lotsize instrumenttype exch_seg  tick_size  \n0            NaN      -1        1            NaN      NSE          5  \n1            NaN      -1        1            NaN      NSE          5  \n2            NaN      -1        1            NaN      NSE          1  \n3            NaN      -1        1            NaN      NSE          1  \n4            NaN      -1        1            NaN      NSE          5  \n...          ...     ...      ...            ...      ...        ...  \n88824  20JUL2021  620000        5         OPTFUT    NCDEX        100  \n88825  20AUG2021  199000       10         OPTFUT    NCDEX         50  \n88826  20JUL2021  132500       10         OPTFUT    NCDEX         50  \n88827  18JUN2021  650000        5         OPTFUT    NCDEX         50  \n88828  20SEP2021  685000       10         OPTFUT    NCDEX         50  \n\n[88829 rows x 9 columns]"
     },
     "execution_count": 2,
     "metadata": {},
     "output_type": "execute_result"
    }
   ],
   "source": [
    "df"
   ]
  },
  {
   "cell_type": "code",
   "execution_count": 3,
   "metadata": {},
   "outputs": [
    {
     "name": "stdout",
     "output_type": "stream",
     "text": [
      "analyzing for:  AARTIIND\n",
      "analyzing for:  ABFRL\n",
      "analyzing for:  ACC\n",
      "analyzing for:  ADANIENT\n",
      "analyzing for:  ADANIPORTS\n",
      "analyzing for:  ALKEM\n",
      "analyzing for:  AMARAJABAT\n",
      "analyzing for:  AMBUJACEM\n",
      "analyzing for:  APLLTD\n",
      "analyzing for:  APOLLOHOSP\n",
      "analyzing for:  APOLLOTYRE\n",
      "analyzing for:  ASHOKLEY\n",
      "analyzing for:  ASIANPAINT\n",
      "analyzing for:  AUBANK\n",
      "analyzing for:  AUROPHARMA\n",
      "analyzing for:  AXISBANK\n",
      "analyzing for:  BAJAJ-AUTO\n",
      "analyzing for:  BAJAJFINSV\n",
      "analyzing for:  BAJFINANCE\n",
      "analyzing for:  BALKRISIND\n",
      "analyzing for:  BANDHANBNK\n",
      "analyzing for:  BANKBARODA\n",
      "analyzing for:  BATAINDIA\n",
      "analyzing for:  BEL\n",
      "analyzing for:  BERGEPAINT\n",
      "analyzing for:  BHARATFORG\n",
      "analyzing for:  BHARTIARTL\n",
      "analyzing for:  BHEL\n",
      "analyzing for:  BIOCON\n",
      "analyzing for:  BOSCHLTD\n",
      "analyzing for:  BPCL\n",
      "analyzing for:  BRITANNIA\n",
      "analyzing for:  CADILAHC\n",
      "analyzing for:  CANBK\n",
      "analyzing for:  CHOLAFIN\n",
      "analyzing for:  CIPLA\n",
      "analyzing for:  COALINDIA\n",
      "analyzing for:  COFORGE\n",
      "analyzing for:  COLPAL\n",
      "analyzing for:  CONCOR\n",
      "analyzing for:  COROMANDEL\n",
      "analyzing for:  CUB\n",
      "analyzing for:  CUMMINSIND\n",
      "analyzing for:  DABUR\n",
      "analyzing for:  DEEPAKNTR\n",
      "analyzing for:  DIVISLAB\n",
      "analyzing for:  DLF\n",
      "analyzing for:  DRREDDY\n",
      "analyzing for:  EICHERMOT\n",
      "analyzing for:  ESCORTS\n",
      "analyzing for:  EXIDEIND\n",
      "analyzing for:  FEDERALBNK\n",
      "analyzing for:  GAIL\n",
      "analyzing for:  GLENMARK\n",
      "analyzing for:  GMRINFRA\n",
      "analyzing for:  GODREJCP\n",
      "analyzing for:  GODREJPROP\n",
      "analyzing for:  GRANULES\n",
      "analyzing for:  GRASIM\n",
      "analyzing for:  GUJGASLTD\n",
      "analyzing for:  HAVELLS\n",
      "analyzing for:  HCLTECH\n",
      "analyzing for:  HDFC\n",
      "analyzing for:  HDFCAMC\n",
      "analyzing for:  HDFCBANK\n",
      "analyzing for:  HDFCLIFE\n",
      "analyzing for:  HEROMOTOCO\n",
      "analyzing for:  HINDALCO\n",
      "analyzing for:  HINDPETRO\n",
      "analyzing for:  HINDUNILVR\n",
      "analyzing for:  IBULHSGFIN\n",
      "analyzing for:  ICICIBANK\n",
      "analyzing for:  ICICIGI\n",
      "analyzing for:  ICICIPRULI\n",
      "analyzing for:  IDEA\n",
      "analyzing for:  IDFCFIRSTB\n",
      "analyzing for:  IGL\n",
      "analyzing for:  INDHOTEL\n",
      "analyzing for:  INDIGO\n",
      "analyzing for:  INDUSINDBK\n",
      "analyzing for:  INDUSTOWER\n",
      "analyzing for:  INFY\n",
      "analyzing for:  IOC\n",
      "analyzing for:  IRCTC\n",
      "analyzing for:  ITC\n",
      "analyzing for:  JINDALSTEL\n",
      "analyzing for:  JSWSTEEL\n",
      "analyzing for:  JUBLFOOD\n",
      "analyzing for:  KOTAKBANK\n",
      "analyzing for:  L&TFH\n",
      "analyzing for:  LALPATHLAB\n",
      "analyzing for:  LICHSGFIN\n",
      "analyzing for:  LT\n",
      "analyzing for:  LTI\n",
      "analyzing for:  LTTS\n",
      "analyzing for:  LUPIN\n",
      "analyzing for:  M&M\n",
      "analyzing for:  M&MFIN\n",
      "analyzing for:  MANAPPURAM\n",
      "analyzing for:  MARICO\n",
      "analyzing for:  MARUTI\n",
      "analyzing for:  MCDOWELL-N\n",
      "analyzing for:  METROPOLIS\n",
      "analyzing for:  MFSL\n",
      "analyzing for:  MGL\n",
      "analyzing for:  MINDTREE\n",
      "analyzing for:  MOTHERSUMI\n",
      "analyzing for:  MPHASIS\n",
      "analyzing for:  MRF\n",
      "analyzing for:  MUTHOOTFIN\n",
      "analyzing for:  NAM-INDIA\n",
      "analyzing for:  NATIONALUM\n",
      "analyzing for:  NAUKRI\n",
      "analyzing for:  NAVINFLUOR\n",
      "analyzing for:  NESTLEIND\n",
      "analyzing for:  NMDC\n",
      "analyzing for:  NTPC\n",
      "analyzing for:  ONGC\n",
      "analyzing for:  PAGEIND\n",
      "analyzing for:  PEL\n",
      "analyzing for:  PETRONET\n",
      "analyzing for:  PFC\n",
      "analyzing for:  PFIZER\n",
      "analyzing for:  PIDILITIND\n",
      "analyzing for:  PIIND\n",
      "analyzing for:  PNB\n",
      "analyzing for:  POWERGRID\n",
      "analyzing for:  PVR\n",
      "analyzing for:  RAMCOCEM\n",
      "analyzing for:  RBLBANK\n",
      "analyzing for:  RECLTD\n",
      "analyzing for:  RELIANCE\n",
      "analyzing for:  SAIL\n",
      "analyzing for:  SBILIFE\n",
      "analyzing for:  SBIN\n",
      "analyzing for:  SHREECEM\n",
      "analyzing for:  SIEMENS\n",
      "analyzing for:  SRF\n",
      "analyzing for:  SRTRANSFIN\n",
      "analyzing for:  SUNPHARMA\n",
      "analyzing for:  SUNTV\n",
      "analyzing for:  TATACHEM\n",
      "analyzing for:  TATACONSUM\n",
      "analyzing for:  TATAMOTORS\n",
      "analyzing for:  TATAPOWER\n",
      "analyzing for:  TATASTEEL\n",
      "analyzing for:  TCS\n",
      "analyzing for:  TECHM\n",
      "analyzing for:  TITAN\n",
      "analyzing for:  TORNTPHARM\n",
      "analyzing for:  TORNTPOWER\n",
      "analyzing for:  TRENT\n",
      "analyzing for:  TVSMOTOR\n",
      "analyzing for:  UBL\n",
      "analyzing for:  ULTRACEMCO\n",
      "analyzing for:  UPL\n",
      "analyzing for:  VEDL\n",
      "analyzing for:  VOLTAS\n",
      "analyzing for:  WIPRO\n",
      "analyzing for:  ZEEL\n"
     ]
    }
   ],
   "source": [
    "token=[]\n",
    "symbol=[]\n",
    "for ticker in tickers:\n",
    "    \n",
    "    print('analyzing for: ',ticker)\n",
    "\n",
    "    for i in range(len(df)):\n",
    "        if ticker+'-EQ' in df['symbol'][i] and 'NSE' in df['exch_seg'][i]:\n",
    "            token.append(df['token'][i])\n",
    "            symbol.append(ticker)\n",
    "\n",
    "    \n",
    "\n",
    "        \n"
   ]
  },
  {
   "cell_type": "code",
   "execution_count": 4,
   "metadata": {},
   "outputs": [
    {
     "data": {
      "text/plain": "5"
     },
     "execution_count": 4,
     "metadata": {},
     "output_type": "execute_result"
    }
   ],
   "source": [
    "list=[4,2,5]\n",
    "list.pop(2)"
   ]
  },
  {
   "cell_type": "code",
   "execution_count": 5,
   "metadata": {},
   "outputs": [
    {
     "data": {
      "text/plain": "[4, 2]"
     },
     "execution_count": 5,
     "metadata": {},
     "output_type": "execute_result"
    }
   ],
   "source": [
    "list"
   ]
  },
  {
   "cell_type": "code",
   "execution_count": 6,
   "metadata": {},
   "outputs": [
    {
     "data": {
      "text/plain": "4421"
     },
     "execution_count": 6,
     "metadata": {},
     "output_type": "execute_result"
    }
   ],
   "source": [
    "token.pop(3)"
   ]
  },
  {
   "cell_type": "code",
   "execution_count": 7,
   "metadata": {},
   "outputs": [
    {
     "data": {
      "text/plain": "[7,\n 30108,\n 22,\n 25,\n 15083,\n 11703,\n 100,\n 1270,\n 25328,\n 157,\n 163,\n 212,\n 236,\n 21238,\n 275,\n 5900,\n 16669,\n 16675,\n 317,\n 335,\n 2263,\n 4668,\n 371,\n 383,\n 404,\n 422,\n 10604,\n 438,\n 11373,\n 2181,\n 526,\n 547,\n 7929,\n 10794,\n 685,\n 694,\n 20374,\n 11543,\n 15141,\n 4749,\n 739,\n 5701,\n 1901,\n 772,\n 19943,\n 10940,\n 14732,\n 881,\n 910,\n 958,\n 676,\n 1023,\n 4717,\n 7406,\n 13528,\n 10099,\n 17875,\n 11872,\n 1232,\n 10599,\n 9819,\n 7229,\n 1330,\n 4244,\n 1333,\n 467,\n 1348,\n 1363,\n 1406,\n 1394,\n 30125,\n 4963,\n 21770,\n 18652,\n 14366,\n 11184,\n 11262,\n 1512,\n 11195,\n 5258,\n 29135,\n 1594,\n 1624,\n 13611,\n 1660,\n 6733,\n 11723,\n 18096,\n 1922,\n 11654,\n 1997,\n 19104,\n 17395,\n 11483,\n 17700,\n 17818,\n 18564,\n 10440,\n 19061,\n 4067,\n 10999,\n 10447,\n 9581,\n 2142,\n 17534,\n 14356,\n 4204,\n 4503,\n 2277,\n 23650,\n 357,\n 6364,\n 13751,\n 14672,\n 17963,\n 15332,\n 11630,\n 2475,\n 14413,\n 2412,\n 11351,\n 14299,\n 2643,\n 2664,\n 24184,\n 10666,\n 14977,\n 13147,\n 2043,\n 18391,\n 15355,\n 2885,\n 2963,\n 21808,\n 3045,\n 3103,\n 3150,\n 3273,\n 4306,\n 3351,\n 13404,\n 3405,\n 3432,\n 3456,\n 3426,\n 3499,\n 11536,\n 13538,\n 3506,\n 3518,\n 13786,\n 1964,\n 8479,\n 16713,\n 11532,\n 11287,\n 3063,\n 3718,\n 3787,\n 3812]"
     },
     "execution_count": 7,
     "metadata": {},
     "output_type": "execute_result"
    }
   ],
   "source": [
    "token"
   ]
  },
  {
   "cell_type": "code",
   "execution_count": 8,
   "metadata": {},
   "outputs": [
    {
     "name": "stdout",
     "output_type": "stream",
     "text": [
      "{'AARTIIND': 7, 'ABFRL': 30108, 'ACC': 22, 'ADANIENT': 25, 'ADANIPORTS': 15083, 'ALKEM': 11703, 'AMARAJABAT': 100, 'AMBUJACEM': 1270, 'APLLTD': 25328, 'APOLLOHOSP': 157, 'APOLLOTYRE': 163, 'ASHOKLEY': 212, 'ASIANPAINT': 236, 'AUBANK': 21238, 'AUROPHARMA': 275, 'AXISBANK': 5900, 'BAJAJ-AUTO': 16669, 'BAJAJFINSV': 16675, 'BAJFINANCE': 317, 'BALKRISIND': 335, 'BANDHANBNK': 2263, 'BANKBARODA': 4668, 'BATAINDIA': 371, 'BEL': 383, 'BERGEPAINT': 404, 'BHARATFORG': 422, 'BHARTIARTL': 10604, 'BHEL': 438, 'BIOCON': 11373, 'BOSCHLTD': 2181, 'BPCL': 526, 'BRITANNIA': 547, 'CADILAHC': 7929, 'CANBK': 10794, 'CHOLAFIN': 685, 'CIPLA': 694, 'COALINDIA': 20374, 'COFORGE': 11543, 'COLPAL': 15141, 'CONCOR': 4749, 'COROMANDEL': 739, 'CUB': 5701, 'CUMMINSIND': 1901, 'DABUR': 772, 'DEEPAKNTR': 19943, 'DIVISLAB': 10940, 'DLF': 14732, 'DRREDDY': 881, 'EICHERMOT': 910, 'ESCORTS': 958, 'EXIDEIND': 676, 'FEDERALBNK': 1023, 'GAIL': 4717, 'GLENMARK': 7406, 'GMRINFRA': 13528, 'GODREJCP': 10099, 'GODREJPROP': 17875, 'GRANULES': 11872, 'GRASIM': 1232, 'GUJGASLTD': 10599, 'HAVELLS': 9819, 'HCLTECH': 7229, 'HDFC': 1330, 'HDFCAMC': 4244, 'HDFCBANK': 1333, 'HDFCLIFE': 467, 'HEROMOTOCO': 1348, 'HINDALCO': 1363, 'HINDPETRO': 1406, 'HINDUNILVR': 1394, 'IBULHSGFIN': 30125, 'ICICIBANK': 4963, 'ICICIGI': 21770, 'ICICIPRULI': 18652, 'IDEA': 14366, 'IDFCFIRSTB': 11184, 'IGL': 11262, 'INDHOTEL': 1512, 'INDIGO': 11195, 'INDUSINDBK': 5258, 'INDUSTOWER': 29135, 'INFY': 1594, 'IOC': 1624, 'IRCTC': 13611, 'ITC': 1660, 'JINDALSTEL': 6733, 'JSWSTEEL': 11723, 'JUBLFOOD': 18096, 'KOTAKBANK': 1922, 'L&TFH': 11654, 'LALPATHLAB': 1997, 'LICHSGFIN': 19104, 'LT': 17395, 'LTI': 11483, 'LTTS': 17700, 'LUPIN': 17818, 'M&M': 18564, 'M&MFIN': 10440, 'MANAPPURAM': 19061, 'MARICO': 4067, 'MARUTI': 10999, 'MCDOWELL-N': 10447, 'METROPOLIS': 9581, 'MFSL': 2142, 'MGL': 17534, 'MINDTREE': 14356, 'MOTHERSUMI': 4204, 'MPHASIS': 4503, 'MRF': 2277, 'MUTHOOTFIN': 23650, 'NAM-INDIA': 357, 'NATIONALUM': 6364, 'NAUKRI': 13751, 'NAVINFLUOR': 14672, 'NESTLEIND': 17963, 'NMDC': 15332, 'NTPC': 11630, 'ONGC': 2475, 'PAGEIND': 14413, 'PEL': 2412, 'PETRONET': 11351, 'PFC': 14299, 'PFIZER': 2643, 'PIDILITIND': 2664, 'PIIND': 24184, 'PNB': 10666, 'POWERGRID': 14977, 'PVR': 13147, 'RAMCOCEM': 2043, 'RBLBANK': 18391, 'RECLTD': 15355, 'RELIANCE': 2885, 'SAIL': 2963, 'SBILIFE': 21808, 'SBIN': 3045, 'SHREECEM': 3103, 'SIEMENS': 3150, 'SRF': 3273, 'SRTRANSFIN': 4306, 'SUNPHARMA': 3351, 'SUNTV': 13404, 'TATACHEM': 3405, 'TATACONSUM': 3432, 'TATAMOTORS': 3456, 'TATAPOWER': 3426, 'TATASTEEL': 3499, 'TCS': 11536, 'TECHM': 13538, 'TITAN': 3506, 'TORNTPHARM': 3518, 'TORNTPOWER': 13786, 'TRENT': 1964, 'TVSMOTOR': 8479, 'UBL': 16713, 'ULTRACEMCO': 11532, 'UPL': 11287, 'VEDL': 3063, 'VOLTAS': 3718, 'WIPRO': 3787, 'ZEEL': 3812}\n"
     ]
    }
   ],
   "source": [
    "dict={}\n",
    "i=0\n",
    "for ticker in tickers:\n",
    "    dict[ticker]=token[i]\n",
    "    i+=1\n",
    "\n",
    "print(dict)"
   ]
  },
  {
   "cell_type": "code",
   "execution_count": null,
   "metadata": {},
   "outputs": [],
   "source": [
    "len(tickers)"
   ]
  },
  {
   "cell_type": "code",
   "execution_count": null,
   "metadata": {},
   "outputs": [],
   "source": [
    "for i in range(len(df)):\n",
    "    if df['Exch'][i]=='N' and df[\"ExchType\"][i]=='C' and df[\"Series\"][i] == 'EQ':\n",
    "        scripcode.append(df['Scripcode'][i])\n",
    "        symbol.append(df['Name'][i])\n",
    "\n",
    "ohlc_dict=pd.DataFrame()\n",
    "ohlc_dict['scripcode']=np.array(scripcode)\n",
    "ohlc_dict['symbol']=np.array(symbol)\n",
    "ohlc_opg=pd.DataFrame()\n",
    "symbol1=[]\n",
    "scripcode1=[]\n",
    "stocks=[]\n",
    "k=1\n",
    "for i in range(len(ohlc_dict)):\n",
    "    try:\n",
    "        print(\"sahi hai\",i)\n",
    "        df=candle(int(ohlc_dict['scripcode'][i]))\n",
    "        if df['Volume'].iloc[-1]>500000 and df['Close'].iloc[-1]>100 and df['Close'].iloc[-1]<1000:\n",
    "            symbol1.append(ohlc_dict['symbol'][i])\n",
    "            # scripcode1.append(ohlc_dict['scripcode'][i])\n",
    "    except:\n",
    "        print(\"moving aage: \",k)\n",
    "        # k+=1\n",
    "        # stocks.append(ohlc_dict['symbol'])\n",
    "# ohlc_opg['scripcode1']=np.array(scripcode1)\n",
    "# ohlc_opg['symbol1']=np.array(symbol1)\n",
    "\n",
    "print(symbol1)"
   ]
  },
  {
   "cell_type": "code",
   "execution_count": 1,
   "metadata": {},
   "outputs": [
    {
     "data": {
      "text/plain": "219"
     },
     "execution_count": 1,
     "metadata": {},
     "output_type": "execute_result"
    }
   ],
   "source": [
    "ticker=['ALEMBICLTD','CHEMCON','GICRE','ANGELBRKG','NIACL','BERGEPAINT','CANFINHOME','CENTENKA','CESC','HEMIPROP','CLNINDIA','DCMSHRIRAM','ELGIEQUIP','EPL','FINCABLES','GABRIEL','GHCL','GICHSGFIN','NEWGEN','GNFC','FMGOETZE','KANSAINER','CASTROLIND','GUJALKALI','HARRMALAYA','HIMATSEIDE','INDIAGLYCO','BECTORFOOD','JAYSREETEA','JINDALPOLY','KANPRPLA','KAKATCEM','KALPATPOWR','ACRYSIL','KOPRAN','TRENT','MAHSEAMLES','STOVEKRAFT','BDL','MUNJALSHOW','HEIDELBERG','NELCO','ISEC','HERANBA','PRSMJOHNSN','RSWM','ANURAS','HITECH','SURYODAY','WONDERLA','BARBEQUE','LODHA','JTEKTINDIA','STARPAPER','SURYAROSNI','TINPLATE','TIRUMALCHM','UNIVCABLES','JUBLPHARMA','VIPIND','VLSFINANCE','WATERBASE','RITES','ZODIACLOTH','ZUARIGLOB','CAPLIPOINT','TNPL','GREENPLY','JAYAGROGN','PANACEABIO','STERTOOLS','JAGSNPHARM','CREDITACC','JMCPROJECT','AARTIDRUGS','RAMCOIND','HERITGFOOD','INDSWFTLAB','FDC','CIGNITITEC','TRIGYN','GRSE','CYIENT','KOTAKBKETF','INTELLECT','CYBERTECH','GOODLUCK','CAMLINFINE','DTIL','SONATSOFTW','SETFNIFBK','STAR','RAJESHEXPO','RAMCOSYS','GEPIL','AVANTIFEED','ARVINDFASN','STLTECH','TAJGVK','HIKAL','KPITTECH','SMARTLINK','SETFNIF50','SYNGENE','PPL','SHARDAMOTR','TCI','SHREEPUSHK','STCINDIA','RADICO','NATHBIOGEN','CREATIVE','SHK','TVTODAY','VAIBHAVGBL','DATAMATICS','NIITLTD','WESTLIFE','LINCOLN','GUFICBIO','WELENT','JBMA','INDOCO','SUPRAJIT','GOKEX','MANGALAM','NH','MANINDS','ICIL','QUICKHEAL','GSPL','INOXLEISUR','INDOTECH','JKLAKSHMI','EMAMILTD','ACE','SELAN','GESHIP','SOBHA','VENUSREM','BANCOINDIA','PLASTIBLEN','JASH','SANGHVIMOV','PITTIENG','SEQUENT','NAHARSPING','KIRLFER','NCLIND','ALPHAGEO','MOTILALOFS','KSCL','KOLTEPATIL','JYOTHYLAB','BRIGADE','ARIES','DVL','JKIL','ONMOBILE','KNRCON','DHANI','PRINCEPIPE','GET&D','UJJIVAN','CROMPTON','SUMICHEM','PARAGMILK','BLS','MHRIL','SUNTECK','POKARNA','REFEX','DBCORP','TRF','ADVENZYMES','DBL','LGBBROSLTD','VERTOZ','KSL','BLISSGVS','HISARMETAL','BOROLTD','BAJAJCON','BSE','SASTASUNDR','CAREERP','RAMKY','WABAG','CLEDUCATE','OBEROIRLTY','PRESTIGE','IOLCP','GRAVITA','KIRLOSENG','STARCEMENT','BFINVEST','ERIS','CDSL','STEL','APEX','DCAL','CAPACITE','ICICITECH','N100','ESTER','ASHIANA','APLLTD','TRITURBINE','POLYMED','RUPA','MINDACORP','SWANENERGY','KITEX','ZUARI','CARERATING','REPCOHOME','ORIENTREF','APTECHT','PREMEXPLN']\n",
    "len(ticker)"
   ]
  },
  {
   "cell_type": "code",
   "execution_count": null,
   "metadata": {},
   "outputs": [],
   "source": []
  }
 ],
 "metadata": {
  "kernelspec": {
   "display_name": "Python 3.9.5 64-bit",
   "name": "python395jvsc74a57bd0aee8b7b246df8f9039afb4144a1f6fd8d2ca17a180786b69acc140d282b71a49"
  },
  "language_info": {
   "codemirror_mode": {
    "name": "ipython",
    "version": 3
   },
   "file_extension": ".py",
   "mimetype": "text/x-python",
   "name": "python",
   "nbconvert_exporter": "python",
   "pygments_lexer": "ipython3",
   "version": "3.9.5"
  },
  "metadata": {
   "interpreter": {
    "hash": "aee8b7b246df8f9039afb4144a1f6fd8d2ca17a180786b69acc140d282b71a49"
   }
  },
  "orig_nbformat": 2
 },
 "nbformat": 4,
 "nbformat_minor": 2
}