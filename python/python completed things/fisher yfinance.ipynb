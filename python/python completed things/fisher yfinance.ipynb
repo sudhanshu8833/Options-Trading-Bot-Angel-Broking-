{
 "cells": [
  {
   "cell_type": "code",
   "execution_count": null,
   "metadata": {},
   "outputs": [],
   "source": [
    "from finta import TA\n",
    "import yfinance as yf\n",
    "import numpy as np\n",
    "import pandas as pd\n",
    "import yfinance as yf\n",
    "from alpha_vantage.timeseries import TimeSeries\n",
    "import datetime as dt\n",
    "import copy\n",
    "import matplotlib.pyplot as plt\n",
    "import time\n"
   ]
  },
  {
   "cell_type": "code",
   "execution_count": null,
   "metadata": {},
   "outputs": [],
   "source": [
    "tickers=[\"DIVISLAB.NS\",\"BAJFINANCE.NS\",\"JSWSTEEL.NS\",\"WIPRO.NS\",\"TECHM.NS\",\"TATACONSUM.NS\",\"CIPLA.NS\",\"ITC.NS\",\"HINDUNILVR.NS\",\"SHREECEM.NS\",\"SBIN.NS\",\"INDUSINDBK.NS\",\"TATASTEEL.NS\",\"DRREDDY.NS\",\"SUNPHARMA.NS\",\"IOC.NS\",\"BHARTIARTL.NS\",\"RELIANCE.NS\",\"BAJAJFINSV.NS\",\"COALINDIA.NS\",\"HINDALCO.NS\",\"TATAMOTORS.NS\",\"INFY.NS\",\"M&M.NS\",\"NTPC.NS\",\"BRITANNIA.NS\",\"GRASIM.NS\",\"NESTLEIND.NS\",\"POWERGRID.NS\",\"KOTAKBANK.NS\",\"HCLTECH.NS\",\"LT.NS\",\"BPCL.NS\",\"TCS.NS\",\"HDFCLIFE.NS\",\"ASIANPAINT.NS\",\"HDFC.NS\",\"ONGC.NS\",\"AXISBANK.NS\",\"HDFCBANK.NS\",\"SBILIFE.NS\",\"ICICIBANK.NS\",\"TITAN.NS\",\"ULTRACEMCO.NS\",\"MARUTI.NS\",\"HEROMOTOCO.NS\",\"ADANIPORTS.NS\",\"EICHERMOT.NS\",\"UPL.NS\",\"BAJAJ-AUTO.NS\"]"
   ]
  },
  {
   "cell_type": "code",
   "execution_count": null,
   "metadata": {},
   "outputs": [],
   "source": [
    "ohlc_intraday={}"
   ]
  },
  {
   "cell_type": "code",
   "execution_count": null,
   "metadata": {},
   "outputs": [],
   "source": [
    "for ticker in tickers:\n",
    "    ohlc_intraday[ticker]=yf.download(ticker,dt.datetime.today()-dt.timedelta(59),dt.datetime.today(),interval=\"5m\")"
   ]
  },
  {
   "cell_type": "code",
   "execution_count": null,
   "metadata": {},
   "outputs": [],
   "source": [
    "data=yf.Ticker('MSFT').calendar\n"
   ]
  },
  {
   "cell_type": "code",
   "execution_count": null,
   "metadata": {},
   "outputs": [],
   "source": [
    "data"
   ]
  },
  {
   "cell_type": "code",
   "execution_count": null,
   "metadata": {},
   "outputs": [],
   "source": [
    "ohlc_intraday"
   ]
  },
  {
   "cell_type": "code",
   "execution_count": null,
   "metadata": {},
   "outputs": [],
   "source": [
    "ohlc_dict=copy.deepcopy(ohlc_intraday)"
   ]
  },
  {
   "cell_type": "code",
   "execution_count": null,
   "metadata": {},
   "outputs": [],
   "source": [
    "def MACD(DF,a,b,c):\n",
    "    \"\"\"function to calculate MACD\n",
    "       typical values a = 12; b =26, c =9\"\"\"\n",
    "    df = DF.copy()\n",
    "    df[\"MA_Fast\"]=df[\"close\"].ewm(span=a,min_periods=a).mean()\n",
    "    df[\"MA_Slow\"]=df[\"close\"].ewm(span=b,min_periods=b).mean()\n",
    "    df[\"MACD\"]=df[\"MA_Fast\"]-df[\"MA_Slow\"]\n",
    "    df[\"Signal\"]=df[\"MACD\"].ewm(span=c,min_periods=c).mean()\n",
    "    df.dropna(inplace=True)\n",
    "    df.drop([\"MA_Fast\",\"MA_Slow\"],axis=1)\n",
    "    return df\n",
    "\n",
    "\n",
    "def CAGR(DF):\n",
    "    \"function to calculate the Cumulative Annual Growth Rate of a trading strategy\"\n",
    "    df = DF.copy()\n",
    "    df[\"cum_return\"] = (1 + df[\"ret\"]).cumprod()\n",
    "    n = len(df)/(252*74)\n",
    "    CAGR = (df[\"cum_return\"].tolist()[-1])**(1/n) - 1\n",
    "    return CAGR\n",
    "\n",
    "def volatility(DF):\n",
    "    \"function to calculate annualized volatility of a trading strategy\"\n",
    "    df = DF.copy()\n",
    "    vol = df[\"ret\"].std() * np.sqrt(252*74)\n",
    "    return vol\n",
    "\n",
    "def sharpe(DF,rf):\n",
    "    \"function to calculate sharpe ratio ; rf is the risk free rate\"\n",
    "    df = DF.copy()\n",
    "    sr = (CAGR(df) - rf)/volatility(df)\n",
    "    return sr\n",
    "    \n",
    "\n",
    "def max_dd(DF):\n",
    "    \"function to calculate max drawdown\"\n",
    "    df = DF.copy()\n",
    "    df[\"cum_return\"] = (1 + df[\"ret\"]).cumprod()\n",
    "    df[\"cum_roll_max\"] = df[\"cum_return\"].cummax()\n",
    "    df[\"drawdown\"] = df[\"cum_roll_max\"] - df[\"cum_return\"]\n",
    "    df[\"drawdown_pct\"] = df[\"drawdown\"]/df[\"cum_roll_max\"]\n",
    "    max_dd = df[\"drawdown_pct\"].max()\n",
    "    return max_dd\n",
    "\n",
    "def win_pct(DF):\n",
    "    df=DF.copy()\n",
    "    j=0\n",
    "    for i in range(len(df)):\n",
    "        if df[\"profit\"][i]>0:\n",
    "            j+=1\n",
    "\n",
    "    win_percent=j/len(df)*100\n",
    "\n",
    "    return win_percent\n",
    "            \n"
   ]
  },
  {
   "cell_type": "code",
   "execution_count": null,
   "metadata": {},
   "outputs": [],
   "source": [
    "tickers_signal = {}\n",
    "ticker_ret = {}"
   ]
  },
  {
   "cell_type": "code",
   "execution_count": null,
   "metadata": {},
   "outputs": [],
   "source": [
    "for ticker in tickers:\n",
    "    ohlc_dict[ticker]=ohlc_dict[ticker].iloc[:,[0,1,2,4,5]]\n",
    "    ohlc_dict[ticker].columns=[\"open\",\"high\",\"low\",\"close\",\"volume\"]\n",
    "    ohlc_dict[ticker][\"fisher 20\"]=TA.FISH(ohlc_dict[ticker],20)\n",
    "    ohlc_dict[ticker][\"fisher 10\"]=TA.FISH(ohlc_dict[ticker],10)    \n",
    "    ohlc_dict[ticker][\"RSI 16\"]=TA.RSI(ohlc_dict[ticker],16)\n",
    "    ohlc_dict[ticker][\"RSI 21\"]=TA.RSI(ohlc_dict[ticker],21)\n",
    "    ohlc_dict[ticker][\"MACD macd line\"]=MACD(ohlc_dict[ticker],12,26,9)[\"MACD\"]\n",
    "    ohlc_dict[ticker][\"MACD signal line\"]=MACD(ohlc_dict[ticker],12,26,9)[\"Signal\"]\n",
    "    \n",
    "    ohlc_dict[ticker].dropna(inplace=True)\n",
    "    "
   ]
  },
  {
   "cell_type": "code",
   "execution_count": null,
   "metadata": {},
   "outputs": [],
   "source": [
    "ticker_signal={}\n",
    "ticker_ret={}\n",
    "ohlc_database={}\n",
    "price_in=[]\n",
    "price_out=[]\n",
    "order=[]\n",
    "stock=[]\n"
   ]
  },
  {
   "cell_type": "code",
   "execution_count": null,
   "metadata": {},
   "outputs": [],
   "source": [
    "for ticker in tickers:\n",
    "    ticker_signal[ticker]=[]\n",
    "    ticker_ret[ticker]=[]\n",
    "    ohlc_database[ticker]=pd.DataFrame()\n",
    "\n",
    "    ohlc_dict[ticker].rename(columns={\"open\":\"Open\",\"high\":\"High\",\"low\":\"Low\",\"close\":\"Close\",\"volume\":\"Volume\"},inplace=True)"
   ]
  },
  {
   "cell_type": "code",
   "execution_count": null,
   "metadata": {},
   "outputs": [],
   "source": [
    "try:\n",
    "        \n",
    "    for ticker in tickers:\n",
    "        signal=\"\"\n",
    "        for i in range(len(ohlc_dict[ticker])):\n",
    "            if signal==\"\":\n",
    "                if ohlc_dict[ticker][\"fisher 10\"][i]>0 and ohlc_dict[ticker][\"fisher 10\"][i-1]<0 and ohlc_dict[ticker][\"RSI 16\"][i]>50: \n",
    "                    signal=\"buy\"\n",
    "                    price=ohlc_dict[ticker][\"Close\"][i]\n",
    "                    price_in.append(ohlc_dict[ticker][\"Close\"][i])\n",
    "                    \n",
    "                    order.append(\"long\")\n",
    "                    stock.append(ticker)\n",
    "\n",
    "                    \n",
    "                \n",
    "\n",
    "\n",
    "\n",
    "                elif (ohlc_dict[ticker][\"fisher 20\"][i]<0 and ohlc_dict[ticker][\"fisher 20\"][i-1]>0) and ohlc_dict[ticker][\"MACD macd line\"][i]<ohlc_dict[ticker][\"MACD signal line\"][i] and ohlc_dict[ticker][\"RSI 21\"][i]<42.5:\n",
    "                    signal=\"sell\"\n",
    "                    price=ohlc_dict[ticker][\"Close\"][i]\n",
    "                    \n",
    "                    price_in.append(ohlc_dict[ticker][\"Close\"][i])\n",
    "                    \n",
    "                    order.append(\"short\")\n",
    "                    stock.append(ticker)                \n",
    "                ticker_ret[ticker].append(0)\n",
    "\n",
    "            elif signal==\"buy\":\n",
    "                if (ohlc_dict[ticker][\"fisher 20\"][i]<0.5 and ohlc_dict[ticker][\"fisher 20\"][i-1]>0.5) or ohlc_dict[ticker][\"Close\"][i]>=price+.02*price or ohlc_dict[ticker][\"Close\"][i]<=price-.008*price:\n",
    "\n",
    "                    signal=\"\"\n",
    "                    price_out.append(ohlc_dict[ticker][\"Close\"][i])\n",
    "                    ticker_ret[ticker].append((ohlc_dict[ticker][\"Close\"][i]/ohlc_dict[ticker][\"Close\"][i-1])-1) \n",
    "\n",
    "                \n",
    "                \n",
    "                else:\n",
    "                    ticker_ret[ticker].append((ohlc_dict[ticker][\"Close\"][i]/ohlc_dict[ticker][\"Close\"][i-1])-1)\n",
    "            \n",
    "            \n",
    "            \n",
    "            elif signal==\"sell\":\n",
    "                if (ohlc_dict[ticker][\"fisher 20\"][i]>-1 and ohlc_dict[ticker][\"fisher 20\"][i-1]<-1) or (ohlc_dict[ticker][\"fisher 20\"][i]>0 and ohlc_dict[ticker][\"fisher 20\"][i-1]<0) or ohlc_dict[ticker][\"Close\"][i]<=price +.02*price or ohlc_dict[ticker][\"Close\"][i]>=price-.005*price:\n",
    "                    price_out.append(ohlc_dict[ticker][\"Close\"][i])\n",
    "\n",
    "                    signal=\"\"\n",
    "                    ticker_ret[ticker].append((ohlc_dict[ticker][\"Close\"][i-1]/ohlc_dict[ticker][\"Close\"][i])-1)\n",
    "\n",
    "            \n",
    "                \n",
    "                else:\n",
    "                    ticker_ret[ticker].append((ohlc_dict[ticker][\"Close\"][i-1]/ohlc_dict[ticker][\"Close\"][i])-1)\n",
    "        if len(price_in)!=len(price_out):\n",
    "            price_out.append(ohlc_dict[ticker][\"Close\"][-1])\n",
    "        ohlc_dict[ticker][\"ret\"] = np.array(ticker_ret[ticker])\n",
    "\n",
    "except:\n",
    "    print(\"can't get data\")   "
   ]
  },
  {
   "cell_type": "code",
   "execution_count": null,
   "metadata": {},
   "outputs": [],
   "source": [
    "ohlc_dict[\"HINDALCO.NS\"].to_csv(\"hindalco.csv\")"
   ]
  },
  {
   "cell_type": "code",
   "execution_count": null,
   "metadata": {},
   "outputs": [],
   "source": [
    "ohlcv_database=pd.DataFrame()\n",
    "\n",
    "ohlcv_database[\"price_in\"]=np.array(price_in)\n",
    "ohlcv_database[\"price_out\"]=np.array(price_out)\n",
    "ohlcv_database[\"order\"]=np.array(order)\n",
    "ohlcv_database[\"stock\"]=np.array(stock)"
   ]
  },
  {
   "cell_type": "code",
   "execution_count": null,
   "metadata": {},
   "outputs": [],
   "source": [
    "profit=[]\n",
    "for i in range(len(ohlcv_database)):\n",
    "    if ohlcv_database[\"order\"][i]==\"long\":\n",
    "        profit.append(((ohlcv_database[\"price_out\"][i]-ohlcv_database[\"price_in\"][i])/ohlcv_database[\"price_in\"][i])*100)\n",
    "\n",
    "    elif ohlcv_database[\"order\"][i]==\"short\":\n",
    "        profit.append(((ohlcv_database[\"price_in\"][i]-ohlcv_database[\"price_out\"][i])/ohlcv_database[\"price_out\"][i])*100)\n",
    "\n",
    "ohlcv_database[\"profit\"]=np.array(profit)"
   ]
  },
  {
   "cell_type": "code",
   "execution_count": null,
   "metadata": {},
   "outputs": [],
   "source": [
    "ohlcv_database.to_csv(\"datab.csv\")"
   ]
  },
  {
   "cell_type": "code",
   "execution_count": null,
   "metadata": {},
   "outputs": [],
   "source": [
    "ohlcv_database"
   ]
  },
  {
   "cell_type": "code",
   "execution_count": null,
   "metadata": {},
   "outputs": [],
   "source": [
    "strategy_df = pd.DataFrame()\n",
    "for ticker in tickers:\n",
    "    strategy_df[ticker] = ohlc_dict[ticker][\"ret\"]\n",
    "strategy_df[\"ret\"] = strategy_df.mean(axis=1)\n",
    "CAGR(strategy_df)\n",
    "\n"
   ]
  },
  {
   "cell_type": "code",
   "execution_count": null,
   "metadata": {},
   "outputs": [],
   "source": [
    "(1+strategy_df[\"ret\"]).cumprod().plot()"
   ]
  },
  {
   "cell_type": "code",
   "execution_count": null,
   "metadata": {},
   "outputs": [],
   "source": [
    "cagr = {}\n",
    "sharpe_ratios = {}\n",
    "max_drawdown = {}\n",
    "win_pcts={}\n",
    "for ticker in tickers:\n",
    "    win=[]\n",
    "    print(\"calculating KPIs for \",ticker)      \n",
    "    cagr[ticker] =  CAGR(ohlc_dict[ticker])\n",
    "    for i in range(len(ohlcv_database)):\n",
    "        if ohlcv_database[\"stock\"][i]==ticker:\n",
    "            \n",
    "            win.append(ohlcv_database[\"profit\"][i])\n",
    "    win_df=pd.DataFrame()\n",
    "    win_df[\"profit\"]=np.array(win)\n",
    "    win_pcts[ticker]=win_pct(win_df)           \n",
    "\n",
    "    sharpe_ratios[ticker] =  sharpe(ohlc_dict[ticker],0.025)\n",
    "    max_drawdown[ticker] =  max_dd(ohlc_dict[ticker])\n",
    "\n",
    "KPI_df = pd.DataFrame([cagr,sharpe_ratios,max_drawdown,win_pcts],index=[\"Return\",\"Sharpe Ratio\",\"Max Drawdown\",\"win_pct\"])      \n",
    "KPI_df.T\n"
   ]
  },
  {
   "cell_type": "code",
   "execution_count": null,
   "metadata": {},
   "outputs": [],
   "source": [
    "KPI_df.T.to_csv(\"dat.csv\")"
   ]
  },
  {
   "cell_type": "code",
   "execution_count": null,
   "metadata": {},
   "outputs": [],
   "source": []
  }
 ],
 "metadata": {
  "kernelspec": {
   "display_name": "Python 3.9.5 64-bit",
   "name": "python395jvsc74a57bd0aee8b7b246df8f9039afb4144a1f6fd8d2ca17a180786b69acc140d282b71a49"
  },
  "language_info": {
   "name": "python",
   "version": ""
  },
  "metadata": {
   "interpreter": {
    "hash": "aee8b7b246df8f9039afb4144a1f6fd8d2ca17a180786b69acc140d282b71a49"
   }
  },
  "orig_nbformat": 2
 },
 "nbformat": 4,
 "nbformat_minor": 2
}