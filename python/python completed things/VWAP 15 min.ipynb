{
 "metadata": {
  "language_info": {
   "codemirror_mode": {
    "name": "ipython",
    "version": 3
   },
   "file_extension": ".py",
   "mimetype": "text/x-python",
   "name": "python",
   "nbconvert_exporter": "python",
   "pygments_lexer": "ipython3",
   "version": "3.9.5"
  },
  "orig_nbformat": 2,
  "kernelspec": {
   "name": "python395jvsc74a57bd0aee8b7b246df8f9039afb4144a1f6fd8d2ca17a180786b69acc140d282b71a49",
   "display_name": "Python 3.9.5 64-bit"
  },
  "metadata": {
   "interpreter": {
    "hash": "aee8b7b246df8f9039afb4144a1f6fd8d2ca17a180786b69acc140d282b71a49"
   }
  }
 },
 "nbformat": 4,
 "nbformat_minor": 2,
 "cells": [
  {
   "cell_type": "code",
   "execution_count": 1,
   "metadata": {},
   "outputs": [],
   "source": [
    "from finta import TA\n",
    "import yfinance as yf\n",
    "import numpy as np\n",
    "import pandas as pd\n",
    "import yfinance as yf\n",
    "from alpha_vantage.timeseries import TimeSeries\n",
    "import datetime as dt\n",
    "import copy\n",
    "import matplotlib.pyplot as plt\n",
    "import time\n"
   ]
  },
  {
   "cell_type": "code",
   "execution_count": 2,
   "metadata": {},
   "outputs": [],
   "source": [
    "tickers=[\"DIVISLAB.NS\",\"BAJFINANCE.NS\",\"JSWSTEEL.NS\"]\n"
   ]
  },
  {
   "cell_type": "code",
   "execution_count": 3,
   "metadata": {},
   "outputs": [],
   "source": [
    "ohlc_intraday_5M={}\n",
    "ohlc_intraday_2M={}\n",
    "ohlc_intraday_1D={}\n",
    "ohlc_intraday_1M={}"
   ]
  },
  {
   "cell_type": "code",
   "execution_count": 4,
   "metadata": {},
   "outputs": [
    {
     "output_type": "stream",
     "name": "stdout",
     "text": [
      "[*********************100%***********************]  1 of 1 completed\n",
      "[*********************100%***********************]  1 of 1 completed\n",
      "[*********************100%***********************]  1 of 1 completed\n"
     ]
    }
   ],
   "source": [
    "for ticker in tickers:\n",
    "    ohlc_intraday_5M[ticker]=yf.download(ticker,dt.datetime.today()-dt.timedelta(7),dt.datetime.today(),interval=\"5m\")"
   ]
  },
  {
   "cell_type": "code",
   "execution_count": 5,
   "metadata": {},
   "outputs": [
    {
     "output_type": "stream",
     "name": "stdout",
     "text": [
      "[*********************100%***********************]  1 of 1 completed\n",
      "[*********************100%***********************]  1 of 1 completed\n",
      "[*********************100%***********************]  1 of 1 completed\n"
     ]
    }
   ],
   "source": [
    "for ticker in tickers:\n",
    "    ohlc_intraday_1D[ticker]=yf.download(ticker,dt.datetime.today()-dt.timedelta(6),dt.datetime.today())"
   ]
  },
  {
   "cell_type": "code",
   "execution_count": 6,
   "metadata": {},
   "outputs": [
    {
     "output_type": "stream",
     "name": "stdout",
     "text": [
      "[*********************100%***********************]  1 of 1 completed\n",
      "[*********************100%***********************]  1 of 1 completed\n",
      "[*********************100%***********************]  1 of 1 completed\n"
     ]
    }
   ],
   "source": [
    "for ticker in tickers:\n",
    "    ohlc_intraday_1M[ticker]=yf.download(ticker,dt.datetime.today()-dt.timedelta(7),dt.datetime.today(),interval=\"1m\")"
   ]
  },
  {
   "cell_type": "code",
   "execution_count": 7,
   "metadata": {},
   "outputs": [
    {
     "output_type": "execute_result",
     "data": {
      "text/plain": [
       "                   Open         High          Low        Close    Adj Close  \\\n",
       "Date                                                                          \n",
       "2021-06-07  5800.000000  5843.850098  5682.450195  5729.750000  5729.750000   \n",
       "2021-06-08  5751.000000  5817.000000  5720.149902  5755.399902  5755.399902   \n",
       "2021-06-09  5795.000000  5795.000000  5627.299805  5674.500000  5674.500000   \n",
       "2021-06-10  5715.000000  6115.000000  5677.000000  6086.399902  6086.399902   \n",
       "2021-06-11  6105.350098  6230.000000  6045.200195  6120.000000  6120.000000   \n",
       "\n",
       "             Volume  \n",
       "Date                 \n",
       "2021-06-07  2835805  \n",
       "2021-06-08  1789007  \n",
       "2021-06-09  1538112  \n",
       "2021-06-10  5296120  \n",
       "2021-06-11  3702721  "
      ],
      "text/html": "<div>\n<style scoped>\n    .dataframe tbody tr th:only-of-type {\n        vertical-align: middle;\n    }\n\n    .dataframe tbody tr th {\n        vertical-align: top;\n    }\n\n    .dataframe thead th {\n        text-align: right;\n    }\n</style>\n<table border=\"1\" class=\"dataframe\">\n  <thead>\n    <tr style=\"text-align: right;\">\n      <th></th>\n      <th>Open</th>\n      <th>High</th>\n      <th>Low</th>\n      <th>Close</th>\n      <th>Adj Close</th>\n      <th>Volume</th>\n    </tr>\n    <tr>\n      <th>Date</th>\n      <th></th>\n      <th></th>\n      <th></th>\n      <th></th>\n      <th></th>\n      <th></th>\n    </tr>\n  </thead>\n  <tbody>\n    <tr>\n      <th>2021-06-07</th>\n      <td>5800.000000</td>\n      <td>5843.850098</td>\n      <td>5682.450195</td>\n      <td>5729.750000</td>\n      <td>5729.750000</td>\n      <td>2835805</td>\n    </tr>\n    <tr>\n      <th>2021-06-08</th>\n      <td>5751.000000</td>\n      <td>5817.000000</td>\n      <td>5720.149902</td>\n      <td>5755.399902</td>\n      <td>5755.399902</td>\n      <td>1789007</td>\n    </tr>\n    <tr>\n      <th>2021-06-09</th>\n      <td>5795.000000</td>\n      <td>5795.000000</td>\n      <td>5627.299805</td>\n      <td>5674.500000</td>\n      <td>5674.500000</td>\n      <td>1538112</td>\n    </tr>\n    <tr>\n      <th>2021-06-10</th>\n      <td>5715.000000</td>\n      <td>6115.000000</td>\n      <td>5677.000000</td>\n      <td>6086.399902</td>\n      <td>6086.399902</td>\n      <td>5296120</td>\n    </tr>\n    <tr>\n      <th>2021-06-11</th>\n      <td>6105.350098</td>\n      <td>6230.000000</td>\n      <td>6045.200195</td>\n      <td>6120.000000</td>\n      <td>6120.000000</td>\n      <td>3702721</td>\n    </tr>\n  </tbody>\n</table>\n</div>"
     },
     "metadata": {},
     "execution_count": 7
    }
   ],
   "source": [
    "ohlc_intraday_1D[\"BAJFINANCE.NS\"]"
   ]
  },
  {
   "cell_type": "code",
   "execution_count": 8,
   "metadata": {},
   "outputs": [],
   "source": [
    "ohlc_dict_1D=copy.deepcopy(ohlc_intraday_1D)\n",
    "ohlc_dict_1M=copy.deepcopy(ohlc_intraday_1M)\n",
    "ohlc_dict_2M=copy.deepcopy(ohlc_intraday_2M)\n",
    "\n",
    "ohlc_dict_5M=copy.deepcopy(ohlc_intraday_5M)"
   ]
  },
  {
   "cell_type": "code",
   "execution_count": 9,
   "metadata": {},
   "outputs": [],
   "source": [
    "def MACD(DF,a,b,c):\n",
    "    \"\"\"function to calculate MACD\n",
    "       typical values a = 12; b =26, c =9\"\"\"\n",
    "    df = DF.copy()\n",
    "    df[\"MA_Fast\"]=df[\"close\"].ewm(span=a,min_periods=a).mean()\n",
    "    df[\"MA_Slow\"]=df[\"close\"].ewm(span=b,min_periods=b).mean()\n",
    "    df[\"MACD\"]=df[\"MA_Fast\"]-df[\"MA_Slow\"]\n",
    "    \n",
    "    df[\"Signal\"]=df[\"MACD\"].ewm(span=c,min_periods=c).mean()\n",
    "    df.dropna(inplace=True)\n",
    "    df.drop([\"MA_Fast\",\"MA_Slow\"],axis=1)\n",
    "    return df\n",
    "\n",
    "\n",
    "def CAGR(DF):\n",
    "    \"function to calculate the Cumulative Annual Growth Rate of a trading strategy\"\n",
    "    df = DF.copy()\n",
    "    df[\"cum_return\"] = (1 + df[\"ret\"]).cumprod()\n",
    "    n = len(df)/(252*74)\n",
    "    CAGR = (df[\"cum_return\"].tolist()[-1])**(1/n) - 1\n",
    "    return CAGR\n",
    "\n",
    "def volatility(DF):\n",
    "    \"function to calculate annualized volatility of a trading strategy\"\n",
    "    df = DF.copy()\n",
    "    vol = df[\"ret\"].std() * np.sqrt(252*74)\n",
    "    return vol\n",
    "\n",
    "def sharpe(DF,rf):\n",
    "    \"function to calculate sharpe ratio ; rf is the risk free rate\"\n",
    "    df = DF.copy()\n",
    "    sr = (CAGR(df) - rf)/volatility(df)\n",
    "    return sr\n",
    "    \n",
    "\n",
    "def max_dd(DF):\n",
    "    \"function to calculate max drawdown\"\n",
    "    df = DF.copy()\n",
    "    df[\"cum_return\"] = (1 + df[\"ret\"]).cumprod()\n",
    "    df[\"cum_roll_max\"] = df[\"cum_return\"].cummax()\n",
    "    df[\"drawdown\"] = df[\"cum_roll_max\"] - df[\"cum_return\"]\n",
    "    df[\"drawdown_pct\"] = df[\"drawdown\"]/df[\"cum_roll_max\"]\n",
    "    max_dd = df[\"drawdown_pct\"].max()\n",
    "    return max_dd\n",
    "\n",
    "def win_pct(DF):\n",
    "    df=DF.copy()\n",
    "    j=0\n",
    "    for i in range(len(df)):\n",
    "        if df[\"profit\"][i]>0:\n",
    "            j+=1\n",
    "\n",
    "    win_percent=j/len(df)*100\n",
    "\n",
    "    return win_percent\n",
    "            \n"
   ]
  },
  {
   "cell_type": "code",
   "execution_count": 10,
   "metadata": {},
   "outputs": [],
   "source": [
    "tickers_signal = {}\n",
    "ticker_ret = {}"
   ]
  },
  {
   "cell_type": "code",
   "execution_count": 11,
   "metadata": {},
   "outputs": [],
   "source": [
    "for ticker in tickers:\n",
    "    ohlc_dict_1M[ticker]=ohlc_dict_1M[ticker].iloc[:,[0,1,2,4,5]]\n",
    "    ohlc_dict_1M[ticker].columns=[\"open\",\"high\",\"low\",\"close\",\"volume\"]\n",
    "\n",
    "    ohlc_dict_5M[ticker]=ohlc_dict_5M[ticker].iloc[:,[0,1,2,4,5]]\n",
    "    ohlc_dict_5M[ticker].columns=[\"open\",\"high\",\"low\",\"close\",\"volume\"]\n",
    "\n",
    "    ohlc_dict_1D[ticker]=ohlc_dict_1D[ticker].iloc[:,[0,1,2,4,5]]\n",
    "    ohlc_dict_1D[ticker].columns=[\"open\",\"high\",\"low\",\"close\",\"volume\"]\n",
    "\n",
    "    ohlc_dict_1M[ticker][\"VWAP\"]=TA.VWAP(ohlc_dict_1M[ticker])\n",
    "    ohlc_dict_1M[ticker][\"volume MA\"]= ohlc_dict_1M[ticker][\"volume\"].rolling(20).mean()\n",
    "\n",
    "\n",
    "\n",
    "    "
   ]
  },
  {
   "cell_type": "code",
   "execution_count": 12,
   "metadata": {},
   "outputs": [
    {
     "output_type": "stream",
     "name": "stdout",
     "text": [
      "calculating for  DIVISLAB.NS\ncalculating for  BAJFINANCE.NS\ncalculating for  JSWSTEEL.NS\n"
     ]
    }
   ],
   "source": [
    "for ticker in tickers:\n",
    "    try:\n",
    "        print(\"calculating for \",ticker)\n",
    "        price=[]\n",
    "\n",
    "        for k in range(len(ohlc_dict_1D[ticker])):\n",
    "            for i in range(k*375,(k+1)*375):\n",
    "                \n",
    "                \n",
    "                if i!=1874:\n",
    "\n",
    "                \n",
    "                    if i<375:\n",
    "                        price.append(0)\n",
    "\n",
    "                    else:\n",
    "                        price.append(ohlc_dict_1D[ticker][\"high\"][k-1])\n",
    "\n",
    " \n",
    "   \n",
    "\n",
    "                \n",
    "\n",
    "        ohlc_dict_1M[ticker][\"previous day high\"]=np.array(price)\n",
    "\n",
    "    except:\n",
    "        print(\"problem with data\")\n",
    "\n",
    "\n",
    "\n"
   ]
  },
  {
   "cell_type": "code",
   "execution_count": 13,
   "metadata": {},
   "outputs": [
    {
     "output_type": "stream",
     "name": "stdout",
     "text": [
      "getting data for DIVISLAB.NS\ngetting data for BAJFINANCE.NS\ngetting data for JSWSTEEL.NS\n"
     ]
    }
   ],
   "source": [
    "for ticker in tickers:\n",
    "    print(\"getting data for\", ticker)\n",
    "    try:\n",
    "        price=[]\n",
    "\n",
    "        for k in range(len(ohlc_dict_1D[ticker])):\n",
    "            for i in range(k*375,(k+1)*375):\n",
    "            \n",
    "                if i!=1874:\n",
    "                    if i<375:\n",
    "                        price.append(0)\n",
    "\n",
    "                    else:\n",
    "                        price.append(ohlc_dict_1D[ticker][\"low\"][k-1])\n",
    "\n",
    "        ohlc_dict_1M[ticker][\"previous day low\"]=np.array(price)\n",
    "\n",
    "    except:\n",
    "        print(\"problem with data\")\n"
   ]
  },
  {
   "cell_type": "code",
   "execution_count": 14,
   "metadata": {},
   "outputs": [
    {
     "output_type": "stream",
     "name": "stdout",
     "text": [
      "getting data for  DIVISLAB.NS\n",
      "getting data for  BAJFINANCE.NS\n",
      "getting data for  JSWSTEEL.NS\n"
     ]
    }
   ],
   "source": [
    "for ticker in tickers:\n",
    "    print(\"getting data for \", ticker)\n",
    "    try:\n",
    "        prise=[]\n",
    "\n",
    "        for k in range(len(ohlc_dict_1D[ticker])):\n",
    "            for i in range(k*375,(k+1)*375):\n",
    "                \n",
    "                if i!=1874:\n",
    "                    if i<375:\n",
    "                        prise.append(0)\n",
    "\n",
    "                    elif i>k*375 and i<k*375+5:\n",
    "                        prise.append(0)\n",
    "\n",
    "                    else:\n",
    "                        prise.append(ohlc_dict_5M[ticker][\"high\"][k*75:k*75+3].max())\n",
    "\n",
    "        ohlc_dict_1M[ticker][\"intraday high\"]=np.array(prise)\n",
    "\n",
    "    except:\n",
    "        print(\"problem with data\")"
   ]
  },
  {
   "cell_type": "code",
   "execution_count": 15,
   "metadata": {},
   "outputs": [
    {
     "output_type": "stream",
     "name": "stdout",
     "text": [
      "getting data for  DIVISLAB.NS\ngetting data for  BAJFINANCE.NS\ngetting data for  JSWSTEEL.NS\n"
     ]
    }
   ],
   "source": [
    "for ticker in tickers:\n",
    "    print(\"getting data for \", ticker)\n",
    "    try:\n",
    "        prise=[]\n",
    "\n",
    "        for k in range(len(ohlc_dict_1D[ticker])):\n",
    "            for i in range(k*375,(k+1)*375):\n",
    "                \n",
    "                if i!=1874:\n",
    "                    if i<375:\n",
    "                        prise.append(0)\n",
    "\n",
    "                    elif i>k*375 and i<k*375+5:\n",
    "                        prise.append(0)\n",
    "\n",
    "                    else:\n",
    "                        prise.append(ohlc_dict_5M[ticker][\"low\"][k*75:k*75+3].min())\n",
    "\n",
    "        ohlc_dict_1M[ticker][\"intraday low\"]=np.array(prise)\n",
    "\n",
    "    except:\n",
    "        print(\"problem with data\")"
   ]
  },
  {
   "cell_type": "code",
   "execution_count": 16,
   "metadata": {},
   "outputs": [],
   "source": [
    "ohlc_dict_1M[\"BAJFINANCE.NS\"].to_csv(\"a2.csv\")"
   ]
  },
  {
   "cell_type": "code",
   "execution_count": null,
   "metadata": {},
   "outputs": [],
   "source": []
  },
  {
   "cell_type": "code",
   "execution_count": 17,
   "metadata": {},
   "outputs": [],
   "source": [
    "ticker_signal={}\n",
    "ticker_ret={}\n",
    "ohlc_database={}\n",
    "price_in=[]\n",
    "price_out=[]\n",
    "order=[]\n",
    "stock=[]\n",
    "ohlc_dict={}\n"
   ]
  },
  {
   "cell_type": "code",
   "execution_count": 18,
   "metadata": {},
   "outputs": [],
   "source": [
    "for ticker in tickers:\n",
    "\n",
    "\n",
    "    ticker_signal[ticker]=[]\n",
    "    ticker_ret[ticker]=[]\n",
    "    ohlc_database[ticker]=pd.DataFrame()\n",
    "    ohlc_dict[ticker]=pd.DataFrame()\n",
    "\n",
    "    ohlc_dict_1M[ticker].rename(columns={\"open\":\"Open\",\"high\":\"High\",\"low\":\"Low\",\"close\":\"Close\",\"volume\":\"Volume\"},inplace=True)\n",
    "    ohlc_dict[ticker]=copy.deepcopy(ohlc_dict_1M[ticker])"
   ]
  },
  {
   "cell_type": "code",
   "execution_count": 19,
   "metadata": {},
   "outputs": [],
   "source": [
    "try:\n",
    "\n",
    "    for ticker in tickers:\n",
    "        signal=\"\"\n",
    "        for i in range(len(ohlc_dict[ticker])):\n",
    "            \n",
    "            \n",
    "            \n",
    "            \n",
    "            \n",
    "            \n",
    "            if signal==\"\":\n",
    "                if ohlc_dict[ticker][\"Close\"][i]>ohlc_dict[ticker][\"VWAP\"][i] and ohlc_dict[ticker][\"Close\"][i]>ohlc_dict[ticker][\"previous day high\"][i] and ohlc_dict[ticker][\"Volume\"][i]>=1.5*ohlc_dict[ticker][\"volume MA\"][i]:\n",
    "\n",
    "                    signal=\"buy\"\n",
    "                    price=ohlc_dict[ticker][\"Close\"][i]\n",
    "                    price_in.append(ohlc_dict[ticker][\"Close\"][i])\n",
    "                    \n",
    "                    order.append(\"long\")\n",
    "                    stock.append(ticker)\n",
    "\n",
    "                    \n",
    "                \n",
    "\n",
    "\n",
    "\n",
    "                elif ohlc_dict[ticker][\"Close\"][i]<ohlc_dict[ticker][\"VWAP\"][i] and ohlc_dict[ticker][\"Close\"][i]<ohlc_dict[ticker][\"previous day low\"][i] and ohlc_dict[ticker][\"Volume\"][i]>=1.5*ohlc_dict[ticker][\"volume MA\"][i]:\n",
    "                    signal=\"sell\"\n",
    "                    price=ohlc_dict[ticker][\"Close\"][i]\n",
    "                    \n",
    "                    price_in.append(ohlc_dict[ticker][\"Close\"][i])\n",
    "                    \n",
    "                    order.append(\"short\")\n",
    "                    stock.append(ticker)                \n",
    "                ticker_ret[ticker].append(0)\n",
    "\n",
    "            elif signal==\"buy\":\n",
    "                if ohlc_dict[ticker][\"Close\"][i]<ohlc_dict[ticker][\"intraday low\"][i]  or ohlc_dict[ticker][\"Close\"][i]>=price+.02*price or ohlc_dict[ticker][\"Close\"][i]<=price-.01*price:\n",
    "\n",
    "                    signal=\"\"\n",
    "                    price_out.append(ohlc_dict[ticker][\"Close\"][i])\n",
    "                    ticker_ret[ticker].append((ohlc_dict[ticker][\"Close\"][i]/ohlc_dict[ticker][\"Close\"][i-1])-1)\n",
    "\n",
    "                \n",
    "                \n",
    "                else:\n",
    "                    ticker_ret[ticker].append((ohlc_dict[ticker][\"Close\"][i]/ohlc_dict[ticker][\"Close\"][i-1])-1)\n",
    "            \n",
    "            \n",
    "            \n",
    "            elif signal==\"sell\":\n",
    "                if ohlc_dict_1M[ticker][\"Close\"][i]>ohlc_dict_1M[ticker][\"intraday high\"][i]  or ohlc_dict[ticker][\"Close\"][i]>=price+.01*price or ohlc_dict[ticker][\"Close\"][i]<=price-.02*price:\n",
    "                    price_out.append(ohlc_dict[ticker][\"Close\"][i])\n",
    "\n",
    "                    signal=\"\"\n",
    "                    ticker_ret[ticker].append((ohlc_dict[ticker][\"Close\"][i-1]/ohlc_dict[ticker][\"Close\"][i])-1)\n",
    "\n",
    "            \n",
    "                \n",
    "                else:\n",
    "                    ticker_ret[ticker].append((ohlc_dict[ticker][\"Close\"][i-1]/ohlc_dict[ticker][\"Close\"][i])-1)\n",
    "        if len(price_in)!=len(price_out):\n",
    "            price_out.append(ohlc_dict[ticker][\"Close\"][-1])\n",
    "        ohlc_dict[ticker][\"ret\"] = np.array(ticker_ret[ticker]) \n",
    "\n",
    "except:\n",
    "    print(\"cant find data\")\n",
    "\n",
    "\n",
    "\n",
    "\n"
   ]
  },
  {
   "cell_type": "code",
   "execution_count": 20,
   "metadata": {},
   "outputs": [],
   "source": [
    "ohlcv_database=pd.DataFrame()\n",
    "\n",
    "ohlcv_database[\"price_in\"]=np.array(price_in)\n",
    "ohlcv_database[\"price_out\"]=np.array(price_out)\n",
    "ohlcv_database[\"order\"]=np.array(order)\n",
    "ohlcv_database[\"stock\"]=np.array(stock)"
   ]
  },
  {
   "cell_type": "code",
   "execution_count": 21,
   "metadata": {},
   "outputs": [],
   "source": [
    "profit=[]\n",
    "for i in range(len(ohlcv_database)):\n",
    "    if ohlcv_database[\"order\"][i]==\"long\":\n",
    "        profit.append(((ohlcv_database[\"price_out\"][i]-ohlcv_database[\"price_in\"][i])/ohlcv_database[\"price_in\"][i])*100)\n",
    "\n",
    "    elif ohlcv_database[\"order\"][i]==\"short\":\n",
    "        profit.append(((ohlcv_database[\"price_in\"][i]-ohlcv_database[\"price_out\"][i])/ohlcv_database[\"price_out\"][i])*100)\n",
    "\n",
    "ohlcv_database[\"profit\"]=np.array(profit)"
   ]
  },
  {
   "cell_type": "code",
   "execution_count": 22,
   "metadata": {},
   "outputs": [],
   "source": [
    "ohlcv_database.to_csv(\"database.csv\")"
   ]
  },
  {
   "cell_type": "code",
   "execution_count": 23,
   "metadata": {},
   "outputs": [
    {
     "output_type": "execute_result",
     "data": {
      "text/plain": [
       "0.03276251087090176"
      ]
     },
     "metadata": {},
     "execution_count": 23
    }
   ],
   "source": [
    "strategy_df = pd.DataFrame()\n",
    "for ticker in tickers:\n",
    "    strategy_df[ticker] = ohlc_dict[ticker][\"ret\"]\n",
    "strategy_df[\"ret\"] = strategy_df.mean(axis=1)\n",
    "CAGR(strategy_df)\n",
    "\n"
   ]
  },
  {
   "cell_type": "code",
   "execution_count": 24,
   "metadata": {},
   "outputs": [
    {
     "output_type": "execute_result",
     "data": {
      "text/plain": [
       "<AxesSubplot:xlabel='Datetime'>"
      ]
     },
     "metadata": {},
     "execution_count": 24
    },
    {
     "output_type": "display_data",
     "data": {
      "text/plain": "<Figure size 432x288 with 1 Axes>",
      "image/svg+xml": "<?xml version=\"1.0\" encoding=\"utf-8\" standalone=\"no\"?>\n<!DOCTYPE svg PUBLIC \"-//W3C//DTD SVG 1.1//EN\"\n  \"http://www.w3.org/Graphics/SVG/1.1/DTD/svg11.dtd\">\n<svg height=\"261.780096pt\" version=\"1.1\" viewBox=\"0 0 384.828125 261.780096\" width=\"384.828125pt\" xmlns=\"http://www.w3.org/2000/svg\" xmlns:xlink=\"http://www.w3.org/1999/xlink\">\n <metadata>\n  <rdf:RDF xmlns:cc=\"http://creativecommons.org/ns#\" xmlns:dc=\"http://purl.org/dc/elements/1.1/\" xmlns:rdf=\"http://www.w3.org/1999/02/22-rdf-syntax-ns#\">\n   <cc:Work>\n    <dc:type rdf:resource=\"http://purl.org/dc/dcmitype/StillImage\"/>\n    <dc:date>2021-06-12T11:40:36.194096</dc:date>\n    <dc:format>image/svg+xml</dc:format>\n    <dc:creator>\n     <cc:Agent>\n      <dc:title>Matplotlib v3.4.2, https://matplotlib.org/</dc:title>\n     </cc:Agent>\n    </dc:creator>\n   </cc:Work>\n  </rdf:RDF>\n </metadata>\n <defs>\n  <style type=\"text/css\">*{stroke-linecap:butt;stroke-linejoin:round;}</style>\n </defs>\n <g id=\"figure_1\">\n  <g id=\"patch_1\">\n   <path d=\"M 0 261.780096 \nL 384.828125 261.780096 \nL 384.828125 0 \nL 0 0 \nz\n\" style=\"fill:none;\"/>\n  </g>\n  <g id=\"axes_1\">\n   <g id=\"patch_2\">\n    <path d=\"M 42.828125 203.04 \nL 377.628125 203.04 \nL 377.628125 7.2 \nL 42.828125 7.2 \nz\n\" style=\"fill:#ffffff;\"/>\n   </g>\n   <g id=\"matplotlib.axis_1\">\n    <g id=\"xtick_1\">\n     <g id=\"line2d_1\">\n      <defs>\n       <path d=\"M 0 0 \nL 0 3.5 \n\" id=\"mfedebf39af\" style=\"stroke:#000000;stroke-width:0.8;\"/>\n      </defs>\n      <g>\n       <use style=\"stroke:#000000;stroke-width:0.8;\" x=\"66.23346\" xlink:href=\"#mfedebf39af\" y=\"203.04\"/>\n      </g>\n     </g>\n     <g id=\"text_1\">\n      <!-- 06-07 12 -->\n      <g transform=\"translate(26.256303 239.100909)rotate(-30)scale(0.1 -0.1)\">\n       <defs>\n        <path d=\"M 2034 4250 \nQ 1547 4250 1301 3770 \nQ 1056 3291 1056 2328 \nQ 1056 1369 1301 889 \nQ 1547 409 2034 409 \nQ 2525 409 2770 889 \nQ 3016 1369 3016 2328 \nQ 3016 3291 2770 3770 \nQ 2525 4250 2034 4250 \nz\nM 2034 4750 \nQ 2819 4750 3233 4129 \nQ 3647 3509 3647 2328 \nQ 3647 1150 3233 529 \nQ 2819 -91 2034 -91 \nQ 1250 -91 836 529 \nQ 422 1150 422 2328 \nQ 422 3509 836 4129 \nQ 1250 4750 2034 4750 \nz\n\" id=\"DejaVuSans-30\" transform=\"scale(0.015625)\"/>\n        <path d=\"M 2113 2584 \nQ 1688 2584 1439 2293 \nQ 1191 2003 1191 1497 \nQ 1191 994 1439 701 \nQ 1688 409 2113 409 \nQ 2538 409 2786 701 \nQ 3034 994 3034 1497 \nQ 3034 2003 2786 2293 \nQ 2538 2584 2113 2584 \nz\nM 3366 4563 \nL 3366 3988 \nQ 3128 4100 2886 4159 \nQ 2644 4219 2406 4219 \nQ 1781 4219 1451 3797 \nQ 1122 3375 1075 2522 \nQ 1259 2794 1537 2939 \nQ 1816 3084 2150 3084 \nQ 2853 3084 3261 2657 \nQ 3669 2231 3669 1497 \nQ 3669 778 3244 343 \nQ 2819 -91 2113 -91 \nQ 1303 -91 875 529 \nQ 447 1150 447 2328 \nQ 447 3434 972 4092 \nQ 1497 4750 2381 4750 \nQ 2619 4750 2861 4703 \nQ 3103 4656 3366 4563 \nz\n\" id=\"DejaVuSans-36\" transform=\"scale(0.015625)\"/>\n        <path d=\"M 313 2009 \nL 1997 2009 \nL 1997 1497 \nL 313 1497 \nL 313 2009 \nz\n\" id=\"DejaVuSans-2d\" transform=\"scale(0.015625)\"/>\n        <path d=\"M 525 4666 \nL 3525 4666 \nL 3525 4397 \nL 1831 0 \nL 1172 0 \nL 2766 4134 \nL 525 4134 \nL 525 4666 \nz\n\" id=\"DejaVuSans-37\" transform=\"scale(0.015625)\"/>\n        <path id=\"DejaVuSans-20\" transform=\"scale(0.015625)\"/>\n        <path d=\"M 794 531 \nL 1825 531 \nL 1825 4091 \nL 703 3866 \nL 703 4441 \nL 1819 4666 \nL 2450 4666 \nL 2450 531 \nL 3481 531 \nL 3481 0 \nL 794 0 \nL 794 531 \nz\n\" id=\"DejaVuSans-31\" transform=\"scale(0.015625)\"/>\n        <path d=\"M 1228 531 \nL 3431 531 \nL 3431 0 \nL 469 0 \nL 469 531 \nQ 828 903 1448 1529 \nQ 2069 2156 2228 2338 \nQ 2531 2678 2651 2914 \nQ 2772 3150 2772 3378 \nQ 2772 3750 2511 3984 \nQ 2250 4219 1831 4219 \nQ 1534 4219 1204 4116 \nQ 875 4013 500 3803 \nL 500 4441 \nQ 881 4594 1212 4672 \nQ 1544 4750 1819 4750 \nQ 2544 4750 2975 4387 \nQ 3406 4025 3406 3419 \nQ 3406 3131 3298 2873 \nQ 3191 2616 2906 2266 \nQ 2828 2175 2409 1742 \nQ 1991 1309 1228 531 \nz\n\" id=\"DejaVuSans-32\" transform=\"scale(0.015625)\"/>\n       </defs>\n       <use xlink:href=\"#DejaVuSans-30\"/>\n       <use x=\"63.623047\" xlink:href=\"#DejaVuSans-36\"/>\n       <use x=\"127.246094\" xlink:href=\"#DejaVuSans-2d\"/>\n       <use x=\"163.330078\" xlink:href=\"#DejaVuSans-30\"/>\n       <use x=\"226.953125\" xlink:href=\"#DejaVuSans-37\"/>\n       <use x=\"290.576172\" xlink:href=\"#DejaVuSans-20\"/>\n       <use x=\"322.363281\" xlink:href=\"#DejaVuSans-31\"/>\n       <use x=\"385.986328\" xlink:href=\"#DejaVuSans-32\"/>\n      </g>\n     </g>\n    </g>\n    <g id=\"xtick_2\">\n     <g id=\"line2d_2\">\n      <g>\n       <use style=\"stroke:#000000;stroke-width:0.8;\" x=\"101.959221\" xlink:href=\"#mfedebf39af\" y=\"203.04\"/>\n      </g>\n     </g>\n     <g id=\"text_2\">\n      <!-- 06-08 00 -->\n      <g transform=\"translate(61.982064 239.100909)rotate(-30)scale(0.1 -0.1)\">\n       <defs>\n        <path d=\"M 2034 2216 \nQ 1584 2216 1326 1975 \nQ 1069 1734 1069 1313 \nQ 1069 891 1326 650 \nQ 1584 409 2034 409 \nQ 2484 409 2743 651 \nQ 3003 894 3003 1313 \nQ 3003 1734 2745 1975 \nQ 2488 2216 2034 2216 \nz\nM 1403 2484 \nQ 997 2584 770 2862 \nQ 544 3141 544 3541 \nQ 544 4100 942 4425 \nQ 1341 4750 2034 4750 \nQ 2731 4750 3128 4425 \nQ 3525 4100 3525 3541 \nQ 3525 3141 3298 2862 \nQ 3072 2584 2669 2484 \nQ 3125 2378 3379 2068 \nQ 3634 1759 3634 1313 \nQ 3634 634 3220 271 \nQ 2806 -91 2034 -91 \nQ 1263 -91 848 271 \nQ 434 634 434 1313 \nQ 434 1759 690 2068 \nQ 947 2378 1403 2484 \nz\nM 1172 3481 \nQ 1172 3119 1398 2916 \nQ 1625 2713 2034 2713 \nQ 2441 2713 2670 2916 \nQ 2900 3119 2900 3481 \nQ 2900 3844 2670 4047 \nQ 2441 4250 2034 4250 \nQ 1625 4250 1398 4047 \nQ 1172 3844 1172 3481 \nz\n\" id=\"DejaVuSans-38\" transform=\"scale(0.015625)\"/>\n       </defs>\n       <use xlink:href=\"#DejaVuSans-30\"/>\n       <use x=\"63.623047\" xlink:href=\"#DejaVuSans-36\"/>\n       <use x=\"127.246094\" xlink:href=\"#DejaVuSans-2d\"/>\n       <use x=\"163.330078\" xlink:href=\"#DejaVuSans-30\"/>\n       <use x=\"226.953125\" xlink:href=\"#DejaVuSans-38\"/>\n       <use x=\"290.576172\" xlink:href=\"#DejaVuSans-20\"/>\n       <use x=\"322.363281\" xlink:href=\"#DejaVuSans-30\"/>\n       <use x=\"385.986328\" xlink:href=\"#DejaVuSans-30\"/>\n      </g>\n     </g>\n    </g>\n    <g id=\"xtick_3\">\n     <g id=\"line2d_3\">\n      <g>\n       <use style=\"stroke:#000000;stroke-width:0.8;\" x=\"137.684982\" xlink:href=\"#mfedebf39af\" y=\"203.04\"/>\n      </g>\n     </g>\n     <g id=\"text_3\">\n      <!-- 06-08 12 -->\n      <g transform=\"translate(97.707825 239.100909)rotate(-30)scale(0.1 -0.1)\">\n       <use xlink:href=\"#DejaVuSans-30\"/>\n       <use x=\"63.623047\" xlink:href=\"#DejaVuSans-36\"/>\n       <use x=\"127.246094\" xlink:href=\"#DejaVuSans-2d\"/>\n       <use x=\"163.330078\" xlink:href=\"#DejaVuSans-30\"/>\n       <use x=\"226.953125\" xlink:href=\"#DejaVuSans-38\"/>\n       <use x=\"290.576172\" xlink:href=\"#DejaVuSans-20\"/>\n       <use x=\"322.363281\" xlink:href=\"#DejaVuSans-31\"/>\n       <use x=\"385.986328\" xlink:href=\"#DejaVuSans-32\"/>\n      </g>\n     </g>\n    </g>\n    <g id=\"xtick_4\">\n     <g id=\"line2d_4\">\n      <g>\n       <use style=\"stroke:#000000;stroke-width:0.8;\" x=\"173.410743\" xlink:href=\"#mfedebf39af\" y=\"203.04\"/>\n      </g>\n     </g>\n     <g id=\"text_4\">\n      <!-- 06-09 00 -->\n      <g transform=\"translate(133.433586 239.100909)rotate(-30)scale(0.1 -0.1)\">\n       <defs>\n        <path d=\"M 703 97 \nL 703 672 \nQ 941 559 1184 500 \nQ 1428 441 1663 441 \nQ 2288 441 2617 861 \nQ 2947 1281 2994 2138 \nQ 2813 1869 2534 1725 \nQ 2256 1581 1919 1581 \nQ 1219 1581 811 2004 \nQ 403 2428 403 3163 \nQ 403 3881 828 4315 \nQ 1253 4750 1959 4750 \nQ 2769 4750 3195 4129 \nQ 3622 3509 3622 2328 \nQ 3622 1225 3098 567 \nQ 2575 -91 1691 -91 \nQ 1453 -91 1209 -44 \nQ 966 3 703 97 \nz\nM 1959 2075 \nQ 2384 2075 2632 2365 \nQ 2881 2656 2881 3163 \nQ 2881 3666 2632 3958 \nQ 2384 4250 1959 4250 \nQ 1534 4250 1286 3958 \nQ 1038 3666 1038 3163 \nQ 1038 2656 1286 2365 \nQ 1534 2075 1959 2075 \nz\n\" id=\"DejaVuSans-39\" transform=\"scale(0.015625)\"/>\n       </defs>\n       <use xlink:href=\"#DejaVuSans-30\"/>\n       <use x=\"63.623047\" xlink:href=\"#DejaVuSans-36\"/>\n       <use x=\"127.246094\" xlink:href=\"#DejaVuSans-2d\"/>\n       <use x=\"163.330078\" xlink:href=\"#DejaVuSans-30\"/>\n       <use x=\"226.953125\" xlink:href=\"#DejaVuSans-39\"/>\n       <use x=\"290.576172\" xlink:href=\"#DejaVuSans-20\"/>\n       <use x=\"322.363281\" xlink:href=\"#DejaVuSans-30\"/>\n       <use x=\"385.986328\" xlink:href=\"#DejaVuSans-30\"/>\n      </g>\n     </g>\n    </g>\n    <g id=\"xtick_5\">\n     <g id=\"line2d_5\">\n      <g>\n       <use style=\"stroke:#000000;stroke-width:0.8;\" x=\"209.136505\" xlink:href=\"#mfedebf39af\" y=\"203.04\"/>\n      </g>\n     </g>\n     <g id=\"text_5\">\n      <!-- 06-09 12 -->\n      <g transform=\"translate(169.159347 239.100909)rotate(-30)scale(0.1 -0.1)\">\n       <use xlink:href=\"#DejaVuSans-30\"/>\n       <use x=\"63.623047\" xlink:href=\"#DejaVuSans-36\"/>\n       <use x=\"127.246094\" xlink:href=\"#DejaVuSans-2d\"/>\n       <use x=\"163.330078\" xlink:href=\"#DejaVuSans-30\"/>\n       <use x=\"226.953125\" xlink:href=\"#DejaVuSans-39\"/>\n       <use x=\"290.576172\" xlink:href=\"#DejaVuSans-20\"/>\n       <use x=\"322.363281\" xlink:href=\"#DejaVuSans-31\"/>\n       <use x=\"385.986328\" xlink:href=\"#DejaVuSans-32\"/>\n      </g>\n     </g>\n    </g>\n    <g id=\"xtick_6\">\n     <g id=\"line2d_6\">\n      <g>\n       <use style=\"stroke:#000000;stroke-width:0.8;\" x=\"244.862266\" xlink:href=\"#mfedebf39af\" y=\"203.04\"/>\n      </g>\n     </g>\n     <g id=\"text_6\">\n      <!-- 06-10 00 -->\n      <g transform=\"translate(204.885108 239.100909)rotate(-30)scale(0.1 -0.1)\">\n       <use xlink:href=\"#DejaVuSans-30\"/>\n       <use x=\"63.623047\" xlink:href=\"#DejaVuSans-36\"/>\n       <use x=\"127.246094\" xlink:href=\"#DejaVuSans-2d\"/>\n       <use x=\"163.330078\" xlink:href=\"#DejaVuSans-31\"/>\n       <use x=\"226.953125\" xlink:href=\"#DejaVuSans-30\"/>\n       <use x=\"290.576172\" xlink:href=\"#DejaVuSans-20\"/>\n       <use x=\"322.363281\" xlink:href=\"#DejaVuSans-30\"/>\n       <use x=\"385.986328\" xlink:href=\"#DejaVuSans-30\"/>\n      </g>\n     </g>\n    </g>\n    <g id=\"xtick_7\">\n     <g id=\"line2d_7\">\n      <g>\n       <use style=\"stroke:#000000;stroke-width:0.8;\" x=\"280.588027\" xlink:href=\"#mfedebf39af\" y=\"203.04\"/>\n      </g>\n     </g>\n     <g id=\"text_7\">\n      <!-- 06-10 12 -->\n      <g transform=\"translate(240.610869 239.100909)rotate(-30)scale(0.1 -0.1)\">\n       <use xlink:href=\"#DejaVuSans-30\"/>\n       <use x=\"63.623047\" xlink:href=\"#DejaVuSans-36\"/>\n       <use x=\"127.246094\" xlink:href=\"#DejaVuSans-2d\"/>\n       <use x=\"163.330078\" xlink:href=\"#DejaVuSans-31\"/>\n       <use x=\"226.953125\" xlink:href=\"#DejaVuSans-30\"/>\n       <use x=\"290.576172\" xlink:href=\"#DejaVuSans-20\"/>\n       <use x=\"322.363281\" xlink:href=\"#DejaVuSans-31\"/>\n       <use x=\"385.986328\" xlink:href=\"#DejaVuSans-32\"/>\n      </g>\n     </g>\n    </g>\n    <g id=\"xtick_8\">\n     <g id=\"line2d_8\">\n      <g>\n       <use style=\"stroke:#000000;stroke-width:0.8;\" x=\"316.313788\" xlink:href=\"#mfedebf39af\" y=\"203.04\"/>\n      </g>\n     </g>\n     <g id=\"text_8\">\n      <!-- 06-11 00 -->\n      <g transform=\"translate(276.33663 239.100909)rotate(-30)scale(0.1 -0.1)\">\n       <use xlink:href=\"#DejaVuSans-30\"/>\n       <use x=\"63.623047\" xlink:href=\"#DejaVuSans-36\"/>\n       <use x=\"127.246094\" xlink:href=\"#DejaVuSans-2d\"/>\n       <use x=\"163.330078\" xlink:href=\"#DejaVuSans-31\"/>\n       <use x=\"226.953125\" xlink:href=\"#DejaVuSans-31\"/>\n       <use x=\"290.576172\" xlink:href=\"#DejaVuSans-20\"/>\n       <use x=\"322.363281\" xlink:href=\"#DejaVuSans-30\"/>\n       <use x=\"385.986328\" xlink:href=\"#DejaVuSans-30\"/>\n      </g>\n     </g>\n    </g>\n    <g id=\"xtick_9\">\n     <g id=\"line2d_9\">\n      <g>\n       <use style=\"stroke:#000000;stroke-width:0.8;\" x=\"352.039549\" xlink:href=\"#mfedebf39af\" y=\"203.04\"/>\n      </g>\n     </g>\n     <g id=\"text_9\">\n      <!-- 06-11 12 -->\n      <g transform=\"translate(312.062391 239.100909)rotate(-30)scale(0.1 -0.1)\">\n       <use xlink:href=\"#DejaVuSans-30\"/>\n       <use x=\"63.623047\" xlink:href=\"#DejaVuSans-36\"/>\n       <use x=\"127.246094\" xlink:href=\"#DejaVuSans-2d\"/>\n       <use x=\"163.330078\" xlink:href=\"#DejaVuSans-31\"/>\n       <use x=\"226.953125\" xlink:href=\"#DejaVuSans-31\"/>\n       <use x=\"290.576172\" xlink:href=\"#DejaVuSans-20\"/>\n       <use x=\"322.363281\" xlink:href=\"#DejaVuSans-31\"/>\n       <use x=\"385.986328\" xlink:href=\"#DejaVuSans-32\"/>\n      </g>\n     </g>\n    </g>\n    <g id=\"text_10\">\n     <!-- Datetime -->\n     <g transform=\"translate(186.98125 252.500408)scale(0.1 -0.1)\">\n      <defs>\n       <path d=\"M 1259 4147 \nL 1259 519 \nL 2022 519 \nQ 2988 519 3436 956 \nQ 3884 1394 3884 2338 \nQ 3884 3275 3436 3711 \nQ 2988 4147 2022 4147 \nL 1259 4147 \nz\nM 628 4666 \nL 1925 4666 \nQ 3281 4666 3915 4102 \nQ 4550 3538 4550 2338 \nQ 4550 1131 3912 565 \nQ 3275 0 1925 0 \nL 628 0 \nL 628 4666 \nz\n\" id=\"DejaVuSans-44\" transform=\"scale(0.015625)\"/>\n       <path d=\"M 2194 1759 \nQ 1497 1759 1228 1600 \nQ 959 1441 959 1056 \nQ 959 750 1161 570 \nQ 1363 391 1709 391 \nQ 2188 391 2477 730 \nQ 2766 1069 2766 1631 \nL 2766 1759 \nL 2194 1759 \nz\nM 3341 1997 \nL 3341 0 \nL 2766 0 \nL 2766 531 \nQ 2569 213 2275 61 \nQ 1981 -91 1556 -91 \nQ 1019 -91 701 211 \nQ 384 513 384 1019 \nQ 384 1609 779 1909 \nQ 1175 2209 1959 2209 \nL 2766 2209 \nL 2766 2266 \nQ 2766 2663 2505 2880 \nQ 2244 3097 1772 3097 \nQ 1472 3097 1187 3025 \nQ 903 2953 641 2809 \nL 641 3341 \nQ 956 3463 1253 3523 \nQ 1550 3584 1831 3584 \nQ 2591 3584 2966 3190 \nQ 3341 2797 3341 1997 \nz\n\" id=\"DejaVuSans-61\" transform=\"scale(0.015625)\"/>\n       <path d=\"M 1172 4494 \nL 1172 3500 \nL 2356 3500 \nL 2356 3053 \nL 1172 3053 \nL 1172 1153 \nQ 1172 725 1289 603 \nQ 1406 481 1766 481 \nL 2356 481 \nL 2356 0 \nL 1766 0 \nQ 1100 0 847 248 \nQ 594 497 594 1153 \nL 594 3053 \nL 172 3053 \nL 172 3500 \nL 594 3500 \nL 594 4494 \nL 1172 4494 \nz\n\" id=\"DejaVuSans-74\" transform=\"scale(0.015625)\"/>\n       <path d=\"M 3597 1894 \nL 3597 1613 \nL 953 1613 \nQ 991 1019 1311 708 \nQ 1631 397 2203 397 \nQ 2534 397 2845 478 \nQ 3156 559 3463 722 \nL 3463 178 \nQ 3153 47 2828 -22 \nQ 2503 -91 2169 -91 \nQ 1331 -91 842 396 \nQ 353 884 353 1716 \nQ 353 2575 817 3079 \nQ 1281 3584 2069 3584 \nQ 2775 3584 3186 3129 \nQ 3597 2675 3597 1894 \nz\nM 3022 2063 \nQ 3016 2534 2758 2815 \nQ 2500 3097 2075 3097 \nQ 1594 3097 1305 2825 \nQ 1016 2553 972 2059 \nL 3022 2063 \nz\n\" id=\"DejaVuSans-65\" transform=\"scale(0.015625)\"/>\n       <path d=\"M 603 3500 \nL 1178 3500 \nL 1178 0 \nL 603 0 \nL 603 3500 \nz\nM 603 4863 \nL 1178 4863 \nL 1178 4134 \nL 603 4134 \nL 603 4863 \nz\n\" id=\"DejaVuSans-69\" transform=\"scale(0.015625)\"/>\n       <path d=\"M 3328 2828 \nQ 3544 3216 3844 3400 \nQ 4144 3584 4550 3584 \nQ 5097 3584 5394 3201 \nQ 5691 2819 5691 2113 \nL 5691 0 \nL 5113 0 \nL 5113 2094 \nQ 5113 2597 4934 2840 \nQ 4756 3084 4391 3084 \nQ 3944 3084 3684 2787 \nQ 3425 2491 3425 1978 \nL 3425 0 \nL 2847 0 \nL 2847 2094 \nQ 2847 2600 2669 2842 \nQ 2491 3084 2119 3084 \nQ 1678 3084 1418 2786 \nQ 1159 2488 1159 1978 \nL 1159 0 \nL 581 0 \nL 581 3500 \nL 1159 3500 \nL 1159 2956 \nQ 1356 3278 1631 3431 \nQ 1906 3584 2284 3584 \nQ 2666 3584 2933 3390 \nQ 3200 3197 3328 2828 \nz\n\" id=\"DejaVuSans-6d\" transform=\"scale(0.015625)\"/>\n      </defs>\n      <use xlink:href=\"#DejaVuSans-44\"/>\n      <use x=\"77.001953\" xlink:href=\"#DejaVuSans-61\"/>\n      <use x=\"138.28125\" xlink:href=\"#DejaVuSans-74\"/>\n      <use x=\"177.490234\" xlink:href=\"#DejaVuSans-65\"/>\n      <use x=\"239.013672\" xlink:href=\"#DejaVuSans-74\"/>\n      <use x=\"278.222656\" xlink:href=\"#DejaVuSans-69\"/>\n      <use x=\"306.005859\" xlink:href=\"#DejaVuSans-6d\"/>\n      <use x=\"403.417969\" xlink:href=\"#DejaVuSans-65\"/>\n     </g>\n    </g>\n   </g>\n   <g id=\"matplotlib.axis_2\">\n    <g id=\"ytick_1\">\n     <g id=\"line2d_10\">\n      <defs>\n       <path d=\"M 0 0 \nL -3.5 0 \n\" id=\"m87743f4092\" style=\"stroke:#000000;stroke-width:0.8;\"/>\n      </defs>\n      <g>\n       <use style=\"stroke:#000000;stroke-width:0.8;\" x=\"42.828125\" xlink:href=\"#m87743f4092\" y=\"199.738595\"/>\n      </g>\n     </g>\n     <g id=\"text_11\">\n      <!-- 0.985 -->\n      <g transform=\"translate(7.2 203.537814)scale(0.1 -0.1)\">\n       <defs>\n        <path d=\"M 684 794 \nL 1344 794 \nL 1344 0 \nL 684 0 \nL 684 794 \nz\n\" id=\"DejaVuSans-2e\" transform=\"scale(0.015625)\"/>\n        <path d=\"M 691 4666 \nL 3169 4666 \nL 3169 4134 \nL 1269 4134 \nL 1269 2991 \nQ 1406 3038 1543 3061 \nQ 1681 3084 1819 3084 \nQ 2600 3084 3056 2656 \nQ 3513 2228 3513 1497 \nQ 3513 744 3044 326 \nQ 2575 -91 1722 -91 \nQ 1428 -91 1123 -41 \nQ 819 9 494 109 \nL 494 744 \nQ 775 591 1075 516 \nQ 1375 441 1709 441 \nQ 2250 441 2565 725 \nQ 2881 1009 2881 1497 \nQ 2881 1984 2565 2268 \nQ 2250 2553 1709 2553 \nQ 1456 2553 1204 2497 \nQ 953 2441 691 2322 \nL 691 4666 \nz\n\" id=\"DejaVuSans-35\" transform=\"scale(0.015625)\"/>\n       </defs>\n       <use xlink:href=\"#DejaVuSans-30\"/>\n       <use x=\"63.623047\" xlink:href=\"#DejaVuSans-2e\"/>\n       <use x=\"95.410156\" xlink:href=\"#DejaVuSans-39\"/>\n       <use x=\"159.033203\" xlink:href=\"#DejaVuSans-38\"/>\n       <use x=\"222.65625\" xlink:href=\"#DejaVuSans-35\"/>\n      </g>\n     </g>\n    </g>\n    <g id=\"ytick_2\">\n     <g id=\"line2d_11\">\n      <g>\n       <use style=\"stroke:#000000;stroke-width:0.8;\" x=\"42.828125\" xlink:href=\"#m87743f4092\" y=\"160.680332\"/>\n      </g>\n     </g>\n     <g id=\"text_12\">\n      <!-- 0.990 -->\n      <g transform=\"translate(7.2 164.479551)scale(0.1 -0.1)\">\n       <use xlink:href=\"#DejaVuSans-30\"/>\n       <use x=\"63.623047\" xlink:href=\"#DejaVuSans-2e\"/>\n       <use x=\"95.410156\" xlink:href=\"#DejaVuSans-39\"/>\n       <use x=\"159.033203\" xlink:href=\"#DejaVuSans-39\"/>\n       <use x=\"222.65625\" xlink:href=\"#DejaVuSans-30\"/>\n      </g>\n     </g>\n    </g>\n    <g id=\"ytick_3\">\n     <g id=\"line2d_12\">\n      <g>\n       <use style=\"stroke:#000000;stroke-width:0.8;\" x=\"42.828125\" xlink:href=\"#m87743f4092\" y=\"121.622069\"/>\n      </g>\n     </g>\n     <g id=\"text_13\">\n      <!-- 0.995 -->\n      <g transform=\"translate(7.2 125.421288)scale(0.1 -0.1)\">\n       <use xlink:href=\"#DejaVuSans-30\"/>\n       <use x=\"63.623047\" xlink:href=\"#DejaVuSans-2e\"/>\n       <use x=\"95.410156\" xlink:href=\"#DejaVuSans-39\"/>\n       <use x=\"159.033203\" xlink:href=\"#DejaVuSans-39\"/>\n       <use x=\"222.65625\" xlink:href=\"#DejaVuSans-35\"/>\n      </g>\n     </g>\n    </g>\n    <g id=\"ytick_4\">\n     <g id=\"line2d_13\">\n      <g>\n       <use style=\"stroke:#000000;stroke-width:0.8;\" x=\"42.828125\" xlink:href=\"#m87743f4092\" y=\"82.563806\"/>\n      </g>\n     </g>\n     <g id=\"text_14\">\n      <!-- 1.000 -->\n      <g transform=\"translate(7.2 86.363025)scale(0.1 -0.1)\">\n       <use xlink:href=\"#DejaVuSans-31\"/>\n       <use x=\"63.623047\" xlink:href=\"#DejaVuSans-2e\"/>\n       <use x=\"95.410156\" xlink:href=\"#DejaVuSans-30\"/>\n       <use x=\"159.033203\" xlink:href=\"#DejaVuSans-30\"/>\n       <use x=\"222.65625\" xlink:href=\"#DejaVuSans-30\"/>\n      </g>\n     </g>\n    </g>\n    <g id=\"ytick_5\">\n     <g id=\"line2d_14\">\n      <g>\n       <use style=\"stroke:#000000;stroke-width:0.8;\" x=\"42.828125\" xlink:href=\"#m87743f4092\" y=\"43.505543\"/>\n      </g>\n     </g>\n     <g id=\"text_15\">\n      <!-- 1.005 -->\n      <g transform=\"translate(7.2 47.304762)scale(0.1 -0.1)\">\n       <use xlink:href=\"#DejaVuSans-31\"/>\n       <use x=\"63.623047\" xlink:href=\"#DejaVuSans-2e\"/>\n       <use x=\"95.410156\" xlink:href=\"#DejaVuSans-30\"/>\n       <use x=\"159.033203\" xlink:href=\"#DejaVuSans-30\"/>\n       <use x=\"222.65625\" xlink:href=\"#DejaVuSans-35\"/>\n      </g>\n     </g>\n    </g>\n   </g>\n   <g id=\"line2d_15\">\n    <path clip-path=\"url(#pa82810fa69)\" d=\"M 58.046307 82.563806 \nL 58.98907 82.563806 \nL 59.038689 83.9294 \nL 59.088308 83.079459 \nL 59.187546 77.618194 \nL 59.286785 77.739091 \nL 59.336404 83.316085 \nL 59.386023 78.702453 \nL 59.435642 77.277511 \nL 59.485261 77.823249 \nL 59.53488 78.126347 \nL 59.584499 77.610981 \nL 59.634118 78.550416 \nL 59.683738 78.459529 \nL 59.733357 77.337823 \nL 59.882214 82.096421 \nL 60.031071 84.493602 \nL 60.08069 83.552211 \nL 60.229548 87.589264 \nL 60.279167 90.323986 \nL 60.328786 88.773342 \nL 60.378405 87.235176 \nL 60.576882 97.247053 \nL 60.626501 96.09634 \nL 60.725739 98.29605 \nL 60.775358 96.758576 \nL 60.824977 99.030162 \nL 60.924215 98.819714 \nL 60.973834 99.674439 \nL 61.122692 107.21714 \nL 61.22193 103.744004 \nL 61.271549 105.462448 \nL 61.321168 111.468833 \nL 61.370787 105.339473 \nL 61.420406 104.632162 \nL 61.470026 105.48121 \nL 61.519645 105.707308 \nL 61.618883 102.758987 \nL 61.668502 103.449955 \nL 61.718121 102.938764 \nL 61.817359 99.502557 \nL 61.866978 101.540984 \nL 61.966217 99.806262 \nL 62.115074 106.172356 \nL 62.164693 103.558854 \nL 62.214312 108.271122 \nL 62.263931 104.059222 \nL 62.31355 103.016889 \nL 62.412789 110.670291 \nL 62.462408 107.005241 \nL 62.512027 109.03212 \nL 62.561646 109.046739 \nL 62.859361 116.620852 \nL 63.008218 116.055613 \nL 63.256314 113.38856 \nL 63.355552 112.033275 \nL 63.554028 118.337212 \nL 63.653267 117.432093 \nL 63.702886 117.952129 \nL 63.752505 117.432024 \nL 63.802124 116.685866 \nL 64.248696 125.125651 \nL 64.298315 124.44594 \nL 64.347934 124.899001 \nL 64.447172 125.941144 \nL 64.496791 124.218938 \nL 64.546411 125.306177 \nL 64.59603 125.124956 \nL 64.645649 124.399887 \nL 64.695268 124.694329 \nL 64.844125 124.671763 \nL 64.893744 125.645857 \nL 65.042602 119.983535 \nL 65.092221 121.024513 \nL 65.290697 123.674602 \nL 65.489174 120.643431 \nL 65.538793 117.99245 \nL 65.588412 121.170936 \nL 65.638031 119.899187 \nL 65.68765 120.212799 \nL 65.737269 122.473603 \nL 65.786888 121.485709 \nL 65.886127 118.341559 \nL 65.935746 120.143911 \nL 65.985365 119.489101 \nL 66.134222 126.512103 \nL 66.332699 126.497525 \nL 66.431937 124.591266 \nL 66.531175 126.210073 \nL 66.580794 125.884676 \nL 66.630413 125.899491 \nL 66.878509 130.000946 \nL 67.076985 141.475665 \nL 67.275462 136.348628 \nL 67.325081 135.734179 \nL 67.3747 136.673144 \nL 67.424319 136.050078 \nL 67.523557 131.254422 \nL 67.573176 131.566994 \nL 67.622796 130.814224 \nL 67.771653 126.315944 \nL 67.92051 130.11914 \nL 68.019748 126.036286 \nL 68.069368 127.47435 \nL 68.118987 126.821873 \nL 68.168606 129.996659 \nL 68.218225 127.160184 \nL 68.367082 129.702461 \nL 68.416701 128.51064 \nL 68.565559 131.7689 \nL 68.714416 128.759314 \nL 68.912892 136.329738 \nL 68.962512 137.563698 \nL 69.111369 134.358751 \nL 69.260226 137.738418 \nL 69.309845 136.182125 \nL 69.359464 135.247507 \nL 69.409084 138.187267 \nL 69.458703 137.112844 \nL 69.508322 134.454446 \nL 69.557941 137.728891 \nL 69.706798 139.570571 \nL 69.756417 139.356084 \nL 69.806036 140.297117 \nL 69.954894 134.641429 \nL 70.004513 136.370744 \nL 70.054132 135.22983 \nL 70.15337 133.721358 \nL 70.202989 135.153286 \nL 70.252609 134.632619 \nL 70.302228 132.960582 \nL 70.351847 133.861691 \nL 70.451085 136.549569 \nL 70.500704 132.634305 \nL 70.550323 135.888711 \nL 70.599942 136.358362 \nL 70.649561 134.371574 \nL 70.699181 136.591967 \nL 70.7488 137.288476 \nL 70.798419 136.363639 \nL 70.897657 139.636745 \nL 70.947276 138.465175 \nL 70.996895 135.946247 \nL 71.046514 137.640908 \nL 71.096133 137.248225 \nL 71.195372 139.330054 \nL 71.244991 137.098363 \nL 71.29461 137.959217 \nL 71.344229 137.819744 \nL 71.393848 140.398655 \nL 71.493086 139.917423 \nL 71.542705 139.770416 \nL 71.641944 142.841262 \nL 71.691563 141.362592 \nL 71.741182 140.750678 \nL 71.84042 144.594452 \nL 71.890039 138.22944 \nL 71.939658 140.066289 \nL 71.989277 143.990649 \nL 72.038897 142.249393 \nL 72.088516 141.811522 \nL 72.237373 150.705363 \nL 72.286992 157.373611 \nL 72.336611 152.774714 \nL 72.38623 152.735552 \nL 72.485469 145.590227 \nL 72.535088 146.125366 \nL 72.584707 147.56546 \nL 72.634326 146.8582 \nL 72.733564 142.620579 \nL 72.783183 144.083376 \nL 72.832802 146.69748 \nL 72.882421 143.624143 \nL 72.98166 147.252056 \nL 73.080898 137.280936 \nL 73.229755 143.772005 \nL 73.477851 152.25587 \nL 73.775565 143.280955 \nL 73.825185 146.172799 \nL 74.222138 158.438344 \nL 74.271757 156.863725 \nL 74.321376 155.503689 \nL 74.370995 158.093343 \nL 74.420614 158.090479 \nL 74.470233 156.848957 \nL 74.519852 158.093234 \nL 74.718329 166.748041 \nL 74.767948 167.355554 \nL 74.817567 164.314955 \nL 74.867186 165.002244 \nL 74.966424 167.308284 \nL 75.016043 162.62906 \nL 75.065662 164.732 \nL 75.115282 165.002027 \nL 75.164901 166.083688 \nL 75.21452 165.550062 \nL 75.264139 160.993748 \nL 75.313758 162.348971 \nL 75.363377 162.243876 \nL 75.512234 167.945903 \nL 75.561854 168.063667 \nL 75.661092 163.471493 \nL 75.710711 164.110694 \nL 75.958806 169.797281 \nL 76.157283 174.943715 \nL 76.206902 174.876132 \nL 76.256521 173.527999 \nL 76.30614 174.224423 \nL 76.355759 175.302703 \nL 76.405378 174.830892 \nL 76.454998 174.066871 \nL 76.504617 174.516155 \nL 76.554236 174.403821 \nL 76.603855 174.853144 \nL 129.497829 148.519726 \nL 129.547448 152.826865 \nL 129.745924 137.647878 \nL 129.795544 138.717702 \nL 129.845163 137.291021 \nL 129.894782 138.627961 \nL 130.043639 146.657191 \nL 130.291735 120.637995 \nL 130.390973 125.784569 \nL 130.440592 125.888735 \nL 130.589449 132.067722 \nL 130.639068 130.976332 \nL 130.837545 140.995318 \nL 130.887164 140.067233 \nL 130.936783 141.52949 \nL 131.08564 127.415274 \nL 131.184879 131.858571 \nL 131.234498 130.248904 \nL 131.432974 136.510257 \nL 131.829927 107.002421 \nL 131.929165 114.521512 \nL 131.978785 111.39878 \nL 132.028404 109.899882 \nL 132.127642 116.883948 \nL 132.177261 112.773698 \nL 132.22688 109.105555 \nL 132.276499 111.316896 \nL 132.326118 115.629791 \nL 132.375737 114.197707 \nL 132.425357 107.910024 \nL 132.474976 108.66712 \nL 132.921548 121.096656 \nL 132.971167 120.930206 \nL 133.020786 122.698987 \nL 133.070405 121.459773 \nL 133.120024 120.682481 \nL 133.318501 131.596244 \nL 133.36812 132.833107 \nL 133.417739 132.152594 \nL 133.467358 131.692647 \nL 133.516977 129.468611 \nL 133.665834 134.893655 \nL 133.715453 134.393813 \nL 133.765073 134.174225 \nL 134.013168 136.693197 \nL 134.062787 135.615302 \nL 134.112406 135.744593 \nL 134.211645 139.127372 \nL 134.261264 138.668193 \nL 134.310883 136.676762 \nL 134.360502 140.634506 \nL 134.45974 140.513266 \nL 134.509359 139.563419 \nL 134.658217 147.771875 \nL 134.707836 148.01466 \nL 134.906312 144.981916 \nL 135.154408 137.589104 \nL 135.204027 138.503877 \nL 135.253646 139.601444 \nL 135.501742 159.927892 \nL 135.749837 155.106983 \nL 135.799456 155.437696 \nL 135.898694 154.145917 \nL 135.997933 158.060975 \nL 136.047552 157.50972 \nL 136.246028 154.935003 \nL 136.295647 157.324611 \nL 136.394886 157.140716 \nL 136.444505 157.87563 \nL 136.494124 157.324323 \nL 136.593362 156.772875 \nL 136.6926 154.933701 \nL 136.742219 155.301742 \nL 136.841458 155.301742 \nL 136.891077 157.690672 \nL 136.990315 157.506725 \nL 137.23841 152.722477 \nL 137.28803 153.827097 \nL 137.585744 157.504548 \nL 137.684982 156.585598 \nL 137.83384 153.273172 \nL 137.982697 158.23692 \nL 138.032316 155.294968 \nL 138.131554 155.662584 \nL 138.181174 154.374663 \nL 138.280412 154.558462 \nL 138.478888 156.948772 \nL 138.578126 155.10977 \nL 138.627746 155.477552 \nL 138.726984 156.948352 \nL 138.776603 156.58059 \nL 138.826222 156.3968 \nL 138.92546 157.132029 \nL 138.975079 155.293019 \nL 139.024698 156.028633 \nL 139.074318 155.844566 \nL 139.123937 156.028624 \nL 139.173556 156.028624 \nL 139.272794 159.701539 \nL 139.421651 167.025312 \nL 139.471271 166.476611 \nL 139.719366 169.217627 \nL 139.768985 166.475349 \nL 139.868223 166.658071 \nL 139.917843 165.560451 \nL 139.967462 166.474976 \nL 140.017081 166.474976 \nL 140.116319 163.545688 \nL 140.265176 165.558925 \nL 140.414034 162.078168 \nL 140.513272 163.360849 \nL 140.562891 162.811108 \nL 140.662129 160.794285 \nL 140.711748 161.8943 \nL 140.910225 166.470814 \nL 140.959844 165.921957 \nL 141.059082 173.585477 \nL 141.15832 170.11949 \nL 141.257559 171.031909 \nL 141.505654 168.475529 \nL 141.604892 170.301375 \nL 141.654511 169.936371 \nL 141.902607 168.840678 \nL 141.952226 168.109791 \nL 142.150703 171.760389 \nL 142.200322 171.395438 \nL 142.29956 177.402456 \nL 142.349179 175.400592 \nL 142.498036 177.03773 \nL 142.894989 171.389824 \nL 142.944608 173.395032 \nL 142.994227 173.03039 \nL 143.043847 172.665903 \nL 143.093466 171.02414 \nL 143.143085 171.936076 \nL 143.291942 172.483146 \nL 143.341561 172.665403 \nL 143.4408 170.293632 \nL 143.589657 175.75826 \nL 143.788133 165.535154 \nL 143.98661 168.094806 \nL 144.036229 166.998013 \nL 144.085848 167.363537 \nL 144.284324 172.473177 \nL 144.333944 172.108363 \nL 144.582039 169.736312 \nL 144.681277 175.93031 \nL 144.730896 175.020049 \nL 144.780516 174.655939 \nL 144.978992 171.921957 \nL 145.028611 171.374654 \nL 145.07823 172.28642 \nL 145.177468 175.5643 \nL 145.227088 175.382309 \nL 145.326326 171.006818 \nL 145.375945 172.283263 \nL 145.475183 174.651794 \nL 145.62404 176.471613 \nL 145.67366 177.199198 \nL 145.723279 176.835277 \nL 145.822517 176.835277 \nL 145.872136 176.47151 \nL 145.921755 176.835243 \nL 145.971374 177.01731 \nL 146.020993 177.926413 \nL 146.070612 176.834977 \nL 146.120232 177.198863 \nL 146.269089 179.379339 \nL 146.417946 175.19805 \nL 146.517184 179.738222 \nL 146.566804 179.012399 \nL 146.616423 179.193859 \nL 146.666042 179.012391 \nL 146.715661 178.286073 \nL 146.814899 179.91952 \nL 146.864518 179.556472 \nL 147.062995 180.100869 \nL 147.112614 179.737855 \nL 147.31109 174.831212 \nL 147.410329 176.103972 \nL 147.509567 172.646149 \nL 147.559186 170.276362 \nL 147.608805 173.008565 \nL 147.658424 173.008565 \nL 147.807281 171.915746 \nL 147.856901 173.372272 \nL 147.90652 172.461709 \nL 148.005758 168.814692 \nL 148.055377 172.095207 \nL 200.949351 171.730907 \nL 201.048589 186.881364 \nL 201.098208 185.134793 \nL 201.495161 161.550142 \nL 201.54478 162.537366 \nL 201.644019 174.546917 \nL 201.693638 173.976447 \nL 201.743257 172.775881 \nL 201.792876 176.796644 \nL 201.842495 174.513723 \nL 202.14021 180.970553 \nL 202.289067 178.023919 \nL 202.487543 184.485896 \nL 202.586782 180.57436 \nL 202.68602 185.837397 \nL 202.735639 183.970721 \nL 202.785258 181.62359 \nL 202.834877 183.277653 \nL 202.884496 185.774796 \nL 202.934115 183.607085 \nL 202.983735 181.260174 \nL 203.033354 182.132352 \nL 203.082973 182.192567 \nL 203.132592 182.643742 \nL 203.182211 182.613484 \nL 203.281449 185.862811 \nL 203.331068 184.749087 \nL 203.430307 188.060605 \nL 203.479926 187.939991 \nL 203.77764 183.062132 \nL 203.827259 180.956171 \nL 203.926498 186.009313 \nL 203.976117 185.889056 \nL 204.174593 181.193768 \nL 204.224212 181.314168 \nL 204.323451 179.961066 \nL 204.521927 183.178518 \nL 204.571546 183.208486 \nL 204.819642 185.495644 \nL 204.91888 182.786666 \nL 204.968499 185.975352 \nL 205.067737 185.945357 \nL 205.117356 185.373192 \nL 205.166976 186.517057 \nL 205.216595 185.463131 \nL 205.266214 181.158322 \nL 205.365452 182.15057 \nL 205.415071 183.26352 \nL 205.46469 181.217675 \nL 205.514309 181.819092 \nL 205.712786 183.563507 \nL 205.762405 184.767074 \nL 205.812024 184.496069 \nL 206.06012 181.306259 \nL 206.109739 182.809838 \nL 206.208977 182.659205 \nL 206.258596 183.020249 \nL 206.308215 181.87708 \nL 206.357834 182.147588 \nL 206.407453 182.448369 \nL 206.506692 181.756586 \nL 206.556311 182.02738 \nL 206.754787 180.79414 \nL 206.804406 180.854334 \nL 206.854025 178.448889 \nL 206.903644 181.96472 \nL 206.953264 179.227558 \nL 207.002883 178.175618 \nL 207.052502 179.197342 \nL 207.102121 179.047066 \nL 207.300597 185.121295 \nL 207.399836 184.669779 \nL 207.449455 183.857077 \nL 207.499074 184.338425 \nL 207.548693 184.519173 \nL 207.647931 190.449466 \nL 207.69755 190.29875 \nL 207.747169 190.148041 \nL 207.896027 185.778703 \nL 207.945646 185.688148 \nL 207.995265 186.170019 \nL 208.044884 191.58976 \nL 208.094503 189.147263 \nL 208.144122 190.171903 \nL 208.29298 187.339018 \nL 208.392218 187.188425 \nL 208.590694 189.417421 \nL 208.739552 187.45884 \nL 208.789171 187.488842 \nL 208.83879 188.483039 \nL 208.888409 187.488585 \nL 209.037266 188.723796 \nL 209.136505 190.381096 \nL 209.186124 190.350776 \nL 209.235743 190.441439 \nL 209.334981 190.772896 \nL 209.583077 185.710792 \nL 209.731934 185.861313 \nL 210.128887 190.710998 \nL 210.277744 188.208996 \nL 210.327363 188.510253 \nL 210.476221 191.221932 \nL 210.52584 190.106349 \nL 210.575459 190.438072 \nL 210.922793 193.784567 \nL 211.022031 190.165024 \nL 211.07165 190.466434 \nL 211.220507 191.943556 \nL 211.270126 190.134258 \nL 211.319745 190.224621 \nL 211.468603 191.068548 \nL 211.518222 191.279644 \nL 211.61746 194.138182 \nL 211.667079 192.997876 \nL 211.716698 191.657851 \nL 211.766317 194.004945 \nL 211.815937 191.597222 \nL 212.014413 185.505198 \nL 212.064032 187.843057 \nL 212.113651 184.958088 \nL 212.21289 184.248245 \nL 212.262509 186.70609 \nL 212.312128 184.618242 \nL 212.411366 183.233081 \nL 212.460985 188.207 \nL 212.510604 184.807167 \nL 212.808319 162.398697 \nL 212.957176 180.86207 \nL 213.056414 181.632331 \nL 213.106034 180.884749 \nL 213.155653 177.708774 \nL 213.205272 178.93358 \nL 213.403748 186.830367 \nL 213.453367 184.95426 \nL 213.502986 188.183345 \nL 213.552606 185.652762 \nL 213.651844 179.582804 \nL 213.85032 185.466736 \nL 214.098416 190.345107 \nL 214.247273 188.081146 \nL 214.296892 190.611611 \nL 214.346511 188.685721 \nL 214.39613 189.726535 \nL 214.793083 177.065258 \nL 214.842702 178.363847 \nL 214.99156 176.822845 \nL 215.041179 175.795494 \nL 215.090798 175.885946 \nL 215.239655 180.456004 \nL 215.289274 179.151045 \nL 215.388513 179.302834 \nL 215.438132 182.649772 \nL 215.53737 182.446284 \nL 215.586989 179.723624 \nL 215.636608 182.255444 \nL 215.686227 184.891006 \nL 215.735846 183.128855 \nL 215.785466 178.101082 \nL 215.835085 181.751214 \nL 215.934323 184.227872 \nL 215.983942 183.369803 \nL 216.033561 183.422238 \nL 216.182419 185.092727 \nL 216.232038 185.52874 \nL 216.281657 180.880614 \nL 216.331276 184.523303 \nL 216.380895 184.558988 \nL 216.529752 178.011952 \nL 216.628991 178.558678 \nL 216.728229 178.174832 \nL 216.827467 183.879691 \nL 216.976324 177.070268 \nL 217.025943 177.720219 \nL 217.075563 178.960708 \nL 217.125182 177.06667 \nL 217.174801 180.214172 \nL 217.22442 178.689531 \nL 217.373277 174.127617 \nL 217.77023 188.756358 \nL 217.819849 188.190208 \nL 217.869468 188.529878 \nL 217.919087 188.959903 \nL 217.968707 188.665611 \nL 218.018326 187.759609 \nL 218.067945 192.011228 \nL 218.167183 191.17454 \nL 218.365659 186.972513 \nL 218.415279 189.152625 \nL 218.464898 186.595429 \nL 218.514517 182.373907 \nL 218.564136 185.992953 \nL 218.613755 188.654935 \nL 218.663374 186.914727 \nL 218.712993 186.494696 \nL 218.812231 187.738457 \nL 218.961089 183.616768 \nL 219.010708 180.695784 \nL 219.060327 184.625364 \nL 219.159565 183.990711 \nL 219.258803 184.018818 \nL 219.308423 182.168558 \nL 219.506899 184.609519 \nL 272.400873 183.452633 \nL 272.500111 174.956806 \nL 272.54973 180.037233 \nL 272.599349 176.536034 \nL 272.748207 180.034853 \nL 272.847445 183.805605 \nL 272.996302 174.343788 \nL 273.045921 172.55097 \nL 273.244398 154.085629 \nL 273.442874 141.156044 \nL 273.542113 141.610513 \nL 273.591732 146.021297 \nL 273.641351 141.635687 \nL 273.69097 134.842105 \nL 273.740589 138.986412 \nL 274.087923 154.113106 \nL 274.137542 152.089618 \nL 274.23678 157.594893 \nL 274.435257 142.143019 \nL 274.484876 143.036762 \nL 274.633733 131.774737 \nL 274.683352 132.633823 \nL 274.732971 131.684081 \nL 274.78259 130.557455 \nL 275.030686 147.45761 \nL 275.129924 138.244026 \nL 275.179543 139.145113 \nL 275.229162 139.960592 \nL 275.278782 139.045854 \nL 275.328401 138.265147 \nL 275.477258 112.231903 \nL 275.526877 112.700796 \nL 275.576496 120.269485 \nL 275.626115 118.117271 \nL 275.675734 112.851698 \nL 275.725354 114.11726 \nL 275.824592 124.440539 \nL 275.874211 124.288025 \nL 275.92383 121.838825 \nL 275.973449 123.744939 \nL 276.023068 124.88028 \nL 276.072687 129.697816 \nL 276.122306 127.186144 \nL 276.221545 123.887824 \nL 276.271164 124.795454 \nL 276.320783 123.498594 \nL 276.420021 133.088399 \nL 276.46964 130.046384 \nL 276.519259 133.006603 \nL 276.568878 133.22862 \nL 276.618498 131.970312 \nL 276.717736 138.278611 \nL 276.767355 134.218285 \nL 276.816974 134.334913 \nL 276.866593 127.861347 \nL 276.916212 130.738113 \nL 276.965831 135.169828 \nL 277.06507 134.278968 \nL 277.114689 129.537057 \nL 277.164308 133.367161 \nL 277.362784 137.508531 \nL 277.462023 132.436237 \nL 277.511642 132.788059 \nL 277.561261 132.989913 \nL 277.710118 130.560805 \nL 277.809356 130.952985 \nL 277.958214 145.52513 \nL 278.107071 138.915692 \nL 278.15669 140.681543 \nL 278.206309 139.841406 \nL 278.404786 126.495872 \nL 278.603262 110.904448 \nL 278.652881 114.063232 \nL 278.7025 113.835593 \nL 278.801739 116.522708 \nL 278.851358 114.349861 \nL 278.950596 119.869309 \nL 279.000215 119.068738 \nL 279.049834 119.173329 \nL 279.149072 120.8199 \nL 279.496406 102.746755 \nL 279.645263 101.793663 \nL 279.694883 106.660701 \nL 279.744502 99.123114 \nL 279.794121 102.063772 \nL 279.84374 102.007294 \nL 279.942978 104.52948 \nL 279.992597 103.861039 \nL 280.091835 103.902946 \nL 280.439169 89.839551 \nL 280.538407 94.462764 \nL 280.588027 87.100423 \nL 280.637646 87.477644 \nL 280.786503 94.039985 \nL 280.885741 93.366624 \nL 281.183456 99.254211 \nL 281.332313 94.132554 \nL 281.381932 94.838952 \nL 281.431552 97.075432 \nL 281.481171 95.687245 \nL 281.580409 90.569882 \nL 281.630028 95.277361 \nL 281.729266 94.729445 \nL 281.778885 93.929081 \nL 282.225457 110.127832 \nL 282.275076 108.066163 \nL 282.572791 91.026108 \nL 282.672029 102.542702 \nL 282.820887 108.497082 \nL 282.870506 107.19656 \nL 282.920125 109.443101 \nL 282.969744 108.864428 \nL 283.16822 103.141881 \nL 283.317078 118.186324 \nL 283.366697 114.826779 \nL 283.614792 103.088375 \nL 283.714031 105.13666 \nL 284.011745 92.456538 \nL 284.160603 96.992695 \nL 284.30946 94.1823 \nL 284.408698 97.965055 \nL 284.458317 96.660426 \nL 284.507936 93.56933 \nL 284.607175 101.680314 \nL 284.656794 100.405644 \nL 284.805651 95.186541 \nL 284.85527 96.566334 \nL 284.904889 103.035254 \nL 284.954508 97.338327 \nL 285.053747 99.774517 \nL 285.103366 99.608064 \nL 285.351461 71.694137 \nL 285.401081 73.606881 \nL 285.4507 76.673963 \nL 285.549938 69.432312 \nL 285.748414 77.458893 \nL 285.798033 67.924449 \nL 285.897272 69.163628 \nL 285.946891 64.093962 \nL 285.99651 70.304355 \nL 286.046129 70.559089 \nL 286.393463 84.37684 \nL 286.443082 83.270676 \nL 286.492701 86.675763 \nL 286.54232 83.409551 \nL 286.790416 67.461555 \nL 286.889654 69.07334 \nL 286.939273 56.765519 \nL 287.038511 57.993522 \nL 287.137749 60.583097 \nL 287.286607 56.333771 \nL 287.385845 69.074087 \nL 287.435464 57.873005 \nL 287.485083 59.747531 \nL 287.584321 64.301488 \nL 287.68356 53.679309 \nL 287.733179 60.372822 \nL 287.782798 58.283849 \nL 287.832417 59.261582 \nL 288.030893 74.792644 \nL 288.080513 73.271784 \nL 288.179751 70.754153 \nL 288.278989 61.289754 \nL 288.328608 65.715052 \nL 288.427846 65.293294 \nL 288.527085 68.531043 \nL 288.576704 67.798085 \nL 288.675942 66.497194 \nL 288.725561 66.529024 \nL 288.874418 72.63329 \nL 288.973657 82.569925 \nL 289.023276 81.313233 \nL 289.072895 73.633418 \nL 289.122514 74.034446 \nL 289.172133 79.412437 \nL 289.221752 73.491449 \nL 289.271371 76.881109 \nL 289.37061 76.585247 \nL 289.469848 72.595462 \nL 289.569086 56.144174 \nL 289.668324 62.140666 \nL 289.717943 61.438263 \nL 289.866801 50.47483 \nL 289.91642 56.174199 \nL 289.966039 53.794204 \nL 290.114896 48.966372 \nL 290.164515 48.878407 \nL 290.214134 52.5191 \nL 290.263754 51.828945 \nL 290.412611 45.555996 \nL 290.561468 40.711676 \nL 290.611087 42.144203 \nL 290.710326 41.029408 \nL 290.759945 41.148111 \nL 290.908802 37.636346 \nL 290.958421 39.159329 \nL 343.852395 38.454502 \nL 343.902014 37.957008 \nL 343.951633 34.742548 \nL 344.100491 49.156107 \nL 344.15011 47.10777 \nL 344.199729 47.665635 \nL 344.249348 49.67705 \nL 344.497444 73.539882 \nL 344.547063 70.423766 \nL 344.596682 75.269895 \nL 344.745539 51.386407 \nL 344.844777 57.532149 \nL 344.894396 53.898077 \nL 345.043254 56.539696 \nL 345.291349 47.290991 \nL 345.390588 50.702599 \nL 345.539445 44.879702 \nL 345.589064 45.261245 \nL 345.638683 47.434417 \nL 345.83716 29.030988 \nL 345.936398 40.112568 \nL 346.035636 38.148093 \nL 346.134874 30.252802 \nL 346.283732 41.979569 \nL 346.333351 35.423591 \nL 346.432589 38.04655 \nL 346.581446 55.22164 \nL 346.631065 53.151446 \nL 346.680685 55.819707 \nL 346.730304 53.990215 \nL 346.829542 53.116175 \nL 346.978399 62.679794 \nL 347.028018 59.213528 \nL 347.077637 64.858546 \nL 347.226495 38.168927 \nL 347.276114 37.768759 \nL 347.375352 26.958577 \nL 347.424971 32.239602 \nL 347.524209 16.101818 \nL 347.573829 16.411345 \nL 347.772305 30.897219 \nL 347.821924 24.446052 \nL 347.871543 26.162412 \nL 348.07002 39.666917 \nL 348.119639 34.615875 \nL 348.169258 40.588092 \nL 348.318115 52.059433 \nL 348.417353 39.082789 \nL 348.466973 43.959746 \nL 348.516592 45.54704 \nL 348.566211 41.5793 \nL 348.61583 43.389348 \nL 348.665449 44.312038 \nL 348.863925 40.901109 \nL 349.012783 48.790639 \nL 349.112021 51.948584 \nL 349.459355 33.913094 \nL 349.508974 35.105742 \nL 349.70745 44.940772 \nL 349.757069 41.375163 \nL 349.856308 48.375317 \nL 349.905927 47.720756 \nL 350.005165 50.973042 \nL 350.104403 45.923427 \nL 350.154022 46.66208 \nL 350.203641 45.501121 \nL 350.253261 46.155204 \nL 350.30288 45.923125 \nL 350.352499 37.987964 \nL 350.402118 39.167344 \nL 350.650214 47.179202 \nL 350.749452 43.801409 \nL 350.799071 49.285604 \nL 350.84869 45.631437 \nL 350.898309 46.137784 \nL 351.047166 43.183425 \nL 351.096786 42.65618 \nL 351.146405 39.155828 \nL 351.196024 41.684009 \nL 351.245643 42.316462 \nL 351.295262 41.262205 \nL 351.444119 36.455755 \nL 351.493738 37.024248 \nL 351.692215 44.102764 \nL 351.741834 47.16151 \nL 351.791453 42.939259 \nL 351.841072 42.981477 \nL 352.089168 49.6922 \nL 352.138787 48.868246 \nL 352.188406 47.601018 \nL 352.238025 47.622255 \nL 352.436502 59.795096 \nL 352.486121 58.12204 \nL 352.634978 72.967715 \nL 354.322028 72.967715 \nL 354.371647 72.12231 \nL 354.421266 68.699116 \nL 354.470885 70.050373 \nL 354.570123 70.008076 \nL 354.619743 70.704968 \nL 354.718981 75.437953 \nL 354.7686 73.301828 \nL 354.818219 71.124761 \nL 354.867838 71.420596 \nL 354.917457 72.392347 \nL 354.967076 72.012011 \nL 355.016695 72.012011 \nL 355.066315 76.745011 \nL 355.115934 74.714153 \nL 355.165553 73.339751 \nL 355.215172 73.656809 \nL 355.364029 74.608033 \nL 355.413648 74.079431 \nL 355.512887 75.770912 \nL 355.661744 72.154553 \nL 355.711363 73.887116 \nL 355.760982 72.386245 \nL 355.909839 71.963596 \nL 356.108316 79.995969 \nL 356.157935 79.953581 \nL 356.257173 77.032174 \nL 356.306792 78.30161 \nL 356.45565 80.629963 \nL 356.505269 80.84173 \nL 356.554888 81.688846 \nL 356.703745 74.617353 \nL 356.852603 80.072029 \nL 356.951841 78.992116 \nL 357.00146 75.330104 \nL 357.051079 77.191098 \nL 357.100698 76.408203 \nL 357.150317 78.290989 \nL 357.199936 77.867706 \nL 357.249555 74.481806 \nL 357.299175 76.173291 \nL 357.398413 76.173291 \nL 357.448032 74.481074 \nL 357.497651 75.051991 \nL 357.54727 76.595656 \nL 357.596889 75.495554 \nL 357.696127 75.326403 \nL 357.844985 76.701164 \nL 357.944223 76.404909 \nL 357.993842 78.287695 \nL 358.1427 72.850612 \nL 358.192319 75.154384 \nL 358.241938 73.399205 \nL 358.291557 72.363373 \nL 358.390795 83.599227 \nL 358.440414 81.322468 \nL 358.638891 68.933192 \nL 358.68851 67.980899 \nL 358.738129 74.211576 \nL 358.787748 65.323367 \nL 358.837367 66.688447 \nL 358.886986 70.523672 \nL 358.936605 64.137001 \nL 358.986224 64.877596 \nL 359.135082 74.460988 \nL 359.184701 75.161619 \nL 359.23432 77.752443 \nL 359.283939 75.403058 \nL 359.532035 67.25585 \nL 359.78013 79.413034 \nL 359.829749 77.63015 \nL 359.879368 67.021469 \nL 359.928988 72.292917 \nL 360.127464 77.386381 \nL 360.276321 72.547106 \nL 360.32594 67.891394 \nL 360.37556 72.541574 \nL 360.425179 71.108945 \nL 360.524417 76.121091 \nL 360.574036 75.762714 \nL 360.623655 75.762714 \nL 360.772512 72.179021 \nL 360.822132 75.760048 \nL 360.871751 75.043142 \nL 361.020608 68.950855 \nL 361.169465 72.884627 \nL 361.268704 63.217475 \nL 361.318323 65.685901 \nL 361.46718 62.200478 \nL 361.566418 64.056414 \nL 361.764895 54.06264 \nL 361.814514 54.332002 \nL 361.913752 53.837837 \nL 361.963371 54.181232 \nL 362.01299 60.239909 \nL 362.062609 58.969168 \nL 362.112229 57.229409 \nL 362.161848 58.828595 \nL 362.310705 61.523144 \nL 362.360324 60.844758 \nL 362.409943 57.215902 \nL 362.409943 57.215902 \n\" style=\"fill:none;stroke:#1f77b4;stroke-linecap:square;stroke-width:1.5;\"/>\n   </g>\n   <g id=\"patch_3\">\n    <path d=\"M 42.828125 203.04 \nL 42.828125 7.2 \n\" style=\"fill:none;stroke:#000000;stroke-linecap:square;stroke-linejoin:miter;stroke-width:0.8;\"/>\n   </g>\n   <g id=\"patch_4\">\n    <path d=\"M 377.628125 203.04 \nL 377.628125 7.2 \n\" style=\"fill:none;stroke:#000000;stroke-linecap:square;stroke-linejoin:miter;stroke-width:0.8;\"/>\n   </g>\n   <g id=\"patch_5\">\n    <path d=\"M 42.828125 203.04 \nL 377.628125 203.04 \n\" style=\"fill:none;stroke:#000000;stroke-linecap:square;stroke-linejoin:miter;stroke-width:0.8;\"/>\n   </g>\n   <g id=\"patch_6\">\n    <path d=\"M 42.828125 7.2 \nL 377.628125 7.2 \n\" style=\"fill:none;stroke:#000000;stroke-linecap:square;stroke-linejoin:miter;stroke-width:0.8;\"/>\n   </g>\n  </g>\n </g>\n <defs>\n  <clipPath id=\"pa82810fa69\">\n   <rect height=\"195.84\" width=\"334.8\" x=\"42.828125\" y=\"7.2\"/>\n  </clipPath>\n </defs>\n</svg>\n",
      "image/png": "[encoded data removed]"
     },
     "metadata": {
      "needs_background": "light"
     }
    }
   ],
   "source": [
    "(1+strategy_df[\"ret\"]).cumprod().plot()"
   ]
  },
  {
   "cell_type": "code",
   "execution_count": 25,
   "metadata": {},
   "outputs": [
    {
     "output_type": "stream",
     "name": "stdout",
     "text": [
      "calculating KPIs for  DIVISLAB.NS\ncalculating KPIs for  BAJFINANCE.NS\ncalculating KPIs for  JSWSTEEL.NS\n"
     ]
    }
   ],
   "source": [
    "cagr = {}\n",
    "sharpe_ratios = {}\n",
    "max_drawdown = {}\n",
    "win_pcts={}\n",
    "for ticker in tickers:\n",
    "    win=[]\n",
    "    print(\"calculating KPIs for \",ticker)      \n",
    "    cagr[ticker] =  CAGR(ohlc_dict[ticker])\n",
    "    for i in range(len(ohlcv_database)):\n",
    "        if ohlcv_database[\"stock\"][i]==ticker:\n",
    "            \n",
    "            win.append(ohlcv_database[\"profit\"][i])\n",
    "    win_df=pd.DataFrame()\n",
    "    win_df[\"profit\"]=np.array(win)\n",
    "    win_pcts[ticker]=win_pct(win_df)           \n",
    "\n",
    "    sharpe_ratios[ticker] =  sharpe(ohlc_dict[ticker],0.025)\n",
    "    max_drawdown[ticker] =  max_dd(ohlc_dict[ticker])\n",
    "\n",
    "KPI_df = pd.DataFrame([cagr,sharpe_ratios,max_drawdown,win_pcts],index=[\"Return\",\"Sharpe Ratio\",\"Max Drawdown\",\"win_pct\"])      \n",
    "KPI_DF=KPI_df.T\n"
   ]
  },
  {
   "cell_type": "code",
   "execution_count": 26,
   "metadata": {},
   "outputs": [],
   "source": [
    "KPI_DF.to_csv(\"a1.csv\")"
   ]
  },
  {
   "cell_type": "code",
   "execution_count": null,
   "metadata": {},
   "outputs": [],
   "source": []
  }
 ]
}