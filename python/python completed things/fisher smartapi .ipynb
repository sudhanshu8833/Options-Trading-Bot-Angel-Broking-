{
 "cells": [
  {
   "cell_type": "code",
   "execution_count": 1,
   "metadata": {},
   "outputs": [],
   "source": [
    "from finta import TA\n",
    "import yfinance as yf\n",
    "import numpy as np\n",
    "import pandas as pd\n",
    "import yfinance as yf\n",
    "from alpha_vantage.timeseries import TimeSeries\n",
    "import datetime as dt\n",
    "import copy\n",
    "import matplotlib.pyplot as plt\n",
    "import time\n",
    "import json\n",
    "\n"
   ]
  },
  {
   "cell_type": "code",
   "execution_count": 2,
   "metadata": {},
   "outputs": [],
   "source": [
    "from smartapi import SmartConnect \n",
    "obj=SmartConnect(api_key=\"iJ3YYOXH\")\n",
    "data = obj.generateSession(\"S776051\",\"Madhya246###\")\n",
    "refreshToken= data['data']['refreshToken']\n",
    "feedToken=obj.getfeedToken()\n",
    "userProfile= obj.getProfile(refreshToken)\n"
   ]
  },
  {
   "cell_type": "code",
   "execution_count": 3,
   "metadata": {},
   "outputs": [],
   "source": [
    "tickers=[\"3045\"]"
   ]
  },
  {
   "cell_type": "code",
   "execution_count": 4,
   "metadata": {},
   "outputs": [],
   "source": [
    "ohlc_intraday={}"
   ]
  },
  {
   "cell_type": "code",
   "execution_count": 5,
   "metadata": {},
   "outputs": [],
   "source": [
    "for ticker in tickers:\n",
    "    ohlc_intraday[ticker]=pd.DataFrame()\n",
    "\n",
    "    historicParam={\n",
    "    \"exchange\": \"NSE\",\n",
    "    \"symboltoken\": ticker,\n",
    "    \"interval\": \"FIVE_MINUTE\",\n",
    "    \"fromdate\": \"2021-04-08 09:15\", \n",
    "    \"todate\": \"2021-08-14 15:25\"\n",
    "    }\n",
    "\n",
    "    data=obj.getCandleData(historicParam)\n",
    "\n",
    "    data=pd.DataFrame(data)[\"data\"]\n",
    "    open=[]\n",
    "    close=[]\n",
    "    high=[]\n",
    "    low=[]\n",
    "    volume=[]\n",
    "    index=[]\n",
    "    for i in range(len(data)):\n",
    "        open.append(data[i][1])\n",
    "\n",
    "    for i in range(len(data)):\n",
    "        close.append(data[i][4])\n",
    "\n",
    "    for i in range(len(data)):\n",
    "        high.append(data[i][2])\n",
    "\n",
    "    for i in range(len(data)):\n",
    "        low.append(data[i][3])\n",
    "\n",
    "    for i in range(len(data)):\n",
    "        index.append(data[i][0])\n",
    "\n",
    "    for i in range(len(data)):\n",
    "        volume.append(data[i][5])\n",
    "\n",
    "\n",
    "    ohlc_intraday[ticker][\"Index\"]=np.array(index)\n",
    "    ohlc_intraday[ticker][\"Open\"]=np.array(open)\n",
    "    ohlc_intraday[ticker][\"High\"]=np.array(high)\n",
    "    ohlc_intraday[ticker][\"Low\"]=np.array(low)\n",
    "\n",
    "    ohlc_intraday[ticker][\"Close\"]=np.array(close)\n",
    "    ohlc_intraday[ticker][\"Volume\"]=np.array(volume)\n",
    "    ohlc_intraday[ticker].set_index(\"Index\",inplace=True)\n"
   ]
  },
  {
   "cell_type": "code",
   "execution_count": 6,
   "metadata": {},
   "outputs": [
    {
     "data": {
      "text/plain": "Series([], Name: data, dtype: float64)"
     },
     "execution_count": 6,
     "metadata": {},
     "output_type": "execute_result"
    }
   ],
   "source": [
    "data"
   ]
  },
  {
   "cell_type": "code",
   "execution_count": 7,
   "metadata": {},
   "outputs": [
    {
     "data": {
      "text/plain": "{'SBIN-EQ': Empty DataFrame\n Columns: [Open, High, Low, Close, Volume]\n Index: []}"
     },
     "execution_count": 7,
     "metadata": {},
     "output_type": "execute_result"
    }
   ],
   "source": [
    "ohlc_intraday"
   ]
  },
  {
   "cell_type": "code",
   "execution_count": 8,
   "metadata": {},
   "outputs": [],
   "source": [
    "ohlc_dict={}\n",
    "ohlc_dict=copy.deepcopy(ohlc_intraday)"
   ]
  },
  {
   "cell_type": "code",
   "execution_count": 9,
   "metadata": {},
   "outputs": [],
   "source": [
    "def MACD(DF,a,b,c):\n",
    "    \"\"\"function to calculate MACD\n",
    "       typical values a = 12; b =26, c =9\"\"\"\n",
    "    df = DF.copy()\n",
    "    df[\"MA_Fast\"]=df[\"close\"].ewm(span=a,min_periods=a).mean()\n",
    "    df[\"MA_Slow\"]=df[\"close\"].ewm(span=b,min_periods=b).mean()\n",
    "    df[\"MACD\"]=df[\"MA_Fast\"]-df[\"MA_Slow\"]\n",
    "    df[\"Signal\"]=df[\"MACD\"].ewm(span=c,min_periods=c).mean()\n",
    "    \n",
    "    df.drop([\"MA_Fast\",\"MA_Slow\"],axis=1)\n",
    "    return df\n",
    "\n",
    "\n",
    "def CAGR(DF):\n",
    "    \"function to calculate the Cumulative Annual Growth Rate of a trading strategy\"\n",
    "    df = DF.copy()\n",
    "    df[\"cum_return\"] = (1 + df[\"ret\"]).cumprod()\n",
    "    n = len(df)/(252*74)\n",
    "    CAGR = (df[\"cum_return\"].tolist()[-1])**(1/n) - 1\n",
    "    return CAGR\n",
    "\n",
    "def volatility(DF):\n",
    "    \"function to calculate annualized volatility of a trading strategy\"\n",
    "    df = DF.copy()\n",
    "    vol = df[\"ret\"].std() * np.sqrt(252*74)\n",
    "    return vol\n",
    "\n",
    "def sharpe(DF,rf):\n",
    "    \"function to calculate sharpe ratio ; rf is the risk free rate\"\n",
    "    df = DF.copy()\n",
    "    sr = (CAGR(df) - rf)/volatility(df)\n",
    "    return sr\n",
    "    \n",
    "\n",
    "def max_dd(DF):\n",
    "    \"function to calculate max drawdown\"\n",
    "    df = DF.copy()\n",
    "    df[\"cum_return\"] = (1 + df[\"ret\"]).cumprod()\n",
    "    df[\"cum_roll_max\"] = df[\"cum_return\"].cummax()\n",
    "    df[\"drawdown\"] = df[\"cum_roll_max\"] - df[\"cum_return\"]\n",
    "    df[\"drawdown_pct\"] = df[\"drawdown\"]/df[\"cum_roll_max\"]\n",
    "    max_dd = df[\"drawdown_pct\"].max()\n",
    "    return max_dd\n",
    "\n",
    "def win_pct(DF):\n",
    "    df=DF.copy()\n",
    "    j=0\n",
    "    for i in range(len(df)):\n",
    "        if df[\"profit\"][i]>0:\n",
    "            j+=1\n",
    "\n",
    "    win_percent=j/len(df)*100\n",
    "\n",
    "    return win_percent\n",
    "            \n"
   ]
  },
  {
   "cell_type": "code",
   "execution_count": 10,
   "metadata": {},
   "outputs": [],
   "source": [
    "tickers_signal = {}\n",
    "ticker_ret = {}"
   ]
  },
  {
   "cell_type": "code",
   "execution_count": 11,
   "metadata": {},
   "outputs": [],
   "source": [
    "for ticker in tickers:\n",
    "    ohlc_dict\n",
    "    ohlc_dict[ticker]=ohlc_dict[ticker].iloc[:,[0,1,2,3,4]]\n",
    "    ohlc_dict[ticker].columns=[\"open\",\"high\",\"low\",\"close\",\"volume\"]\n",
    "    ohlc_dict[ticker][\"fisher 20\"]=TA.FISH(ohlc_dict[ticker],20)\n",
    "    ohlc_dict[ticker][\"fisher 10\"]=TA.FISH(ohlc_dict[ticker],10)    \n",
    "    ohlc_dict[ticker][\"RSI 16\"]=TA.RSI(ohlc_dict[ticker],16)\n",
    "    ohlc_dict[ticker][\"RSI 21\"]=TA.RSI(ohlc_dict[ticker],21)\n",
    "    ohlc_dict[ticker][\"MACD macd line\"]=MACD(ohlc_dict[ticker],12,26,9)[\"MACD\"]\n",
    "    ohlc_dict[ticker][\"MACD signal line\"]=MACD(ohlc_dict[ticker],12,26,9)[\"Signal\"]\n",
    "    \n",
    "   \n",
    "    "
   ]
  },
  {
   "cell_type": "code",
   "execution_count": 12,
   "metadata": {},
   "outputs": [],
   "source": [
    "ticker_signal={}\n",
    "ticker_ret={}\n",
    "ohlc_database={}\n",
    "price_in=[]\n",
    "price_out=[]\n",
    "order=[]\n",
    "stock=[]\n"
   ]
  },
  {
   "cell_type": "code",
   "execution_count": 13,
   "metadata": {},
   "outputs": [],
   "source": [
    "for ticker in tickers:\n",
    "    ticker_signal[ticker]=[]\n",
    "    ticker_ret[ticker]=[]\n",
    "    ohlc_database[ticker]=pd.DataFrame()\n",
    "\n",
    "    ohlc_dict[ticker].rename(columns={\"open\":\"Open\",\"high\":\"High\",\"low\":\"Low\",\"close\":\"Close\",\"volume\":\"Volume\"},inplace=True)\n",
    "    \n",
    "for ticker in tickers:\n",
    "    signal=\"\"\n",
    "    for i in range(len(ohlc_dict[ticker])):\n",
    "        if signal==\"\":\n",
    "            if ohlc_dict[ticker][\"fisher 10\"][i]>0 and ohlc_dict[ticker][\"fisher 10\"][i-1]<0 and ohlc_dict[ticker][\"RSI 16\"][i]>50: \n",
    "                signal=\"buy\"\n",
    "                price=ohlc_dict[ticker][\"Close\"][i]\n",
    "                price_in.append(ohlc_dict[ticker][\"Close\"][i])\n",
    "                \n",
    "                order.append(\"long\")\n",
    "                stock.append(ticker)\n",
    "\n",
    "                \n",
    "               \n",
    "\n",
    "\n",
    "\n",
    "            elif (ohlc_dict[ticker][\"fisher 20\"][i]<0 and ohlc_dict[ticker][\"fisher 20\"][i-1]>0) and ohlc_dict[ticker][\"MACD macd line\"][i]<ohlc_dict[ticker][\"MACD signal line\"][i] and ohlc_dict[ticker][\"RSI 21\"][i]<42.5:\n",
    "                signal=\"sell\"\n",
    "                price=ohlc_dict[ticker][\"Close\"][i]\n",
    "                \n",
    "                price_in.append(ohlc_dict[ticker][\"Close\"][i])\n",
    "                \n",
    "                order.append(\"short\")\n",
    "                stock.append(ticker)                \n",
    "            ticker_ret[ticker].append(0)\n",
    "\n",
    "        elif signal==\"buy\":\n",
    "            if (ohlc_dict[ticker][\"fisher 20\"][i]<0.5 and ohlc_dict[ticker][\"fisher 20\"][i-1]>0.5) or ohlc_dict[ticker][\"Close\"][i]>=price+.02*price or ohlc_dict[ticker][\"Close\"][i]<=price-.008*price:\n",
    "\n",
    "                signal=\"\"\n",
    "                price_out.append(ohlc_dict[ticker][\"Close\"][i])\n",
    "                ticker_ret[ticker].append((ohlc_dict[ticker][\"Close\"][i]/ohlc_dict[ticker][\"Close\"][i-1])-1)\n",
    "\n",
    "            \n",
    "            \n",
    "            else:\n",
    "                ticker_ret[ticker].append((ohlc_dict[ticker][\"Close\"][i]/ohlc_dict[ticker][\"Close\"][i-1])-1)\n",
    "           \n",
    "        \n",
    "        \n",
    "        elif signal==\"sell\":\n",
    "            if (ohlc_dict[ticker][\"fisher 20\"][i]>-1 and ohlc_dict[ticker][\"fisher 20\"][i-1]<-1) or (ohlc_dict[ticker][\"fisher 20\"][i]>0 and ohlc_dict[ticker][\"fisher 20\"][i-1]<0) or ohlc_dict[ticker][\"Close\"][i]<=price +.02*price or ohlc_dict[ticker][\"Close\"][i]>=price-.005*price:\n",
    "                price_out.append(ohlc_dict[ticker][\"Close\"][i])\n",
    "\n",
    "                signal=\"\"\n",
    "                ticker_ret[ticker].append((ohlc_dict[ticker][\"Close\"][i-1]/ohlc_dict[ticker][\"Close\"][i])-1)\n",
    "\n",
    "          \n",
    "            \n",
    "            else:\n",
    "                ticker_ret[ticker].append((ohlc_dict[ticker][\"Close\"][i-1]/ohlc_dict[ticker][\"Close\"][i])-1)\n",
    "    if len(price_in)!=len(price_out):\n",
    "        price_out.append(ohlc_dict[ticker][\"Close\"][-1])\n",
    "    ohlc_dict[ticker][\"ret\"] = np.array(ticker_ret[ticker])    "
   ]
  },
  {
   "cell_type": "code",
   "execution_count": 14,
   "metadata": {},
   "outputs": [],
   "source": [
    "ohlcv_database=pd.DataFrame()\n",
    "\n",
    "ohlcv_database[\"price_in\"]=np.array(price_in)\n",
    "ohlcv_database[\"price_out\"]=np.array(price_out)\n",
    "ohlcv_database[\"order\"]=np.array(order)\n",
    "ohlcv_database[\"stock\"]=np.array(stock)"
   ]
  },
  {
   "cell_type": "code",
   "execution_count": 15,
   "metadata": {},
   "outputs": [],
   "source": [
    "profit=[]\n",
    "for i in range(len(ohlcv_database)):\n",
    "    if ohlcv_database[\"order\"][i]==\"long\":\n",
    "        profit.append(((ohlcv_database[\"price_out\"][i]-ohlcv_database[\"price_in\"][i])/ohlcv_database[\"price_in\"][i])*100)\n",
    "\n",
    "    elif ohlcv_database[\"order\"][i]==\"short\":\n",
    "        profit.append(((ohlcv_database[\"price_in\"][i]-ohlcv_database[\"price_out\"][i])/ohlcv_database[\"price_out\"][i])*100)\n",
    "\n",
    "ohlcv_database[\"profit\"]=np.array(profit)"
   ]
  },
  {
   "cell_type": "code",
   "execution_count": 16,
   "metadata": {},
   "outputs": [
    {
     "data": {
      "text/html": "<div>\n<style scoped>\n    .dataframe tbody tr th:only-of-type {\n        vertical-align: middle;\n    }\n\n    .dataframe tbody tr th {\n        vertical-align: top;\n    }\n\n    .dataframe thead th {\n        text-align: right;\n    }\n</style>\n<table border=\"1\" class=\"dataframe\">\n  <thead>\n    <tr style=\"text-align: right;\">\n      <th></th>\n      <th>price_in</th>\n      <th>price_out</th>\n      <th>order</th>\n      <th>stock</th>\n      <th>profit</th>\n    </tr>\n  </thead>\n  <tbody>\n  </tbody>\n</table>\n</div>",
      "text/plain": "Empty DataFrame\nColumns: [price_in, price_out, order, stock, profit]\nIndex: []"
     },
     "execution_count": 16,
     "metadata": {},
     "output_type": "execute_result"
    }
   ],
   "source": [
    "ohlcv_database"
   ]
  },
  {
   "cell_type": "code",
   "execution_count": 17,
   "metadata": {},
   "outputs": [
    {
     "ename": "IndexError",
     "evalue": "list index out of range",
     "output_type": "error",
     "traceback": [
      "\u001b[0;31m---------------------------------------------------------------------------\u001b[0m",
      "\u001b[0;31mIndexError\u001b[0m                                Traceback (most recent call last)",
      "\u001b[0;32m<ipython-input-17-06bf2582815c>\u001b[0m in \u001b[0;36m<module>\u001b[0;34m\u001b[0m\n\u001b[1;32m      3\u001b[0m     \u001b[0mstrategy_df\u001b[0m\u001b[0;34m[\u001b[0m\u001b[0mticker\u001b[0m\u001b[0;34m]\u001b[0m \u001b[0;34m=\u001b[0m \u001b[0mohlc_dict\u001b[0m\u001b[0;34m[\u001b[0m\u001b[0mticker\u001b[0m\u001b[0;34m]\u001b[0m\u001b[0;34m[\u001b[0m\u001b[0;34m\"ret\"\u001b[0m\u001b[0;34m]\u001b[0m\u001b[0;34m\u001b[0m\u001b[0;34m\u001b[0m\u001b[0m\n\u001b[1;32m      4\u001b[0m \u001b[0mstrategy_df\u001b[0m\u001b[0;34m[\u001b[0m\u001b[0;34m\"ret\"\u001b[0m\u001b[0;34m]\u001b[0m \u001b[0;34m=\u001b[0m \u001b[0mstrategy_df\u001b[0m\u001b[0;34m.\u001b[0m\u001b[0mmean\u001b[0m\u001b[0;34m(\u001b[0m\u001b[0maxis\u001b[0m\u001b[0;34m=\u001b[0m\u001b[0;36m1\u001b[0m\u001b[0;34m)\u001b[0m\u001b[0;34m\u001b[0m\u001b[0;34m\u001b[0m\u001b[0m\n\u001b[0;32m----> 5\u001b[0;31m \u001b[0mCAGR\u001b[0m\u001b[0;34m(\u001b[0m\u001b[0mstrategy_df\u001b[0m\u001b[0;34m)\u001b[0m\u001b[0;34m\u001b[0m\u001b[0;34m\u001b[0m\u001b[0m\n\u001b[0m\u001b[1;32m      6\u001b[0m \u001b[0;34m\u001b[0m\u001b[0m\n",
      "\u001b[0;32m<ipython-input-9-73cc5c601e37>\u001b[0m in \u001b[0;36mCAGR\u001b[0;34m(DF)\u001b[0m\n\u001b[1;32m     17\u001b[0m     \u001b[0mdf\u001b[0m\u001b[0;34m[\u001b[0m\u001b[0;34m\"cum_return\"\u001b[0m\u001b[0;34m]\u001b[0m \u001b[0;34m=\u001b[0m \u001b[0;34m(\u001b[0m\u001b[0;36m1\u001b[0m \u001b[0;34m+\u001b[0m \u001b[0mdf\u001b[0m\u001b[0;34m[\u001b[0m\u001b[0;34m\"ret\"\u001b[0m\u001b[0;34m]\u001b[0m\u001b[0;34m)\u001b[0m\u001b[0;34m.\u001b[0m\u001b[0mcumprod\u001b[0m\u001b[0;34m(\u001b[0m\u001b[0;34m)\u001b[0m\u001b[0;34m\u001b[0m\u001b[0;34m\u001b[0m\u001b[0m\n\u001b[1;32m     18\u001b[0m     \u001b[0mn\u001b[0m \u001b[0;34m=\u001b[0m \u001b[0mlen\u001b[0m\u001b[0;34m(\u001b[0m\u001b[0mdf\u001b[0m\u001b[0;34m)\u001b[0m\u001b[0;34m/\u001b[0m\u001b[0;34m(\u001b[0m\u001b[0;36m252\u001b[0m\u001b[0;34m*\u001b[0m\u001b[0;36m74\u001b[0m\u001b[0;34m)\u001b[0m\u001b[0;34m\u001b[0m\u001b[0;34m\u001b[0m\u001b[0m\n\u001b[0;32m---> 19\u001b[0;31m     \u001b[0mCAGR\u001b[0m \u001b[0;34m=\u001b[0m \u001b[0;34m(\u001b[0m\u001b[0mdf\u001b[0m\u001b[0;34m[\u001b[0m\u001b[0;34m\"cum_return\"\u001b[0m\u001b[0;34m]\u001b[0m\u001b[0;34m.\u001b[0m\u001b[0mtolist\u001b[0m\u001b[0;34m(\u001b[0m\u001b[0;34m)\u001b[0m\u001b[0;34m[\u001b[0m\u001b[0;34m-\u001b[0m\u001b[0;36m1\u001b[0m\u001b[0;34m]\u001b[0m\u001b[0;34m)\u001b[0m\u001b[0;34m**\u001b[0m\u001b[0;34m(\u001b[0m\u001b[0;36m1\u001b[0m\u001b[0;34m/\u001b[0m\u001b[0mn\u001b[0m\u001b[0;34m)\u001b[0m \u001b[0;34m-\u001b[0m \u001b[0;36m1\u001b[0m\u001b[0;34m\u001b[0m\u001b[0;34m\u001b[0m\u001b[0m\n\u001b[0m\u001b[1;32m     20\u001b[0m     \u001b[0;32mreturn\u001b[0m \u001b[0mCAGR\u001b[0m\u001b[0;34m\u001b[0m\u001b[0;34m\u001b[0m\u001b[0m\n\u001b[1;32m     21\u001b[0m \u001b[0;34m\u001b[0m\u001b[0m\n",
      "\u001b[0;31mIndexError\u001b[0m: list index out of range"
     ]
    }
   ],
   "source": [
    "strategy_df = pd.DataFrame()\n",
    "for ticker in tickers:\n",
    "    strategy_df[ticker] = ohlc_dict[ticker][\"ret\"]\n",
    "strategy_df[\"ret\"] = strategy_df.mean(axis=1)\n",
    "CAGR(strategy_df)\n",
    "\n"
   ]
  },
  {
   "cell_type": "code",
   "execution_count": null,
   "metadata": {},
   "outputs": [
    {
     "data": {
      "text/plain": [
       "<AxesSubplot:xlabel='Index'>"
      ]
     },
     "execution_count": 18,
     "metadata": {},
     "output_type": "execute_result"
    },
    {
     "data": {
      "image/png": "[encoded data removed]",
      "image/svg+xml": "<?xml version=\"1.0\" encoding=\"utf-8\" standalone=\"no\"?>\n<!DOCTYPE svg PUBLIC \"-//W3C//DTD SVG 1.1//EN\"\n  \"http://www.w3.org/Graphics/SVG/1.1/DTD/svg11.dtd\">\n<svg height=\"262.19625pt\" version=\"1.1\" viewBox=\"0 0 430.879614 262.19625\" width=\"430.879614pt\" xmlns=\"http://www.w3.org/2000/svg\" xmlns:xlink=\"http://www.w3.org/1999/xlink\">\n <metadata>\n  <rdf:RDF xmlns:cc=\"http://creativecommons.org/ns#\" xmlns:dc=\"http://purl.org/dc/elements/1.1/\" xmlns:rdf=\"http://www.w3.org/1999/02/22-rdf-syntax-ns#\">\n   <cc:Work>\n    <dc:type rdf:resource=\"http://purl.org/dc/dcmitype/StillImage\"/>\n    <dc:date>2021-06-14T15:18:05.181958</dc:date>\n    <dc:format>image/svg+xml</dc:format>\n    <dc:creator>\n     <cc:Agent>\n      <dc:title>Matplotlib v3.4.2, https://matplotlib.org/</dc:title>\n     </cc:Agent>\n    </dc:creator>\n   </cc:Work>\n  </rdf:RDF>\n </metadata>\n <defs>\n  <style type=\"text/css\">*{stroke-linecap:butt;stroke-linejoin:round;}</style>\n </defs>\n <g id=\"figure_1\">\n  <g id=\"patch_1\">\n   <path d=\"M 0 262.19625 \nL 430.879614 262.19625 \nL 430.879614 0 \nL 0 0 \nz\n\" style=\"fill:none;\"/>\n  </g>\n  <g id=\"axes_1\">\n   <g id=\"patch_2\">\n    <path d=\"M 65.149006 224.64 \nL 399.949006 224.64 \nL 399.949006 7.2 \nL 65.149006 7.2 \nz\n\" style=\"fill:#ffffff;\"/>\n   </g>\n   <g id=\"matplotlib.axis_1\">\n    <g id=\"xtick_1\">\n     <g id=\"line2d_1\">\n      <defs>\n       <path d=\"M 0 0 \nL 0 3.5 \n\" id=\"m9fae40a017\" style=\"stroke:#000000;stroke-width:0.8;\"/>\n      </defs>\n      <g>\n       <use style=\"stroke:#000000;stroke-width:0.8;\" x=\"80.367188\" xlink:href=\"#m9fae40a017\" y=\"224.64\"/>\n      </g>\n     </g>\n     <g id=\"text_1\">\n      <!-- 2021-04-08T09:15:00+05:30 -->\n      <g transform=\"translate(7.2 239.238438)scale(0.1 -0.1)\">\n       <defs>\n        <path d=\"M 1228 531 \nL 3431 531 \nL 3431 0 \nL 469 0 \nL 469 531 \nQ 828 903 1448 1529 \nQ 2069 2156 2228 2338 \nQ 2531 2678 2651 2914 \nQ 2772 3150 2772 3378 \nQ 2772 3750 2511 3984 \nQ 2250 4219 1831 4219 \nQ 1534 4219 1204 4116 \nQ 875 4013 500 3803 \nL 500 4441 \nQ 881 4594 1212 4672 \nQ 1544 4750 1819 4750 \nQ 2544 4750 2975 4387 \nQ 3406 4025 3406 3419 \nQ 3406 3131 3298 2873 \nQ 3191 2616 2906 2266 \nQ 2828 2175 2409 1742 \nQ 1991 1309 1228 531 \nz\n\" id=\"DejaVuSans-32\" transform=\"scale(0.015625)\"/>\n        <path d=\"M 2034 4250 \nQ 1547 4250 1301 3770 \nQ 1056 3291 1056 2328 \nQ 1056 1369 1301 889 \nQ 1547 409 2034 409 \nQ 2525 409 2770 889 \nQ 3016 1369 3016 2328 \nQ 3016 3291 2770 3770 \nQ 2525 4250 2034 4250 \nz\nM 2034 4750 \nQ 2819 4750 3233 4129 \nQ 3647 3509 3647 2328 \nQ 3647 1150 3233 529 \nQ 2819 -91 2034 -91 \nQ 1250 -91 836 529 \nQ 422 1150 422 2328 \nQ 422 3509 836 4129 \nQ 1250 4750 2034 4750 \nz\n\" id=\"DejaVuSans-30\" transform=\"scale(0.015625)\"/>\n        <path d=\"M 794 531 \nL 1825 531 \nL 1825 4091 \nL 703 3866 \nL 703 4441 \nL 1819 4666 \nL 2450 4666 \nL 2450 531 \nL 3481 531 \nL 3481 0 \nL 794 0 \nL 794 531 \nz\n\" id=\"DejaVuSans-31\" transform=\"scale(0.015625)\"/>\n        <path d=\"M 313 2009 \nL 1997 2009 \nL 1997 1497 \nL 313 1497 \nL 313 2009 \nz\n\" id=\"DejaVuSans-2d\" transform=\"scale(0.015625)\"/>\n        <path d=\"M 2419 4116 \nL 825 1625 \nL 2419 1625 \nL 2419 4116 \nz\nM 2253 4666 \nL 3047 4666 \nL 3047 1625 \nL 3713 1625 \nL 3713 1100 \nL 3047 1100 \nL 3047 0 \nL 2419 0 \nL 2419 1100 \nL 313 1100 \nL 313 1709 \nL 2253 4666 \nz\n\" id=\"DejaVuSans-34\" transform=\"scale(0.015625)\"/>\n        <path d=\"M 2034 2216 \nQ 1584 2216 1326 1975 \nQ 1069 1734 1069 1313 \nQ 1069 891 1326 650 \nQ 1584 409 2034 409 \nQ 2484 409 2743 651 \nQ 3003 894 3003 1313 \nQ 3003 1734 2745 1975 \nQ 2488 2216 2034 2216 \nz\nM 1403 2484 \nQ 997 2584 770 2862 \nQ 544 3141 544 3541 \nQ 544 4100 942 4425 \nQ 1341 4750 2034 4750 \nQ 2731 4750 3128 4425 \nQ 3525 4100 3525 3541 \nQ 3525 3141 3298 2862 \nQ 3072 2584 2669 2484 \nQ 3125 2378 3379 2068 \nQ 3634 1759 3634 1313 \nQ 3634 634 3220 271 \nQ 2806 -91 2034 -91 \nQ 1263 -91 848 271 \nQ 434 634 434 1313 \nQ 434 1759 690 2068 \nQ 947 2378 1403 2484 \nz\nM 1172 3481 \nQ 1172 3119 1398 2916 \nQ 1625 2713 2034 2713 \nQ 2441 2713 2670 2916 \nQ 2900 3119 2900 3481 \nQ 2900 3844 2670 4047 \nQ 2441 4250 2034 4250 \nQ 1625 4250 1398 4047 \nQ 1172 3844 1172 3481 \nz\n\" id=\"DejaVuSans-38\" transform=\"scale(0.015625)\"/>\n        <path d=\"M -19 4666 \nL 3928 4666 \nL 3928 4134 \nL 2272 4134 \nL 2272 0 \nL 1638 0 \nL 1638 4134 \nL -19 4134 \nL -19 4666 \nz\n\" id=\"DejaVuSans-54\" transform=\"scale(0.015625)\"/>\n        <path d=\"M 703 97 \nL 703 672 \nQ 941 559 1184 500 \nQ 1428 441 1663 441 \nQ 2288 441 2617 861 \nQ 2947 1281 2994 2138 \nQ 2813 1869 2534 1725 \nQ 2256 1581 1919 1581 \nQ 1219 1581 811 2004 \nQ 403 2428 403 3163 \nQ 403 3881 828 4315 \nQ 1253 4750 1959 4750 \nQ 2769 4750 3195 4129 \nQ 3622 3509 3622 2328 \nQ 3622 1225 3098 567 \nQ 2575 -91 1691 -91 \nQ 1453 -91 1209 -44 \nQ 966 3 703 97 \nz\nM 1959 2075 \nQ 2384 2075 2632 2365 \nQ 2881 2656 2881 3163 \nQ 2881 3666 2632 3958 \nQ 2384 4250 1959 4250 \nQ 1534 4250 1286 3958 \nQ 1038 3666 1038 3163 \nQ 1038 2656 1286 2365 \nQ 1534 2075 1959 2075 \nz\n\" id=\"DejaVuSans-39\" transform=\"scale(0.015625)\"/>\n        <path d=\"M 750 794 \nL 1409 794 \nL 1409 0 \nL 750 0 \nL 750 794 \nz\nM 750 3309 \nL 1409 3309 \nL 1409 2516 \nL 750 2516 \nL 750 3309 \nz\n\" id=\"DejaVuSans-3a\" transform=\"scale(0.015625)\"/>\n        <path d=\"M 691 4666 \nL 3169 4666 \nL 3169 4134 \nL 1269 4134 \nL 1269 2991 \nQ 1406 3038 1543 3061 \nQ 1681 3084 1819 3084 \nQ 2600 3084 3056 2656 \nQ 3513 2228 3513 1497 \nQ 3513 744 3044 326 \nQ 2575 -91 1722 -91 \nQ 1428 -91 1123 -41 \nQ 819 9 494 109 \nL 494 744 \nQ 775 591 1075 516 \nQ 1375 441 1709 441 \nQ 2250 441 2565 725 \nQ 2881 1009 2881 1497 \nQ 2881 1984 2565 2268 \nQ 2250 2553 1709 2553 \nQ 1456 2553 1204 2497 \nQ 953 2441 691 2322 \nL 691 4666 \nz\n\" id=\"DejaVuSans-35\" transform=\"scale(0.015625)\"/>\n        <path d=\"M 2944 4013 \nL 2944 2272 \nL 4684 2272 \nL 4684 1741 \nL 2944 1741 \nL 2944 0 \nL 2419 0 \nL 2419 1741 \nL 678 1741 \nL 678 2272 \nL 2419 2272 \nL 2419 4013 \nL 2944 4013 \nz\n\" id=\"DejaVuSans-2b\" transform=\"scale(0.015625)\"/>\n        <path d=\"M 2597 2516 \nQ 3050 2419 3304 2112 \nQ 3559 1806 3559 1356 \nQ 3559 666 3084 287 \nQ 2609 -91 1734 -91 \nQ 1441 -91 1130 -33 \nQ 819 25 488 141 \nL 488 750 \nQ 750 597 1062 519 \nQ 1375 441 1716 441 \nQ 2309 441 2620 675 \nQ 2931 909 2931 1356 \nQ 2931 1769 2642 2001 \nQ 2353 2234 1838 2234 \nL 1294 2234 \nL 1294 2753 \nL 1863 2753 \nQ 2328 2753 2575 2939 \nQ 2822 3125 2822 3475 \nQ 2822 3834 2567 4026 \nQ 2313 4219 1838 4219 \nQ 1578 4219 1281 4162 \nQ 984 4106 628 3988 \nL 628 4550 \nQ 988 4650 1302 4700 \nQ 1616 4750 1894 4750 \nQ 2613 4750 3031 4423 \nQ 3450 4097 3450 3541 \nQ 3450 3153 3228 2886 \nQ 3006 2619 2597 2516 \nz\n\" id=\"DejaVuSans-33\" transform=\"scale(0.015625)\"/>\n       </defs>\n       <use xlink:href=\"#DejaVuSans-32\"/>\n       <use x=\"63.623047\" xlink:href=\"#DejaVuSans-30\"/>\n       <use x=\"127.246094\" xlink:href=\"#DejaVuSans-32\"/>\n       <use x=\"190.869141\" xlink:href=\"#DejaVuSans-31\"/>\n       <use x=\"254.492188\" xlink:href=\"#DejaVuSans-2d\"/>\n       <use x=\"290.576172\" xlink:href=\"#DejaVuSans-30\"/>\n       <use x=\"354.199219\" xlink:href=\"#DejaVuSans-34\"/>\n       <use x=\"417.822266\" xlink:href=\"#DejaVuSans-2d\"/>\n       <use x=\"453.90625\" xlink:href=\"#DejaVuSans-30\"/>\n       <use x=\"517.529297\" xlink:href=\"#DejaVuSans-38\"/>\n       <use x=\"581.152344\" xlink:href=\"#DejaVuSans-54\"/>\n       <use x=\"642.236328\" xlink:href=\"#DejaVuSans-30\"/>\n       <use x=\"705.859375\" xlink:href=\"#DejaVuSans-39\"/>\n       <use x=\"769.482422\" xlink:href=\"#DejaVuSans-3a\"/>\n       <use x=\"803.173828\" xlink:href=\"#DejaVuSans-31\"/>\n       <use x=\"866.796875\" xlink:href=\"#DejaVuSans-35\"/>\n       <use x=\"930.419922\" xlink:href=\"#DejaVuSans-3a\"/>\n       <use x=\"964.111328\" xlink:href=\"#DejaVuSans-30\"/>\n       <use x=\"1027.734375\" xlink:href=\"#DejaVuSans-30\"/>\n       <use x=\"1091.357422\" xlink:href=\"#DejaVuSans-2b\"/>\n       <use x=\"1175.146484\" xlink:href=\"#DejaVuSans-30\"/>\n       <use x=\"1238.769531\" xlink:href=\"#DejaVuSans-35\"/>\n       <use x=\"1302.392578\" xlink:href=\"#DejaVuSans-3a\"/>\n       <use x=\"1336.083984\" xlink:href=\"#DejaVuSans-33\"/>\n       <use x=\"1399.707031\" xlink:href=\"#DejaVuSans-30\"/>\n      </g>\n     </g>\n    </g>\n    <g id=\"xtick_2\">\n     <g id=\"line2d_2\">\n      <g>\n       <use style=\"stroke:#000000;stroke-width:0.8;\" x=\"125.391394\" xlink:href=\"#m9fae40a017\" y=\"224.64\"/>\n      </g>\n     </g>\n     <g id=\"text_2\">\n      <!-- 2021-04-19T13:20:00+05:30 -->\n      <g transform=\"translate(52.224207 239.238438)scale(0.1 -0.1)\">\n       <use xlink:href=\"#DejaVuSans-32\"/>\n       <use x=\"63.623047\" xlink:href=\"#DejaVuSans-30\"/>\n       <use x=\"127.246094\" xlink:href=\"#DejaVuSans-32\"/>\n       <use x=\"190.869141\" xlink:href=\"#DejaVuSans-31\"/>\n       <use x=\"254.492188\" xlink:href=\"#DejaVuSans-2d\"/>\n       <use x=\"290.576172\" xlink:href=\"#DejaVuSans-30\"/>\n       <use x=\"354.199219\" xlink:href=\"#DejaVuSans-34\"/>\n       <use x=\"417.822266\" xlink:href=\"#DejaVuSans-2d\"/>\n       <use x=\"453.90625\" xlink:href=\"#DejaVuSans-31\"/>\n       <use x=\"517.529297\" xlink:href=\"#DejaVuSans-39\"/>\n       <use x=\"581.152344\" xlink:href=\"#DejaVuSans-54\"/>\n       <use x=\"642.236328\" xlink:href=\"#DejaVuSans-31\"/>\n       <use x=\"705.859375\" xlink:href=\"#DejaVuSans-33\"/>\n       <use x=\"769.482422\" xlink:href=\"#DejaVuSans-3a\"/>\n       <use x=\"803.173828\" xlink:href=\"#DejaVuSans-32\"/>\n       <use x=\"866.796875\" xlink:href=\"#DejaVuSans-30\"/>\n       <use x=\"930.419922\" xlink:href=\"#DejaVuSans-3a\"/>\n       <use x=\"964.111328\" xlink:href=\"#DejaVuSans-30\"/>\n       <use x=\"1027.734375\" xlink:href=\"#DejaVuSans-30\"/>\n       <use x=\"1091.357422\" xlink:href=\"#DejaVuSans-2b\"/>\n       <use x=\"1175.146484\" xlink:href=\"#DejaVuSans-30\"/>\n       <use x=\"1238.769531\" xlink:href=\"#DejaVuSans-35\"/>\n       <use x=\"1302.392578\" xlink:href=\"#DejaVuSans-3a\"/>\n       <use x=\"1336.083984\" xlink:href=\"#DejaVuSans-33\"/>\n       <use x=\"1399.707031\" xlink:href=\"#DejaVuSans-30\"/>\n      </g>\n     </g>\n    </g>\n    <g id=\"xtick_3\">\n     <g id=\"line2d_3\">\n      <g>\n       <use style=\"stroke:#000000;stroke-width:0.8;\" x=\"170.415601\" xlink:href=\"#m9fae40a017\" y=\"224.64\"/>\n      </g>\n     </g>\n     <g id=\"text_3\">\n      <!-- 2021-04-29T11:05:00+05:30 -->\n      <g transform=\"translate(97.248413 239.238438)scale(0.1 -0.1)\">\n       <use xlink:href=\"#DejaVuSans-32\"/>\n       <use x=\"63.623047\" xlink:href=\"#DejaVuSans-30\"/>\n       <use x=\"127.246094\" xlink:href=\"#DejaVuSans-32\"/>\n       <use x=\"190.869141\" xlink:href=\"#DejaVuSans-31\"/>\n       <use x=\"254.492188\" xlink:href=\"#DejaVuSans-2d\"/>\n       <use x=\"290.576172\" xlink:href=\"#DejaVuSans-30\"/>\n       <use x=\"354.199219\" xlink:href=\"#DejaVuSans-34\"/>\n       <use x=\"417.822266\" xlink:href=\"#DejaVuSans-2d\"/>\n       <use x=\"453.90625\" xlink:href=\"#DejaVuSans-32\"/>\n       <use x=\"517.529297\" xlink:href=\"#DejaVuSans-39\"/>\n       <use x=\"581.152344\" xlink:href=\"#DejaVuSans-54\"/>\n       <use x=\"642.236328\" xlink:href=\"#DejaVuSans-31\"/>\n       <use x=\"705.859375\" xlink:href=\"#DejaVuSans-31\"/>\n       <use x=\"769.482422\" xlink:href=\"#DejaVuSans-3a\"/>\n       <use x=\"803.173828\" xlink:href=\"#DejaVuSans-30\"/>\n       <use x=\"866.796875\" xlink:href=\"#DejaVuSans-35\"/>\n       <use x=\"930.419922\" xlink:href=\"#DejaVuSans-3a\"/>\n       <use x=\"964.111328\" xlink:href=\"#DejaVuSans-30\"/>\n       <use x=\"1027.734375\" xlink:href=\"#DejaVuSans-30\"/>\n       <use x=\"1091.357422\" xlink:href=\"#DejaVuSans-2b\"/>\n       <use x=\"1175.146484\" xlink:href=\"#DejaVuSans-30\"/>\n       <use x=\"1238.769531\" xlink:href=\"#DejaVuSans-35\"/>\n       <use x=\"1302.392578\" xlink:href=\"#DejaVuSans-3a\"/>\n       <use x=\"1336.083984\" xlink:href=\"#DejaVuSans-33\"/>\n       <use x=\"1399.707031\" xlink:href=\"#DejaVuSans-30\"/>\n      </g>\n     </g>\n    </g>\n    <g id=\"xtick_4\">\n     <g id=\"line2d_4\">\n      <g>\n       <use style=\"stroke:#000000;stroke-width:0.8;\" x=\"215.439807\" xlink:href=\"#m9fae40a017\" y=\"224.64\"/>\n      </g>\n     </g>\n     <g id=\"text_4\">\n      <!-- 2021-05-07T15:10:00+05:30 -->\n      <g transform=\"translate(142.27262 239.238438)scale(0.1 -0.1)\">\n       <defs>\n        <path d=\"M 525 4666 \nL 3525 4666 \nL 3525 4397 \nL 1831 0 \nL 1172 0 \nL 2766 4134 \nL 525 4134 \nL 525 4666 \nz\n\" id=\"DejaVuSans-37\" transform=\"scale(0.015625)\"/>\n       </defs>\n       <use xlink:href=\"#DejaVuSans-32\"/>\n       <use x=\"63.623047\" xlink:href=\"#DejaVuSans-30\"/>\n       <use x=\"127.246094\" xlink:href=\"#DejaVuSans-32\"/>\n       <use x=\"190.869141\" xlink:href=\"#DejaVuSans-31\"/>\n       <use x=\"254.492188\" xlink:href=\"#DejaVuSans-2d\"/>\n       <use x=\"290.576172\" xlink:href=\"#DejaVuSans-30\"/>\n       <use x=\"354.199219\" xlink:href=\"#DejaVuSans-35\"/>\n       <use x=\"417.822266\" xlink:href=\"#DejaVuSans-2d\"/>\n       <use x=\"453.90625\" xlink:href=\"#DejaVuSans-30\"/>\n       <use x=\"517.529297\" xlink:href=\"#DejaVuSans-37\"/>\n       <use x=\"581.152344\" xlink:href=\"#DejaVuSans-54\"/>\n       <use x=\"642.236328\" xlink:href=\"#DejaVuSans-31\"/>\n       <use x=\"705.859375\" xlink:href=\"#DejaVuSans-35\"/>\n       <use x=\"769.482422\" xlink:href=\"#DejaVuSans-3a\"/>\n       <use x=\"803.173828\" xlink:href=\"#DejaVuSans-31\"/>\n       <use x=\"866.796875\" xlink:href=\"#DejaVuSans-30\"/>\n       <use x=\"930.419922\" xlink:href=\"#DejaVuSans-3a\"/>\n       <use x=\"964.111328\" xlink:href=\"#DejaVuSans-30\"/>\n       <use x=\"1027.734375\" xlink:href=\"#DejaVuSans-30\"/>\n       <use x=\"1091.357422\" xlink:href=\"#DejaVuSans-2b\"/>\n       <use x=\"1175.146484\" xlink:href=\"#DejaVuSans-30\"/>\n       <use x=\"1238.769531\" xlink:href=\"#DejaVuSans-35\"/>\n       <use x=\"1302.392578\" xlink:href=\"#DejaVuSans-3a\"/>\n       <use x=\"1336.083984\" xlink:href=\"#DejaVuSans-33\"/>\n       <use x=\"1399.707031\" xlink:href=\"#DejaVuSans-30\"/>\n      </g>\n     </g>\n    </g>\n    <g id=\"xtick_5\">\n     <g id=\"line2d_5\">\n      <g>\n       <use style=\"stroke:#000000;stroke-width:0.8;\" x=\"260.464014\" xlink:href=\"#m9fae40a017\" y=\"224.64\"/>\n      </g>\n     </g>\n     <g id=\"text_5\">\n      <!-- 2021-05-19T13:00:00+05:30 -->\n      <g transform=\"translate(187.296826 239.238438)scale(0.1 -0.1)\">\n       <use xlink:href=\"#DejaVuSans-32\"/>\n       <use x=\"63.623047\" xlink:href=\"#DejaVuSans-30\"/>\n       <use x=\"127.246094\" xlink:href=\"#DejaVuSans-32\"/>\n       <use x=\"190.869141\" xlink:href=\"#DejaVuSans-31\"/>\n       <use x=\"254.492188\" xlink:href=\"#DejaVuSans-2d\"/>\n       <use x=\"290.576172\" xlink:href=\"#DejaVuSans-30\"/>\n       <use x=\"354.199219\" xlink:href=\"#DejaVuSans-35\"/>\n       <use x=\"417.822266\" xlink:href=\"#DejaVuSans-2d\"/>\n       <use x=\"453.90625\" xlink:href=\"#DejaVuSans-31\"/>\n       <use x=\"517.529297\" xlink:href=\"#DejaVuSans-39\"/>\n       <use x=\"581.152344\" xlink:href=\"#DejaVuSans-54\"/>\n       <use x=\"642.236328\" xlink:href=\"#DejaVuSans-31\"/>\n       <use x=\"705.859375\" xlink:href=\"#DejaVuSans-33\"/>\n       <use x=\"769.482422\" xlink:href=\"#DejaVuSans-3a\"/>\n       <use x=\"803.173828\" xlink:href=\"#DejaVuSans-30\"/>\n       <use x=\"866.796875\" xlink:href=\"#DejaVuSans-30\"/>\n       <use x=\"930.419922\" xlink:href=\"#DejaVuSans-3a\"/>\n       <use x=\"964.111328\" xlink:href=\"#DejaVuSans-30\"/>\n       <use x=\"1027.734375\" xlink:href=\"#DejaVuSans-30\"/>\n       <use x=\"1091.357422\" xlink:href=\"#DejaVuSans-2b\"/>\n       <use x=\"1175.146484\" xlink:href=\"#DejaVuSans-30\"/>\n       <use x=\"1238.769531\" xlink:href=\"#DejaVuSans-35\"/>\n       <use x=\"1302.392578\" xlink:href=\"#DejaVuSans-3a\"/>\n       <use x=\"1336.083984\" xlink:href=\"#DejaVuSans-33\"/>\n       <use x=\"1399.707031\" xlink:href=\"#DejaVuSans-30\"/>\n      </g>\n     </g>\n    </g>\n    <g id=\"xtick_6\">\n     <g id=\"line2d_6\">\n      <g>\n       <use style=\"stroke:#000000;stroke-width:0.8;\" x=\"305.48822\" xlink:href=\"#m9fae40a017\" y=\"224.64\"/>\n      </g>\n     </g>\n     <g id=\"text_6\">\n      <!-- 2021-05-28T10:50:00+05:30 -->\n      <g transform=\"translate(232.321033 239.238438)scale(0.1 -0.1)\">\n       <use xlink:href=\"#DejaVuSans-32\"/>\n       <use x=\"63.623047\" xlink:href=\"#DejaVuSans-30\"/>\n       <use x=\"127.246094\" xlink:href=\"#DejaVuSans-32\"/>\n       <use x=\"190.869141\" xlink:href=\"#DejaVuSans-31\"/>\n       <use x=\"254.492188\" xlink:href=\"#DejaVuSans-2d\"/>\n       <use x=\"290.576172\" xlink:href=\"#DejaVuSans-30\"/>\n       <use x=\"354.199219\" xlink:href=\"#DejaVuSans-35\"/>\n       <use x=\"417.822266\" xlink:href=\"#DejaVuSans-2d\"/>\n       <use x=\"453.90625\" xlink:href=\"#DejaVuSans-32\"/>\n       <use x=\"517.529297\" xlink:href=\"#DejaVuSans-38\"/>\n       <use x=\"581.152344\" xlink:href=\"#DejaVuSans-54\"/>\n       <use x=\"642.236328\" xlink:href=\"#DejaVuSans-31\"/>\n       <use x=\"705.859375\" xlink:href=\"#DejaVuSans-30\"/>\n       <use x=\"769.482422\" xlink:href=\"#DejaVuSans-3a\"/>\n       <use x=\"803.173828\" xlink:href=\"#DejaVuSans-35\"/>\n       <use x=\"866.796875\" xlink:href=\"#DejaVuSans-30\"/>\n       <use x=\"930.419922\" xlink:href=\"#DejaVuSans-3a\"/>\n       <use x=\"964.111328\" xlink:href=\"#DejaVuSans-30\"/>\n       <use x=\"1027.734375\" xlink:href=\"#DejaVuSans-30\"/>\n       <use x=\"1091.357422\" xlink:href=\"#DejaVuSans-2b\"/>\n       <use x=\"1175.146484\" xlink:href=\"#DejaVuSans-30\"/>\n       <use x=\"1238.769531\" xlink:href=\"#DejaVuSans-35\"/>\n       <use x=\"1302.392578\" xlink:href=\"#DejaVuSans-3a\"/>\n       <use x=\"1336.083984\" xlink:href=\"#DejaVuSans-33\"/>\n       <use x=\"1399.707031\" xlink:href=\"#DejaVuSans-30\"/>\n      </g>\n     </g>\n    </g>\n    <g id=\"xtick_7\">\n     <g id=\"line2d_7\">\n      <g>\n       <use style=\"stroke:#000000;stroke-width:0.8;\" x=\"350.512427\" xlink:href=\"#m9fae40a017\" y=\"224.64\"/>\n      </g>\n     </g>\n     <g id=\"text_7\">\n      <!-- 2021-06-07T14:50:00+05:30 -->\n      <g transform=\"translate(277.345239 239.238438)scale(0.1 -0.1)\">\n       <defs>\n        <path d=\"M 2113 2584 \nQ 1688 2584 1439 2293 \nQ 1191 2003 1191 1497 \nQ 1191 994 1439 701 \nQ 1688 409 2113 409 \nQ 2538 409 2786 701 \nQ 3034 994 3034 1497 \nQ 3034 2003 2786 2293 \nQ 2538 2584 2113 2584 \nz\nM 3366 4563 \nL 3366 3988 \nQ 3128 4100 2886 4159 \nQ 2644 4219 2406 4219 \nQ 1781 4219 1451 3797 \nQ 1122 3375 1075 2522 \nQ 1259 2794 1537 2939 \nQ 1816 3084 2150 3084 \nQ 2853 3084 3261 2657 \nQ 3669 2231 3669 1497 \nQ 3669 778 3244 343 \nQ 2819 -91 2113 -91 \nQ 1303 -91 875 529 \nQ 447 1150 447 2328 \nQ 447 3434 972 4092 \nQ 1497 4750 2381 4750 \nQ 2619 4750 2861 4703 \nQ 3103 4656 3366 4563 \nz\n\" id=\"DejaVuSans-36\" transform=\"scale(0.015625)\"/>\n       </defs>\n       <use xlink:href=\"#DejaVuSans-32\"/>\n       <use x=\"63.623047\" xlink:href=\"#DejaVuSans-30\"/>\n       <use x=\"127.246094\" xlink:href=\"#DejaVuSans-32\"/>\n       <use x=\"190.869141\" xlink:href=\"#DejaVuSans-31\"/>\n       <use x=\"254.492188\" xlink:href=\"#DejaVuSans-2d\"/>\n       <use x=\"290.576172\" xlink:href=\"#DejaVuSans-30\"/>\n       <use x=\"354.199219\" xlink:href=\"#DejaVuSans-36\"/>\n       <use x=\"417.822266\" xlink:href=\"#DejaVuSans-2d\"/>\n       <use x=\"453.90625\" xlink:href=\"#DejaVuSans-30\"/>\n       <use x=\"517.529297\" xlink:href=\"#DejaVuSans-37\"/>\n       <use x=\"581.152344\" xlink:href=\"#DejaVuSans-54\"/>\n       <use x=\"642.236328\" xlink:href=\"#DejaVuSans-31\"/>\n       <use x=\"705.859375\" xlink:href=\"#DejaVuSans-34\"/>\n       <use x=\"769.482422\" xlink:href=\"#DejaVuSans-3a\"/>\n       <use x=\"803.173828\" xlink:href=\"#DejaVuSans-35\"/>\n       <use x=\"866.796875\" xlink:href=\"#DejaVuSans-30\"/>\n       <use x=\"930.419922\" xlink:href=\"#DejaVuSans-3a\"/>\n       <use x=\"964.111328\" xlink:href=\"#DejaVuSans-30\"/>\n       <use x=\"1027.734375\" xlink:href=\"#DejaVuSans-30\"/>\n       <use x=\"1091.357422\" xlink:href=\"#DejaVuSans-2b\"/>\n       <use x=\"1175.146484\" xlink:href=\"#DejaVuSans-30\"/>\n       <use x=\"1238.769531\" xlink:href=\"#DejaVuSans-35\"/>\n       <use x=\"1302.392578\" xlink:href=\"#DejaVuSans-3a\"/>\n       <use x=\"1336.083984\" xlink:href=\"#DejaVuSans-33\"/>\n       <use x=\"1399.707031\" xlink:href=\"#DejaVuSans-30\"/>\n      </g>\n     </g>\n    </g>\n    <g id=\"xtick_8\">\n     <g id=\"line2d_8\">\n      <g>\n       <use style=\"stroke:#000000;stroke-width:0.8;\" x=\"395.536633\" xlink:href=\"#m9fae40a017\" y=\"224.64\"/>\n      </g>\n     </g>\n    </g>\n    <g id=\"text_8\">\n     <!-- Index -->\n     <g transform=\"translate(218.782599 252.916563)scale(0.1 -0.1)\">\n      <defs>\n       <path d=\"M 628 4666 \nL 1259 4666 \nL 1259 0 \nL 628 0 \nL 628 4666 \nz\n\" id=\"DejaVuSans-49\" transform=\"scale(0.015625)\"/>\n       <path d=\"M 3513 2113 \nL 3513 0 \nL 2938 0 \nL 2938 2094 \nQ 2938 2591 2744 2837 \nQ 2550 3084 2163 3084 \nQ 1697 3084 1428 2787 \nQ 1159 2491 1159 1978 \nL 1159 0 \nL 581 0 \nL 581 3500 \nL 1159 3500 \nL 1159 2956 \nQ 1366 3272 1645 3428 \nQ 1925 3584 2291 3584 \nQ 2894 3584 3203 3211 \nQ 3513 2838 3513 2113 \nz\n\" id=\"DejaVuSans-6e\" transform=\"scale(0.015625)\"/>\n       <path d=\"M 2906 2969 \nL 2906 4863 \nL 3481 4863 \nL 3481 0 \nL 2906 0 \nL 2906 525 \nQ 2725 213 2448 61 \nQ 2172 -91 1784 -91 \nQ 1150 -91 751 415 \nQ 353 922 353 1747 \nQ 353 2572 751 3078 \nQ 1150 3584 1784 3584 \nQ 2172 3584 2448 3432 \nQ 2725 3281 2906 2969 \nz\nM 947 1747 \nQ 947 1113 1208 752 \nQ 1469 391 1925 391 \nQ 2381 391 2643 752 \nQ 2906 1113 2906 1747 \nQ 2906 2381 2643 2742 \nQ 2381 3103 1925 3103 \nQ 1469 3103 1208 2742 \nQ 947 2381 947 1747 \nz\n\" id=\"DejaVuSans-64\" transform=\"scale(0.015625)\"/>\n       <path d=\"M 3597 1894 \nL 3597 1613 \nL 953 1613 \nQ 991 1019 1311 708 \nQ 1631 397 2203 397 \nQ 2534 397 2845 478 \nQ 3156 559 3463 722 \nL 3463 178 \nQ 3153 47 2828 -22 \nQ 2503 -91 2169 -91 \nQ 1331 -91 842 396 \nQ 353 884 353 1716 \nQ 353 2575 817 3079 \nQ 1281 3584 2069 3584 \nQ 2775 3584 3186 3129 \nQ 3597 2675 3597 1894 \nz\nM 3022 2063 \nQ 3016 2534 2758 2815 \nQ 2500 3097 2075 3097 \nQ 1594 3097 1305 2825 \nQ 1016 2553 972 2059 \nL 3022 2063 \nz\n\" id=\"DejaVuSans-65\" transform=\"scale(0.015625)\"/>\n       <path d=\"M 3513 3500 \nL 2247 1797 \nL 3578 0 \nL 2900 0 \nL 1881 1375 \nL 863 0 \nL 184 0 \nL 1544 1831 \nL 300 3500 \nL 978 3500 \nL 1906 2253 \nL 2834 3500 \nL 3513 3500 \nz\n\" id=\"DejaVuSans-78\" transform=\"scale(0.015625)\"/>\n      </defs>\n      <use xlink:href=\"#DejaVuSans-49\"/>\n      <use x=\"29.492188\" xlink:href=\"#DejaVuSans-6e\"/>\n      <use x=\"92.871094\" xlink:href=\"#DejaVuSans-64\"/>\n      <use x=\"156.347656\" xlink:href=\"#DejaVuSans-65\"/>\n      <use x=\"216.121094\" xlink:href=\"#DejaVuSans-78\"/>\n     </g>\n    </g>\n   </g>\n   <g id=\"matplotlib.axis_2\">\n    <g id=\"ytick_1\">\n     <g id=\"line2d_9\">\n      <defs>\n       <path d=\"M 0 0 \nL -3.5 0 \n\" id=\"mf6b9fcf89b\" style=\"stroke:#000000;stroke-width:0.8;\"/>\n      </defs>\n      <g>\n       <use style=\"stroke:#000000;stroke-width:0.8;\" x=\"65.149006\" xlink:href=\"#mf6b9fcf89b\" y=\"211.122697\"/>\n      </g>\n     </g>\n     <g id=\"text_9\">\n      <!-- 1.00 -->\n      <g transform=\"translate(35.883381 214.921916)scale(0.1 -0.1)\">\n       <defs>\n        <path d=\"M 684 794 \nL 1344 794 \nL 1344 0 \nL 684 0 \nL 684 794 \nz\n\" id=\"DejaVuSans-2e\" transform=\"scale(0.015625)\"/>\n       </defs>\n       <use xlink:href=\"#DejaVuSans-31\"/>\n       <use x=\"63.623047\" xlink:href=\"#DejaVuSans-2e\"/>\n       <use x=\"95.410156\" xlink:href=\"#DejaVuSans-30\"/>\n       <use x=\"159.033203\" xlink:href=\"#DejaVuSans-30\"/>\n      </g>\n     </g>\n    </g>\n    <g id=\"ytick_2\">\n     <g id=\"line2d_10\">\n      <g>\n       <use style=\"stroke:#000000;stroke-width:0.8;\" x=\"65.149006\" xlink:href=\"#mf6b9fcf89b\" y=\"180.558916\"/>\n      </g>\n     </g>\n     <g id=\"text_10\">\n      <!-- 1.02 -->\n      <g transform=\"translate(35.883381 184.358135)scale(0.1 -0.1)\">\n       <use xlink:href=\"#DejaVuSans-31\"/>\n       <use x=\"63.623047\" xlink:href=\"#DejaVuSans-2e\"/>\n       <use x=\"95.410156\" xlink:href=\"#DejaVuSans-30\"/>\n       <use x=\"159.033203\" xlink:href=\"#DejaVuSans-32\"/>\n      </g>\n     </g>\n    </g>\n    <g id=\"ytick_3\">\n     <g id=\"line2d_11\">\n      <g>\n       <use style=\"stroke:#000000;stroke-width:0.8;\" x=\"65.149006\" xlink:href=\"#mf6b9fcf89b\" y=\"149.995136\"/>\n      </g>\n     </g>\n     <g id=\"text_11\">\n      <!-- 1.04 -->\n      <g transform=\"translate(35.883381 153.794354)scale(0.1 -0.1)\">\n       <use xlink:href=\"#DejaVuSans-31\"/>\n       <use x=\"63.623047\" xlink:href=\"#DejaVuSans-2e\"/>\n       <use x=\"95.410156\" xlink:href=\"#DejaVuSans-30\"/>\n       <use x=\"159.033203\" xlink:href=\"#DejaVuSans-34\"/>\n      </g>\n     </g>\n    </g>\n    <g id=\"ytick_4\">\n     <g id=\"line2d_12\">\n      <g>\n       <use style=\"stroke:#000000;stroke-width:0.8;\" x=\"65.149006\" xlink:href=\"#mf6b9fcf89b\" y=\"119.431355\"/>\n      </g>\n     </g>\n     <g id=\"text_12\">\n      <!-- 1.06 -->\n      <g transform=\"translate(35.883381 123.230574)scale(0.1 -0.1)\">\n       <use xlink:href=\"#DejaVuSans-31\"/>\n       <use x=\"63.623047\" xlink:href=\"#DejaVuSans-2e\"/>\n       <use x=\"95.410156\" xlink:href=\"#DejaVuSans-30\"/>\n       <use x=\"159.033203\" xlink:href=\"#DejaVuSans-36\"/>\n      </g>\n     </g>\n    </g>\n    <g id=\"ytick_5\">\n     <g id=\"line2d_13\">\n      <g>\n       <use style=\"stroke:#000000;stroke-width:0.8;\" x=\"65.149006\" xlink:href=\"#mf6b9fcf89b\" y=\"88.867575\"/>\n      </g>\n     </g>\n     <g id=\"text_13\">\n      <!-- 1.08 -->\n      <g transform=\"translate(35.883381 92.666793)scale(0.1 -0.1)\">\n       <use xlink:href=\"#DejaVuSans-31\"/>\n       <use x=\"63.623047\" xlink:href=\"#DejaVuSans-2e\"/>\n       <use x=\"95.410156\" xlink:href=\"#DejaVuSans-30\"/>\n       <use x=\"159.033203\" xlink:href=\"#DejaVuSans-38\"/>\n      </g>\n     </g>\n    </g>\n    <g id=\"ytick_6\">\n     <g id=\"line2d_14\">\n      <g>\n       <use style=\"stroke:#000000;stroke-width:0.8;\" x=\"65.149006\" xlink:href=\"#mf6b9fcf89b\" y=\"58.303794\"/>\n      </g>\n     </g>\n     <g id=\"text_14\">\n      <!-- 1.10 -->\n      <g transform=\"translate(35.883381 62.103013)scale(0.1 -0.1)\">\n       <use xlink:href=\"#DejaVuSans-31\"/>\n       <use x=\"63.623047\" xlink:href=\"#DejaVuSans-2e\"/>\n       <use x=\"95.410156\" xlink:href=\"#DejaVuSans-31\"/>\n       <use x=\"159.033203\" xlink:href=\"#DejaVuSans-30\"/>\n      </g>\n     </g>\n    </g>\n    <g id=\"ytick_7\">\n     <g id=\"line2d_15\">\n      <g>\n       <use style=\"stroke:#000000;stroke-width:0.8;\" x=\"65.149006\" xlink:href=\"#mf6b9fcf89b\" y=\"27.740013\"/>\n      </g>\n     </g>\n     <g id=\"text_15\">\n      <!-- 1.12 -->\n      <g transform=\"translate(35.883381 31.539232)scale(0.1 -0.1)\">\n       <use xlink:href=\"#DejaVuSans-31\"/>\n       <use x=\"63.623047\" xlink:href=\"#DejaVuSans-2e\"/>\n       <use x=\"95.410156\" xlink:href=\"#DejaVuSans-31\"/>\n       <use x=\"159.033203\" xlink:href=\"#DejaVuSans-32\"/>\n      </g>\n     </g>\n    </g>\n   </g>\n   <g id=\"line2d_16\">\n    <path clip-path=\"url(#p5d11b29f1b)\" d=\"M 80.367188 211.122697 \nL 85.680044 211.122697 \nL 85.860141 208.984772 \nL 87.571061 208.984772 \nL 87.661109 214.756364 \nL 87.841206 212.8325 \nL 88.021303 183.974539 \nL 88.201399 189.746131 \nL 88.291448 189.104843 \nL 88.381496 192.525046 \nL 88.561593 185.898403 \nL 88.831738 197.014062 \nL 88.921787 194.876435 \nL 89.011835 195.945249 \nL 89.191932 201.503078 \nL 89.28198 201.716841 \nL 89.462077 200.220502 \nL 99.817645 200.220502 \nL 99.997742 202.575653 \nL 100.447984 202.575653 \nL 100.538032 208.39486 \nL 100.718129 194.661532 \nL 100.898226 180.462668 \nL 101.078323 190.238935 \nL 101.168371 188.609557 \nL 101.348468 183.488656 \nL 101.708661 171.384706 \nL 104.139969 171.384706 \nL 104.500162 163.861289 \nL 104.770307 171.149599 \nL 104.860356 168.798531 \nL 104.950404 171.854919 \nL 105.130501 168.563425 \nL 105.22055 172.325133 \nL 105.400646 169.503852 \nL 105.580743 169.503852 \nL 105.670792 171.358868 \nL 105.76084 164.634433 \nL 105.850888 169.967606 \nL 105.940937 163.706925 \nL 106.030985 164.402556 \nL 106.30113 159.996891 \nL 106.391179 161.620031 \nL 106.571276 153.504333 \nL 106.751373 163.24317 \nL 106.841421 159.765014 \nL 106.931469 161.851908 \nL 107.021518 157.67812 \nL 107.111566 160.228768 \nL 107.201615 156.750612 \nL 107.381711 157.909997 \nL 107.561808 134.026658 \nL 110.263261 134.026658 \nL 110.443357 140.611478 \nL 110.623454 131.674936 \nL 110.713503 134.026658 \nL 110.803551 132.380453 \nL 110.8936 133.791485 \nL 110.983648 132.380453 \nL 111.073696 132.850797 \nL 111.163745 130.96942 \nL 111.43389 134.732174 \nL 111.523938 134.026658 \nL 111.613987 141.081822 \nL 111.704035 140.376306 \nL 111.794084 137.789412 \nL 111.974181 143.668716 \nL 112.424423 143.668716 \nL 112.514471 144.601022 \nL 112.694568 135.511031 \nL 112.784616 138.307952 \nL 112.874665 138.074875 \nL 112.964713 145.999482 \nL 113.054761 145.300252 \nL 113.14481 144.367946 \nL 113.234858 148.097173 \nL 113.324907 146.465636 \nL 113.505004 147.631019 \nL 113.775149 147.631019 \nL 113.955246 152.499253 \nL 114.135342 150.412867 \nL 119.808392 150.412867 \nL 120.078538 153.664049 \nL 120.168586 152.73514 \nL 120.348683 158.773048 \nL 120.438731 162.488684 \nL 120.618828 161.095321 \nL 120.798925 164.57259 \nL 125.0312 164.57259 \nL 125.301346 161.915006 \nL 125.391394 158.774225 \nL 125.481442 159.257422 \nL 125.571491 158.532627 \nL 125.661539 161.19021 \nL 125.931685 154.908649 \nL 126.20183 138.963147 \nL 126.381927 145.00311 \nL 126.562023 142.587125 \nL 126.74212 144.278314 \nL 126.922217 151.043073 \nL 127.282411 137.030359 \nL 127.372459 137.996753 \nL 127.462508 138.963147 \nL 127.552556 141.137534 \nL 127.642604 139.204745 \nL 127.822701 123.017645 \nL 133.315654 123.017645 \nL 133.495751 118.60087 \nL 139.979237 118.60087 \nL 140.429479 103.529013 \nL 140.609576 105.716863 \nL 140.789673 101.098068 \nL 140.879721 101.098068 \nL 140.96977 102.31354 \nL 141.059818 105.716863 \nL 141.149866 102.556635 \nL 141.329963 112.037319 \nL 141.420012 113.009697 \nL 141.600108 119.330154 \nL 142.230447 119.330154 \nL 142.320496 114.523087 \nL 142.410544 119.330154 \nL 142.590641 114.04238 \nL 142.680689 114.282733 \nL 142.950835 121.733687 \nL 143.040883 119.0898 \nL 143.130931 120.051214 \nL 143.491125 112.119553 \nL 143.581174 114.282733 \nL 143.76127 106.591426 \nL 143.851319 107.312486 \nL 143.941367 107.312486 \nL 144.211512 112.119553 \nL 144.301561 110.43708 \nL 144.571706 116.445913 \nL 144.751803 122.935454 \nL 147.723401 122.935454 \nL 147.813449 121.495261 \nL 147.903497 124.375647 \nL 147.993546 124.135614 \nL 148.173643 82.610058 \nL 149.704466 82.610058 \nL 149.794514 83.807443 \nL 149.884562 83.567966 \nL 149.974611 77.820519 \nL 150.064659 81.65215 \nL 150.244756 79.017904 \nL 150.424853 82.131104 \nL 150.60495 78.299473 \nL 150.694998 79.496858 \nL 150.785047 80.454766 \nL 150.875095 79.736335 \nL 150.965143 80.454766 \nL 151.055192 82.370581 \nL 151.235289 80.454766 \nL 151.415385 83.089012 \nL 153.216354 83.089012 \nL 153.306402 85.480324 \nL 153.396451 83.328143 \nL 153.486499 83.567275 \nL 153.666596 88.828161 \nL 153.756644 88.828161 \nL 153.936741 88.107111 \nL 157.98892 88.107111 \nL 158.078968 85.275261 \nL 158.259065 88.815074 \nL 158.349113 87.635136 \nL 158.439162 88.579086 \nL 158.52921 88.343099 \nL 158.709307 87.163161 \nL 158.799355 89.051061 \nL 158.889404 88.107111 \nL 158.979452 91.174949 \nL 159.069501 90.938961 \nL 160.060033 90.938961 \nL 160.420227 85.282549 \nL 160.510275 81.511608 \nL 160.600324 82.454343 \nL 160.78042 79.154769 \nL 160.870469 81.04024 \nL 161.050566 79.390453 \nL 161.140614 75.148144 \nL 161.230662 76.326563 \nL 161.320711 75.619512 \nL 161.410759 69.020364 \nL 161.500808 75.148144 \nL 161.680905 52.758179 \nL 163.842066 52.758179 \nL 163.932115 55.091864 \nL 164.112212 53.224916 \nL 164.20226 53.458285 \nL 164.472405 49.257653 \nL 164.652502 51.591337 \nL 164.922647 44.590285 \nL 165.012696 42.723338 \nL 165.282841 49.257653 \nL 165.372889 48.090811 \nL 165.552986 42.023232 \nL 165.733083 46.690601 \nL 165.823132 45.523759 \nL 166.003228 41.789864 \nL 166.093277 42.723338 \nL 166.273374 42.489969 \nL 166.543519 46.923969 \nL 166.633567 39.922917 \nL 166.723616 40.389653 \nL 166.903713 45.757127 \nL 166.993761 45.29039 \nL 167.083809 43.89018 \nL 167.263906 45.057022 \nL 167.894245 45.057022 \nL 167.984293 42.959018 \nL 168.074342 45.523245 \nL 168.16439 44.82391 \nL 168.254439 46.222579 \nL 168.344487 45.057022 \nL 168.524584 17.083636 \nL 168.614632 17.549859 \nL 168.704681 17.316748 \nL 168.794729 20.114086 \nL 169.154923 49.719253 \nL 172.486714 49.719253 \nL 172.576763 46.444849 \nL 172.666811 52.759771 \nL 172.846908 49.719253 \nL 173.027005 50.654797 \nL 173.117053 50.888683 \nL 173.207101 51.824227 \nL 173.387198 60.010237 \nL 173.567295 69.599563 \nL 173.747392 71.939406 \nL 174.377731 71.939406 \nL 174.467779 72.866754 \nL 174.647876 69.389198 \nL 174.737924 71.012058 \nL 174.827973 70.084709 \nL 175.00807 77.735333 \nL 175.098118 72.866754 \nL 175.278215 96.2823 \nL 175.458312 105.107052 \nL 175.818505 105.107052 \nL 175.998602 98.259825 \nL 176.088651 105.563533 \nL 176.358796 95.520935 \nL 176.448844 95.064453 \nL 176.538893 93.695008 \nL 176.628941 94.37973 \nL 176.899086 86.619541 \nL 176.989135 86.847782 \nL 177.25928 93.923249 \nL 177.529425 101.226957 \nL 177.619474 100.085752 \nL 184.733298 100.085752 \nL 184.913395 101.737484 \nL 191.486929 101.737484 \nL 191.576978 101.055635 \nL 191.937171 92.873446 \nL 192.02722 93.100729 \nL 192.117268 94.009861 \nL 192.207317 92.191597 \nL 192.387413 95.600842 \nL 192.56751 93.782578 \nL 192.747607 96.055409 \nL 193.017752 116.056315 \nL 196.889834 116.056315 \nL 196.979882 114.458398 \nL 197.069931 115.14322 \nL 197.159979 110.577743 \nL 197.250028 113.773577 \nL 197.340076 111.262564 \nL 197.790318 124.958996 \nL 197.880367 121.07834 \nL 198.150512 125.643817 \nL 198.780851 125.643817 \nL 198.870899 127.692486 \nL 198.960948 127.237226 \nL 199.050996 128.830635 \nL 199.141044 132.700342 \nL 199.321141 130.879304 \nL 199.501238 121.54648 \nL 199.591286 121.54648 \nL 199.681335 116.766254 \nL 199.861432 120.635961 \nL 199.95148 120.635961 \nL 200.131577 123.822779 \nL 200.401722 121.54648 \nL 200.581819 123.139889 \nL 200.671867 122.912259 \nL 200.761916 123.595149 \nL 200.942013 129.285895 \nL 205.264337 129.285895 \nL 205.444433 131.557376 \nL 205.534482 125.651525 \nL 205.62453 127.46871 \nL 205.714579 127.014414 \nL 205.894675 122.925748 \nL 206.074772 125.424377 \nL 206.164821 122.925748 \nL 206.254869 123.152896 \nL 206.344917 122.017155 \nL 206.434966 123.380044 \nL 206.525014 122.244303 \nL 206.705111 130.875932 \nL 206.79516 128.150154 \nL 206.885208 128.60445 \nL 207.065305 128.831599 \nL 208.235934 128.831599 \nL 208.325983 128.60461 \nL 208.416031 129.285575 \nL 208.686176 123.610874 \nL 208.776225 124.291838 \nL 208.866273 123.837862 \nL 208.956321 125.19979 \nL 209.136418 100.231106 \nL 209.226467 98.869178 \nL 209.406564 107.267735 \nL 209.58666 111.35352 \nL 209.676709 115.212316 \nL 209.766757 114.985328 \nL 209.856806 113.169424 \nL 210.036902 114.75834 \nL 211.387629 114.75834 \nL 211.477677 114.985837 \nL 211.657774 113.620857 \nL 211.747822 115.44083 \nL 211.837871 114.303347 \nL 212.108016 117.033306 \nL 212.288113 125.678178 \nL 212.46821 121.112152 \nL 226.06552 121.112152 \nL 226.335665 125.992261 \nL 227.506295 125.992261 \nL 227.596343 126.8787 \nL 227.686391 123.332943 \nL 227.866488 127.543529 \nL 227.956537 126.65709 \nL 228.046585 128.873188 \nL 228.136633 128.651578 \nL 228.31673 126.65709 \nL 228.586876 126.65709 \nL 228.676924 129.530121 \nL 228.766972 125.994083 \nL 228.857021 127.762102 \nL 228.947069 125.994083 \nL 229.127166 129.972126 \nL 229.48736 120.027018 \nL 229.667456 127.320097 \nL 229.757505 118.258998 \nL 229.847553 119.585013 \nL 230.02765 106.324868 \nL 230.117699 109.639904 \nL 230.207747 110.081909 \nL 230.477892 120.027018 \nL 230.567941 119.806015 \nL 230.748037 114.280955 \nL 231.018183 119.585013 \nL 231.198279 118.037996 \nL 232.098764 118.037996 \nL 232.27886 121.574517 \nL 232.458957 114.94354 \nL 232.639054 116.932833 \nL 232.729103 115.164573 \nL 232.819151 116.7118 \nL 232.909199 116.269735 \nL 233.089296 119.806256 \nL 233.179345 115.82767 \nL 233.269393 118.480061 \nL 233.359441 118.037996 \nL 233.44949 114.94354 \nL 233.809683 117.595931 \nL 233.899732 116.048703 \nL 234.169877 118.480061 \nL 234.349974 118.480061 \nL 234.440022 112.58454 \nL 234.620119 120.445235 \nL 234.800216 110.619366 \nL 234.980313 114.549713 \nL 235.070361 114.549713 \nL 235.250458 121.100293 \nL 235.430555 135.293214 \nL 236.240991 135.293214 \nL 236.331039 143.960071 \nL 236.421087 139.626643 \nL 236.511136 144.610085 \nL 236.691233 129.659757 \nL 236.781281 134.209857 \nL 236.87133 131.6098 \nL 236.961378 131.826472 \nL 237.051426 140.71 \nL 237.141475 137.893271 \nL 237.41162 142.443371 \nL 241.283702 142.443371 \nL 241.463799 139.794799 \nL 242.994622 139.794799 \nL 243.08467 137.190783 \nL 243.174718 141.53081 \nL 243.354815 133.067757 \nL 243.534912 136.75678 \nL 243.895106 122.868694 \nL 243.985154 130.24674 \nL 244.075203 123.519698 \nL 244.165251 123.953701 \nL 244.345348 125.255709 \nL 244.435396 129.161733 \nL 245.245832 105.942589 \nL 247.857236 105.942589 \nL 248.037333 97.106577 \nL 248.127381 103.571951 \nL 248.21743 102.925414 \nL 248.307478 102.709901 \nL 248.397526 100.770289 \nL 248.487575 101.847852 \nL 248.577623 100.770289 \nL 248.937817 83.960315 \nL 249.027865 84.39134 \nL 249.207962 92.796327 \nL 249.388059 86.761977 \nL 249.478107 88.055052 \nL 249.658204 64.564191 \nL 251.098979 64.564191 \nL 251.279076 63.261899 \nL 251.369124 63.261899 \nL 251.549221 58.052731 \nL 251.639269 61.091413 \nL 251.729318 60.440267 \nL 251.819366 60.006169 \nL 251.909415 61.308461 \nL 252.089511 60.657315 \nL 252.17956 63.913045 \nL 252.269608 63.695997 \nL 252.359657 62.610753 \nL 252.449705 65.215337 \nL 252.629802 64.347143 \nL 254.250673 64.347143 \nL 254.340722 65.870827 \nL 254.43077 63.041127 \nL 254.520818 64.782481 \nL 254.700915 74.142257 \nL 254.790964 72.618573 \nL 254.881012 72.836242 \nL 254.971061 74.795265 \nL 255.061109 74.142257 \nL 255.151157 76.318949 \nL 255.331254 82.196018 \nL 259.473481 82.196018 \nL 259.56353 81.123312 \nL 259.743626 84.55597 \nL 259.833675 81.766936 \nL 259.923723 82.410559 \nL 260.013772 83.483265 \nL 260.10382 82.196018 \nL 260.193869 82.410559 \nL 260.283917 86.486841 \nL 260.373965 85.628676 \nL 264.155999 85.628676 \nL 264.426144 90.121217 \nL 264.606241 86.056537 \nL 264.696289 86.698329 \nL 264.786338 87.12619 \nL 265.056483 96.539134 \nL 268.388274 96.539134 \nL 268.478323 96.753315 \nL 268.658419 99.537675 \nL 268.748468 95.682407 \nL 268.928565 97.181678 \nL 269.018613 87.543508 \nL 269.288758 96.753315 \nL 269.378807 96.539134 \nL 269.558903 94.611499 \nL 271.359872 94.611499 \nL 271.44992 94.401636 \nL 271.630017 100.487677 \nL 271.720065 99.648223 \nL 271.900162 100.277814 \nL 272.080259 101.746858 \nL 272.440453 101.746858 \nL 272.530501 101.119118 \nL 272.62055 103.002339 \nL 272.800646 100.909871 \nL 272.890695 101.746858 \nL 273.070792 100.909871 \nL 273.16084 98.398911 \nL 273.250888 99.026651 \nL 273.340937 98.817404 \nL 273.430985 99.863638 \nL 273.70113 109.27974 \nL 274.691663 109.27974 \nL 274.781711 116.592112 \nL 274.961808 153.571817 \nL 277.843357 153.571817 \nL 278.023454 158.378255 \nL 278.113503 154.340847 \nL 278.203551 159.5318 \nL 278.383648 146.458289 \nL 278.473696 147.419577 \nL 278.563745 145.689259 \nL 278.653793 148.380864 \nL 278.83389 156.647937 \nL 278.923938 153.956332 \nL 279.013987 156.071165 \nL 279.104035 162.031147 \nL 279.194084 161.454375 \nL 279.284132 161.06986 \nL 279.464229 162.800177 \nL 280.905004 162.800177 \nL 280.995052 164.14385 \nL 281.0851 162.224318 \nL 281.355246 165.487522 \nL 281.535342 163.56799 \nL 281.625391 165.871428 \nL 281.715439 164.719709 \nL 281.895536 166.255335 \nL 282.525875 166.255335 \nL 282.705972 162.453845 \nL 282.886069 170.627048 \nL 282.976117 169.486601 \nL 283.066165 169.676675 \nL 283.246262 173.668239 \nL 286.037763 173.668239 \nL 286.21786 176.336084 \nL 286.397957 175.192722 \nL 286.488005 177.098325 \nL 286.578054 176.145523 \nL 286.668102 177.288885 \nL 286.75815 177.098325 \nL 286.938247 176.336084 \nL 287.028296 177.098325 \nL 287.118344 176.145523 \nL 287.208392 176.907765 \nL 287.298441 176.717204 \nL 287.478538 177.670006 \nL 290.900377 177.670006 \nL 290.990426 172.216952 \nL 291.080474 172.593025 \nL 291.260571 175.225534 \nL 291.350619 171.088734 \nL 291.530716 174.661425 \nL 291.800862 171.276771 \nL 291.89091 171.088734 \nL 291.980958 171.276771 \nL 292.071007 171.088734 \nL 292.161055 174.473388 \nL 292.341152 172.969098 \nL 292.521249 177.293933 \nL 292.611297 177.293933 \nL 292.791394 176.541788 \nL 293.421733 176.541788 \nL 293.511781 175.790727 \nL 293.60183 175.978492 \nL 293.691878 175.227431 \nL 293.781927 176.729553 \nL 294.052072 170.721066 \nL 294.14212 169.970005 \nL 294.592362 174.47637 \nL 294.682411 172.410953 \nL 294.772459 172.974249 \nL 294.862508 172.786483 \nL 295.042604 178.79497 \nL 295.762992 178.79497 \nL 295.85304 178.607656 \nL 296.303282 181.979316 \nL 296.843573 195.091328 \nL 297.744057 195.091328 \nL 297.834105 198.071011 \nL 297.924154 197.13986 \nL 298.10425 193.229027 \nL 298.194299 193.973947 \nL 298.374396 196.7674 \nL 298.554493 195.836249 \nL 298.734589 190.063114 \nL 298.914686 189.876884 \nL 299.004735 187.642122 \nL 299.184831 190.994265 \nL 299.27488 187.455892 \nL 299.454977 188.945733 \nL 299.545025 189.504424 \nL 299.635073 187.269662 \nL 299.81517 188.573273 \nL 299.995267 183.172599 \nL 300.175364 185.779821 \nL 300.355461 187.269662 \nL 300.445509 185.22113 \nL 300.625606 188.387043 \nL 300.805703 183.358829 \nL 300.895751 187.642122 \nL 301.255945 173.861091 \nL 301.345993 177.399464 \nL 301.52609 173.861091 \nL 301.796235 179.820456 \nL 301.886284 177.771924 \nL 301.976332 179.075536 \nL 302.066381 178.889305 \nL 302.156429 178.516845 \nL 302.336526 183.545059 \nL 303.146962 183.545059 \nL 303.507155 162.556018 \nL 303.597204 173.602882 \nL 303.7773 162.740132 \nL 304.137494 155.559671 \nL 304.317591 159.426073 \nL 304.407639 158.689615 \nL 304.587736 164.397162 \nL 304.677785 161.81956 \nL 304.857881 167.895335 \nL 305.037978 163.47659 \nL 305.218075 166.606534 \nL 306.478753 166.606534 \nL 306.65885 163.653097 \nL 306.748898 165.314406 \nL 306.838947 164.945226 \nL 306.928995 160.330481 \nL 307.109092 163.099328 \nL 307.19914 163.099328 \nL 307.289189 166.791124 \nL 307.379237 166.421945 \nL 307.559334 162.545559 \nL 307.739431 166.052765 \nL 307.919527 165.498996 \nL 308.099624 165.129816 \nL 308.36977 165.129816 \nL 308.459818 164.393012 \nL 308.549866 166.603424 \nL 308.639915 164.945615 \nL 308.729963 165.498218 \nL 308.820012 164.761414 \nL 309.090157 168.629635 \nL 309.270254 172.682058 \nL 315.843788 172.682058 \nL 316.023885 175.085431 \nL 316.113933 173.421557 \nL 316.203981 173.791307 \nL 316.384078 175.455181 \nL 316.564175 174.161057 \nL 316.654224 174.900556 \nL 316.744272 174.161057 \nL 316.83432 174.345932 \nL 317.014417 168.060186 \nL 317.104466 168.060186 \nL 317.194514 170.278684 \nL 317.644756 138.665081 \nL 320.346208 138.665081 \nL 320.526305 133.43482 \nL 320.616354 136.797131 \nL 320.706402 136.610336 \nL 320.796451 134.182 \nL 321.066596 122.227118 \nL 321.246693 126.710199 \nL 321.336741 126.523404 \nL 321.426789 128.578149 \nL 321.696935 121.666733 \nL 321.96708 123.721479 \nL 322.147177 118.678013 \nL 322.327274 122.600708 \nL 322.417322 129.138535 \nL 322.867564 116.810062 \nL 323.047661 121.293143 \nL 323.137709 122.413913 \nL 323.227758 121.479938 \nL 323.317806 122.413913 \nL 323.407855 121.293143 \nL 323.497903 122.413913 \nL 323.678 126.336609 \nL 324.578484 126.336609 \nL 324.938678 133.215364 \nL 325.478968 133.215364 \nL 325.569016 130.251745 \nL 325.749113 132.474459 \nL 326.109307 130.436971 \nL 326.199355 132.104007 \nL 326.289404 131.733555 \nL 326.379452 131.363102 \nL 326.559549 132.844912 \nL 326.739646 129.881293 \nL 326.919743 133.030138 \nL 327.009791 130.622197 \nL 327.099839 131.363102 \nL 327.189888 127.843804 \nL 327.279936 128.955162 \nL 327.369985 128.029031 \nL 327.550082 123.398376 \nL 327.64013 123.213149 \nL 327.730178 126.547221 \nL 327.910275 122.287018 \nL 328.000324 122.657471 \nL 328.18042 126.176769 \nL 328.360517 124.13928 \nL 328.450566 124.509733 \nL 328.630662 123.768828 \nL 328.720711 120.619983 \nL 328.810759 121.546114 \nL 328.900808 121.360887 \nL 328.990856 119.508625 \nL 329.080905 120.064304 \nL 329.170953 119.138173 \nL 329.35105 124.694959 \nL 329.531147 125.250638 \nL 329.711243 123.768828 \nL 330.251534 123.768828 \nL 330.341582 123.953863 \nL 330.611728 120.808264 \nL 330.791824 121.178334 \nL 330.881873 124.508969 \nL 330.971921 123.953863 \nL 331.06197 123.213722 \nL 331.242066 126.544357 \nL 337.995697 126.544357 \nL 338.175794 130.568958 \nL 338.355891 132.581258 \nL 338.44594 126.727293 \nL 338.716085 131.849513 \nL 338.896182 129.47134 \nL 338.98623 133.495941 \nL 339.166327 143.557443 \nL 341.417537 143.557443 \nL 341.507586 145.383876 \nL 341.597634 144.105373 \nL 341.777731 147.027665 \nL 345.739861 147.027665 \nL 345.829909 146.479232 \nL 345.919958 147.94172 \nL 346.3702 141.908956 \nL 346.460248 142.091767 \nL 346.640345 144.651122 \nL 346.820442 146.479232 \nL 346.91049 146.296421 \nL 347.090587 146.479232 \nL 348.981604 146.479232 \nL 349.161701 143.00263 \nL 349.251749 142.819651 \nL 349.701991 149.040939 \nL 349.882088 148.67498 \nL 357.356106 148.67498 \nL 357.446155 150.159822 \nL 357.626252 154.428742 \nL 357.7163 154.614348 \nL 357.896397 153.500716 \nL 357.986445 147.93256 \nL 358.076494 153.129506 \nL 358.25659 135.311405 \nL 358.346639 139.394719 \nL 358.616784 136.053825 \nL 358.796881 138.281088 \nL 358.886929 138.466693 \nL 359.067026 141.436377 \nL 359.157075 139.023509 \nL 359.247123 139.76593 \nL 359.42722 137.724272 \nL 359.517268 138.095483 \nL 359.607317 139.209114 \nL 359.697365 136.610641 \nL 359.787413 139.580325 \nL 359.877462 138.281088 \nL 359.96751 138.466693 \nL 360.057559 138.281088 \nL 360.147607 138.837904 \nL 360.327704 138.281088 \nL 360.507801 139.580325 \nL 367.171383 139.580325 \nL 367.261432 139.392761 \nL 367.441529 137.892251 \nL 367.531577 138.079814 \nL 367.621625 138.267378 \nL 367.711674 137.892251 \nL 367.801722 133.953411 \nL 367.891771 135.641485 \nL 367.981819 135.266358 \nL 368.071867 134.328539 \nL 368.251964 136.954432 \nL 368.342013 137.141996 \nL 368.432061 140.705707 \nL 368.52211 139.955452 \nL 368.882303 139.392761 \nL 369.0624 139.392761 \nL 369.332545 142.00396 \nL 369.422594 141.257903 \nL 369.512642 142.750017 \nL 369.692739 135.475962 \nL 369.782787 136.595048 \nL 369.962884 138.833218 \nL 370.142981 132.678249 \nL 370.233029 132.864763 \nL 370.323078 132.678249 \nL 370.503175 124.098595 \nL 370.593223 125.590709 \nL 370.77332 129.507507 \nL 370.863368 127.642365 \nL 370.953417 128.015394 \nL 371.043465 126.336766 \nL 371.133513 127.828879 \nL 371.223562 126.150251 \nL 371.31361 127.269337 \nL 371.403659 126.896308 \nL 371.493707 115.891969 \nL 371.673804 125.963737 \nL 371.763852 121.67391 \nL 371.943949 126.150251 \nL 372.304143 132.305221 \nL 378.247338 132.305221 \nL 378.427435 128.707162 \nL 384.730824 128.707162 \nL 384.730824 128.707162 \n\" style=\"fill:none;stroke:#1f77b4;stroke-linecap:square;stroke-width:1.5;\"/>\n   </g>\n   <g id=\"patch_3\">\n    <path d=\"M 65.149006 224.64 \nL 65.149006 7.2 \n\" style=\"fill:none;stroke:#000000;stroke-linecap:square;stroke-linejoin:miter;stroke-width:0.8;\"/>\n   </g>\n   <g id=\"patch_4\">\n    <path d=\"M 399.949006 224.64 \nL 399.949006 7.2 \n\" style=\"fill:none;stroke:#000000;stroke-linecap:square;stroke-linejoin:miter;stroke-width:0.8;\"/>\n   </g>\n   <g id=\"patch_5\">\n    <path d=\"M 65.149006 224.64 \nL 399.949006 224.64 \n\" style=\"fill:none;stroke:#000000;stroke-linecap:square;stroke-linejoin:miter;stroke-width:0.8;\"/>\n   </g>\n   <g id=\"patch_6\">\n    <path d=\"M 65.149006 7.2 \nL 399.949006 7.2 \n\" style=\"fill:none;stroke:#000000;stroke-linecap:square;stroke-linejoin:miter;stroke-width:0.8;\"/>\n   </g>\n  </g>\n </g>\n <defs>\n  <clipPath id=\"p5d11b29f1b\">\n   <rect height=\"217.44\" width=\"334.8\" x=\"65.149006\" y=\"7.2\"/>\n  </clipPath>\n </defs>\n</svg>\n",
      "text/plain": "<Figure size 432x288 with 1 Axes>"
     },
     "metadata": {
      "needs_background": "light"
     },
     "output_type": "display_data"
    }
   ],
   "source": [
    "(1+strategy_df[\"ret\"]).cumprod().plot()"
   ]
  },
  {
   "cell_type": "code",
   "execution_count": null,
   "metadata": {},
   "outputs": [
    {
     "name": "stdout",
     "output_type": "stream",
     "text": [
      "calculating KPIs for  3045\n"
     ]
    },
    {
     "data": {
      "text/html": "<div>\n<style scoped>\n    .dataframe tbody tr th:only-of-type {\n        vertical-align: middle;\n    }\n\n    .dataframe tbody tr th {\n        vertical-align: top;\n    }\n\n    .dataframe thead th {\n        text-align: right;\n    }\n</style>\n<table border=\"1\" class=\"dataframe\">\n  <thead>\n    <tr style=\"text-align: right;\">\n      <th></th>\n      <th>Return</th>\n      <th>Sharpe Ratio</th>\n      <th>Max Drawdown</th>\n      <th>win_pct</th>\n    </tr>\n  </thead>\n  <tbody>\n    <tr>\n      <th>3045</th>\n      <td>0.33604</td>\n      <td>1.670097</td>\n      <td>0.105089</td>\n      <td>42.857143</td>\n    </tr>\n  </tbody>\n</table>\n</div>",
      "text/plain": [
       "       Return  Sharpe Ratio  Max Drawdown    win_pct\n",
       "3045  0.33604      1.670097      0.105089  42.857143"
      ]
     },
     "execution_count": 19,
     "metadata": {},
     "output_type": "execute_result"
    }
   ],
   "source": [
    "cagr = {}\n",
    "sharpe_ratios = {}\n",
    "max_drawdown = {}\n",
    "win_pcts={}\n",
    "for ticker in tickers:\n",
    "    win=[]\n",
    "    print(\"calculating KPIs for \",ticker)      \n",
    "    cagr[ticker] =  CAGR(ohlc_dict[ticker])\n",
    "    for i in range(len(ohlcv_database)):\n",
    "        if ohlcv_database[\"stock\"][i]==ticker:\n",
    "            \n",
    "            win.append(ohlcv_database[\"profit\"][i])\n",
    "    win_df=pd.DataFrame()\n",
    "    win_df[\"profit\"]=np.array(win)\n",
    "    win_pcts[ticker]=win_pct(win_df)           \n",
    "\n",
    "    sharpe_ratios[ticker] =  sharpe(ohlc_dict[ticker],0.025)\n",
    "    max_drawdown[ticker] =  max_dd(ohlc_dict[ticker])\n",
    "\n",
    "KPI_df = pd.DataFrame([cagr,sharpe_ratios,max_drawdown,win_pcts],index=[\"Return\",\"Sharpe Ratio\",\"Max Drawdown\",\"win_pct\"])      \n",
    "KPI_df.T\n"
   ]
  },
  {
   "cell_type": "code",
   "execution_count": 18,
   "metadata": {},
   "outputs": [],
   "source": [
    "import yfinance as yf\n",
    "data=yf.download('MSFT',period='5d',interval='5m')"
   ]
  },
  {
   "cell_type": "code",
   "execution_count": null,
   "metadata": {},
   "outputs": [],
   "source": []
  }
 ],
 "metadata": {
  "kernelspec": {
   "display_name": "Python 3.9.5 64-bit",
   "name": "python395jvsc74a57bd0aee8b7b246df8f9039afb4144a1f6fd8d2ca17a180786b69acc140d282b71a49"
  },
  "language_info": {
   "name": "python",
   "version": ""
  },
  "metadata": {
   "interpreter": {
    "hash": "aee8b7b246df8f9039afb4144a1f6fd8d2ca17a180786b69acc140d282b71a49"
   }
  },
  "orig_nbformat": 2
 },
 "nbformat": 4,
 "nbformat_minor": 2
}