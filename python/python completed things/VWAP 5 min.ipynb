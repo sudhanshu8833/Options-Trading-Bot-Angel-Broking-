{
 "metadata": {
  "language_info": {
   "codemirror_mode": {
    "name": "ipython",
    "version": 3
   },
   "file_extension": ".py",
   "mimetype": "text/x-python",
   "name": "python",
   "nbconvert_exporter": "python",
   "pygments_lexer": "ipython3",
   "version": "3.9.5"
  },
  "orig_nbformat": 2,
  "kernelspec": {
   "name": "python395jvsc74a57bd0aee8b7b246df8f9039afb4144a1f6fd8d2ca17a180786b69acc140d282b71a49",
   "display_name": "Python 3.9.5 64-bit"
  },
  "metadata": {
   "interpreter": {
    "hash": "aee8b7b246df8f9039afb4144a1f6fd8d2ca17a180786b69acc140d282b71a49"
   }
  }
 },
 "nbformat": 4,
 "nbformat_minor": 2,
 "cells": [
  {
   "cell_type": "code",
   "execution_count": 1,
   "metadata": {},
   "outputs": [],
   "source": [
    "from finta import TA\n",
    "import yfinance as yf\n",
    "import numpy as np\n",
    "import pandas as pd\n",
    "import yfinance as yf\n",
    "from alpha_vantage.timeseries import TimeSeries\n",
    "import datetime as dt\n",
    "import copy\n",
    "import matplotlib.pyplot as plt\n",
    "import time\n"
   ]
  },
  {
   "cell_type": "code",
   "execution_count": 2,
   "metadata": {},
   "outputs": [],
   "source": [
    "tickers=[\"DIVISLAB.NS\",\"JSWSTEEL.NS\",\"WIPRO.NS\",\"TECHM.NS\",\"TATACONSUM.NS\",\"CIPLA.NS\",\"ITC.NS\",\"HINDUNILVR.NS\",\"SBIN.NS\",\"INDUSINDBK.NS\",\"TATASTEEL.NS\",\"DRREDDY.NS\",\"SUNPHARMA.NS\",\"IOC.NS\",\"BHARTIARTL.NS\",\"BAJAJFINSV.NS\",\"COALINDIA.NS\",\"HINDALCO.NS\",\"TATAMOTORS.NS\",\"INFY.NS\",\"M&M.NS\",\"NTPC.NS\",\"BRITANNIA.NS\",\"GRASIM.NS\"]"
   ]
  },
  {
   "cell_type": "code",
   "execution_count": 3,
   "metadata": {},
   "outputs": [],
   "source": [
    "ohlc_intraday_5M={}\n",
    "ohlc_intraday_2M={}\n",
    "ohlc_intraday_1D={}\n",
    "ohlc_intraday_1M={}"
   ]
  },
  {
   "cell_type": "code",
   "execution_count": 4,
   "metadata": {},
   "outputs": [
    {
     "output_type": "stream",
     "name": "stdout",
     "text": [
      "[*********************100%***********************]  1 of 1 completed\n",
      "[*********************100%***********************]  1 of 1 completed\n",
      "[*********************100%***********************]  1 of 1 completed\n",
      "[*********************100%***********************]  1 of 1 completed\n",
      "[*********************100%***********************]  1 of 1 completed\n",
      "[*********************100%***********************]  1 of 1 completed\n",
      "[*********************100%***********************]  1 of 1 completed\n",
      "[*********************100%***********************]  1 of 1 completed\n",
      "[*********************100%***********************]  1 of 1 completed\n",
      "[*********************100%***********************]  1 of 1 completed\n",
      "[*********************100%***********************]  1 of 1 completed\n",
      "[*********************100%***********************]  1 of 1 completed\n",
      "[*********************100%***********************]  1 of 1 completed\n",
      "[*********************100%***********************]  1 of 1 completed\n",
      "[*********************100%***********************]  1 of 1 completed\n",
      "[*********************100%***********************]  1 of 1 completed\n",
      "[*********************100%***********************]  1 of 1 completed\n",
      "[*********************100%***********************]  1 of 1 completed\n",
      "[*********************100%***********************]  1 of 1 completed\n",
      "[*********************100%***********************]  1 of 1 completed\n",
      "[*********************100%***********************]  1 of 1 completed\n",
      "[*********************100%***********************]  1 of 1 completed\n",
      "[*********************100%***********************]  1 of 1 completed\n",
      "[*********************100%***********************]  1 of 1 completed\n",
      "[*********************100%***********************]  1 of 1 completed\n"
     ]
    }
   ],
   "source": [
    "for ticker in tickers:\n",
    "    ohlc_intraday_5M[ticker]=yf.download(ticker,dt.datetime.today()-dt.timedelta(7),dt.datetime.today(),interval=\"5m\")"
   ]
  },
  {
   "cell_type": "code",
   "execution_count": 5,
   "metadata": {},
   "outputs": [
    {
     "output_type": "stream",
     "name": "stdout",
     "text": [
      "[*********************100%***********************]  1 of 1 completed\n",
      "[*********************100%***********************]  1 of 1 completed\n",
      "[*********************100%***********************]  1 of 1 completed\n",
      "[*********************100%***********************]  1 of 1 completed\n",
      "[*********************100%***********************]  1 of 1 completed\n",
      "[*********************100%***********************]  1 of 1 completed\n",
      "[*********************100%***********************]  1 of 1 completed\n",
      "[*********************100%***********************]  1 of 1 completed\n",
      "[*********************100%***********************]  1 of 1 completed\n",
      "[*********************100%***********************]  1 of 1 completed\n",
      "[*********************100%***********************]  1 of 1 completed\n",
      "[*********************100%***********************]  1 of 1 completed\n",
      "[*********************100%***********************]  1 of 1 completed\n",
      "[*********************100%***********************]  1 of 1 completed\n",
      "[*********************100%***********************]  1 of 1 completed\n",
      "[*********************100%***********************]  1 of 1 completed\n",
      "[*********************100%***********************]  1 of 1 completed\n",
      "[*********************100%***********************]  1 of 1 completed\n",
      "[*********************100%***********************]  1 of 1 completed\n",
      "[*********************100%***********************]  1 of 1 completed\n",
      "[*********************100%***********************]  1 of 1 completed\n",
      "[*********************100%***********************]  1 of 1 completed\n",
      "[*********************100%***********************]  1 of 1 completed\n",
      "[*********************100%***********************]  1 of 1 completed\n",
      "[*********************100%***********************]  1 of 1 completed\n"
     ]
    }
   ],
   "source": [
    "for ticker in tickers:\n",
    "    ohlc_intraday_1D[ticker]=yf.download(ticker,dt.datetime.today()-dt.timedelta(6),dt.datetime.today())"
   ]
  },
  {
   "cell_type": "code",
   "execution_count": 6,
   "metadata": {},
   "outputs": [
    {
     "output_type": "stream",
     "name": "stdout",
     "text": [
      "[*********************100%***********************]  1 of 1 completed\n",
      "[*********************100%***********************]  1 of 1 completed\n",
      "[*********************100%***********************]  1 of 1 completed\n",
      "[*********************100%***********************]  1 of 1 completed\n",
      "[*********************100%***********************]  1 of 1 completed\n",
      "[*********************100%***********************]  1 of 1 completed\n",
      "[*********************100%***********************]  1 of 1 completed\n",
      "[*********************100%***********************]  1 of 1 completed\n",
      "[*********************100%***********************]  1 of 1 completed\n",
      "[*********************100%***********************]  1 of 1 completed\n",
      "[*********************100%***********************]  1 of 1 completed\n",
      "[*********************100%***********************]  1 of 1 completed\n",
      "[*********************100%***********************]  1 of 1 completed\n",
      "[*********************100%***********************]  1 of 1 completed\n",
      "[*********************100%***********************]  1 of 1 completed\n",
      "[*********************100%***********************]  1 of 1 completed\n",
      "[*********************100%***********************]  1 of 1 completed\n",
      "[*********************100%***********************]  1 of 1 completed\n",
      "[*********************100%***********************]  1 of 1 completed\n",
      "[*********************100%***********************]  1 of 1 completed\n",
      "[*********************100%***********************]  1 of 1 completed\n",
      "[*********************100%***********************]  1 of 1 completed\n",
      "[*********************100%***********************]  1 of 1 completed\n",
      "[*********************100%***********************]  1 of 1 completed\n",
      "[*********************100%***********************]  1 of 1 completed\n"
     ]
    }
   ],
   "source": [
    "for ticker in tickers:\n",
    "    ohlc_intraday_2M[ticker]=yf.download(ticker,dt.datetime.today()-dt.timedelta(7),dt.datetime.today(),interval=\"2m\")"
   ]
  },
  {
   "cell_type": "code",
   "execution_count": 7,
   "metadata": {},
   "outputs": [
    {
     "output_type": "stream",
     "name": "stdout",
     "text": [
      "[*********************100%***********************]  1 of 1 completed\n",
      "[*********************100%***********************]  1 of 1 completed\n",
      "[*********************100%***********************]  1 of 1 completed\n",
      "[*********************100%***********************]  1 of 1 completed\n",
      "[*********************100%***********************]  1 of 1 completed\n",
      "[*********************100%***********************]  1 of 1 completed\n",
      "[*********************100%***********************]  1 of 1 completed\n",
      "[*********************100%***********************]  1 of 1 completed\n",
      "[*********************100%***********************]  1 of 1 completed\n",
      "[*********************100%***********************]  1 of 1 completed\n",
      "[*********************100%***********************]  1 of 1 completed\n",
      "[*********************100%***********************]  1 of 1 completed\n",
      "[*********************100%***********************]  1 of 1 completed\n",
      "[*********************100%***********************]  1 of 1 completed\n",
      "[*********************100%***********************]  1 of 1 completed\n",
      "[*********************100%***********************]  1 of 1 completed\n",
      "[*********************100%***********************]  1 of 1 completed\n",
      "[*********************100%***********************]  1 of 1 completed\n",
      "[*********************100%***********************]  1 of 1 completed\n",
      "[*********************100%***********************]  1 of 1 completed\n",
      "[*********************100%***********************]  1 of 1 completed\n",
      "[*********************100%***********************]  1 of 1 completed\n",
      "[*********************100%***********************]  1 of 1 completed\n",
      "[*********************100%***********************]  1 of 1 completed\n",
      "[*********************100%***********************]  1 of 1 completed\n"
     ]
    }
   ],
   "source": [
    "for ticker in tickers:\n",
    "    ohlc_intraday_1M[ticker]=yf.download(ticker,dt.datetime.today()-dt.timedelta(7),dt.datetime.today(),interval=\"1m\")"
   ]
  },
  {
   "cell_type": "code",
   "execution_count": 8,
   "metadata": {},
   "outputs": [],
   "source": [
    "ohlc_dict_1D=copy.deepcopy(ohlc_intraday_1D)\n",
    "ohlc_dict_1M=copy.deepcopy(ohlc_intraday_1M)\n",
    "ohlc_dict_2M=copy.deepcopy(ohlc_intraday_2M)\n",
    "\n",
    "ohlc_dict_5M=copy.deepcopy(ohlc_intraday_5M)"
   ]
  },
  {
   "cell_type": "code",
   "execution_count": 9,
   "metadata": {},
   "outputs": [],
   "source": [
    "def MACD(DF,a,b,c):\n",
    "    \"\"\"function to calculate MACD\n",
    "       typical values a = 12; b =26, c =9\"\"\"\n",
    "    df = DF.copy()\n",
    "    df[\"MA_Fast\"]=df[\"close\"].ewm(span=a,min_periods=a).mean()\n",
    "    df[\"MA_Slow\"]=df[\"close\"].ewm(span=b,min_periods=b).mean()\n",
    "    df[\"MACD\"]=df[\"MA_Fast\"]-df[\"MA_Slow\"]\n",
    "    \n",
    "    df[\"Signal\"]=df[\"MACD\"].ewm(span=c,min_periods=c).mean()\n",
    "    df.dropna(inplace=True)\n",
    "    df.drop([\"MA_Fast\",\"MA_Slow\"],axis=1)\n",
    "    return df\n",
    "\n",
    "\n",
    "def CAGR(DF):\n",
    "    \"function to calculate the Cumulative Annual Growth Rate of a trading strategy\"\n",
    "    df = DF.copy()\n",
    "    df[\"cum_return\"] = (1 + df[\"ret\"]).cumprod()\n",
    "    n = len(df)/(252*74)\n",
    "    CAGR = (df[\"cum_return\"].tolist()[-1])**(1/n) - 1\n",
    "    return CAGR\n",
    "\n",
    "def volatility(DF):\n",
    "    \"function to calculate annualized volatility of a trading strategy\"\n",
    "    df = DF.copy()\n",
    "    vol = df[\"ret\"].std() * np.sqrt(252*74)\n",
    "    return vol\n",
    "\n",
    "def sharpe(DF,rf):\n",
    "    \"function to calculate sharpe ratio ; rf is the risk free rate\"\n",
    "    df = DF.copy()\n",
    "    sr = (CAGR(df) - rf)/volatility(df)\n",
    "    return sr\n",
    "    \n",
    "\n",
    "def max_dd(DF):\n",
    "    \"function to calculate max drawdown\"\n",
    "    df = DF.copy()\n",
    "    df[\"cum_return\"] = (1 + df[\"ret\"]).cumprod()\n",
    "    df[\"cum_roll_max\"] = df[\"cum_return\"].cummax()\n",
    "    df[\"drawdown\"] = df[\"cum_roll_max\"] - df[\"cum_return\"]\n",
    "    df[\"drawdown_pct\"] = df[\"drawdown\"]/df[\"cum_roll_max\"]\n",
    "    max_dd = df[\"drawdown_pct\"].max()\n",
    "    return max_dd\n",
    "\n",
    "def win_pct(DF):\n",
    "    df=DF.copy()\n",
    "    j=0\n",
    "    for i in range(len(df)):\n",
    "        if df[\"profit\"][i]>0:\n",
    "            j+=1\n",
    "\n",
    "    win_percent=j/len(df)*100\n",
    "\n",
    "    return win_percent\n",
    "            \n"
   ]
  },
  {
   "cell_type": "code",
   "execution_count": 10,
   "metadata": {},
   "outputs": [],
   "source": [
    "tickers_signal = {}\n",
    "ticker_ret = {}"
   ]
  },
  {
   "cell_type": "code",
   "execution_count": 11,
   "metadata": {},
   "outputs": [],
   "source": [
    "for ticker in tickers:\n",
    "    ohlc_dict_1M[ticker]=ohlc_dict_1M[ticker].iloc[:,[0,1,2,4,5]]\n",
    "    ohlc_dict_1M[ticker].columns=[\"open\",\"high\",\"low\",\"close\",\"volume\"]\n",
    "\n",
    "    ohlc_dict_5M[ticker]=ohlc_dict_5M[ticker].iloc[:,[0,1,2,4,5]]\n",
    "    ohlc_dict_5M[ticker].columns=[\"open\",\"high\",\"low\",\"close\",\"volume\"]\n",
    "\n",
    "    ohlc_dict_1D[ticker]=ohlc_dict_1D[ticker].iloc[:,[0,1,2,4,5]]\n",
    "    ohlc_dict_1D[ticker].columns=[\"open\",\"high\",\"low\",\"close\",\"volume\"]\n",
    "\n",
    "    ohlc_dict_1M[ticker][\"VWAP\"]=TA.VWAP(ohlc_dict_1M[ticker])\n",
    "    ohlc_dict_1M[ticker][\"volume MA\"]= ohlc_dict_1M[ticker][\"volume\"].rolling(20).mean()\n",
    "\n",
    "\n",
    "\n",
    "    "
   ]
  },
  {
   "cell_type": "code",
   "execution_count": 12,
   "metadata": {},
   "outputs": [
    {
     "output_type": "stream",
     "name": "stdout",
     "text": [
      "calculating for  DIVISLAB.NS\n",
      "calculating for  JSWSTEEL.NS\n",
      "calculating for  WIPRO.NS\n",
      "calculating for  TECHM.NS\n",
      "calculating for  TATACONSUM.NS\n",
      "calculating for  CIPLA.NS\n",
      "calculating for  ITC.NS\n",
      "calculating for  HINDUNILVR.NS\n",
      "calculating for  SBIN.NS\n",
      "calculating for  INDUSINDBK.NS\n",
      "calculating for  TATASTEEL.NS\n",
      "calculating for  DRREDDY.NS\n",
      "calculating for  SUNPHARMA.NS\n",
      "calculating for  IOC.NS\n",
      "calculating for  BHARTIARTL.NS\n",
      "calculating for  BAJAJFINSV.NS\n",
      "calculating for  COALINDIA.NS\n",
      "calculating for  HINDALCO.NS\n",
      "calculating for  TATAMOTORS.NS\n",
      "calculating for  INFY.NS\n",
      "calculating for  M&M.NS\n",
      "calculating for  NTPC.NS\n",
      "calculating for  BRITANNIA.NS\n",
      "calculating for  GRASIM.NS\n",
      "calculating for  NESTLEIND.NS\n",
      "problem with data\n"
     ]
    }
   ],
   "source": [
    "for ticker in tickers:\n",
    "    try:\n",
    "        print(\"calculating for \",ticker)\n",
    "        price=[]\n",
    "\n",
    "        for k in range(len(ohlc_dict_1D[ticker])):\n",
    "            for i in range(k*375,(k+1)*375):\n",
    "                \n",
    "                \n",
    "                if i!=1874:\n",
    "\n",
    "                \n",
    "                    if i<375:\n",
    "                        price.append(0)\n",
    "\n",
    "                    else:\n",
    "                        price.append(ohlc_dict_1D[ticker][\"high\"][k-1])\n",
    "\n",
    " \n",
    "   \n",
    "\n",
    "                \n",
    "\n",
    "        ohlc_dict_1M[ticker][\"previous day high\"]=np.array(price)\n",
    "\n",
    "    except:\n",
    "        print(\"problem with data\")\n",
    "\n",
    "\n",
    "\n"
   ]
  },
  {
   "cell_type": "code",
   "execution_count": 13,
   "metadata": {},
   "outputs": [
    {
     "output_type": "stream",
     "name": "stdout",
     "text": [
      "getting data for DIVISLAB.NS\n",
      "getting data for JSWSTEEL.NS\n",
      "getting data for WIPRO.NS\n",
      "getting data for TECHM.NS\n",
      "getting data for TATACONSUM.NS\n",
      "getting data for CIPLA.NS\n",
      "getting data for ITC.NS\n",
      "getting data for HINDUNILVR.NS\n",
      "getting data for SBIN.NS\n",
      "getting data for INDUSINDBK.NS\n",
      "getting data for TATASTEEL.NS\n",
      "getting data for DRREDDY.NS\n",
      "getting data for SUNPHARMA.NS\n",
      "getting data for IOC.NS\n",
      "getting data for BHARTIARTL.NS\n",
      "getting data for BAJAJFINSV.NS\n",
      "getting data for COALINDIA.NS\n",
      "getting data for HINDALCO.NS\n",
      "getting data for TATAMOTORS.NS\n",
      "getting data for INFY.NS\n",
      "getting data for M&M.NS\n",
      "getting data for NTPC.NS\n",
      "getting data for BRITANNIA.NS\n",
      "getting data for GRASIM.NS\n",
      "getting data for NESTLEIND.NS\n",
      "problem with data\n"
     ]
    }
   ],
   "source": [
    "for ticker in tickers:\n",
    "    print(\"getting data for\", ticker)\n",
    "    try:\n",
    "        price=[]\n",
    "\n",
    "        for k in range(len(ohlc_dict_1D[ticker])):\n",
    "            for i in range(k*375,(k+1)*375):\n",
    "            \n",
    "                if i!=1874:\n",
    "                    if i<375:\n",
    "                        price.append(0)\n",
    "\n",
    "                    else:\n",
    "                        price.append(ohlc_dict_1D[ticker][\"low\"][k-1])\n",
    "\n",
    "        ohlc_dict_1M[ticker][\"previous day low\"]=np.array(price)\n",
    "\n",
    "    except:\n",
    "        print(\"problem with data\")\n"
   ]
  },
  {
   "cell_type": "code",
   "execution_count": 14,
   "metadata": {},
   "outputs": [
    {
     "output_type": "stream",
     "name": "stdout",
     "text": [
      "getting data for  DIVISLAB.NS\n",
      "getting data for  JSWSTEEL.NS\n",
      "getting data for  WIPRO.NS\n",
      "getting data for  TECHM.NS\n",
      "getting data for  TATACONSUM.NS\n",
      "getting data for  CIPLA.NS\n",
      "getting data for  ITC.NS\n",
      "getting data for  HINDUNILVR.NS\n",
      "getting data for  SBIN.NS\n",
      "getting data for  INDUSINDBK.NS\n",
      "getting data for  TATASTEEL.NS\n",
      "getting data for  DRREDDY.NS\n",
      "getting data for  SUNPHARMA.NS\n",
      "getting data for  IOC.NS\n",
      "getting data for  BHARTIARTL.NS\n",
      "getting data for  BAJAJFINSV.NS\n",
      "getting data for  COALINDIA.NS\n",
      "getting data for  HINDALCO.NS\n",
      "getting data for  TATAMOTORS.NS\n",
      "getting data for  INFY.NS\n",
      "getting data for  M&M.NS\n",
      "getting data for  NTPC.NS\n",
      "getting data for  BRITANNIA.NS\n",
      "getting data for  GRASIM.NS\n",
      "getting data for  NESTLEIND.NS\n",
      "problem with data\n"
     ]
    }
   ],
   "source": [
    "for ticker in tickers:\n",
    "    print(\"getting data for \", ticker)\n",
    "    try:\n",
    "        prise=[]\n",
    "\n",
    "        for k in range(len(ohlc_dict_1D[ticker])):\n",
    "            for i in range(k*375,(k+1)*375):\n",
    "                \n",
    "                if i!=1874:\n",
    "                    if i<375:\n",
    "                        prise.append(0)\n",
    "\n",
    "                    elif i>k*375 and i<k*375+5:\n",
    "                        prise.append(0)\n",
    "\n",
    "                    else:\n",
    "                        prise.append(ohlc_dict_5M[ticker][\"high\"][k*75:k*75+1].max())\n",
    "\n",
    "        ohlc_dict_1M[ticker][\"intraday high\"]=np.array(prise)\n",
    "\n",
    "    except:\n",
    "        print(\"problem with data\")"
   ]
  },
  {
   "cell_type": "code",
   "execution_count": 15,
   "metadata": {},
   "outputs": [
    {
     "output_type": "stream",
     "name": "stdout",
     "text": [
      "getting data for  DIVISLAB.NS\n",
      "getting data for  JSWSTEEL.NS\n",
      "getting data for  WIPRO.NS\n",
      "getting data for  TECHM.NS\n",
      "getting data for  TATACONSUM.NS\n",
      "getting data for  CIPLA.NS\n",
      "getting data for  ITC.NS\n",
      "getting data for  HINDUNILVR.NS\n",
      "getting data for  SBIN.NS\n",
      "getting data for  INDUSINDBK.NS\n",
      "getting data for  TATASTEEL.NS\n",
      "getting data for  DRREDDY.NS\n",
      "getting data for  SUNPHARMA.NS\n",
      "getting data for  IOC.NS\n",
      "getting data for  BHARTIARTL.NS\n",
      "getting data for  BAJAJFINSV.NS\n",
      "getting data for  COALINDIA.NS\n",
      "getting data for  HINDALCO.NS\n",
      "getting data for  TATAMOTORS.NS\n",
      "getting data for  INFY.NS\n",
      "getting data for  M&M.NS\n",
      "getting data for  NTPC.NS\n",
      "getting data for  BRITANNIA.NS\n",
      "getting data for  GRASIM.NS\n",
      "getting data for  NESTLEIND.NS\n",
      "problem with data\n"
     ]
    }
   ],
   "source": [
    "for ticker in tickers:\n",
    "    print(\"getting data for \", ticker)\n",
    "    try:\n",
    "        prise=[]\n",
    "\n",
    "        for k in range(len(ohlc_dict_1D[ticker])):\n",
    "            for i in range(k*375,(k+1)*375):\n",
    "                \n",
    "                if i!=1874:\n",
    "                    if i<375:\n",
    "                        prise.append(0)\n",
    "\n",
    "                    elif i>k*375 and i<k*375+5:\n",
    "                        prise.append(0)\n",
    "\n",
    "                    else:\n",
    "                        prise.append(ohlc_dict_5M[ticker][\"low\"][k*75:k*75+1].min())\n",
    "\n",
    "        ohlc_dict_1M[ticker][\"intraday low\"]=np.array(prise)\n",
    "\n",
    "    except:\n",
    "        print(\"problem with data\")"
   ]
  },
  {
   "cell_type": "code",
   "execution_count": null,
   "metadata": {},
   "outputs": [],
   "source": []
  },
  {
   "cell_type": "code",
   "execution_count": null,
   "metadata": {},
   "outputs": [],
   "source": []
  },
  {
   "cell_type": "code",
   "execution_count": 16,
   "metadata": {},
   "outputs": [
    {
     "output_type": "error",
     "ename": "KeyError",
     "evalue": "'LT.NS'",
     "traceback": [
      "\u001b[0;31m---------------------------------------------------------------------------\u001b[0m",
      "\u001b[0;31mKeyError\u001b[0m                                  Traceback (most recent call last)",
      "\u001b[0;32m<ipython-input-16-67e0e90a678e>\u001b[0m in \u001b[0;36m<module>\u001b[0;34m\u001b[0m\n\u001b[0;32m----> 1\u001b[0;31m \u001b[0mohlc_dict_1M\u001b[0m\u001b[0;34m[\u001b[0m\u001b[0;34m\"LT.NS\"\u001b[0m\u001b[0;34m]\u001b[0m\u001b[0;34m\u001b[0m\u001b[0;34m\u001b[0m\u001b[0m\n\u001b[0m",
      "\u001b[0;31mKeyError\u001b[0m: 'LT.NS'"
     ]
    }
   ],
   "source": [
    "ohlc_dict_1M[\"LT.NS\"]"
   ]
  },
  {
   "cell_type": "code",
   "execution_count": 17,
   "metadata": {},
   "outputs": [],
   "source": [
    "ticker_signal={}\n",
    "ticker_ret={}\n",
    "ohlc_database={}\n",
    "price_in=[]\n",
    "price_out=[]\n",
    "order=[]\n",
    "stock=[]\n",
    "ohlc_dict={}\n"
   ]
  },
  {
   "cell_type": "code",
   "execution_count": 18,
   "metadata": {},
   "outputs": [
    {
     "output_type": "error",
     "ename": "KeyError",
     "evalue": "'BAJFINANCE.NS'",
     "traceback": [
      "\u001b[0;31m---------------------------------------------------------------------------\u001b[0m",
      "\u001b[0;31mKeyError\u001b[0m                                  Traceback (most recent call last)",
      "\u001b[0;32m<ipython-input-18-5cadc3d3c690>\u001b[0m in \u001b[0;36m<module>\u001b[0;34m\u001b[0m\n\u001b[1;32m     11\u001b[0m     \u001b[0;32mfor\u001b[0m \u001b[0mticker\u001b[0m \u001b[0;32min\u001b[0m \u001b[0mtickers\u001b[0m\u001b[0;34m:\u001b[0m\u001b[0;34m\u001b[0m\u001b[0;34m\u001b[0m\u001b[0m\n\u001b[1;32m     12\u001b[0m         \u001b[0msignal\u001b[0m\u001b[0;34m=\u001b[0m\u001b[0;34m\"\"\u001b[0m\u001b[0;34m\u001b[0m\u001b[0;34m\u001b[0m\u001b[0m\n\u001b[0;32m---> 13\u001b[0;31m         \u001b[0;32mfor\u001b[0m \u001b[0mi\u001b[0m \u001b[0;32min\u001b[0m \u001b[0mrange\u001b[0m\u001b[0;34m(\u001b[0m\u001b[0mlen\u001b[0m\u001b[0;34m(\u001b[0m\u001b[0mohlc_dict\u001b[0m\u001b[0;34m[\u001b[0m\u001b[0mticker\u001b[0m\u001b[0;34m]\u001b[0m\u001b[0;34m)\u001b[0m\u001b[0;34m)\u001b[0m\u001b[0;34m:\u001b[0m\u001b[0;34m\u001b[0m\u001b[0;34m\u001b[0m\u001b[0m\n\u001b[0m\u001b[1;32m     14\u001b[0m \u001b[0;34m\u001b[0m\u001b[0m\n\u001b[1;32m     15\u001b[0m \u001b[0;34m\u001b[0m\u001b[0m\n",
      "\u001b[0;31mKeyError\u001b[0m: 'BAJFINANCE.NS'"
     ]
    }
   ],
   "source": [
    "for ticker in tickers:\n",
    "\n",
    "\n",
    "    ticker_signal[ticker]=[]\n",
    "    ticker_ret[ticker]=[]\n",
    "    ohlc_database[ticker]=pd.DataFrame()\n",
    "    ohlc_dict[ticker]=pd.DataFrame()\n",
    "\n",
    "    ohlc_dict_1M[ticker].rename(columns={\"open\":\"Open\",\"high\":\"High\",\"low\":\"Low\",\"close\":\"Close\",\"volume\":\"Volume\"},inplace=True)\n",
    "    ohlc_dict[ticker]=copy.deepcopy(ohlc_dict_1M[ticker])\n",
    "    for ticker in tickers:\n",
    "        signal=\"\"\n",
    "        for i in range(len(ohlc_dict[ticker])):\n",
    "            \n",
    "            \n",
    "            \n",
    "            \n",
    "            \n",
    "            \n",
    "            if signal==\"\":\n",
    "                if ohlc_dict[ticker][\"Close\"][i]>ohlc_dict[ticker][\"VWAP\"][i] and ohlc_dict[ticker][\"Close\"][i]>ohlc_dict[ticker][\"previous day high\"][i] and ohlc_dict[ticker][\"Volume\"][i]>=ohlc_dict[ticker][\"volume MA\"][i]:\n",
    "\n",
    "                    signal=\"buy\"\n",
    "                    price=ohlc_dict[ticker][\"Close\"][i]\n",
    "                    price_in.append(ohlc_dict[ticker][\"Close\"][i])\n",
    "                    \n",
    "                    order.append(\"long\")\n",
    "                    stock.append(ticker)\n",
    "\n",
    "                    \n",
    "                \n",
    "\n",
    "\n",
    "\n",
    "                elif ohlc_dict[ticker][\"Close\"][i]<ohlc_dict[ticker][\"VWAP\"][i] and ohlc_dict[ticker][\"Close\"][i]<ohlc_dict[ticker][\"previous day low\"][i] and ohlc_dict[ticker][\"Volume\"][i]>=ohlc_dict[ticker][\"volume MA\"][i]:\n",
    "                    signal=\"sell\"\n",
    "                    price=ohlc_dict[ticker][\"Close\"][i]\n",
    "                    \n",
    "                    price_in.append(ohlc_dict[ticker][\"Close\"][i])\n",
    "                    \n",
    "                    order.append(\"short\")\n",
    "                    stock.append(ticker)                \n",
    "                ticker_ret[ticker].append(0)\n",
    "\n",
    "            elif signal==\"buy\":\n",
    "                if ohlc_dict[ticker][\"Close\"][i]<ohlc_dict[ticker][\"intraday low\"][i]  or ohlc_dict[ticker][\"Close\"][i]>=price+.02*price or ohlc_dict[ticker][\"Close\"][i]<=price-.01*price:\n",
    "\n",
    "                    signal=\"\"\n",
    "                    price_out.append(ohlc_dict[ticker][\"Close\"][i])\n",
    "                    ticker_ret[ticker].append((ohlc_dict[ticker][\"Close\"][i]/ohlc_dict[ticker][\"Close\"][i-1])-1)\n",
    "\n",
    "                \n",
    "                \n",
    "                else:\n",
    "                    ticker_ret[ticker].append((ohlc_dict[ticker][\"Close\"][i]/ohlc_dict[ticker][\"Close\"][i-1])-1)\n",
    "            \n",
    "            \n",
    "            \n",
    "            elif signal==\"sell\":\n",
    "                if ohlc_dict_1M[ticker][\"Close\"][i]>ohlc_dict_1M[ticker][\"intraday high\"][i]  or ohlc_dict[ticker][\"Close\"][i]>=price+.01*price or ohlc_dict[ticker][\"Close\"][i]<=price-.02*price:\n",
    "                    price_out.append(ohlc_dict[ticker][\"Close\"][i])\n",
    "\n",
    "                    signal=\"\"\n",
    "                    ticker_ret[ticker].append((ohlc_dict[ticker][\"Close\"][i-1]/ohlc_dict[ticker][\"Close\"][i])-1)\n",
    "\n",
    "            \n",
    "                \n",
    "                else:\n",
    "                    ticker_ret[ticker].append((ohlc_dict[ticker][\"Close\"][i-1]/ohlc_dict[ticker][\"Close\"][i])-1)\n",
    "        if len(price_in)!=len(price_out):\n",
    "            price_out.append(ohlc_dict[ticker][\"Close\"][-1])\n",
    "        ohlc_dict[ticker][\"ret\"] = np.array(ticker_ret[ticker]) \n",
    "\n",
    "\n",
    "\n",
    "\n"
   ]
  },
  {
   "cell_type": "code",
   "execution_count": 19,
   "metadata": {},
   "outputs": [],
   "source": [
    "ohlcv_database=pd.DataFrame()\n",
    "\n",
    "ohlcv_database[\"price_in\"]=np.array(price_in)\n",
    "ohlcv_database[\"price_out\"]=np.array(price_out)\n",
    "ohlcv_database[\"order\"]=np.array(order)\n",
    "ohlcv_database[\"stock\"]=np.array(stock)"
   ]
  },
  {
   "cell_type": "code",
   "execution_count": 20,
   "metadata": {},
   "outputs": [],
   "source": [
    "profit=[]\n",
    "for i in range(len(ohlcv_database)):\n",
    "    if ohlcv_database[\"order\"][i]==\"long\":\n",
    "        profit.append(((ohlcv_database[\"price_out\"][i]-ohlcv_database[\"price_in\"][i])/ohlcv_database[\"price_in\"][i])*100)\n",
    "\n",
    "    elif ohlcv_database[\"order\"][i]==\"short\":\n",
    "        profit.append(((ohlcv_database[\"price_in\"][i]-ohlcv_database[\"price_out\"][i])/ohlcv_database[\"price_out\"][i])*100)\n",
    "\n",
    "ohlcv_database[\"profit\"]=np.array(profit)"
   ]
  },
  {
   "cell_type": "code",
   "execution_count": 21,
   "metadata": {},
   "outputs": [
    {
     "output_type": "execute_result",
     "data": {
      "text/plain": [
       "      price_in    price_out  order        stock    profit\n",
       "0  4290.250000  4246.950195   long  DIVISLAB.NS -1.009261\n",
       "1  4270.000000  4223.950195   long  DIVISLAB.NS -1.078450\n",
       "2  4219.000000  4246.850098  short  DIVISLAB.NS -0.655782\n",
       "3  4276.000000  4243.549805   long  DIVISLAB.NS -0.758891\n",
       "4  4259.450195  4245.399902   long  DIVISLAB.NS -0.329862\n",
       "5  4262.000000  4348.000000   long  DIVISLAB.NS  2.017832\n",
       "6  4355.149902  4348.850098   long  DIVISLAB.NS -0.144652"
      ],
      "text/html": "<div>\n<style scoped>\n    .dataframe tbody tr th:only-of-type {\n        vertical-align: middle;\n    }\n\n    .dataframe tbody tr th {\n        vertical-align: top;\n    }\n\n    .dataframe thead th {\n        text-align: right;\n    }\n</style>\n<table border=\"1\" class=\"dataframe\">\n  <thead>\n    <tr style=\"text-align: right;\">\n      <th></th>\n      <th>price_in</th>\n      <th>price_out</th>\n      <th>order</th>\n      <th>stock</th>\n      <th>profit</th>\n    </tr>\n  </thead>\n  <tbody>\n    <tr>\n      <th>0</th>\n      <td>4290.250000</td>\n      <td>4246.950195</td>\n      <td>long</td>\n      <td>DIVISLAB.NS</td>\n      <td>-1.009261</td>\n    </tr>\n    <tr>\n      <th>1</th>\n      <td>4270.000000</td>\n      <td>4223.950195</td>\n      <td>long</td>\n      <td>DIVISLAB.NS</td>\n      <td>-1.078450</td>\n    </tr>\n    <tr>\n      <th>2</th>\n      <td>4219.000000</td>\n      <td>4246.850098</td>\n      <td>short</td>\n      <td>DIVISLAB.NS</td>\n      <td>-0.655782</td>\n    </tr>\n    <tr>\n      <th>3</th>\n      <td>4276.000000</td>\n      <td>4243.549805</td>\n      <td>long</td>\n      <td>DIVISLAB.NS</td>\n      <td>-0.758891</td>\n    </tr>\n    <tr>\n      <th>4</th>\n      <td>4259.450195</td>\n      <td>4245.399902</td>\n      <td>long</td>\n      <td>DIVISLAB.NS</td>\n      <td>-0.329862</td>\n    </tr>\n    <tr>\n      <th>5</th>\n      <td>4262.000000</td>\n      <td>4348.000000</td>\n      <td>long</td>\n      <td>DIVISLAB.NS</td>\n      <td>2.017832</td>\n    </tr>\n    <tr>\n      <th>6</th>\n      <td>4355.149902</td>\n      <td>4348.850098</td>\n      <td>long</td>\n      <td>DIVISLAB.NS</td>\n      <td>-0.144652</td>\n    </tr>\n  </tbody>\n</table>\n</div>"
     },
     "metadata": {},
     "execution_count": 21
    }
   ],
   "source": [
    "ohlcv_database"
   ]
  },
  {
   "cell_type": "code",
   "execution_count": 22,
   "metadata": {},
   "outputs": [
    {
     "output_type": "error",
     "ename": "KeyError",
     "evalue": "'BAJFINANCE.NS'",
     "traceback": [
      "\u001b[0;31m---------------------------------------------------------------------------\u001b[0m",
      "\u001b[0;31mKeyError\u001b[0m                                  Traceback (most recent call last)",
      "\u001b[0;32m<ipython-input-22-06bf2582815c>\u001b[0m in \u001b[0;36m<module>\u001b[0;34m\u001b[0m\n\u001b[1;32m      1\u001b[0m \u001b[0mstrategy_df\u001b[0m \u001b[0;34m=\u001b[0m \u001b[0mpd\u001b[0m\u001b[0;34m.\u001b[0m\u001b[0mDataFrame\u001b[0m\u001b[0;34m(\u001b[0m\u001b[0;34m)\u001b[0m\u001b[0;34m\u001b[0m\u001b[0;34m\u001b[0m\u001b[0m\n\u001b[1;32m      2\u001b[0m \u001b[0;32mfor\u001b[0m \u001b[0mticker\u001b[0m \u001b[0;32min\u001b[0m \u001b[0mtickers\u001b[0m\u001b[0;34m:\u001b[0m\u001b[0;34m\u001b[0m\u001b[0;34m\u001b[0m\u001b[0m\n\u001b[0;32m----> 3\u001b[0;31m     \u001b[0mstrategy_df\u001b[0m\u001b[0;34m[\u001b[0m\u001b[0mticker\u001b[0m\u001b[0;34m]\u001b[0m \u001b[0;34m=\u001b[0m \u001b[0mohlc_dict\u001b[0m\u001b[0;34m[\u001b[0m\u001b[0mticker\u001b[0m\u001b[0;34m]\u001b[0m\u001b[0;34m[\u001b[0m\u001b[0;34m\"ret\"\u001b[0m\u001b[0;34m]\u001b[0m\u001b[0;34m\u001b[0m\u001b[0;34m\u001b[0m\u001b[0m\n\u001b[0m\u001b[1;32m      4\u001b[0m \u001b[0mstrategy_df\u001b[0m\u001b[0;34m[\u001b[0m\u001b[0;34m\"ret\"\u001b[0m\u001b[0;34m]\u001b[0m \u001b[0;34m=\u001b[0m \u001b[0mstrategy_df\u001b[0m\u001b[0;34m.\u001b[0m\u001b[0mmean\u001b[0m\u001b[0;34m(\u001b[0m\u001b[0maxis\u001b[0m\u001b[0;34m=\u001b[0m\u001b[0;36m1\u001b[0m\u001b[0;34m)\u001b[0m\u001b[0;34m\u001b[0m\u001b[0;34m\u001b[0m\u001b[0m\n\u001b[1;32m      5\u001b[0m \u001b[0mCAGR\u001b[0m\u001b[0;34m(\u001b[0m\u001b[0mstrategy_df\u001b[0m\u001b[0;34m)\u001b[0m\u001b[0;34m\u001b[0m\u001b[0;34m\u001b[0m\u001b[0m\n",
      "\u001b[0;31mKeyError\u001b[0m: 'BAJFINANCE.NS'"
     ]
    }
   ],
   "source": [
    "strategy_df = pd.DataFrame()\n",
    "for ticker in tickers:\n",
    "    strategy_df[ticker] = ohlc_dict[ticker][\"ret\"]\n",
    "strategy_df[\"ret\"] = strategy_df.mean(axis=1)\n",
    "CAGR(strategy_df)\n",
    "\n"
   ]
  },
  {
   "cell_type": "code",
   "execution_count": 23,
   "metadata": {},
   "outputs": [
    {
     "output_type": "error",
     "ename": "KeyError",
     "evalue": "'ret'",
     "traceback": [
      "\u001b[0;31m---------------------------------------------------------------------------\u001b[0m",
      "\u001b[0;31mKeyError\u001b[0m                                  Traceback (most recent call last)",
      "\u001b[0;32m/Library/Frameworks/Python.framework/Versions/3.9/lib/python3.9/site-packages/pandas/core/indexes/base.py\u001b[0m in \u001b[0;36mget_loc\u001b[0;34m(self, key, method, tolerance)\u001b[0m\n\u001b[1;32m   3079\u001b[0m             \u001b[0;32mtry\u001b[0m\u001b[0;34m:\u001b[0m\u001b[0;34m\u001b[0m\u001b[0;34m\u001b[0m\u001b[0m\n\u001b[0;32m-> 3080\u001b[0;31m                 \u001b[0;32mreturn\u001b[0m \u001b[0mself\u001b[0m\u001b[0;34m.\u001b[0m\u001b[0m_engine\u001b[0m\u001b[0;34m.\u001b[0m\u001b[0mget_loc\u001b[0m\u001b[0;34m(\u001b[0m\u001b[0mcasted_key\u001b[0m\u001b[0;34m)\u001b[0m\u001b[0;34m\u001b[0m\u001b[0;34m\u001b[0m\u001b[0m\n\u001b[0m\u001b[1;32m   3081\u001b[0m             \u001b[0;32mexcept\u001b[0m \u001b[0mKeyError\u001b[0m \u001b[0;32mas\u001b[0m \u001b[0merr\u001b[0m\u001b[0;34m:\u001b[0m\u001b[0;34m\u001b[0m\u001b[0;34m\u001b[0m\u001b[0m\n",
      "\u001b[0;32mpandas/_libs/index.pyx\u001b[0m in \u001b[0;36mpandas._libs.index.IndexEngine.get_loc\u001b[0;34m()\u001b[0m\n",
      "\u001b[0;32mpandas/_libs/index.pyx\u001b[0m in \u001b[0;36mpandas._libs.index.IndexEngine.get_loc\u001b[0;34m()\u001b[0m\n",
      "\u001b[0;32mpandas/_libs/hashtable_class_helper.pxi\u001b[0m in \u001b[0;36mpandas._libs.hashtable.PyObjectHashTable.get_item\u001b[0;34m()\u001b[0m\n",
      "\u001b[0;32mpandas/_libs/hashtable_class_helper.pxi\u001b[0m in \u001b[0;36mpandas._libs.hashtable.PyObjectHashTable.get_item\u001b[0;34m()\u001b[0m\n",
      "\u001b[0;31mKeyError\u001b[0m: 'ret'",
      "\nThe above exception was the direct cause of the following exception:\n",
      "\u001b[0;31mKeyError\u001b[0m                                  Traceback (most recent call last)",
      "\u001b[0;32m<ipython-input-23-4ce8341ce574>\u001b[0m in \u001b[0;36m<module>\u001b[0;34m\u001b[0m\n\u001b[0;32m----> 1\u001b[0;31m \u001b[0;34m(\u001b[0m\u001b[0;36m1\u001b[0m\u001b[0;34m+\u001b[0m\u001b[0mstrategy_df\u001b[0m\u001b[0;34m[\u001b[0m\u001b[0;34m\"ret\"\u001b[0m\u001b[0;34m]\u001b[0m\u001b[0;34m)\u001b[0m\u001b[0;34m.\u001b[0m\u001b[0mcumprod\u001b[0m\u001b[0;34m(\u001b[0m\u001b[0;34m)\u001b[0m\u001b[0;34m.\u001b[0m\u001b[0mplot\u001b[0m\u001b[0;34m(\u001b[0m\u001b[0;34m)\u001b[0m\u001b[0;34m\u001b[0m\u001b[0;34m\u001b[0m\u001b[0m\n\u001b[0m",
      "\u001b[0;32m/Library/Frameworks/Python.framework/Versions/3.9/lib/python3.9/site-packages/pandas/core/frame.py\u001b[0m in \u001b[0;36m__getitem__\u001b[0;34m(self, key)\u001b[0m\n\u001b[1;32m   3022\u001b[0m             \u001b[0;32mif\u001b[0m \u001b[0mself\u001b[0m\u001b[0;34m.\u001b[0m\u001b[0mcolumns\u001b[0m\u001b[0;34m.\u001b[0m\u001b[0mnlevels\u001b[0m \u001b[0;34m>\u001b[0m \u001b[0;36m1\u001b[0m\u001b[0;34m:\u001b[0m\u001b[0;34m\u001b[0m\u001b[0;34m\u001b[0m\u001b[0m\n\u001b[1;32m   3023\u001b[0m                 \u001b[0;32mreturn\u001b[0m \u001b[0mself\u001b[0m\u001b[0;34m.\u001b[0m\u001b[0m_getitem_multilevel\u001b[0m\u001b[0;34m(\u001b[0m\u001b[0mkey\u001b[0m\u001b[0;34m)\u001b[0m\u001b[0;34m\u001b[0m\u001b[0;34m\u001b[0m\u001b[0m\n\u001b[0;32m-> 3024\u001b[0;31m             \u001b[0mindexer\u001b[0m \u001b[0;34m=\u001b[0m \u001b[0mself\u001b[0m\u001b[0;34m.\u001b[0m\u001b[0mcolumns\u001b[0m\u001b[0;34m.\u001b[0m\u001b[0mget_loc\u001b[0m\u001b[0;34m(\u001b[0m\u001b[0mkey\u001b[0m\u001b[0;34m)\u001b[0m\u001b[0;34m\u001b[0m\u001b[0;34m\u001b[0m\u001b[0m\n\u001b[0m\u001b[1;32m   3025\u001b[0m             \u001b[0;32mif\u001b[0m \u001b[0mis_integer\u001b[0m\u001b[0;34m(\u001b[0m\u001b[0mindexer\u001b[0m\u001b[0;34m)\u001b[0m\u001b[0;34m:\u001b[0m\u001b[0;34m\u001b[0m\u001b[0;34m\u001b[0m\u001b[0m\n\u001b[1;32m   3026\u001b[0m                 \u001b[0mindexer\u001b[0m \u001b[0;34m=\u001b[0m \u001b[0;34m[\u001b[0m\u001b[0mindexer\u001b[0m\u001b[0;34m]\u001b[0m\u001b[0;34m\u001b[0m\u001b[0;34m\u001b[0m\u001b[0m\n",
      "\u001b[0;32m/Library/Frameworks/Python.framework/Versions/3.9/lib/python3.9/site-packages/pandas/core/indexes/base.py\u001b[0m in \u001b[0;36mget_loc\u001b[0;34m(self, key, method, tolerance)\u001b[0m\n\u001b[1;32m   3080\u001b[0m                 \u001b[0;32mreturn\u001b[0m \u001b[0mself\u001b[0m\u001b[0;34m.\u001b[0m\u001b[0m_engine\u001b[0m\u001b[0;34m.\u001b[0m\u001b[0mget_loc\u001b[0m\u001b[0;34m(\u001b[0m\u001b[0mcasted_key\u001b[0m\u001b[0;34m)\u001b[0m\u001b[0;34m\u001b[0m\u001b[0;34m\u001b[0m\u001b[0m\n\u001b[1;32m   3081\u001b[0m             \u001b[0;32mexcept\u001b[0m \u001b[0mKeyError\u001b[0m \u001b[0;32mas\u001b[0m \u001b[0merr\u001b[0m\u001b[0;34m:\u001b[0m\u001b[0;34m\u001b[0m\u001b[0;34m\u001b[0m\u001b[0m\n\u001b[0;32m-> 3082\u001b[0;31m                 \u001b[0;32mraise\u001b[0m \u001b[0mKeyError\u001b[0m\u001b[0;34m(\u001b[0m\u001b[0mkey\u001b[0m\u001b[0;34m)\u001b[0m \u001b[0;32mfrom\u001b[0m \u001b[0merr\u001b[0m\u001b[0;34m\u001b[0m\u001b[0;34m\u001b[0m\u001b[0m\n\u001b[0m\u001b[1;32m   3083\u001b[0m \u001b[0;34m\u001b[0m\u001b[0m\n\u001b[1;32m   3084\u001b[0m         \u001b[0;32mif\u001b[0m \u001b[0mtolerance\u001b[0m \u001b[0;32mis\u001b[0m \u001b[0;32mnot\u001b[0m \u001b[0;32mNone\u001b[0m\u001b[0;34m:\u001b[0m\u001b[0;34m\u001b[0m\u001b[0;34m\u001b[0m\u001b[0m\n",
      "\u001b[0;31mKeyError\u001b[0m: 'ret'"
     ]
    }
   ],
   "source": [
    "(1+strategy_df[\"ret\"]).cumprod().plot()"
   ]
  },
  {
   "cell_type": "code",
   "execution_count": 25,
   "metadata": {},
   "outputs": [
    {
     "output_type": "stream",
     "name": "stdout",
     "text": [
      "calculating KPIs for  DIVISLAB.NS\ncalculating KPIs for  BAJFINANCE.NS\n"
     ]
    },
    {
     "output_type": "error",
     "ename": "KeyError",
     "evalue": "'BAJFINANCE.NS'",
     "traceback": [
      "\u001b[0;31m---------------------------------------------------------------------------\u001b[0m",
      "\u001b[0;31mKeyError\u001b[0m                                  Traceback (most recent call last)",
      "\u001b[0;32m<ipython-input-25-e1370cb37b3f>\u001b[0m in \u001b[0;36m<module>\u001b[0;34m\u001b[0m\n\u001b[1;32m      6\u001b[0m     \u001b[0mwin\u001b[0m\u001b[0;34m=\u001b[0m\u001b[0;34m[\u001b[0m\u001b[0;34m]\u001b[0m\u001b[0;34m\u001b[0m\u001b[0;34m\u001b[0m\u001b[0m\n\u001b[1;32m      7\u001b[0m     \u001b[0mprint\u001b[0m\u001b[0;34m(\u001b[0m\u001b[0;34m\"calculating KPIs for \"\u001b[0m\u001b[0;34m,\u001b[0m\u001b[0mticker\u001b[0m\u001b[0;34m)\u001b[0m\u001b[0;34m\u001b[0m\u001b[0;34m\u001b[0m\u001b[0m\n\u001b[0;32m----> 8\u001b[0;31m     \u001b[0mcagr\u001b[0m\u001b[0;34m[\u001b[0m\u001b[0mticker\u001b[0m\u001b[0;34m]\u001b[0m \u001b[0;34m=\u001b[0m  \u001b[0mCAGR\u001b[0m\u001b[0;34m(\u001b[0m\u001b[0mohlc_dict\u001b[0m\u001b[0;34m[\u001b[0m\u001b[0mticker\u001b[0m\u001b[0;34m]\u001b[0m\u001b[0;34m)\u001b[0m\u001b[0;34m\u001b[0m\u001b[0;34m\u001b[0m\u001b[0m\n\u001b[0m\u001b[1;32m      9\u001b[0m     \u001b[0;32mfor\u001b[0m \u001b[0mi\u001b[0m \u001b[0;32min\u001b[0m \u001b[0mrange\u001b[0m\u001b[0;34m(\u001b[0m\u001b[0mlen\u001b[0m\u001b[0;34m(\u001b[0m\u001b[0mohlcv_database\u001b[0m\u001b[0;34m)\u001b[0m\u001b[0;34m)\u001b[0m\u001b[0;34m:\u001b[0m\u001b[0;34m\u001b[0m\u001b[0;34m\u001b[0m\u001b[0m\n\u001b[1;32m     10\u001b[0m         \u001b[0;32mif\u001b[0m \u001b[0mohlcv_database\u001b[0m\u001b[0;34m[\u001b[0m\u001b[0;34m\"stock\"\u001b[0m\u001b[0;34m]\u001b[0m\u001b[0;34m[\u001b[0m\u001b[0mi\u001b[0m\u001b[0;34m]\u001b[0m\u001b[0;34m==\u001b[0m\u001b[0mticker\u001b[0m\u001b[0;34m:\u001b[0m\u001b[0;34m\u001b[0m\u001b[0;34m\u001b[0m\u001b[0m\n",
      "\u001b[0;31mKeyError\u001b[0m: 'BAJFINANCE.NS'"
     ]
    }
   ],
   "source": [
    "cagr = {}\n",
    "sharpe_ratios = {}\n",
    "max_drawdown = {}\n",
    "win_pcts={}\n",
    "for ticker in tickers:\n",
    "    win=[]\n",
    "    print(\"calculating KPIs for \",ticker)      \n",
    "    cagr[ticker] =  CAGR(ohlc_dict[ticker])\n",
    "    for i in range(len(ohlcv_database)):\n",
    "        if ohlcv_database[\"stock\"][i]==ticker:\n",
    "            \n",
    "            win.append(ohlcv_database[\"profit\"][i])\n",
    "    win_df=pd.DataFrame()\n",
    "    win_df[\"profit\"]=np.array(win)\n",
    "    win_pcts[ticker]=win_pct(win_df)           \n",
    "\n",
    "    sharpe_ratios[ticker] =  sharpe(ohlc_dict[ticker],0.025)\n",
    "    max_drawdown[ticker] =  max_dd(ohlc_dict[ticker])\n",
    "\n",
    "KPI_df = pd.DataFrame([cagr,sharpe_ratios,max_drawdown,win_pcts],index=[\"Return\",\"Sharpe Ratio\",\"Max Drawdown\",\"win_pct\"])      \n",
    "KPI_df.T\n"
   ]
  },
  {
   "cell_type": "code",
   "execution_count": null,
   "metadata": {},
   "outputs": [],
   "source": []
  }
 ]
}