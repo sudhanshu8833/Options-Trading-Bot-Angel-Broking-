{
 "metadata": {
  "language_info": {
   "codemirror_mode": {
    "name": "ipython",
    "version": 3
   },
   "file_extension": ".py",
   "mimetype": "text/x-python",
   "name": "python",
   "nbconvert_exporter": "python",
   "pygments_lexer": "ipython3",
   "version": "3.9.5"
  },
  "orig_nbformat": 2,
  "kernelspec": {
   "name": "python395jvsc74a57bd0aee8b7b246df8f9039afb4144a1f6fd8d2ca17a180786b69acc140d282b71a49",
   "display_name": "Python 3.9.5 64-bit"
  },
  "metadata": {
   "interpreter": {
    "hash": "aee8b7b246df8f9039afb4144a1f6fd8d2ca17a180786b69acc140d282b71a49"
   }
  }
 },
 "nbformat": 4,
 "nbformat_minor": 2,
 "cells": [
  {
   "cell_type": "code",
   "execution_count": 1,
   "metadata": {},
   "outputs": [],
   "source": [
    "\n",
    "import pandas as pd\n",
    "import time\n",
    "from finta import TA\n",
    "from smartapi import SmartWebSocket\n",
    "import numpy as np\n",
    "import pandas as pd\n",
    "import yfinance as yf\n",
    "from alpha_vantage.timeseries import TimeSeries\n",
    "import datetime as dt\n",
    "import copy\n",
    "import json\n",
    "from smartapi import SmartConnect "
   ]
  },
  {
   "cell_type": "code",
   "execution_count": 2,
   "metadata": {},
   "outputs": [],
   "source": [
    "from smartapi import SmartConnect \n",
    "obj=SmartConnect(api_key=\"iJ3YYOXH\")\n",
    "data = obj.generateSession(\"S776051\",\"Madhya246###\")\n",
    "refreshToken= data['data']['refreshToken']\n",
    "feedToken=obj.getfeedToken()\n",
    "userProfile= obj.getProfile(refreshToken)\n"
   ]
  },
  {
   "cell_type": "code",
   "execution_count": 3,
   "metadata": {},
   "outputs": [],
   "source": [
    "from smartapi import SmartWebSocket\n",
    "FEED_TOKEN= feedToken\n",
    "tickers=[\"227182\",\"221599\"]\n",
    "CLIENT_CODE=\"S776051\"\n",
    "token=\"mcx_fo|226745&mcx_fo|220822&mcx_fo|227182&mcx_fo|221599\" #\"nse_cm|2885&nse_cm|1594&nse_cm|11536\"\n",
    "task=\"mw\" #\"mw\"|\"sfi\"|\"dp\"\n",
    "ss =SmartWebSocket(FEED_TOKEN, CLIENT_CODE)\n",
    "\n"
   ]
  },
  {
   "cell_type": "code",
   "execution_count": 4,
   "metadata": {
    "tags": []
   },
   "outputs": [
    {
     "output_type": "stream",
     "name": "stdout",
     "text": [
      "__on_open################\n",
      "{'task': 'cn', 'channel': 'NONLM', 'token': '0945164670', 'user': 'S776051', 'acctid': 'S776051'}\n",
      "2021-06-22 18:23:55.952517 : Start task in the background\n",
      "{'task': 'hb', 'channel': '', 'token': '0945164670', 'user': 'S776051', 'acctid': 'S776051'}\n",
      "on open\n",
      "232.30\n",
      "__on_open################\n",
      "{'task': 'cn', 'channel': 'NONLM', 'token': '0945164670', 'user': 'S776051', 'acctid': 'S776051'}\n",
      "2021-06-22 18:23:57.634592 : Start task in the background\n",
      "{'task': 'hb', 'channel': '', 'token': '0945164670', 'user': 'S776051', 'acctid': 'S776051'}\n",
      "on open\n",
      "67639.00\n"
     ]
    }
   ],
   "source": [
    "\n",
    "\n",
    "\n",
    "ltp=0\n",
    "\n",
    "\n",
    "for ticker in tickers:\n",
    "\n",
    "    def on_message(ws, message):\n",
    "        global ltp,ticker\n",
    "        data=format(message)\n",
    "        # print(data)\n",
    "        data=data.replace(\"'\",'\"')\n",
    "        data=json.loads(data)\n",
    "        if data[0][\"tk\"]==ticker:\n",
    "            ltp=data[0]['ltp']\n",
    "            ws.close()\n",
    "        # print(\"hello\")\n",
    "\n",
    "    def on_open(ws):\n",
    "        print(\"on open\")\n",
    "        ss.subscribe(task,token)\n",
    "        \n",
    "    def on_error(ws, error):\n",
    "        print(error)\n",
    "        \n",
    "    def on_close(ws):\n",
    "        print(\"Close\")\n",
    "\n",
    "    # Assign the callbacks.\n",
    "    ss._on_open = on_open\n",
    "    ss._on_message = on_message\n",
    "    ss._on_error = on_error\n",
    "    ss._on_close = on_close\n",
    "\n",
    "    ss.connect()\n",
    "    print(ltp)"
   ]
  },
  {
   "cell_type": "code",
   "execution_count": 4,
   "metadata": {},
   "outputs": [],
   "source": [
    "tickers=[\"221599\",\"220822\",\"226745\"]\n",
    "def candle(instrument):\n",
    "    ohlc_intraday=pd.DataFrame()\n",
    "\n",
    "    historicParam={\n",
    "    \"exchange\": \"NSE\",\n",
    "    \"symboltoken\": instrument,\n",
    "    \"interval\": \"FIVE_MINUTE\",\n",
    "    \"fromdate\": \"2021-04-08 09:15\", \n",
    "    \"todate\": \"2021-06-15 09:30\"\n",
    "    }\n",
    "\n",
    "    data=obj.getCandleData(historicParam)\n",
    "\n",
    "    data=pd.DataFrame(data)[\"data\"]\n",
    "    open=[]\n",
    "    close=[]\n",
    "    high=[]\n",
    "    low=[]\n",
    "    volume=[]\n",
    "    index=[]\n",
    "\n",
    "    for i in range(len(data)):\n",
    "        open.append(data[i][1])\n",
    "\n",
    "    for i in range(len(data)):\n",
    "        close.append(data[i][4])\n",
    "\n",
    "    for i in range(len(data)):\n",
    "        high.append(data[i][2])\n",
    "\n",
    "    for i in range(len(data)):\n",
    "        low.append(data[i][3])\n",
    "\n",
    "    for i in range(len(data)):\n",
    "        index.append(data[i][0])\n",
    "\n",
    "    for i in range(len(data)):\n",
    "        volume.append(data[i][5])\n",
    "\n",
    "\n",
    "    ohlc_intraday[\"Index\"]=np.array(index)\n",
    "    ohlc_intraday[\"Open\"]=np.array(open)\n",
    "    ohlc_intraday[\"High\"]=np.array(high)\n",
    "    ohlc_intraday[\"Low\"]=np.array(low)\n",
    "\n",
    "    ohlc_intraday[\"Close\"]=np.array(close)\n",
    "    ohlc_intraday[\"Volume\"]=np.array(volume)\n",
    "    ohlc_intraday.set_index(\"Index\",inplace=True)\n",
    "\n",
    "    return ohlc_intraday"
   ]
  },
  {
   "cell_type": "code",
   "execution_count": 6,
   "metadata": {},
   "outputs": [
    {
     "output_type": "execute_result",
     "data": {
      "text/plain": [
       "                            Open   High    Low  Close  Volume\n",
       "Index                                                        \n",
       "2021-04-08T09:15:00+05:30  24.30  24.30  24.30  24.30   12342\n",
       "2021-04-08T09:20:00+05:30  24.30  24.30  24.30  24.30    2861\n",
       "2021-04-08T09:25:00+05:30  24.30  24.30  24.30  24.30    1000\n",
       "2021-04-08T09:30:00+05:30  24.30  24.30  24.30  24.30     200\n",
       "2021-04-08T09:35:00+05:30  24.30  24.30  24.30  24.30    3220\n",
       "...                          ...    ...    ...    ...     ...\n",
       "2021-06-14T15:25:00+05:30  23.30  23.55  23.30  23.40     823\n",
       "2021-06-15T09:15:00+05:30  23.90  23.90  23.00  23.50    1348\n",
       "2021-06-15T09:20:00+05:30  23.45  23.45  23.35  23.35     251\n",
       "2021-06-15T09:25:00+05:30  23.35  23.35  23.35  23.35     110\n",
       "2021-06-15T09:30:00+05:30  23.35  23.35  23.20  23.25    1153\n",
       "\n",
       "[2284 rows x 5 columns]"
      ],
      "text/html": "<div>\n<style scoped>\n    .dataframe tbody tr th:only-of-type {\n        vertical-align: middle;\n    }\n\n    .dataframe tbody tr th {\n        vertical-align: top;\n    }\n\n    .dataframe thead th {\n        text-align: right;\n    }\n</style>\n<table border=\"1\" class=\"dataframe\">\n  <thead>\n    <tr style=\"text-align: right;\">\n      <th></th>\n      <th>Open</th>\n      <th>High</th>\n      <th>Low</th>\n      <th>Close</th>\n      <th>Volume</th>\n    </tr>\n    <tr>\n      <th>Index</th>\n      <th></th>\n      <th></th>\n      <th></th>\n      <th></th>\n      <th></th>\n    </tr>\n  </thead>\n  <tbody>\n    <tr>\n      <th>2021-04-08T09:15:00+05:30</th>\n      <td>24.30</td>\n      <td>24.30</td>\n      <td>24.30</td>\n      <td>24.30</td>\n      <td>12342</td>\n    </tr>\n    <tr>\n      <th>2021-04-08T09:20:00+05:30</th>\n      <td>24.30</td>\n      <td>24.30</td>\n      <td>24.30</td>\n      <td>24.30</td>\n      <td>2861</td>\n    </tr>\n    <tr>\n      <th>2021-04-08T09:25:00+05:30</th>\n      <td>24.30</td>\n      <td>24.30</td>\n      <td>24.30</td>\n      <td>24.30</td>\n      <td>1000</td>\n    </tr>\n    <tr>\n      <th>2021-04-08T09:30:00+05:30</th>\n      <td>24.30</td>\n      <td>24.30</td>\n      <td>24.30</td>\n      <td>24.30</td>\n      <td>200</td>\n    </tr>\n    <tr>\n      <th>2021-04-08T09:35:00+05:30</th>\n      <td>24.30</td>\n      <td>24.30</td>\n      <td>24.30</td>\n      <td>24.30</td>\n      <td>3220</td>\n    </tr>\n    <tr>\n      <th>...</th>\n      <td>...</td>\n      <td>...</td>\n      <td>...</td>\n      <td>...</td>\n      <td>...</td>\n    </tr>\n    <tr>\n      <th>2021-06-14T15:25:00+05:30</th>\n      <td>23.30</td>\n      <td>23.55</td>\n      <td>23.30</td>\n      <td>23.40</td>\n      <td>823</td>\n    </tr>\n    <tr>\n      <th>2021-06-15T09:15:00+05:30</th>\n      <td>23.90</td>\n      <td>23.90</td>\n      <td>23.00</td>\n      <td>23.50</td>\n      <td>1348</td>\n    </tr>\n    <tr>\n      <th>2021-06-15T09:20:00+05:30</th>\n      <td>23.45</td>\n      <td>23.45</td>\n      <td>23.35</td>\n      <td>23.35</td>\n      <td>251</td>\n    </tr>\n    <tr>\n      <th>2021-06-15T09:25:00+05:30</th>\n      <td>23.35</td>\n      <td>23.35</td>\n      <td>23.35</td>\n      <td>23.35</td>\n      <td>110</td>\n    </tr>\n    <tr>\n      <th>2021-06-15T09:30:00+05:30</th>\n      <td>23.35</td>\n      <td>23.35</td>\n      <td>23.20</td>\n      <td>23.25</td>\n      <td>1153</td>\n    </tr>\n  </tbody>\n</table>\n<p>2284 rows × 5 columns</p>\n</div>"
     },
     "metadata": {},
     "execution_count": 6
    }
   ],
   "source": [
    "candle(\"11032\")"
   ]
  },
  {
   "cell_type": "code",
   "execution_count": null,
   "metadata": {},
   "outputs": [],
   "source": []
  }
 ]
}