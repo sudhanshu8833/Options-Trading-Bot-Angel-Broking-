{
 "metadata": {
  "language_info": {
   "codemirror_mode": {
    "name": "ipython",
    "version": 3
   },
   "file_extension": ".py",
   "mimetype": "text/x-python",
   "name": "python",
   "nbconvert_exporter": "python",
   "pygments_lexer": "ipython3",
   "version": "3.9.5"
  },
  "orig_nbformat": 2,
  "kernelspec": {
   "name": "python395jvsc74a57bd0aee8b7b246df8f9039afb4144a1f6fd8d2ca17a180786b69acc140d282b71a49",
   "display_name": "Python 3.9.5 64-bit"
  },
  "metadata": {
   "interpreter": {
    "hash": "aee8b7b246df8f9039afb4144a1f6fd8d2ca17a180786b69acc140d282b71a49"
   }
  }
 },
 "nbformat": 4,
 "nbformat_minor": 2,
 "cells": [
  {
   "cell_type": "code",
   "execution_count": 1,
   "metadata": {},
   "outputs": [
    {
     "output_type": "stream",
     "name": "stdout",
     "text": [
      " 20:53:00 | Logged in!!\n"
     ]
    }
   ],
   "source": [
    "import pandas as pd\n",
    "import time\n",
    "from finta import TA\n",
    "import numpy as np\n",
    "import pandas as pd\n",
    "import datetime as dt\n",
    "import copy\n",
    "import json\n",
    "from py5paisa import FivePaisaClient\n",
    "\n",
    "client = FivePaisaClient(email=\"sudhanshu8833@gmail.com\", passwd=\"Madhya246###\", dob=\"20010626\")\n",
    "client.login()\n"
   ]
  },
  {
   "cell_type": "code",
   "execution_count": null,
   "metadata": {},
   "outputs": [],
   "source": []
  },
  {
   "cell_type": "code",
   "execution_count": 2,
   "metadata": {},
   "outputs": [],
   "source": [
    "tickers={\"999920005\":\"BANKNIFTY\"}"
   ]
  },
  {
   "cell_type": "code",
   "execution_count": null,
   "metadata": {},
   "outputs": [],
   "source": []
  },
  {
   "cell_type": "code",
   "execution_count": 3,
   "metadata": {},
   "outputs": [
    {
     "output_type": "stream",
     "name": "stdout",
     "text": [
      "getting data for:  BANKNIFTY\n"
     ]
    }
   ],
   "source": [
    "ohlc_intraday={}\n",
    "for ticker in tickers:\n",
    "    print(\"getting data for: \",tickers[ticker])\n",
    "    df=client.historical_data('N','C',int(ticker),'5m','2021-05-05','2021-06-05')\n",
    "    df.set_index(\"Datetime\",inplace=True)\n",
    "    \n",
    "    ohlc_intraday[ticker]=df\n",
    "\n",
    "\n",
    "  "
   ]
  },
  {
   "cell_type": "code",
   "execution_count": 4,
   "metadata": {},
   "outputs": [
    {
     "output_type": "execute_result",
     "data": {
      "text/plain": [
       "{'999920005':                          Open      High       Low     Close  Volume\n",
       " Datetime                                                           \n",
       " 2021-05-05T09:15:00  32577.10  32602.30  32440.00  32533.30       0\n",
       " 2021-05-05T09:20:00  32539.05  32554.90  32402.85  32427.80       0\n",
       " 2021-05-05T09:25:00  32427.85  32495.55  32418.40  32463.90       0\n",
       " 2021-05-05T09:30:00  32466.35  32542.55  32462.05  32481.70       0\n",
       " 2021-05-05T09:35:00  32486.75  32560.90  32482.70  32484.05       0\n",
       " ...                       ...       ...       ...       ...     ...\n",
       " 2021-06-04T15:10:00  35265.30  35297.45  35263.75  35285.40       0\n",
       " 2021-06-04T15:15:00  35288.40  35314.00  35277.70  35285.15       0\n",
       " 2021-06-04T15:20:00  35279.90  35333.10  35279.90  35325.95       0\n",
       " 2021-06-04T15:25:00  35325.50  35347.85  35325.50  35343.50       0\n",
       " 2021-06-04T15:30:00  35343.50  35343.50  35343.50  35343.50       0\n",
       " \n",
       " [1672 rows x 5 columns]}"
      ]
     },
     "metadata": {},
     "execution_count": 4
    }
   ],
   "source": [
    "ohlc_intraday"
   ]
  },
  {
   "cell_type": "code",
   "execution_count": 5,
   "metadata": {},
   "outputs": [],
   "source": [
    "ohlc_dict=copy.deepcopy(ohlc_intraday)"
   ]
  },
  {
   "cell_type": "code",
   "execution_count": 6,
   "metadata": {},
   "outputs": [],
   "source": [
    "def MACD(DF,a,b,c):\n",
    "    \"\"\"function to calculate MACD\n",
    "       typical values a = 12; b =26, c =9\"\"\"\n",
    "    df = DF.copy()\n",
    "    df[\"MA_Fast\"]=df[\"close\"].ewm(span=a,min_periods=a).mean()\n",
    "    df[\"MA_Slow\"]=df[\"close\"].ewm(span=b,min_periods=b).mean()\n",
    "    df[\"MACD\"]=df[\"MA_Fast\"]-df[\"MA_Slow\"]\n",
    "    df[\"Signal\"]=df[\"MACD\"].ewm(span=c,min_periods=c).mean()\n",
    "    df.dropna(inplace=True)\n",
    "    df.drop([\"MA_Fast\",\"MA_Slow\"],axis=1)\n",
    "    return df\n",
    "\n",
    "\n",
    "def CAGR(DF):\n",
    "    \"function to calculate the Cumulative Annual Growth Rate of a trading strategy\"\n",
    "    df = DF.copy()\n",
    "    df[\"cum_return\"] = (1 + df[\"ret\"]).cumprod()\n",
    "    n = len(df)/(252*74)\n",
    "    CAGR = (df[\"cum_return\"].tolist()[-1])**(1/n) - 1\n",
    "    return CAGR\n",
    "\n",
    "def volatility(DF):\n",
    "    \"function to calculate annualized volatility of a trading strategy\"\n",
    "    df = DF.copy()\n",
    "    vol = df[\"ret\"].std() * np.sqrt(252*74)\n",
    "    return vol\n",
    "\n",
    "def sharpe(DF,rf):\n",
    "    \"function to calculate sharpe ratio ; rf is the risk free rate\"\n",
    "    df = DF.copy()\n",
    "    sr = (CAGR(df) - rf)/volatility(df)\n",
    "    return sr\n",
    "    \n",
    "\n",
    "def max_dd(DF):\n",
    "    \"function to calculate max drawdown\"\n",
    "    df = DF.copy()\n",
    "    df[\"cum_return\"] = (1 + df[\"ret\"]).cumprod()\n",
    "    df[\"cum_roll_max\"] = df[\"cum_return\"].cummax()\n",
    "    df[\"drawdown\"] = df[\"cum_roll_max\"] - df[\"cum_return\"]\n",
    "    df[\"drawdown_pct\"] = df[\"drawdown\"]/df[\"cum_roll_max\"]\n",
    "    max_dd = df[\"drawdown_pct\"].max()\n",
    "    return max_dd\n",
    "\n",
    "def win_pct(DF):\n",
    "    df=DF.copy()\n",
    "    j=0\n",
    "    for i in range(len(df)):\n",
    "        if df[\"profit\"][i]>0:\n",
    "            j+=1\n",
    "\n",
    "    win_percent=j/len(df)*100\n",
    "\n",
    "    return win_percent\n",
    "            \n"
   ]
  },
  {
   "cell_type": "code",
   "execution_count": 7,
   "metadata": {},
   "outputs": [],
   "source": [
    "tickers_signal = {}\n",
    "ticker_ret = {}"
   ]
  },
  {
   "cell_type": "code",
   "execution_count": 8,
   "metadata": {},
   "outputs": [],
   "source": [
    "for ticker in tickers:\n",
    "\n",
    "    ohlc_dict[ticker].columns=[\"open\",\"high\",\"low\",\"close\",\"volume\"]\n",
    "    ohlc_dict[ticker][\"fisher 20\"]=TA.FISH(ohlc_dict[ticker],20)\n",
    "    ohlc_dict[ticker][\"fisher 10\"]=TA.FISH(ohlc_dict[ticker],10)    \n",
    "    ohlc_dict[ticker][\"RSI 16\"]=TA.RSI(ohlc_dict[ticker],16)\n",
    "    ohlc_dict[ticker][\"RSI 21\"]=TA.RSI(ohlc_dict[ticker],21)\n",
    "    ohlc_dict[ticker][\"MACD macd line\"]=MACD(ohlc_dict[ticker],12,26,9)[\"MACD\"]\n",
    "    ohlc_dict[ticker][\"MACD signal line\"]=MACD(ohlc_dict[ticker],12,26,9)[\"Signal\"]\n",
    "    \n",
    "    ohlc_dict[ticker].dropna(inplace=True)\n",
    "    "
   ]
  },
  {
   "cell_type": "code",
   "execution_count": 9,
   "metadata": {},
   "outputs": [],
   "source": [
    "ticker_signal={}\n",
    "ticker_ret={}\n",
    "ohlc_database={}\n",
    "price_in=[]\n",
    "price_out=[]\n",
    "order=[]\n",
    "stock=[]\n"
   ]
  },
  {
   "cell_type": "code",
   "execution_count": 10,
   "metadata": {},
   "outputs": [],
   "source": [
    "for ticker in tickers:\n",
    "    ticker_signal[ticker]=[]\n",
    "    ticker_ret[ticker]=[]\n",
    "    ohlc_database[ticker]=pd.DataFrame()\n",
    "\n",
    "    ohlc_dict[ticker].rename(columns={\"open\":\"Open\",\"high\":\"High\",\"low\":\"Low\",\"close\":\"Close\",\"volume\":\"Volume\"},inplace=True)\n",
    "    \n",
    "for ticker in tickers:\n",
    "    signal=\"\"\n",
    "    for i in range(len(ohlc_dict[ticker])):\n",
    "        if signal==\"\":\n",
    "            if ohlc_dict[ticker][\"fisher 10\"][i]>0 and ohlc_dict[ticker][\"fisher 10\"][i-1]<0 and ohlc_dict[ticker][\"RSI 16\"][i]>50: \n",
    "                signal=\"buy\"\n",
    "                price=ohlc_dict[ticker][\"Close\"][i]\n",
    "                price_in.append(ohlc_dict[ticker][\"Close\"][i])\n",
    "                \n",
    "                order.append(\"long\")\n",
    "                stock.append(ticker)\n",
    "\n",
    "                \n",
    "               \n",
    "\n",
    "\n",
    "\n",
    "            elif (ohlc_dict[ticker][\"fisher 20\"][i]<0 and ohlc_dict[ticker][\"fisher 20\"][i-1]>0) and ohlc_dict[ticker][\"MACD macd line\"][i]<ohlc_dict[ticker][\"MACD signal line\"][i] and ohlc_dict[ticker][\"RSI 21\"][i]<42.5:\n",
    "                signal=\"sell\"\n",
    "                price=ohlc_dict[ticker][\"Close\"][i]\n",
    "                \n",
    "                price_in.append(ohlc_dict[ticker][\"Close\"][i])\n",
    "                \n",
    "                order.append(\"short\")\n",
    "                stock.append(ticker)                \n",
    "            ticker_ret[ticker].append(0)\n",
    "\n",
    "        elif signal==\"buy\":\n",
    "            if (ohlc_dict[ticker][\"fisher 20\"][i]<0.5 and ohlc_dict[ticker][\"fisher 20\"][i-1]>0.5) or ohlc_dict[ticker][\"Close\"][i]>=price+.02*price or ohlc_dict[ticker][\"Close\"][i]<=price-.008*price:\n",
    "\n",
    "                signal=\"\"\n",
    "                price_out.append(ohlc_dict[ticker][\"Close\"][i])\n",
    "                ticker_ret[ticker].append((ohlc_dict[ticker][\"Close\"][i]/ohlc_dict[ticker][\"Close\"][i-1])-1)\n",
    "\n",
    "            \n",
    "            \n",
    "            else:\n",
    "                ticker_ret[ticker].append((ohlc_dict[ticker][\"Close\"][i]/ohlc_dict[ticker][\"Close\"][i-1])-1)\n",
    "           \n",
    "        \n",
    "        \n",
    "        elif signal==\"sell\":\n",
    "            if (ohlc_dict[ticker][\"fisher 20\"][i]>-1 and ohlc_dict[ticker][\"fisher 20\"][i-1]<-1) or (ohlc_dict[ticker][\"fisher 20\"][i]>0 and ohlc_dict[ticker][\"fisher 20\"][i-1]<0) or ohlc_dict[ticker][\"Close\"][i]<=price +.02*price or ohlc_dict[ticker][\"Close\"][i]>=price-.005*price:\n",
    "                price_out.append(ohlc_dict[ticker][\"Close\"][i])\n",
    "\n",
    "                signal=\"\"\n",
    "                ticker_ret[ticker].append((ohlc_dict[ticker][\"Close\"][i-1]/ohlc_dict[ticker][\"Close\"][i])-1)\n",
    "\n",
    "          \n",
    "            \n",
    "            else:\n",
    "                ticker_ret[ticker].append((ohlc_dict[ticker][\"Close\"][i-1]/ohlc_dict[ticker][\"Close\"][i])-1)\n",
    "    if len(price_in)!=len(price_out):\n",
    "        price_out.append(ohlc_dict[ticker][\"Close\"][-1])\n",
    "    ohlc_dict[ticker][\"ret\"] = np.array(ticker_ret[ticker])    "
   ]
  },
  {
   "cell_type": "code",
   "execution_count": 11,
   "metadata": {},
   "outputs": [],
   "source": [
    "ohlcv_database=pd.DataFrame()\n",
    "\n",
    "ohlcv_database[\"price_in\"]=np.array(price_in)\n",
    "ohlcv_database[\"price_out\"]=np.array(price_out)\n",
    "ohlcv_database[\"order\"]=np.array(order)\n",
    "ohlcv_database[\"stock\"]=np.array(stock)"
   ]
  },
  {
   "cell_type": "code",
   "execution_count": 12,
   "metadata": {},
   "outputs": [],
   "source": [
    "profit=[]\n",
    "for i in range(len(ohlcv_database)):\n",
    "    if ohlcv_database[\"order\"][i]==\"long\":\n",
    "        profit.append(((ohlcv_database[\"price_out\"][i]-ohlcv_database[\"price_in\"][i])/ohlcv_database[\"price_in\"][i])*100)\n",
    "\n",
    "    elif ohlcv_database[\"order\"][i]==\"short\":\n",
    "        profit.append(((ohlcv_database[\"price_in\"][i]-ohlcv_database[\"price_out\"][i])/ohlcv_database[\"price_out\"][i])*100)\n",
    "\n",
    "ohlcv_database[\"profit\"]=np.array(profit)"
   ]
  },
  {
   "cell_type": "code",
   "execution_count": 13,
   "metadata": {},
   "outputs": [
    {
     "output_type": "execute_result",
     "data": {
      "text/plain": [
       "    price_in  price_out  order      stock    profit\n",
       "0   32739.65   32586.50   long  999920005 -0.467781\n",
       "1   32723.05   32737.65   long  999920005  0.044617\n",
       "2   32714.55   32786.10   long  999920005  0.218710\n",
       "3   32886.50   32978.45   long  999920005  0.279598\n",
       "4   33030.15   32887.20   long  999920005 -0.432786\n",
       "5   33181.55   33204.85   long  999920005  0.070220\n",
       "6   33243.40   33125.50   long  999920005 -0.354657\n",
       "7   33191.50   32721.05   long  999920005 -1.417381\n",
       "8   32766.70   32778.65  short  999920005 -0.036457\n",
       "9   32662.25   32679.85  short  999920005 -0.053856\n",
       "10  32587.50   32614.30   long  999920005  0.082240\n",
       "11  32632.25   32554.35   long  999920005 -0.238721\n",
       "12  32469.40   32391.90  short  999920005  0.239257\n",
       "13  32547.80   32424.85   long  999920005 -0.377752\n",
       "14  32154.95   32167.30  short  999920005 -0.038393\n",
       "15  32285.15   32946.25   long  999920005  2.047691\n",
       "16  33171.35   34014.20   long  999920005  2.540897\n",
       "17  33959.00   33981.45   long  999920005  0.066109\n",
       "18  34001.70   33950.70   long  999920005 -0.149993\n",
       "19  33955.35   33788.05   long  999920005 -0.492706\n",
       "20  33729.40   33731.25  short  999920005 -0.005485\n",
       "21  33744.15   33643.70   long  999920005 -0.297681\n",
       "22  33742.80   33443.35   long  999920005 -0.887449\n",
       "23  33697.60   34075.95   long  999920005  1.122780\n",
       "24  34098.20   35056.20   long  999920005  2.809532\n",
       "25  34834.85   34810.20   long  999920005 -0.070762\n",
       "26  34868.10   34867.90   long  999920005 -0.000574\n",
       "27  34621.65   34525.25   long  999920005 -0.278438\n",
       "28  34617.35   34782.95   long  999920005  0.478373\n",
       "29  34793.95   34771.05   long  999920005 -0.065816\n",
       "30  34800.35   34811.55   long  999920005  0.032184\n",
       "31  35012.50   35265.75   long  999920005  0.723313\n",
       "32  35253.25   35157.70   long  999920005 -0.271039\n",
       "33  35222.65   35130.15   long  999920005 -0.262615\n",
       "34  35203.70   35335.05   long  999920005  0.373114\n",
       "35  35316.85   35389.05   long  999920005  0.204435\n",
       "36  35490.35   35424.45   long  999920005 -0.185684\n",
       "37  35383.20   35327.45   long  999920005 -0.157561\n",
       "38  35192.70   35163.75   long  999920005 -0.082261\n",
       "39  35191.80   35476.95   long  999920005  0.810274\n",
       "40  35538.05   35508.95   long  999920005 -0.081884\n",
       "41  35578.40   35557.75   long  999920005 -0.058041\n",
       "42  35712.20   35620.05   long  999920005 -0.258035\n",
       "43  35515.95   35546.40  short  999920005 -0.085663"
      ],
      "text/html": "<div>\n<style scoped>\n    .dataframe tbody tr th:only-of-type {\n        vertical-align: middle;\n    }\n\n    .dataframe tbody tr th {\n        vertical-align: top;\n    }\n\n    .dataframe thead th {\n        text-align: right;\n    }\n</style>\n<table border=\"1\" class=\"dataframe\">\n  <thead>\n    <tr style=\"text-align: right;\">\n      <th></th>\n      <th>price_in</th>\n      <th>price_out</th>\n      <th>order</th>\n      <th>stock</th>\n      <th>profit</th>\n    </tr>\n  </thead>\n  <tbody>\n    <tr>\n      <th>0</th>\n      <td>32739.65</td>\n      <td>32586.50</td>\n      <td>long</td>\n      <td>999920005</td>\n      <td>-0.467781</td>\n    </tr>\n    <tr>\n      <th>1</th>\n      <td>32723.05</td>\n      <td>32737.65</td>\n      <td>long</td>\n      <td>999920005</td>\n      <td>0.044617</td>\n    </tr>\n    <tr>\n      <th>2</th>\n      <td>32714.55</td>\n      <td>32786.10</td>\n      <td>long</td>\n      <td>999920005</td>\n      <td>0.218710</td>\n    </tr>\n    <tr>\n      <th>3</th>\n      <td>32886.50</td>\n      <td>32978.45</td>\n      <td>long</td>\n      <td>999920005</td>\n      <td>0.279598</td>\n    </tr>\n    <tr>\n      <th>4</th>\n      <td>33030.15</td>\n      <td>32887.20</td>\n      <td>long</td>\n      <td>999920005</td>\n      <td>-0.432786</td>\n    </tr>\n    <tr>\n      <th>5</th>\n      <td>33181.55</td>\n      <td>33204.85</td>\n      <td>long</td>\n      <td>999920005</td>\n      <td>0.070220</td>\n    </tr>\n    <tr>\n      <th>6</th>\n      <td>33243.40</td>\n      <td>33125.50</td>\n      <td>long</td>\n      <td>999920005</td>\n      <td>-0.354657</td>\n    </tr>\n    <tr>\n      <th>7</th>\n      <td>33191.50</td>\n      <td>32721.05</td>\n      <td>long</td>\n      <td>999920005</td>\n      <td>-1.417381</td>\n    </tr>\n    <tr>\n      <th>8</th>\n      <td>32766.70</td>\n      <td>32778.65</td>\n      <td>short</td>\n      <td>999920005</td>\n      <td>-0.036457</td>\n    </tr>\n    <tr>\n      <th>9</th>\n      <td>32662.25</td>\n      <td>32679.85</td>\n      <td>short</td>\n      <td>999920005</td>\n      <td>-0.053856</td>\n    </tr>\n    <tr>\n      <th>10</th>\n      <td>32587.50</td>\n      <td>32614.30</td>\n      <td>long</td>\n      <td>999920005</td>\n      <td>0.082240</td>\n    </tr>\n    <tr>\n      <th>11</th>\n      <td>32632.25</td>\n      <td>32554.35</td>\n      <td>long</td>\n      <td>999920005</td>\n      <td>-0.238721</td>\n    </tr>\n    <tr>\n      <th>12</th>\n      <td>32469.40</td>\n      <td>32391.90</td>\n      <td>short</td>\n      <td>999920005</td>\n      <td>0.239257</td>\n    </tr>\n    <tr>\n      <th>13</th>\n      <td>32547.80</td>\n      <td>32424.85</td>\n      <td>long</td>\n      <td>999920005</td>\n      <td>-0.377752</td>\n    </tr>\n    <tr>\n      <th>14</th>\n      <td>32154.95</td>\n      <td>32167.30</td>\n      <td>short</td>\n      <td>999920005</td>\n      <td>-0.038393</td>\n    </tr>\n    <tr>\n      <th>15</th>\n      <td>32285.15</td>\n      <td>32946.25</td>\n      <td>long</td>\n      <td>999920005</td>\n      <td>2.047691</td>\n    </tr>\n    <tr>\n      <th>16</th>\n      <td>33171.35</td>\n      <td>34014.20</td>\n      <td>long</td>\n      <td>999920005</td>\n      <td>2.540897</td>\n    </tr>\n    <tr>\n      <th>17</th>\n      <td>33959.00</td>\n      <td>33981.45</td>\n      <td>long</td>\n      <td>999920005</td>\n      <td>0.066109</td>\n    </tr>\n    <tr>\n      <th>18</th>\n      <td>34001.70</td>\n      <td>33950.70</td>\n      <td>long</td>\n      <td>999920005</td>\n      <td>-0.149993</td>\n    </tr>\n    <tr>\n      <th>19</th>\n      <td>33955.35</td>\n      <td>33788.05</td>\n      <td>long</td>\n      <td>999920005</td>\n      <td>-0.492706</td>\n    </tr>\n    <tr>\n      <th>20</th>\n      <td>33729.40</td>\n      <td>33731.25</td>\n      <td>short</td>\n      <td>999920005</td>\n      <td>-0.005485</td>\n    </tr>\n    <tr>\n      <th>21</th>\n      <td>33744.15</td>\n      <td>33643.70</td>\n      <td>long</td>\n      <td>999920005</td>\n      <td>-0.297681</td>\n    </tr>\n    <tr>\n      <th>22</th>\n      <td>33742.80</td>\n      <td>33443.35</td>\n      <td>long</td>\n      <td>999920005</td>\n      <td>-0.887449</td>\n    </tr>\n    <tr>\n      <th>23</th>\n      <td>33697.60</td>\n      <td>34075.95</td>\n      <td>long</td>\n      <td>999920005</td>\n      <td>1.122780</td>\n    </tr>\n    <tr>\n      <th>24</th>\n      <td>34098.20</td>\n      <td>35056.20</td>\n      <td>long</td>\n      <td>999920005</td>\n      <td>2.809532</td>\n    </tr>\n    <tr>\n      <th>25</th>\n      <td>34834.85</td>\n      <td>34810.20</td>\n      <td>long</td>\n      <td>999920005</td>\n      <td>-0.070762</td>\n    </tr>\n    <tr>\n      <th>26</th>\n      <td>34868.10</td>\n      <td>34867.90</td>\n      <td>long</td>\n      <td>999920005</td>\n      <td>-0.000574</td>\n    </tr>\n    <tr>\n      <th>27</th>\n      <td>34621.65</td>\n      <td>34525.25</td>\n      <td>long</td>\n      <td>999920005</td>\n      <td>-0.278438</td>\n    </tr>\n    <tr>\n      <th>28</th>\n      <td>34617.35</td>\n      <td>34782.95</td>\n      <td>long</td>\n      <td>999920005</td>\n      <td>0.478373</td>\n    </tr>\n    <tr>\n      <th>29</th>\n      <td>34793.95</td>\n      <td>34771.05</td>\n      <td>long</td>\n      <td>999920005</td>\n      <td>-0.065816</td>\n    </tr>\n    <tr>\n      <th>30</th>\n      <td>34800.35</td>\n      <td>34811.55</td>\n      <td>long</td>\n      <td>999920005</td>\n      <td>0.032184</td>\n    </tr>\n    <tr>\n      <th>31</th>\n      <td>35012.50</td>\n      <td>35265.75</td>\n      <td>long</td>\n      <td>999920005</td>\n      <td>0.723313</td>\n    </tr>\n    <tr>\n      <th>32</th>\n      <td>35253.25</td>\n      <td>35157.70</td>\n      <td>long</td>\n      <td>999920005</td>\n      <td>-0.271039</td>\n    </tr>\n    <tr>\n      <th>33</th>\n      <td>35222.65</td>\n      <td>35130.15</td>\n      <td>long</td>\n      <td>999920005</td>\n      <td>-0.262615</td>\n    </tr>\n    <tr>\n      <th>34</th>\n      <td>35203.70</td>\n      <td>35335.05</td>\n      <td>long</td>\n      <td>999920005</td>\n      <td>0.373114</td>\n    </tr>\n    <tr>\n      <th>35</th>\n      <td>35316.85</td>\n      <td>35389.05</td>\n      <td>long</td>\n      <td>999920005</td>\n      <td>0.204435</td>\n    </tr>\n    <tr>\n      <th>36</th>\n      <td>35490.35</td>\n      <td>35424.45</td>\n      <td>long</td>\n      <td>999920005</td>\n      <td>-0.185684</td>\n    </tr>\n    <tr>\n      <th>37</th>\n      <td>35383.20</td>\n      <td>35327.45</td>\n      <td>long</td>\n      <td>999920005</td>\n      <td>-0.157561</td>\n    </tr>\n    <tr>\n      <th>38</th>\n      <td>35192.70</td>\n      <td>35163.75</td>\n      <td>long</td>\n      <td>999920005</td>\n      <td>-0.082261</td>\n    </tr>\n    <tr>\n      <th>39</th>\n      <td>35191.80</td>\n      <td>35476.95</td>\n      <td>long</td>\n      <td>999920005</td>\n      <td>0.810274</td>\n    </tr>\n    <tr>\n      <th>40</th>\n      <td>35538.05</td>\n      <td>35508.95</td>\n      <td>long</td>\n      <td>999920005</td>\n      <td>-0.081884</td>\n    </tr>\n    <tr>\n      <th>41</th>\n      <td>35578.40</td>\n      <td>35557.75</td>\n      <td>long</td>\n      <td>999920005</td>\n      <td>-0.058041</td>\n    </tr>\n    <tr>\n      <th>42</th>\n      <td>35712.20</td>\n      <td>35620.05</td>\n      <td>long</td>\n      <td>999920005</td>\n      <td>-0.258035</td>\n    </tr>\n    <tr>\n      <th>43</th>\n      <td>35515.95</td>\n      <td>35546.40</td>\n      <td>short</td>\n      <td>999920005</td>\n      <td>-0.085663</td>\n    </tr>\n  </tbody>\n</table>\n</div>"
     },
     "metadata": {},
     "execution_count": 13
    }
   ],
   "source": [
    "ohlcv_database"
   ]
  },
  {
   "cell_type": "code",
   "execution_count": 14,
   "metadata": {},
   "outputs": [
    {
     "output_type": "execute_result",
     "data": {
      "text/plain": [
       "0.7475143477864385"
      ]
     },
     "metadata": {},
     "execution_count": 14
    }
   ],
   "source": [
    "strategy_df = pd.DataFrame()\n",
    "for ticker in tickers:\n",
    "    strategy_df[ticker] = ohlc_dict[ticker][\"ret\"]\n",
    "strategy_df[\"ret\"] = strategy_df.mean(axis=1)\n",
    "CAGR(strategy_df)\n",
    "\n"
   ]
  },
  {
   "cell_type": "code",
   "execution_count": 15,
   "metadata": {},
   "outputs": [
    {
     "output_type": "execute_result",
     "data": {
      "text/plain": [
       "<AxesSubplot:xlabel='Datetime'>"
      ]
     },
     "metadata": {},
     "execution_count": 15
    },
    {
     "output_type": "display_data",
     "data": {
      "text/plain": "<Figure size 432x288 with 1 Axes>",
      "image/svg+xml": "<?xml version=\"1.0\" encoding=\"utf-8\" standalone=\"no\"?>\n<!DOCTYPE svg PUBLIC \"-//W3C//DTD SVG 1.1//EN\"\n  \"http://www.w3.org/Graphics/SVG/1.1/DTD/svg11.dtd\">\n<svg height=\"262.19625pt\" version=\"1.1\" viewBox=\"0 0 402.257216 262.19625\" width=\"402.257216pt\" xmlns=\"http://www.w3.org/2000/svg\" xmlns:xlink=\"http://www.w3.org/1999/xlink\">\n <metadata>\n  <rdf:RDF xmlns:cc=\"http://creativecommons.org/ns#\" xmlns:dc=\"http://purl.org/dc/elements/1.1/\" xmlns:rdf=\"http://www.w3.org/1999/02/22-rdf-syntax-ns#\">\n   <cc:Work>\n    <dc:type rdf:resource=\"http://purl.org/dc/dcmitype/StillImage\"/>\n    <dc:date>2021-06-24T20:53:02.594144</dc:date>\n    <dc:format>image/svg+xml</dc:format>\n    <dc:creator>\n     <cc:Agent>\n      <dc:title>Matplotlib v3.4.2, https://matplotlib.org/</dc:title>\n     </cc:Agent>\n    </dc:creator>\n   </cc:Work>\n  </rdf:RDF>\n </metadata>\n <defs>\n  <style type=\"text/css\">*{stroke-linecap:butt;stroke-linejoin:round;}</style>\n </defs>\n <g id=\"figure_1\">\n  <g id=\"patch_1\">\n   <path d=\"M 0 262.19625 \nL 402.257216 262.19625 \nL 402.257216 0 \nL 0 0 \nz\n\" style=\"fill:none;\"/>\n  </g>\n  <g id=\"axes_1\">\n   <g id=\"patch_2\">\n    <path d=\"M 46.549787 224.64 \nL 381.349787 224.64 \nL 381.349787 7.2 \nL 46.549787 7.2 \nz\n\" style=\"fill:#ffffff;\"/>\n   </g>\n   <g id=\"matplotlib.axis_1\">\n    <g id=\"xtick_1\">\n     <g id=\"line2d_1\">\n      <defs>\n       <path d=\"M 0 0 \nL 0 3.5 \n\" id=\"m005144f257\" style=\"stroke:#000000;stroke-width:0.8;\"/>\n      </defs>\n      <g>\n       <use style=\"stroke:#000000;stroke-width:0.8;\" x=\"61.767969\" xlink:href=\"#m005144f257\" y=\"224.64\"/>\n      </g>\n     </g>\n     <g id=\"text_1\">\n      <!-- 2021-05-05T12:00:00 -->\n      <g transform=\"translate(7.2 239.238438)scale(0.1 -0.1)\">\n       <defs>\n        <path d=\"M 1228 531 \nL 3431 531 \nL 3431 0 \nL 469 0 \nL 469 531 \nQ 828 903 1448 1529 \nQ 2069 2156 2228 2338 \nQ 2531 2678 2651 2914 \nQ 2772 3150 2772 3378 \nQ 2772 3750 2511 3984 \nQ 2250 4219 1831 4219 \nQ 1534 4219 1204 4116 \nQ 875 4013 500 3803 \nL 500 4441 \nQ 881 4594 1212 4672 \nQ 1544 4750 1819 4750 \nQ 2544 4750 2975 4387 \nQ 3406 4025 3406 3419 \nQ 3406 3131 3298 2873 \nQ 3191 2616 2906 2266 \nQ 2828 2175 2409 1742 \nQ 1991 1309 1228 531 \nz\n\" id=\"DejaVuSans-32\" transform=\"scale(0.015625)\"/>\n        <path d=\"M 2034 4250 \nQ 1547 4250 1301 3770 \nQ 1056 3291 1056 2328 \nQ 1056 1369 1301 889 \nQ 1547 409 2034 409 \nQ 2525 409 2770 889 \nQ 3016 1369 3016 2328 \nQ 3016 3291 2770 3770 \nQ 2525 4250 2034 4250 \nz\nM 2034 4750 \nQ 2819 4750 3233 4129 \nQ 3647 3509 3647 2328 \nQ 3647 1150 3233 529 \nQ 2819 -91 2034 -91 \nQ 1250 -91 836 529 \nQ 422 1150 422 2328 \nQ 422 3509 836 4129 \nQ 1250 4750 2034 4750 \nz\n\" id=\"DejaVuSans-30\" transform=\"scale(0.015625)\"/>\n        <path d=\"M 794 531 \nL 1825 531 \nL 1825 4091 \nL 703 3866 \nL 703 4441 \nL 1819 4666 \nL 2450 4666 \nL 2450 531 \nL 3481 531 \nL 3481 0 \nL 794 0 \nL 794 531 \nz\n\" id=\"DejaVuSans-31\" transform=\"scale(0.015625)\"/>\n        <path d=\"M 313 2009 \nL 1997 2009 \nL 1997 1497 \nL 313 1497 \nL 313 2009 \nz\n\" id=\"DejaVuSans-2d\" transform=\"scale(0.015625)\"/>\n        <path d=\"M 691 4666 \nL 3169 4666 \nL 3169 4134 \nL 1269 4134 \nL 1269 2991 \nQ 1406 3038 1543 3061 \nQ 1681 3084 1819 3084 \nQ 2600 3084 3056 2656 \nQ 3513 2228 3513 1497 \nQ 3513 744 3044 326 \nQ 2575 -91 1722 -91 \nQ 1428 -91 1123 -41 \nQ 819 9 494 109 \nL 494 744 \nQ 775 591 1075 516 \nQ 1375 441 1709 441 \nQ 2250 441 2565 725 \nQ 2881 1009 2881 1497 \nQ 2881 1984 2565 2268 \nQ 2250 2553 1709 2553 \nQ 1456 2553 1204 2497 \nQ 953 2441 691 2322 \nL 691 4666 \nz\n\" id=\"DejaVuSans-35\" transform=\"scale(0.015625)\"/>\n        <path d=\"M -19 4666 \nL 3928 4666 \nL 3928 4134 \nL 2272 4134 \nL 2272 0 \nL 1638 0 \nL 1638 4134 \nL -19 4134 \nL -19 4666 \nz\n\" id=\"DejaVuSans-54\" transform=\"scale(0.015625)\"/>\n        <path d=\"M 750 794 \nL 1409 794 \nL 1409 0 \nL 750 0 \nL 750 794 \nz\nM 750 3309 \nL 1409 3309 \nL 1409 2516 \nL 750 2516 \nL 750 3309 \nz\n\" id=\"DejaVuSans-3a\" transform=\"scale(0.015625)\"/>\n       </defs>\n       <use xlink:href=\"#DejaVuSans-32\"/>\n       <use x=\"63.623047\" xlink:href=\"#DejaVuSans-30\"/>\n       <use x=\"127.246094\" xlink:href=\"#DejaVuSans-32\"/>\n       <use x=\"190.869141\" xlink:href=\"#DejaVuSans-31\"/>\n       <use x=\"254.492188\" xlink:href=\"#DejaVuSans-2d\"/>\n       <use x=\"290.576172\" xlink:href=\"#DejaVuSans-30\"/>\n       <use x=\"354.199219\" xlink:href=\"#DejaVuSans-35\"/>\n       <use x=\"417.822266\" xlink:href=\"#DejaVuSans-2d\"/>\n       <use x=\"453.90625\" xlink:href=\"#DejaVuSans-30\"/>\n       <use x=\"517.529297\" xlink:href=\"#DejaVuSans-35\"/>\n       <use x=\"581.152344\" xlink:href=\"#DejaVuSans-54\"/>\n       <use x=\"642.236328\" xlink:href=\"#DejaVuSans-31\"/>\n       <use x=\"705.859375\" xlink:href=\"#DejaVuSans-32\"/>\n       <use x=\"769.482422\" xlink:href=\"#DejaVuSans-3a\"/>\n       <use x=\"803.173828\" xlink:href=\"#DejaVuSans-30\"/>\n       <use x=\"866.796875\" xlink:href=\"#DejaVuSans-30\"/>\n       <use x=\"930.419922\" xlink:href=\"#DejaVuSans-3a\"/>\n       <use x=\"964.111328\" xlink:href=\"#DejaVuSans-30\"/>\n       <use x=\"1027.734375\" xlink:href=\"#DejaVuSans-30\"/>\n      </g>\n     </g>\n    </g>\n    <g id=\"xtick_2\">\n     <g id=\"line2d_2\">\n      <g>\n       <use style=\"stroke:#000000;stroke-width:0.8;\" x=\"108.221515\" xlink:href=\"#m005144f257\" y=\"224.64\"/>\n      </g>\n     </g>\n     <g id=\"text_2\">\n      <!-- 2021-05-10T13:50:00 -->\n      <g transform=\"translate(53.653546 239.238438)scale(0.1 -0.1)\">\n       <defs>\n        <path d=\"M 2597 2516 \nQ 3050 2419 3304 2112 \nQ 3559 1806 3559 1356 \nQ 3559 666 3084 287 \nQ 2609 -91 1734 -91 \nQ 1441 -91 1130 -33 \nQ 819 25 488 141 \nL 488 750 \nQ 750 597 1062 519 \nQ 1375 441 1716 441 \nQ 2309 441 2620 675 \nQ 2931 909 2931 1356 \nQ 2931 1769 2642 2001 \nQ 2353 2234 1838 2234 \nL 1294 2234 \nL 1294 2753 \nL 1863 2753 \nQ 2328 2753 2575 2939 \nQ 2822 3125 2822 3475 \nQ 2822 3834 2567 4026 \nQ 2313 4219 1838 4219 \nQ 1578 4219 1281 4162 \nQ 984 4106 628 3988 \nL 628 4550 \nQ 988 4650 1302 4700 \nQ 1616 4750 1894 4750 \nQ 2613 4750 3031 4423 \nQ 3450 4097 3450 3541 \nQ 3450 3153 3228 2886 \nQ 3006 2619 2597 2516 \nz\n\" id=\"DejaVuSans-33\" transform=\"scale(0.015625)\"/>\n       </defs>\n       <use xlink:href=\"#DejaVuSans-32\"/>\n       <use x=\"63.623047\" xlink:href=\"#DejaVuSans-30\"/>\n       <use x=\"127.246094\" xlink:href=\"#DejaVuSans-32\"/>\n       <use x=\"190.869141\" xlink:href=\"#DejaVuSans-31\"/>\n       <use x=\"254.492188\" xlink:href=\"#DejaVuSans-2d\"/>\n       <use x=\"290.576172\" xlink:href=\"#DejaVuSans-30\"/>\n       <use x=\"354.199219\" xlink:href=\"#DejaVuSans-35\"/>\n       <use x=\"417.822266\" xlink:href=\"#DejaVuSans-2d\"/>\n       <use x=\"453.90625\" xlink:href=\"#DejaVuSans-31\"/>\n       <use x=\"517.529297\" xlink:href=\"#DejaVuSans-30\"/>\n       <use x=\"581.152344\" xlink:href=\"#DejaVuSans-54\"/>\n       <use x=\"642.236328\" xlink:href=\"#DejaVuSans-31\"/>\n       <use x=\"705.859375\" xlink:href=\"#DejaVuSans-33\"/>\n       <use x=\"769.482422\" xlink:href=\"#DejaVuSans-3a\"/>\n       <use x=\"803.173828\" xlink:href=\"#DejaVuSans-35\"/>\n       <use x=\"866.796875\" xlink:href=\"#DejaVuSans-30\"/>\n       <use x=\"930.419922\" xlink:href=\"#DejaVuSans-3a\"/>\n       <use x=\"964.111328\" xlink:href=\"#DejaVuSans-30\"/>\n       <use x=\"1027.734375\" xlink:href=\"#DejaVuSans-30\"/>\n      </g>\n     </g>\n    </g>\n    <g id=\"xtick_3\">\n     <g id=\"line2d_3\">\n      <g>\n       <use style=\"stroke:#000000;stroke-width:0.8;\" x=\"154.675062\" xlink:href=\"#m005144f257\" y=\"224.64\"/>\n      </g>\n     </g>\n     <g id=\"text_3\">\n      <!-- 2021-05-17T09:20:00 -->\n      <g transform=\"translate(100.107093 239.238438)scale(0.1 -0.1)\">\n       <defs>\n        <path d=\"M 525 4666 \nL 3525 4666 \nL 3525 4397 \nL 1831 0 \nL 1172 0 \nL 2766 4134 \nL 525 4134 \nL 525 4666 \nz\n\" id=\"DejaVuSans-37\" transform=\"scale(0.015625)\"/>\n        <path d=\"M 703 97 \nL 703 672 \nQ 941 559 1184 500 \nQ 1428 441 1663 441 \nQ 2288 441 2617 861 \nQ 2947 1281 2994 2138 \nQ 2813 1869 2534 1725 \nQ 2256 1581 1919 1581 \nQ 1219 1581 811 2004 \nQ 403 2428 403 3163 \nQ 403 3881 828 4315 \nQ 1253 4750 1959 4750 \nQ 2769 4750 3195 4129 \nQ 3622 3509 3622 2328 \nQ 3622 1225 3098 567 \nQ 2575 -91 1691 -91 \nQ 1453 -91 1209 -44 \nQ 966 3 703 97 \nz\nM 1959 2075 \nQ 2384 2075 2632 2365 \nQ 2881 2656 2881 3163 \nQ 2881 3666 2632 3958 \nQ 2384 4250 1959 4250 \nQ 1534 4250 1286 3958 \nQ 1038 3666 1038 3163 \nQ 1038 2656 1286 2365 \nQ 1534 2075 1959 2075 \nz\n\" id=\"DejaVuSans-39\" transform=\"scale(0.015625)\"/>\n       </defs>\n       <use xlink:href=\"#DejaVuSans-32\"/>\n       <use x=\"63.623047\" xlink:href=\"#DejaVuSans-30\"/>\n       <use x=\"127.246094\" xlink:href=\"#DejaVuSans-32\"/>\n       <use x=\"190.869141\" xlink:href=\"#DejaVuSans-31\"/>\n       <use x=\"254.492188\" xlink:href=\"#DejaVuSans-2d\"/>\n       <use x=\"290.576172\" xlink:href=\"#DejaVuSans-30\"/>\n       <use x=\"354.199219\" xlink:href=\"#DejaVuSans-35\"/>\n       <use x=\"417.822266\" xlink:href=\"#DejaVuSans-2d\"/>\n       <use x=\"453.90625\" xlink:href=\"#DejaVuSans-31\"/>\n       <use x=\"517.529297\" xlink:href=\"#DejaVuSans-37\"/>\n       <use x=\"581.152344\" xlink:href=\"#DejaVuSans-54\"/>\n       <use x=\"642.236328\" xlink:href=\"#DejaVuSans-30\"/>\n       <use x=\"705.859375\" xlink:href=\"#DejaVuSans-39\"/>\n       <use x=\"769.482422\" xlink:href=\"#DejaVuSans-3a\"/>\n       <use x=\"803.173828\" xlink:href=\"#DejaVuSans-32\"/>\n       <use x=\"866.796875\" xlink:href=\"#DejaVuSans-30\"/>\n       <use x=\"930.419922\" xlink:href=\"#DejaVuSans-3a\"/>\n       <use x=\"964.111328\" xlink:href=\"#DejaVuSans-30\"/>\n       <use x=\"1027.734375\" xlink:href=\"#DejaVuSans-30\"/>\n      </g>\n     </g>\n    </g>\n    <g id=\"xtick_4\">\n     <g id=\"line2d_4\">\n      <g>\n       <use style=\"stroke:#000000;stroke-width:0.8;\" x=\"201.128608\" xlink:href=\"#m005144f257\" y=\"224.64\"/>\n      </g>\n     </g>\n     <g id=\"text_4\">\n      <!-- 2021-05-20T11:10:00 -->\n      <g transform=\"translate(146.560639 239.238438)scale(0.1 -0.1)\">\n       <use xlink:href=\"#DejaVuSans-32\"/>\n       <use x=\"63.623047\" xlink:href=\"#DejaVuSans-30\"/>\n       <use x=\"127.246094\" xlink:href=\"#DejaVuSans-32\"/>\n       <use x=\"190.869141\" xlink:href=\"#DejaVuSans-31\"/>\n       <use x=\"254.492188\" xlink:href=\"#DejaVuSans-2d\"/>\n       <use x=\"290.576172\" xlink:href=\"#DejaVuSans-30\"/>\n       <use x=\"354.199219\" xlink:href=\"#DejaVuSans-35\"/>\n       <use x=\"417.822266\" xlink:href=\"#DejaVuSans-2d\"/>\n       <use x=\"453.90625\" xlink:href=\"#DejaVuSans-32\"/>\n       <use x=\"517.529297\" xlink:href=\"#DejaVuSans-30\"/>\n       <use x=\"581.152344\" xlink:href=\"#DejaVuSans-54\"/>\n       <use x=\"642.236328\" xlink:href=\"#DejaVuSans-31\"/>\n       <use x=\"705.859375\" xlink:href=\"#DejaVuSans-31\"/>\n       <use x=\"769.482422\" xlink:href=\"#DejaVuSans-3a\"/>\n       <use x=\"803.173828\" xlink:href=\"#DejaVuSans-31\"/>\n       <use x=\"866.796875\" xlink:href=\"#DejaVuSans-30\"/>\n       <use x=\"930.419922\" xlink:href=\"#DejaVuSans-3a\"/>\n       <use x=\"964.111328\" xlink:href=\"#DejaVuSans-30\"/>\n       <use x=\"1027.734375\" xlink:href=\"#DejaVuSans-30\"/>\n      </g>\n     </g>\n    </g>\n    <g id=\"xtick_5\">\n     <g id=\"line2d_5\">\n      <g>\n       <use style=\"stroke:#000000;stroke-width:0.8;\" x=\"247.582155\" xlink:href=\"#m005144f257\" y=\"224.64\"/>\n      </g>\n     </g>\n     <g id=\"text_5\">\n      <!-- 2021-05-25T13:00:00 -->\n      <g transform=\"translate(193.014186 239.238438)scale(0.1 -0.1)\">\n       <use xlink:href=\"#DejaVuSans-32\"/>\n       <use x=\"63.623047\" xlink:href=\"#DejaVuSans-30\"/>\n       <use x=\"127.246094\" xlink:href=\"#DejaVuSans-32\"/>\n       <use x=\"190.869141\" xlink:href=\"#DejaVuSans-31\"/>\n       <use x=\"254.492188\" xlink:href=\"#DejaVuSans-2d\"/>\n       <use x=\"290.576172\" xlink:href=\"#DejaVuSans-30\"/>\n       <use x=\"354.199219\" xlink:href=\"#DejaVuSans-35\"/>\n       <use x=\"417.822266\" xlink:href=\"#DejaVuSans-2d\"/>\n       <use x=\"453.90625\" xlink:href=\"#DejaVuSans-32\"/>\n       <use x=\"517.529297\" xlink:href=\"#DejaVuSans-35\"/>\n       <use x=\"581.152344\" xlink:href=\"#DejaVuSans-54\"/>\n       <use x=\"642.236328\" xlink:href=\"#DejaVuSans-31\"/>\n       <use x=\"705.859375\" xlink:href=\"#DejaVuSans-33\"/>\n       <use x=\"769.482422\" xlink:href=\"#DejaVuSans-3a\"/>\n       <use x=\"803.173828\" xlink:href=\"#DejaVuSans-30\"/>\n       <use x=\"866.796875\" xlink:href=\"#DejaVuSans-30\"/>\n       <use x=\"930.419922\" xlink:href=\"#DejaVuSans-3a\"/>\n       <use x=\"964.111328\" xlink:href=\"#DejaVuSans-30\"/>\n       <use x=\"1027.734375\" xlink:href=\"#DejaVuSans-30\"/>\n      </g>\n     </g>\n    </g>\n    <g id=\"xtick_6\">\n     <g id=\"line2d_6\">\n      <g>\n       <use style=\"stroke:#000000;stroke-width:0.8;\" x=\"294.035701\" xlink:href=\"#m005144f257\" y=\"224.64\"/>\n      </g>\n     </g>\n     <g id=\"text_6\">\n      <!-- 2021-05-28T14:50:00 -->\n      <g transform=\"translate(239.467732 239.238438)scale(0.1 -0.1)\">\n       <defs>\n        <path d=\"M 2034 2216 \nQ 1584 2216 1326 1975 \nQ 1069 1734 1069 1313 \nQ 1069 891 1326 650 \nQ 1584 409 2034 409 \nQ 2484 409 2743 651 \nQ 3003 894 3003 1313 \nQ 3003 1734 2745 1975 \nQ 2488 2216 2034 2216 \nz\nM 1403 2484 \nQ 997 2584 770 2862 \nQ 544 3141 544 3541 \nQ 544 4100 942 4425 \nQ 1341 4750 2034 4750 \nQ 2731 4750 3128 4425 \nQ 3525 4100 3525 3541 \nQ 3525 3141 3298 2862 \nQ 3072 2584 2669 2484 \nQ 3125 2378 3379 2068 \nQ 3634 1759 3634 1313 \nQ 3634 634 3220 271 \nQ 2806 -91 2034 -91 \nQ 1263 -91 848 271 \nQ 434 634 434 1313 \nQ 434 1759 690 2068 \nQ 947 2378 1403 2484 \nz\nM 1172 3481 \nQ 1172 3119 1398 2916 \nQ 1625 2713 2034 2713 \nQ 2441 2713 2670 2916 \nQ 2900 3119 2900 3481 \nQ 2900 3844 2670 4047 \nQ 2441 4250 2034 4250 \nQ 1625 4250 1398 4047 \nQ 1172 3844 1172 3481 \nz\n\" id=\"DejaVuSans-38\" transform=\"scale(0.015625)\"/>\n        <path d=\"M 2419 4116 \nL 825 1625 \nL 2419 1625 \nL 2419 4116 \nz\nM 2253 4666 \nL 3047 4666 \nL 3047 1625 \nL 3713 1625 \nL 3713 1100 \nL 3047 1100 \nL 3047 0 \nL 2419 0 \nL 2419 1100 \nL 313 1100 \nL 313 1709 \nL 2253 4666 \nz\n\" id=\"DejaVuSans-34\" transform=\"scale(0.015625)\"/>\n       </defs>\n       <use xlink:href=\"#DejaVuSans-32\"/>\n       <use x=\"63.623047\" xlink:href=\"#DejaVuSans-30\"/>\n       <use x=\"127.246094\" xlink:href=\"#DejaVuSans-32\"/>\n       <use x=\"190.869141\" xlink:href=\"#DejaVuSans-31\"/>\n       <use x=\"254.492188\" xlink:href=\"#DejaVuSans-2d\"/>\n       <use x=\"290.576172\" xlink:href=\"#DejaVuSans-30\"/>\n       <use x=\"354.199219\" xlink:href=\"#DejaVuSans-35\"/>\n       <use x=\"417.822266\" xlink:href=\"#DejaVuSans-2d\"/>\n       <use x=\"453.90625\" xlink:href=\"#DejaVuSans-32\"/>\n       <use x=\"517.529297\" xlink:href=\"#DejaVuSans-38\"/>\n       <use x=\"581.152344\" xlink:href=\"#DejaVuSans-54\"/>\n       <use x=\"642.236328\" xlink:href=\"#DejaVuSans-31\"/>\n       <use x=\"705.859375\" xlink:href=\"#DejaVuSans-34\"/>\n       <use x=\"769.482422\" xlink:href=\"#DejaVuSans-3a\"/>\n       <use x=\"803.173828\" xlink:href=\"#DejaVuSans-35\"/>\n       <use x=\"866.796875\" xlink:href=\"#DejaVuSans-30\"/>\n       <use x=\"930.419922\" xlink:href=\"#DejaVuSans-3a\"/>\n       <use x=\"964.111328\" xlink:href=\"#DejaVuSans-30\"/>\n       <use x=\"1027.734375\" xlink:href=\"#DejaVuSans-30\"/>\n      </g>\n     </g>\n    </g>\n    <g id=\"xtick_7\">\n     <g id=\"line2d_7\">\n      <g>\n       <use style=\"stroke:#000000;stroke-width:0.8;\" x=\"340.489247\" xlink:href=\"#m005144f257\" y=\"224.64\"/>\n      </g>\n     </g>\n     <g id=\"text_7\">\n      <!-- 2021-06-03T10:20:00 -->\n      <g transform=\"translate(285.921279 239.238438)scale(0.1 -0.1)\">\n       <defs>\n        <path d=\"M 2113 2584 \nQ 1688 2584 1439 2293 \nQ 1191 2003 1191 1497 \nQ 1191 994 1439 701 \nQ 1688 409 2113 409 \nQ 2538 409 2786 701 \nQ 3034 994 3034 1497 \nQ 3034 2003 2786 2293 \nQ 2538 2584 2113 2584 \nz\nM 3366 4563 \nL 3366 3988 \nQ 3128 4100 2886 4159 \nQ 2644 4219 2406 4219 \nQ 1781 4219 1451 3797 \nQ 1122 3375 1075 2522 \nQ 1259 2794 1537 2939 \nQ 1816 3084 2150 3084 \nQ 2853 3084 3261 2657 \nQ 3669 2231 3669 1497 \nQ 3669 778 3244 343 \nQ 2819 -91 2113 -91 \nQ 1303 -91 875 529 \nQ 447 1150 447 2328 \nQ 447 3434 972 4092 \nQ 1497 4750 2381 4750 \nQ 2619 4750 2861 4703 \nQ 3103 4656 3366 4563 \nz\n\" id=\"DejaVuSans-36\" transform=\"scale(0.015625)\"/>\n       </defs>\n       <use xlink:href=\"#DejaVuSans-32\"/>\n       <use x=\"63.623047\" xlink:href=\"#DejaVuSans-30\"/>\n       <use x=\"127.246094\" xlink:href=\"#DejaVuSans-32\"/>\n       <use x=\"190.869141\" xlink:href=\"#DejaVuSans-31\"/>\n       <use x=\"254.492188\" xlink:href=\"#DejaVuSans-2d\"/>\n       <use x=\"290.576172\" xlink:href=\"#DejaVuSans-30\"/>\n       <use x=\"354.199219\" xlink:href=\"#DejaVuSans-36\"/>\n       <use x=\"417.822266\" xlink:href=\"#DejaVuSans-2d\"/>\n       <use x=\"453.90625\" xlink:href=\"#DejaVuSans-30\"/>\n       <use x=\"517.529297\" xlink:href=\"#DejaVuSans-33\"/>\n       <use x=\"581.152344\" xlink:href=\"#DejaVuSans-54\"/>\n       <use x=\"642.236328\" xlink:href=\"#DejaVuSans-31\"/>\n       <use x=\"705.859375\" xlink:href=\"#DejaVuSans-30\"/>\n       <use x=\"769.482422\" xlink:href=\"#DejaVuSans-3a\"/>\n       <use x=\"803.173828\" xlink:href=\"#DejaVuSans-32\"/>\n       <use x=\"866.796875\" xlink:href=\"#DejaVuSans-30\"/>\n       <use x=\"930.419922\" xlink:href=\"#DejaVuSans-3a\"/>\n       <use x=\"964.111328\" xlink:href=\"#DejaVuSans-30\"/>\n       <use x=\"1027.734375\" xlink:href=\"#DejaVuSans-30\"/>\n      </g>\n     </g>\n    </g>\n    <g id=\"text_8\">\n     <!-- Datetime -->\n     <g transform=\"translate(190.702912 252.916563)scale(0.1 -0.1)\">\n      <defs>\n       <path d=\"M 1259 4147 \nL 1259 519 \nL 2022 519 \nQ 2988 519 3436 956 \nQ 3884 1394 3884 2338 \nQ 3884 3275 3436 3711 \nQ 2988 4147 2022 4147 \nL 1259 4147 \nz\nM 628 4666 \nL 1925 4666 \nQ 3281 4666 3915 4102 \nQ 4550 3538 4550 2338 \nQ 4550 1131 3912 565 \nQ 3275 0 1925 0 \nL 628 0 \nL 628 4666 \nz\n\" id=\"DejaVuSans-44\" transform=\"scale(0.015625)\"/>\n       <path d=\"M 2194 1759 \nQ 1497 1759 1228 1600 \nQ 959 1441 959 1056 \nQ 959 750 1161 570 \nQ 1363 391 1709 391 \nQ 2188 391 2477 730 \nQ 2766 1069 2766 1631 \nL 2766 1759 \nL 2194 1759 \nz\nM 3341 1997 \nL 3341 0 \nL 2766 0 \nL 2766 531 \nQ 2569 213 2275 61 \nQ 1981 -91 1556 -91 \nQ 1019 -91 701 211 \nQ 384 513 384 1019 \nQ 384 1609 779 1909 \nQ 1175 2209 1959 2209 \nL 2766 2209 \nL 2766 2266 \nQ 2766 2663 2505 2880 \nQ 2244 3097 1772 3097 \nQ 1472 3097 1187 3025 \nQ 903 2953 641 2809 \nL 641 3341 \nQ 956 3463 1253 3523 \nQ 1550 3584 1831 3584 \nQ 2591 3584 2966 3190 \nQ 3341 2797 3341 1997 \nz\n\" id=\"DejaVuSans-61\" transform=\"scale(0.015625)\"/>\n       <path d=\"M 1172 4494 \nL 1172 3500 \nL 2356 3500 \nL 2356 3053 \nL 1172 3053 \nL 1172 1153 \nQ 1172 725 1289 603 \nQ 1406 481 1766 481 \nL 2356 481 \nL 2356 0 \nL 1766 0 \nQ 1100 0 847 248 \nQ 594 497 594 1153 \nL 594 3053 \nL 172 3053 \nL 172 3500 \nL 594 3500 \nL 594 4494 \nL 1172 4494 \nz\n\" id=\"DejaVuSans-74\" transform=\"scale(0.015625)\"/>\n       <path d=\"M 3597 1894 \nL 3597 1613 \nL 953 1613 \nQ 991 1019 1311 708 \nQ 1631 397 2203 397 \nQ 2534 397 2845 478 \nQ 3156 559 3463 722 \nL 3463 178 \nQ 3153 47 2828 -22 \nQ 2503 -91 2169 -91 \nQ 1331 -91 842 396 \nQ 353 884 353 1716 \nQ 353 2575 817 3079 \nQ 1281 3584 2069 3584 \nQ 2775 3584 3186 3129 \nQ 3597 2675 3597 1894 \nz\nM 3022 2063 \nQ 3016 2534 2758 2815 \nQ 2500 3097 2075 3097 \nQ 1594 3097 1305 2825 \nQ 1016 2553 972 2059 \nL 3022 2063 \nz\n\" id=\"DejaVuSans-65\" transform=\"scale(0.015625)\"/>\n       <path d=\"M 603 3500 \nL 1178 3500 \nL 1178 0 \nL 603 0 \nL 603 3500 \nz\nM 603 4863 \nL 1178 4863 \nL 1178 4134 \nL 603 4134 \nL 603 4863 \nz\n\" id=\"DejaVuSans-69\" transform=\"scale(0.015625)\"/>\n       <path d=\"M 3328 2828 \nQ 3544 3216 3844 3400 \nQ 4144 3584 4550 3584 \nQ 5097 3584 5394 3201 \nQ 5691 2819 5691 2113 \nL 5691 0 \nL 5113 0 \nL 5113 2094 \nQ 5113 2597 4934 2840 \nQ 4756 3084 4391 3084 \nQ 3944 3084 3684 2787 \nQ 3425 2491 3425 1978 \nL 3425 0 \nL 2847 0 \nL 2847 2094 \nQ 2847 2600 2669 2842 \nQ 2491 3084 2119 3084 \nQ 1678 3084 1418 2786 \nQ 1159 2488 1159 1978 \nL 1159 0 \nL 581 0 \nL 581 3500 \nL 1159 3500 \nL 1159 2956 \nQ 1356 3278 1631 3431 \nQ 1906 3584 2284 3584 \nQ 2666 3584 2933 3390 \nQ 3200 3197 3328 2828 \nz\n\" id=\"DejaVuSans-6d\" transform=\"scale(0.015625)\"/>\n      </defs>\n      <use xlink:href=\"#DejaVuSans-44\"/>\n      <use x=\"77.001953\" xlink:href=\"#DejaVuSans-61\"/>\n      <use x=\"138.28125\" xlink:href=\"#DejaVuSans-74\"/>\n      <use x=\"177.490234\" xlink:href=\"#DejaVuSans-65\"/>\n      <use x=\"239.013672\" xlink:href=\"#DejaVuSans-74\"/>\n      <use x=\"278.222656\" xlink:href=\"#DejaVuSans-69\"/>\n      <use x=\"306.005859\" xlink:href=\"#DejaVuSans-6d\"/>\n      <use x=\"403.417969\" xlink:href=\"#DejaVuSans-65\"/>\n     </g>\n    </g>\n   </g>\n   <g id=\"matplotlib.axis_2\">\n    <g id=\"ytick_1\">\n     <g id=\"line2d_8\">\n      <defs>\n       <path d=\"M 0 0 \nL -3.5 0 \n\" id=\"ma85740a444\" style=\"stroke:#000000;stroke-width:0.8;\"/>\n      </defs>\n      <g>\n       <use style=\"stroke:#000000;stroke-width:0.8;\" x=\"46.549787\" xlink:href=\"#ma85740a444\" y=\"195.711725\"/>\n      </g>\n     </g>\n     <g id=\"text_9\">\n      <!-- 0.98 -->\n      <g transform=\"translate(17.284162 199.510944)scale(0.1 -0.1)\">\n       <defs>\n        <path d=\"M 684 794 \nL 1344 794 \nL 1344 0 \nL 684 0 \nL 684 794 \nz\n\" id=\"DejaVuSans-2e\" transform=\"scale(0.015625)\"/>\n       </defs>\n       <use xlink:href=\"#DejaVuSans-30\"/>\n       <use x=\"63.623047\" xlink:href=\"#DejaVuSans-2e\"/>\n       <use x=\"95.410156\" xlink:href=\"#DejaVuSans-39\"/>\n       <use x=\"159.033203\" xlink:href=\"#DejaVuSans-38\"/>\n      </g>\n     </g>\n    </g>\n    <g id=\"ytick_2\">\n     <g id=\"line2d_9\">\n      <g>\n       <use style=\"stroke:#000000;stroke-width:0.8;\" x=\"46.549787\" xlink:href=\"#ma85740a444\" y=\"150.094592\"/>\n      </g>\n     </g>\n     <g id=\"text_10\">\n      <!-- 1.00 -->\n      <g transform=\"translate(17.284162 153.893811)scale(0.1 -0.1)\">\n       <use xlink:href=\"#DejaVuSans-31\"/>\n       <use x=\"63.623047\" xlink:href=\"#DejaVuSans-2e\"/>\n       <use x=\"95.410156\" xlink:href=\"#DejaVuSans-30\"/>\n       <use x=\"159.033203\" xlink:href=\"#DejaVuSans-30\"/>\n      </g>\n     </g>\n    </g>\n    <g id=\"ytick_3\">\n     <g id=\"line2d_10\">\n      <g>\n       <use style=\"stroke:#000000;stroke-width:0.8;\" x=\"46.549787\" xlink:href=\"#ma85740a444\" y=\"104.477459\"/>\n      </g>\n     </g>\n     <g id=\"text_11\">\n      <!-- 1.02 -->\n      <g transform=\"translate(17.284162 108.276677)scale(0.1 -0.1)\">\n       <use xlink:href=\"#DejaVuSans-31\"/>\n       <use x=\"63.623047\" xlink:href=\"#DejaVuSans-2e\"/>\n       <use x=\"95.410156\" xlink:href=\"#DejaVuSans-30\"/>\n       <use x=\"159.033203\" xlink:href=\"#DejaVuSans-32\"/>\n      </g>\n     </g>\n    </g>\n    <g id=\"ytick_4\">\n     <g id=\"line2d_11\">\n      <g>\n       <use style=\"stroke:#000000;stroke-width:0.8;\" x=\"46.549787\" xlink:href=\"#ma85740a444\" y=\"58.860326\"/>\n      </g>\n     </g>\n     <g id=\"text_12\">\n      <!-- 1.04 -->\n      <g transform=\"translate(17.284162 62.659544)scale(0.1 -0.1)\">\n       <use xlink:href=\"#DejaVuSans-31\"/>\n       <use x=\"63.623047\" xlink:href=\"#DejaVuSans-2e\"/>\n       <use x=\"95.410156\" xlink:href=\"#DejaVuSans-30\"/>\n       <use x=\"159.033203\" xlink:href=\"#DejaVuSans-34\"/>\n      </g>\n     </g>\n    </g>\n    <g id=\"ytick_5\">\n     <g id=\"line2d_12\">\n      <g>\n       <use style=\"stroke:#000000;stroke-width:0.8;\" x=\"46.549787\" xlink:href=\"#ma85740a444\" y=\"13.243193\"/>\n      </g>\n     </g>\n     <g id=\"text_13\">\n      <!-- 1.06 -->\n      <g transform=\"translate(17.284162 17.042411)scale(0.1 -0.1)\">\n       <use xlink:href=\"#DejaVuSans-31\"/>\n       <use x=\"63.623047\" xlink:href=\"#DejaVuSans-2e\"/>\n       <use x=\"95.410156\" xlink:href=\"#DejaVuSans-30\"/>\n       <use x=\"159.033203\" xlink:href=\"#DejaVuSans-36\"/>\n      </g>\n     </g>\n    </g>\n   </g>\n   <g id=\"line2d_13\">\n    <path clip-path=\"url(#pc849684363)\" d=\"M 61.767969 150.094592 \nL 63.811925 150.094592 \nL 63.997739 150.216508 \nL 64.183553 144.841738 \nL 64.369367 148.415629 \nL 64.555182 147.154666 \nL 64.740996 148.31113 \nL 65.112624 153.4978 \nL 65.484252 151.160489 \nL 65.670067 150.578774 \nL 65.855881 153.170368 \nL 66.227509 151.543655 \nL 66.413323 152.588652 \nL 66.599138 160.764015 \nL 67.714023 160.764015 \nL 67.899837 162.238251 \nL 68.085651 161.187208 \nL 68.271465 163.389889 \nL 68.457279 160.413668 \nL 68.643094 159.889881 \nL 68.828908 155.984024 \nL 69.014722 156.660438 \nL 69.200536 154.874011 \nL 69.38635 151.849227 \nL 69.572165 151.734757 \nL 69.757979 157.468666 \nL 69.943793 157.846764 \nL 70.129607 160.136165 \nL 70.501235 148.807099 \nL 70.68705 154.256567 \nL 70.872864 152.723362 \nL 71.058678 157.250132 \nL 71.244492 157.499885 \nL 71.430306 154.901762 \nL 71.616121 159.08859 \nL 71.801935 159.751129 \nL 75.889847 159.751129 \nL 76.075661 159.872622 \nL 76.261475 158.563965 \nL 76.447289 152.739227 \nL 76.633104 153.988873 \nL 76.818918 152.006796 \nL 77.004732 152.433758 \nL 77.190546 151.756867 \nL 77.37636 154.832384 \nL 77.562175 155.030245 \nL 77.747989 152.090106 \nL 77.933803 151.552064 \nL 78.119617 149.101369 \nL 78.305431 150.566232 \nL 78.491245 148.643166 \nL 78.67706 150.899471 \nL 78.862874 157.390687 \nL 79.048688 154.828913 \nL 79.234502 155.103141 \nL 79.420316 153.968046 \nL 79.606131 151.218825 \nL 79.791945 151.548592 \nL 79.977759 153.999287 \nL 80.349387 148.070411 \nL 80.90683 154.454019 \nL 81.092644 154.783787 \nL 83.322414 154.783787 \nL 83.508228 155.531285 \nL 83.694043 158.846579 \nL 83.879857 135.975202 \nL 84.065671 130.289369 \nL 84.251485 132.715279 \nL 84.437299 133.140937 \nL 84.808928 134.975077 \nL 84.994742 136.238211 \nL 85.36637 140.17296 \nL 85.552185 137.930465 \nL 85.737999 137.840488 \nL 85.923813 138.245383 \nL 86.109627 140.851246 \nL 86.295441 141.588362 \nL 86.481255 143.502097 \nL 86.66707 142.311636 \nL 86.852884 144.606041 \nL 87.038698 148.419668 \nL 88.89684 148.419668 \nL 89.082654 147.324362 \nL 89.268468 147.915205 \nL 89.454282 149.501153 \nL 89.640097 147.255257 \nL 90.011725 149.61172 \nL 90.197539 151.311691 \nL 90.383353 157.84552 \nL 90.569168 159.687154 \nL 90.754982 164.061468 \nL 90.940796 158.429453 \nL 91.12661 159.372729 \nL 91.312424 159.172326 \nL 91.498238 156.936796 \nL 91.684053 157.455079 \nL 91.869867 156.815863 \nL 92.241495 159.179236 \nL 92.427309 161.418222 \nL 92.613124 160.861931 \nL 92.798938 158.553841 \nL 92.984752 158.142669 \nL 93.170566 160.150154 \nL 93.542195 158.170311 \nL 93.728009 158.287789 \nL 94.099637 152.386265 \nL 94.285451 154.331557 \nL 94.471265 158.208318 \nL 94.842894 153.177512 \nL 95.028708 153.191333 \nL 95.400336 156.826229 \nL 95.586151 155.661818 \nL 95.771965 157.261587 \nL 95.957779 155.734378 \nL 96.143593 155.844945 \nL 96.329407 154.134609 \nL 96.515221 156.142094 \nL 96.88685 156.62237 \nL 97.072664 156.394326 \nL 97.258478 158.298154 \nL 98.373363 158.298154 \nL 98.559178 164.931553 \nL 98.744992 162.164498 \nL 98.930806 164.109655 \nL 99.11662 163.082283 \nL 99.302434 167.541078 \nL 99.488248 166.736303 \nL 100.045691 158.863209 \nL 100.231505 151.983241 \nL 100.417319 154.161269 \nL 100.603134 154.140722 \nL 100.974762 150.825735 \nL 101.160576 154.260582 \nL 101.34639 153.137322 \nL 101.532205 154.294828 \nL 101.718019 157.055034 \nL 101.903833 157.017364 \nL 102.089647 154.315375 \nL 102.275461 155.596166 \nL 102.461275 155.041385 \nL 102.64709 154.085929 \nL 103.018718 155.493429 \nL 103.204532 155.849584 \nL 103.390346 155.924925 \nL 103.576161 158.150898 \nL 103.761975 156.702303 \nL 105.620117 156.702303 \nL 105.991745 158.27578 \nL 106.177559 158.78545 \nL 106.549188 156.483384 \nL 106.735002 163.249336 \nL 106.920816 164.768083 \nL 111.751985 164.768083 \nL 111.937799 164.351599 \nL 112.123613 196.888532 \nL 112.309427 196.888532 \nL 112.495241 197.702996 \nL 126.431305 197.702996 \nL 126.61712 198.90573 \nL 132.005731 198.90573 \nL 132.377359 200.08725 \nL 132.563174 194.960481 \nL 132.748988 194.052936 \nL 132.934802 195.905697 \nL 133.120616 194.679656 \nL 133.30643 191.056327 \nL 133.492244 194.107731 \nL 133.678059 193.95362 \nL 133.863873 197.337219 \nL 134.049687 196.573512 \nL 134.235501 196.573512 \nL 134.421315 197.443385 \nL 134.60713 196.816666 \nL 134.792944 195.011851 \nL 135.164572 196.806392 \nL 135.350386 196.193371 \nL 135.536201 197.758457 \nL 135.722015 197.070093 \nL 137.022714 197.070093 \nL 137.208528 197.960024 \nL 137.394342 196.720966 \nL 137.765971 197.405529 \nL 137.951785 197.532173 \nL 138.509227 202.402834 \nL 138.695042 202.402834 \nL 138.880856 197.070869 \nL 141.668069 197.070869 \nL 141.853883 199.805927 \nL 142.039697 197.311087 \nL 142.225511 198.673469 \nL 142.411325 203.168985 \nL 142.59714 197.880748 \nL 142.968768 203.44352 \nL 143.154582 199.747588 \nL 143.340396 203.989159 \nL 143.897839 205.509399 \nL 150.772964 205.509399 \nL 150.958778 206.363813 \nL 152.631106 206.363813 \nL 153.002734 210.842596 \nL 153.560177 214.367054 \nL 153.745991 213.98808 \nL 153.931805 214.053539 \nL 154.117619 214.756364 \nL 154.303433 214.494527 \nL 154.489247 192.696634 \nL 154.860876 187.900891 \nL 155.04669 179.453217 \nL 155.232504 180.255953 \nL 155.418318 176.790064 \nL 155.604133 177.479108 \nL 155.789947 176.64881 \nL 155.975761 178.901983 \nL 156.347389 167.350168 \nL 156.719018 162.936844 \nL 156.904832 167.363948 \nL 157.090646 165.090105 \nL 157.27646 166.027204 \nL 157.462274 164.411397 \nL 157.648089 160.811144 \nL 164.894842 160.811144 \nL 165.080656 156.195084 \nL 165.26647 154.881098 \nL 165.452284 156.537268 \nL 165.638099 156.684407 \nL 166.009727 153.970889 \nL 166.195541 154.402041 \nL 166.381355 151.661148 \nL 166.56717 146.182784 \nL 166.752984 147.544676 \nL 167.124612 141.40932 \nL 167.310426 141.258759 \nL 167.49624 142.668556 \nL 168.053683 140.310909 \nL 168.239497 141.022652 \nL 168.425311 140.085068 \nL 168.611126 103.129211 \nL 171.769967 103.129211 \nL 171.955781 103.907231 \nL 172.141595 103.139494 \nL 172.513223 95.630059 \nL 172.699038 95.187924 \nL 173.070666 96.065338 \nL 173.442294 101.298979 \nL 173.628109 101.909057 \nL 173.813923 104.311665 \nL 174.185551 101.819944 \nL 174.371365 103.567919 \nL 174.55718 101.590308 \nL 175.300436 101.590308 \nL 175.48625 102.611066 \nL 175.672065 105.93709 \nL 175.857879 104.025739 \nL 176.043693 104.453909 \nL 176.229507 104.159328 \nL 176.601136 101.299153 \nL 176.78695 104.423081 \nL 176.972764 104.145627 \nL 177.158578 103.467405 \nL 177.344392 104.162753 \nL 177.530207 100.908662 \nL 177.716021 101.237496 \nL 178.087649 98.767812 \nL 178.273463 99.884479 \nL 178.459277 96.763977 \nL 179.01672 103.98806 \nL 179.202534 105.084175 \nL 182.54719 105.084175 \nL 182.733004 119.657084 \nL 182.918818 119.643384 \nL 183.290446 106.002046 \nL 183.47626 107.334328 \nL 183.662075 111.475021 \nL 183.847889 110.663322 \nL 184.033703 107.488448 \nL 184.219517 110.464678 \nL 184.405331 110.180412 \nL 184.591146 112.320969 \nL 184.77696 116.300691 \nL 184.962774 116.543859 \nL 185.148588 116.543859 \nL 185.520217 116.670793 \nL 194.99674 116.670793 \nL 195.182554 112.593524 \nL 195.554183 118.381943 \nL 195.739997 118.656275 \nL 195.925811 120.295413 \nL 196.111625 123.559971 \nL 198.898838 123.559971 \nL 199.084652 123.754859 \nL 199.270466 124.390809 \nL 199.642095 128.726212 \nL 200.013723 126.418328 \nL 200.385351 127.037183 \nL 200.571166 126.517481 \nL 200.75698 126.691855 \nL 201.128608 126.134544 \nL 201.314422 128.934776 \nL 201.500236 128.551838 \nL 201.686051 129.310875 \nL 202.243493 127.485083 \nL 202.429307 127.392768 \nL 202.615122 127.991108 \nL 202.800936 127.751772 \nL 202.98675 127.187622 \nL 203.172564 127.830411 \nL 203.358378 126.814942 \nL 203.915821 132.432502 \nL 204.101635 131.437547 \nL 204.287449 131.365747 \nL 204.473263 130.958875 \nL 204.659078 129.587821 \nL 204.844892 129.372419 \nL 205.030706 130.781083 \nL 205.21652 130.271639 \nL 205.402334 131.140087 \nL 205.588149 134.230941 \nL 205.773963 135.437879 \nL 205.959777 133.971091 \nL 206.331405 136.261879 \nL 206.517219 136.193497 \nL 206.888848 133.827489 \nL 207.074662 133.964253 \nL 207.260476 134.350609 \nL 207.44629 132.463273 \nL 208.189547 138.562924 \nL 208.375361 139.130493 \nL 208.74699 144.036882 \nL 211.162574 144.036882 \nL 211.534203 134.030071 \nL 211.905831 129.70702 \nL 212.091645 127.253672 \nL 212.463273 126.194965 \nL 212.649088 123.480334 \nL 213.020716 127.372437 \nL 213.20653 120.999839 \nL 213.392344 122.119624 \nL 213.578159 121.529192 \nL 213.763973 120.270282 \nL 213.949787 116.25602 \nL 214.321415 119.065664 \nL 214.507229 118.356466 \nL 214.693044 118.767054 \nL 214.878858 119.805401 \nL 215.064672 118.746695 \nL 215.250486 119.041911 \nL 215.4363 117.05005 \nL 215.622115 117.175601 \nL 215.807929 116.870205 \nL 215.993743 114.379531 \nL 216.179557 114.790119 \nL 216.365371 115.692734 \nL 216.551186 119.014764 \nL 216.737 116.602135 \nL 217.108628 118.420939 \nL 217.294442 119.445712 \nL 217.480256 118.35986 \nL 218.223513 118.35986 \nL 218.595142 123.897486 \nL 218.780956 121.964573 \nL 218.96677 124.243375 \nL 219.152584 124.077213 \nL 219.338398 125.61337 \nL 219.524213 125.565895 \nL 219.710027 127.759921 \nL 220.453283 118.48872 \nL 220.639098 120.88282 \nL 220.824912 119.350054 \nL 221.010726 120.594578 \nL 221.19654 127.078315 \nL 221.382354 120.187649 \nL 221.568169 120.587796 \nL 221.753983 121.852667 \nL 222.125611 109.454895 \nL 222.868868 95.358195 \nL 223.054682 93.933943 \nL 223.240496 87.033104 \nL 223.42631 90.553041 \nL 223.612125 88.392926 \nL 223.797939 89.623886 \nL 223.983753 87.128055 \nL 224.169567 81.654859 \nL 224.355381 83.686113 \nL 224.72701 78.982691 \nL 224.912824 78.982691 \nL 225.098638 53.386854 \nL 227.700037 53.386854 \nL 227.885851 51.861411 \nL 228.071665 51.789746 \nL 228.257479 56.854079 \nL 228.814922 45.326238 \nL 229.000736 46.100903 \nL 229.18655 45.95416 \nL 229.372364 49.807012 \nL 229.558179 47.950545 \nL 229.743993 48.008559 \nL 230.115621 52.2368 \nL 230.301435 49.62273 \nL 230.673064 50.653342 \nL 231.044692 55.069277 \nL 233.831905 55.069277 \nL 234.017719 57.546134 \nL 234.203533 56.39799 \nL 234.389347 56.312816 \nL 234.575162 54.323153 \nL 234.760976 59.18488 \nL 234.94679 57.1373 \nL 235.132604 57.563169 \nL 235.318418 59.988922 \nL 235.504232 55.818807 \nL 235.690047 58.885068 \nL 235.875861 56.939696 \nL 236.061675 56.994207 \nL 236.433303 57.443926 \nL 236.619118 58.380839 \nL 236.804932 57.9209 \nL 236.990746 45.570682 \nL 237.17656 43.461776 \nL 237.362374 35.915368 \nL 237.548189 33.717881 \nL 237.734003 35.254418 \nL 238.105631 48.040726 \nL 238.291445 50.449444 \nL 238.477259 54.370851 \nL 238.663074 55.082905 \nL 251.298438 55.082905 \nL 251.484252 52.694797 \nL 251.670067 60.463009 \nL 251.855881 58.102351 \nL 252.041695 54.180502 \nL 252.227509 55.326519 \nL 252.599138 52.814889 \nL 252.784952 46.913244 \nL 253.15658 52.313935 \nL 253.342394 60.047835 \nL 253.528209 59.869413 \nL 253.714023 59.107689 \nL 253.899837 61.698237 \nL 255.38635 61.698237 \nL 255.572165 62.187591 \nL 255.757979 56.52066 \nL 255.943793 56.257161 \nL 256.129607 56.660964 \nL 256.501235 49.92635 \nL 256.68705 52.140423 \nL 257.058678 45.676152 \nL 257.244492 45.785658 \nL 257.430306 47.729388 \nL 257.616121 45.067025 \nL 257.987749 49.296691 \nL 258.173563 50.737378 \nL 258.359377 49.816844 \nL 258.545192 49.92635 \nL 258.731006 50.716846 \nL 258.91682 53.683772 \nL 259.102634 54.354496 \nL 259.288448 53.676928 \nL 259.474262 50.364374 \nL 260.031705 50.364374 \nL 260.217519 49.153348 \nL 260.403333 46.864713 \nL 260.589148 46.122361 \nL 260.774962 48.174948 \nL 260.960776 48.04153 \nL 261.14659 49.539918 \nL 261.332404 48.024425 \nL 261.518219 48.25363 \nL 261.704033 47.870481 \nL 261.889847 48.889932 \nL 262.075661 48.920721 \nL 262.447289 47.442859 \nL 262.633104 45.694739 \nL 262.818918 45.759737 \nL 263.004732 44.890809 \nL 263.190546 53.337204 \nL 263.37636 51.931182 \nL 265.420316 51.931182 \nL 265.977759 55.988464 \nL 266.163573 59.902186 \nL 266.349387 58.329861 \nL 266.535202 59.6971 \nL 266.90683 60.561879 \nL 267.278458 60.483263 \nL 267.650087 66.875106 \nL 268.021715 67.644178 \nL 268.207529 66.799908 \nL 268.393343 68.48503 \nL 268.579158 67.213498 \nL 268.764972 68.180819 \nL 268.950786 66.608494 \nL 269.1366 62.810987 \nL 269.508228 64.547381 \nL 269.694043 62.828078 \nL 270.065671 64.557636 \nL 270.251485 68.471358 \nL 270.437299 68.785823 \nL 270.623114 67.545053 \nL 270.808928 68.173983 \nL 271.180556 64.923372 \nL 271.36637 63.600568 \nL 271.552185 65.128458 \nL 271.737999 63.607404 \nL 271.923813 64.338877 \nL 272.109627 64.222662 \nL 272.295441 56.436235 \nL 272.481255 55.872249 \nL 272.852884 56.613976 \nL 273.038698 51.961945 \nL 273.224512 51.538101 \nL 273.410326 51.900419 \nL 273.781955 48.772859 \nL 273.967769 51.356941 \nL 274.525212 53.17537 \nL 274.711026 50.769029 \nL 275.082654 54.214471 \nL 275.268468 53.141189 \nL 275.454282 48.352433 \nL 275.640097 51.042476 \nL 276.011725 44.630125 \nL 276.383353 42.945003 \nL 276.569168 43.717493 \nL 276.754982 39.800352 \nL 276.940796 38.535656 \nL 277.12661 40.931743 \nL 277.312424 41.136829 \nL 277.498238 42.835623 \nL 277.684053 40.227615 \nL 277.869867 40.367757 \nL 278.055681 39.554249 \nL 278.241495 42.958675 \nL 278.427309 50.269986 \nL 278.613124 50.11959 \nL 278.798938 48.707916 \nL 278.984752 51.165528 \nL 280.285451 51.165528 \nL 280.65708 45.986244 \nL 280.842894 40.266602 \nL 281.028708 40.963291 \nL 281.214522 42.638741 \nL 281.400336 42.638741 \nL 281.586151 32.259783 \nL 281.771965 32.15443 \nL 281.957779 28.015081 \nL 282.143593 30.11874 \nL 282.329407 27.620858 \nL 282.515221 28.922475 \nL 282.701036 28.171411 \nL 282.88685 28.317546 \nL 283.072664 36.993866 \nL 283.258478 38.115364 \nL 283.444292 34.275082 \nL 283.815921 41.007471 \nL 284.187549 32.518067 \nL 284.373363 33.58519 \nL 284.559178 32.569045 \nL 284.744992 33.952226 \nL 285.11662 33.952226 \nL 285.488248 41.910889 \nL 285.674063 40.523817 \nL 285.859877 43.964299 \nL 286.045691 41.220753 \nL 286.231505 42.781208 \nL 286.417319 43.246965 \nL 286.788948 39.456316 \nL 286.974762 43.053183 \nL 287.160576 44.436855 \nL 287.34639 41.57432 \nL 287.532205 41.383938 \nL 287.718019 42.519433 \nL 288.089647 39.473315 \nL 288.461275 41.890491 \nL 288.64709 42.152267 \nL 288.832904 47.595163 \nL 289.018718 45.711737 \nL 289.204532 45.983712 \nL 289.390346 42.087673 \nL 289.576161 45.378568 \nL 290.319417 40.60201 \nL 290.505231 45.089595 \nL 290.691046 40.785593 \nL 290.87686 40.890983 \nL 291.248488 37.440303 \nL 291.434302 39.160544 \nL 291.805931 35.19991 \nL 291.991745 34.849743 \nL 292.735002 41.173157 \nL 292.920816 41.404336 \nL 293.10663 39.344127 \nL 293.292444 40.449024 \nL 295.3364 40.449024 \nL 295.522215 45.959932 \nL 295.708029 46.726844 \nL 297.008728 46.726844 \nL 297.194542 47.566653 \nL 297.380356 47.868036 \nL 297.751985 37.048723 \nL 297.937799 37.069041 \nL 298.123613 37.942714 \nL 298.309427 32.362048 \nL 298.495241 33.601443 \nL 298.681056 33.090108 \nL 298.86687 33.53033 \nL 299.052684 37.468628 \nL 299.238498 36.208914 \nL 299.424312 36.892952 \nL 299.610127 40.414732 \nL 299.795941 38.542093 \nL 299.981755 42.12144 \nL 300.167569 38.575957 \nL 300.353383 41.538992 \nL 300.539198 40.936226 \nL 300.725012 37.830965 \nL 301.654083 37.830965 \nL 301.839897 37.71577 \nL 302.025711 37.431172 \nL 302.211525 36.597707 \nL 302.397339 38.298519 \nL 302.583154 38.213817 \nL 302.954782 30.106162 \nL 303.32641 32.078019 \nL 303.512224 27.914079 \nL 303.698039 29.520025 \nL 303.883853 28.679784 \nL 304.069667 27.128047 \nL 304.998738 33.83304 \nL 305.184552 33.433248 \nL 305.370366 32.653992 \nL 305.556181 32.93859 \nL 306.671066 32.93859 \nL 307.042694 35.732527 \nL 307.228508 34.371032 \nL 307.600137 36.637939 \nL 307.785951 36.779831 \nL 307.971765 35.989286 \nL 308.157579 35.78996 \nL 308.343393 37.043347 \nL 308.529208 35.749419 \nL 309.08665 27.394634 \nL 309.458278 33.330484 \nL 309.644093 30.48587 \nL 309.829907 29.499377 \nL 310.015721 20.512831 \nL 310.201535 20.820265 \nL 310.387349 19.235795 \nL 310.573164 22.3946 \nL 310.758978 21.21216 \nL 310.944792 23.384472 \nL 311.31642 33.979137 \nL 311.688049 37.391322 \nL 316.519218 37.391322 \nL 316.890846 43.212328 \nL 317.262474 36.150003 \nL 317.448288 38.365436 \nL 317.634103 35.805005 \nL 317.819917 37.144411 \nL 318.191545 37.428528 \nL 318.377359 37.536763 \nL 318.748988 35.656182 \nL 318.934802 29.794587 \nL 319.30643 32.672958 \nL 319.492244 33.491485 \nL 319.863873 28.935473 \nL 320.049687 28.029006 \nL 320.235501 33.63016 \nL 320.421315 42.914682 \nL 320.60713 42.522331 \nL 320.792944 41.162631 \nL 331.198538 41.162631 \nL 331.384352 42.415493 \nL 331.570167 42.031825 \nL 331.755981 41.267885 \nL 331.941795 41.814526 \nL 332.313423 44.802382 \nL 332.499237 43.128504 \nL 333.614123 43.128504 \nL 333.799937 43.735776 \nL 333.985751 42.141262 \nL 334.171565 42.025914 \nL 334.357379 38.901344 \nL 334.543194 42.287143 \nL 334.729008 43.260814 \nL 335.100636 40.560318 \nL 335.28645 39.800379 \nL 335.472264 39.993756 \nL 335.658079 40.57728 \nL 335.843893 39.813949 \nL 336.029707 41.130272 \nL 336.401335 33.320543 \nL 336.58715 33.60552 \nL 336.772964 34.131371 \nL 336.958778 32.126354 \nL 337.144592 32.241702 \nL 337.330406 29.181591 \nL 337.51622 30.056878 \nL 337.702035 29.178198 \nL 337.887849 29.03571 \nL 338.259477 17.097207 \nL 338.631106 21.667017 \nL 338.81692 17.799472 \nL 339.188548 20.96136 \nL 339.374362 20.791731 \nL 339.745991 22.820496 \nL 339.931805 20.398191 \nL 340.117619 20.927434 \nL 340.489247 17.083636 \nL 340.675062 20.479613 \nL 340.860876 20.628887 \nL 341.04669 20.94779 \nL 341.232504 22.810318 \nL 341.789947 23.780597 \nL 343.462274 23.780597 \nL 343.648089 21.782414 \nL 343.833903 21.342136 \nL 344.019717 23.716249 \nL 344.391345 21.457286 \nL 344.948788 24.827103 \nL 345.134602 23.858492 \nL 345.320416 24.661152 \nL 345.50623 24.762755 \nL 345.692045 27.431515 \nL 345.877859 25.751686 \nL 347.921815 25.751686 \nL 348.107629 27.140924 \nL 348.293443 22.557454 \nL 348.479257 22.263382 \nL 348.665072 22.388447 \nL 348.850886 21.174977 \nL 349.0367 17.821878 \nL 349.222514 19.481526 \nL 349.408328 19.958126 \nL 349.594143 18.166652 \nL 349.779957 19.008307 \nL 349.965771 18.788598 \nL 350.523214 23.882469 \nL 350.894842 18.994786 \nL 351.080656 20.008828 \nL 351.26647 20.181215 \nL 351.452284 21.083713 \nL 351.823913 20.722038 \nL 352.009727 20.722038 \nL 352.195541 27.147684 \nL 352.752984 27.147684 \nL 352.938798 23.199927 \nL 353.124612 26.986139 \nL 353.310426 28.005892 \nL 353.49624 30.254061 \nL 353.682055 30.600709 \nL 353.867869 24.108618 \nL 354.611126 30.499744 \nL 354.79694 29.177094 \nL 354.982754 33.35034 \nL 355.168568 33.35034 \nL 355.354382 35.40419 \nL 366.131605 35.40419 \nL 366.131605 35.40419 \n\" style=\"fill:none;stroke:#1f77b4;stroke-linecap:square;stroke-width:1.5;\"/>\n   </g>\n   <g id=\"patch_3\">\n    <path d=\"M 46.549787 224.64 \nL 46.549787 7.2 \n\" style=\"fill:none;stroke:#000000;stroke-linecap:square;stroke-linejoin:miter;stroke-width:0.8;\"/>\n   </g>\n   <g id=\"patch_4\">\n    <path d=\"M 381.349787 224.64 \nL 381.349787 7.2 \n\" style=\"fill:none;stroke:#000000;stroke-linecap:square;stroke-linejoin:miter;stroke-width:0.8;\"/>\n   </g>\n   <g id=\"patch_5\">\n    <path d=\"M 46.549787 224.64 \nL 381.349787 224.64 \n\" style=\"fill:none;stroke:#000000;stroke-linecap:square;stroke-linejoin:miter;stroke-width:0.8;\"/>\n   </g>\n   <g id=\"patch_6\">\n    <path d=\"M 46.549787 7.2 \nL 381.349787 7.2 \n\" style=\"fill:none;stroke:#000000;stroke-linecap:square;stroke-linejoin:miter;stroke-width:0.8;\"/>\n   </g>\n  </g>\n </g>\n <defs>\n  <clipPath id=\"pc849684363\">\n   <rect height=\"217.44\" width=\"334.8\" x=\"46.549787\" y=\"7.2\"/>\n  </clipPath>\n </defs>\n</svg>\n",
      "image/png": "[encoded data removed]"
     },
     "metadata": {
      "needs_background": "light"
     }
    }
   ],
   "source": [
    "(1+strategy_df[\"ret\"]).cumprod().plot()"
   ]
  },
  {
   "cell_type": "code",
   "execution_count": 16,
   "metadata": {},
   "outputs": [
    {
     "output_type": "stream",
     "name": "stdout",
     "text": [
      "calculating KPIs for  999920005\n"
     ]
    },
    {
     "output_type": "execute_result",
     "data": {
      "text/plain": [
       "             Return  Sharpe Ratio  Max Drawdown    win_pct\n",
       "999920005  0.747514      4.928873      0.036714  38.636364"
      ],
      "text/html": "<div>\n<style scoped>\n    .dataframe tbody tr th:only-of-type {\n        vertical-align: middle;\n    }\n\n    .dataframe tbody tr th {\n        vertical-align: top;\n    }\n\n    .dataframe thead th {\n        text-align: right;\n    }\n</style>\n<table border=\"1\" class=\"dataframe\">\n  <thead>\n    <tr style=\"text-align: right;\">\n      <th></th>\n      <th>Return</th>\n      <th>Sharpe Ratio</th>\n      <th>Max Drawdown</th>\n      <th>win_pct</th>\n    </tr>\n  </thead>\n  <tbody>\n    <tr>\n      <th>999920005</th>\n      <td>0.747514</td>\n      <td>4.928873</td>\n      <td>0.036714</td>\n      <td>38.636364</td>\n    </tr>\n  </tbody>\n</table>\n</div>"
     },
     "metadata": {},
     "execution_count": 16
    }
   ],
   "source": [
    "cagr = {}\n",
    "sharpe_ratios = {}\n",
    "max_drawdown = {}\n",
    "win_pcts={}\n",
    "for ticker in tickers:\n",
    "    win=[]\n",
    "    print(\"calculating KPIs for \",ticker)      \n",
    "    cagr[ticker] =  CAGR(ohlc_dict[ticker])\n",
    "    for i in range(len(ohlcv_database)):\n",
    "        if ohlcv_database[\"stock\"][i]==ticker:\n",
    "            \n",
    "            win.append(ohlcv_database[\"profit\"][i])\n",
    "    win_df=pd.DataFrame()\n",
    "    win_df[\"profit\"]=np.array(win)\n",
    "    win_pcts[ticker]=win_pct(win_df)           \n",
    "\n",
    "    sharpe_ratios[ticker] =  sharpe(ohlc_dict[ticker],0.025)\n",
    "    max_drawdown[ticker] =  max_dd(ohlc_dict[ticker])\n",
    "\n",
    "KPI_df = pd.DataFrame([cagr,sharpe_ratios,max_drawdown,win_pcts],index=[\"Return\",\"Sharpe Ratio\",\"Max Drawdown\",\"win_pct\"])      \n",
    "KPI_df.T\n"
   ]
  },
  {
   "cell_type": "code",
   "execution_count": null,
   "metadata": {},
   "outputs": [],
   "source": []
  }
 ]
}