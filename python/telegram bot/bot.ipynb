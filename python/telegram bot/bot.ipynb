{
 "cells": [
  {
   "cell_type": "code",
   "execution_count": 4,
   "metadata": {},
   "outputs": [
    {
     "data": {
      "text/plain": "{'id': 1815677087,\n 'is_bot': True,\n 'first_name': 'Trading bot',\n 'username': 'trading_bot_12_bot',\n 'can_join_groups': True,\n 'can_read_all_group_messages': False,\n 'supports_inline_queries': False}"
     },
     "execution_count": 4,
     "metadata": {},
     "output_type": "execute_result"
    }
   ],
   "source": [
    ">>> import telepot\n",
    ">>> bot = telepot.Bot('1815677087:AAEiCIla2mf0no7FEzXGYV_9K8qtPJU43Po')\n",
    ">>> bot.getMe()\n"
   ]
  },
  {
   "cell_type": "code",
   "execution_count": 5,
   "metadata": {},
   "outputs": [
    {
     "data": {
      "text/plain": "[{'update_id': 305714330,\n  'message': {'message_id': 47,\n   'from': {'id': 1190128536,\n    'is_bot': False,\n    'first_name': 'Ss',\n    'username': 'algo_s',\n    'language_code': 'en'},\n   'chat': {'id': 1190128536,\n    'first_name': 'Ss',\n    'username': 'algo_s',\n    'type': 'private'},\n   'date': 1626068976,\n   'text': 'hi'}},\n {'update_id': 305714331,\n  'message': {'message_id': 48,\n   'from': {'id': 1190128536,\n    'is_bot': False,\n    'first_name': 'Ss',\n    'username': 'algo_s',\n    'language_code': 'en'},\n   'chat': {'id': 1190128536,\n    'first_name': 'Ss',\n    'username': 'algo_s',\n    'type': 'private'},\n   'date': 1626068976,\n   'text': 'hi'}},\n {'update_id': 305714332,\n  'message': {'message_id': 49,\n   'from': {'id': 1190128536,\n    'is_bot': False,\n    'first_name': 'Ss',\n    'username': 'algo_s',\n    'language_code': 'en'},\n   'chat': {'id': 1190128536,\n    'first_name': 'Ss',\n    'username': 'algo_s',\n    'type': 'private'},\n   'date': 1626068977,\n   'text': 'hi'}}]"
     },
     "execution_count": 5,
     "metadata": {},
     "output_type": "execute_result"
    }
   ],
   "source": [
    ">>> from pprint import pprint\n",
    ">>> response = bot.getUpdates()\n",
    "# >>> pprint(response)\n",
    "response\n"
   ]
  },
  {
   "cell_type": "code",
   "execution_count": 6,
   "metadata": {},
   "outputs": [],
   "source": [
    "data=response[0]['message']['text']"
   ]
  },
  {
   "cell_type": "code",
   "execution_count": 7,
   "metadata": {},
   "outputs": [
    {
     "name": "stdout",
     "output_type": "stream",
     "text": [
      "{'chat': {'first_name': 'Ss',\n",
      "          'id': 1190128536,\n",
      "          'type': 'private',\n",
      "          'username': 'algo_s'},\n",
      " 'date': 1626068976,\n",
      " 'from': {'first_name': 'Ss',\n",
      "          'id': 1190128536,\n",
      "          'is_bot': False,\n",
      "          'language_code': 'en',\n",
      "          'username': 'algo_s'},\n",
      " 'message_id': 47,\n",
      " 'text': 'hi'}\n",
      "{'chat': {'first_name': 'Ss',\n",
      "          'id': 1190128536,\n",
      "          'type': 'private',\n",
      "          'username': 'algo_s'},\n",
      " 'date': 1626068976,\n",
      " 'from': {'first_name': 'Ss',\n",
      "          'id': 1190128536,\n",
      "          'is_bot': False,\n",
      "          'language_code': 'en',\n",
      "          'username': 'algo_s'},\n",
      " 'message_id': 48,\n",
      " 'text': 'hi'}\n",
      "{'chat': {'first_name': 'Ss',\n",
      "          'id': 1190128536,\n",
      "          'type': 'private',\n",
      "          'username': 'algo_s'},\n",
      " 'date': 1626068977,\n",
      " 'from': {'first_name': 'Ss',\n",
      "          'id': 1190128536,\n",
      "          'is_bot': False,\n",
      "          'language_code': 'en',\n",
      "          'username': 'algo_s'},\n",
      " 'message_id': 49,\n",
      " 'text': 'hi'}\n",
      "{'chat': {'first_name': 'Ss',\n",
      "          'id': 1190128536,\n",
      "          'type': 'private',\n",
      "          'username': 'algo_s'},\n",
      " 'date': 1626069012,\n",
      " 'from': {'first_name': 'Ss',\n",
      "          'id': 1190128536,\n",
      "          'is_bot': False,\n",
      "          'language_code': 'en',\n",
      "          'username': 'algo_s'},\n",
      " 'message_id': 50,\n",
      " 'text': 'horde'}\n"
     ]
    }
   ],
   "source": [
    ">>> from telepot.loop import MessageLoop\n",
    ">>> def handle(msg):\n",
    "...     pprint(msg)\n",
    "...\n",
    ">>> MessageLoop(bot, handle).run_as_thread()"
   ]
  },
  {
   "cell_type": "code",
   "execution_count": 9,
   "metadata": {},
   "outputs": [
    {
     "data": {
      "text/plain": "{'message_id': 51,\n 'from': {'id': 1815677087,\n  'is_bot': True,\n  'first_name': 'Trading bot',\n  'username': 'trading_bot_12_bot'},\n 'chat': {'id': 1190128536,\n  'first_name': 'Ss',\n  'username': 'algo_s',\n  'type': 'private'},\n 'date': 1626069078,\n 'text': 'Hey!'}"
     },
     "execution_count": 9,
     "metadata": {},
     "output_type": "execute_result"
    }
   ],
   "source": [
    "bot.sendMessage(1190128536, 'Hey!')"
   ]
  },
  {
   "cell_type": "code",
   "execution_count": 10,
   "metadata": {},
   "outputs": [
    {
     "name": "stdout",
     "output_type": "stream",
     "text": [
      "Listening ...\n"
     ]
    },
    {
     "name": "stderr",
     "output_type": "stream",
     "text": [
      "Traceback (most recent call last):\n",
      "  File \"/Library/Frameworks/Python.framework/Versions/3.9/lib/python3.9/site-packages/telepot/loop.py\", line 58, in run_forever\n",
      "    result = self._bot.getUpdates(offset=offset,\n",
      "  File \"/Library/Frameworks/Python.framework/Versions/3.9/lib/python3.9/site-packages/telepot/__init__.py\", line 1000, in getUpdates\n",
      "    return self._api_request('getUpdates', _rectify(p))\n",
      "  File \"/Library/Frameworks/Python.framework/Versions/3.9/lib/python3.9/site-packages/telepot/__init__.py\", line 491, in _api_request\n",
      "    return api.request((self._token, method, params, files), **kwargs)\n",
      "  File \"/Library/Frameworks/Python.framework/Versions/3.9/lib/python3.9/site-packages/telepot/api.py\", line 155, in request\n",
      "    return _parse(r)\n",
      "  File \"/Library/Frameworks/Python.framework/Versions/3.9/lib/python3.9/site-packages/telepot/api.py\", line 150, in _parse\n",
      "    raise exception.TelegramError(description, error_code, data)\n",
      "telepot.exception.TelegramError: ('Not Found', 404, {'ok': False, 'error_code': 404, 'description': 'Not Found'})\n",
      "Traceback (most recent call last):\n",
      "  File \"/Library/Frameworks/Python.framework/Versions/3.9/lib/python3.9/site-packages/telepot/loop.py\", line 58, in run_forever\n",
      "    result = self._bot.getUpdates(offset=offset,\n",
      "  File \"/Library/Frameworks/Python.framework/Versions/3.9/lib/python3.9/site-packages/telepot/__init__.py\", line 1000, in getUpdates\n",
      "    return self._api_request('getUpdates', _rectify(p))\n",
      "  File \"/Library/Frameworks/Python.framework/Versions/3.9/lib/python3.9/site-packages/telepot/__init__.py\", line 491, in _api_request\n",
      "    return api.request((self._token, method, params, files), **kwargs)\n",
      "  File \"/Library/Frameworks/Python.framework/Versions/3.9/lib/python3.9/site-packages/telepot/api.py\", line 155, in request\n",
      "    return _parse(r)\n",
      "  File \"/Library/Frameworks/Python.framework/Versions/3.9/lib/python3.9/site-packages/telepot/api.py\", line 150, in _parse\n",
      "    raise exception.TelegramError(description, error_code, data)\n",
      "telepot.exception.TelegramError: ('Not Found', 404, {'ok': False, 'error_code': 404, 'description': 'Not Found'})\n",
      "Traceback (most recent call last):\n",
      "  File \"/Library/Frameworks/Python.framework/Versions/3.9/lib/python3.9/site-packages/telepot/loop.py\", line 58, in run_forever\n",
      "    result = self._bot.getUpdates(offset=offset,\n",
      "  File \"/Library/Frameworks/Python.framework/Versions/3.9/lib/python3.9/site-packages/telepot/__init__.py\", line 1000, in getUpdates\n",
      "    return self._api_request('getUpdates', _rectify(p))\n",
      "  File \"/Library/Frameworks/Python.framework/Versions/3.9/lib/python3.9/site-packages/telepot/__init__.py\", line 491, in _api_request\n",
      "    return api.request((self._token, method, params, files), **kwargs)\n",
      "  File \"/Library/Frameworks/Python.framework/Versions/3.9/lib/python3.9/site-packages/telepot/api.py\", line 155, in request\n",
      "    return _parse(r)\n",
      "  File \"/Library/Frameworks/Python.framework/Versions/3.9/lib/python3.9/site-packages/telepot/api.py\", line 150, in _parse\n",
      "    raise exception.TelegramError(description, error_code, data)\n",
      "telepot.exception.TelegramError: ('Not Found', 404, {'ok': False, 'error_code': 404, 'description': 'Not Found'})\n",
      "Traceback (most recent call last):\n",
      "  File \"/Library/Frameworks/Python.framework/Versions/3.9/lib/python3.9/site-packages/telepot/loop.py\", line 58, in run_forever\n",
      "    result = self._bot.getUpdates(offset=offset,\n",
      "  File \"/Library/Frameworks/Python.framework/Versions/3.9/lib/python3.9/site-packages/telepot/__init__.py\", line 1000, in getUpdates\n",
      "    return self._api_request('getUpdates', _rectify(p))\n",
      "  File \"/Library/Frameworks/Python.framework/Versions/3.9/lib/python3.9/site-packages/telepot/__init__.py\", line 491, in _api_request\n",
      "    return api.request((self._token, method, params, files), **kwargs)\n",
      "  File \"/Library/Frameworks/Python.framework/Versions/3.9/lib/python3.9/site-packages/telepot/api.py\", line 155, in request\n",
      "    return _parse(r)\n",
      "  File \"/Library/Frameworks/Python.framework/Versions/3.9/lib/python3.9/site-packages/telepot/api.py\", line 150, in _parse\n",
      "    raise exception.TelegramError(description, error_code, data)\n",
      "telepot.exception.TelegramError: ('Not Found', 404, {'ok': False, 'error_code': 404, 'description': 'Not Found'})\n",
      "Traceback (most recent call last):\n",
      "  File \"/Library/Frameworks/Python.framework/Versions/3.9/lib/python3.9/site-packages/telepot/loop.py\", line 58, in run_forever\n",
      "    result = self._bot.getUpdates(offset=offset,\n",
      "  File \"/Library/Frameworks/Python.framework/Versions/3.9/lib/python3.9/site-packages/telepot/__init__.py\", line 1000, in getUpdates\n",
      "    return self._api_request('getUpdates', _rectify(p))\n",
      "  File \"/Library/Frameworks/Python.framework/Versions/3.9/lib/python3.9/site-packages/telepot/__init__.py\", line 491, in _api_request\n",
      "    return api.request((self._token, method, params, files), **kwargs)\n",
      "  File \"/Library/Frameworks/Python.framework/Versions/3.9/lib/python3.9/site-packages/telepot/api.py\", line 155, in request\n",
      "    return _parse(r)\n",
      "  File \"/Library/Frameworks/Python.framework/Versions/3.9/lib/python3.9/site-packages/telepot/api.py\", line 150, in _parse\n",
      "    raise exception.TelegramError(description, error_code, data)\n",
      "telepot.exception.TelegramError: ('Not Found', 404, {'ok': False, 'error_code': 404, 'description': 'Not Found'})\n",
      "Traceback (most recent call last):\n",
      "  File \"/Library/Frameworks/Python.framework/Versions/3.9/lib/python3.9/site-packages/telepot/loop.py\", line 58, in run_forever\n",
      "    result = self._bot.getUpdates(offset=offset,\n",
      "  File \"/Library/Frameworks/Python.framework/Versions/3.9/lib/python3.9/site-packages/telepot/__init__.py\", line 1000, in getUpdates\n",
      "    return self._api_request('getUpdates', _rectify(p))\n",
      "  File \"/Library/Frameworks/Python.framework/Versions/3.9/lib/python3.9/site-packages/telepot/__init__.py\", line 491, in _api_request\n",
      "    return api.request((self._token, method, params, files), **kwargs)\n",
      "  File \"/Library/Frameworks/Python.framework/Versions/3.9/lib/python3.9/site-packages/telepot/api.py\", line 155, in request\n",
      "    return _parse(r)\n",
      "  File \"/Library/Frameworks/Python.framework/Versions/3.9/lib/python3.9/site-packages/telepot/api.py\", line 150, in _parse\n",
      "    raise exception.TelegramError(description, error_code, data)\n",
      "telepot.exception.TelegramError: ('Not Found', 404, {'ok': False, 'error_code': 404, 'description': 'Not Found'})\n",
      "Traceback (most recent call last):\n",
      "  File \"/Library/Frameworks/Python.framework/Versions/3.9/lib/python3.9/site-packages/telepot/loop.py\", line 58, in run_forever\n",
      "    result = self._bot.getUpdates(offset=offset,\n",
      "  File \"/Library/Frameworks/Python.framework/Versions/3.9/lib/python3.9/site-packages/telepot/__init__.py\", line 1000, in getUpdates\n",
      "    return self._api_request('getUpdates', _rectify(p))\n",
      "  File \"/Library/Frameworks/Python.framework/Versions/3.9/lib/python3.9/site-packages/telepot/__init__.py\", line 491, in _api_request\n",
      "    return api.request((self._token, method, params, files), **kwargs)\n",
      "  File \"/Library/Frameworks/Python.framework/Versions/3.9/lib/python3.9/site-packages/telepot/api.py\", line 155, in request\n",
      "    return _parse(r)\n",
      "  File \"/Library/Frameworks/Python.framework/Versions/3.9/lib/python3.9/site-packages/telepot/api.py\", line 150, in _parse\n",
      "    raise exception.TelegramError(description, error_code, data)\n",
      "telepot.exception.TelegramError: ('Not Found', 404, {'ok': False, 'error_code': 404, 'description': 'Not Found'})\n",
      "Traceback (most recent call last):\n",
      "  File \"/Library/Frameworks/Python.framework/Versions/3.9/lib/python3.9/site-packages/telepot/loop.py\", line 58, in run_forever\n",
      "    result = self._bot.getUpdates(offset=offset,\n",
      "  File \"/Library/Frameworks/Python.framework/Versions/3.9/lib/python3.9/site-packages/telepot/__init__.py\", line 1000, in getUpdates\n",
      "    return self._api_request('getUpdates', _rectify(p))\n",
      "  File \"/Library/Frameworks/Python.framework/Versions/3.9/lib/python3.9/site-packages/telepot/__init__.py\", line 491, in _api_request\n",
      "    return api.request((self._token, method, params, files), **kwargs)\n",
      "  File \"/Library/Frameworks/Python.framework/Versions/3.9/lib/python3.9/site-packages/telepot/api.py\", line 155, in request\n",
      "    return _parse(r)\n",
      "  File \"/Library/Frameworks/Python.framework/Versions/3.9/lib/python3.9/site-packages/telepot/api.py\", line 150, in _parse\n",
      "    raise exception.TelegramError(description, error_code, data)\n",
      "telepot.exception.TelegramError: ('Not Found', 404, {'ok': False, 'error_code': 404, 'description': 'Not Found'})\n"
     ]
    }
   ],
   "source": [
    "import sys\n",
    "import time\n",
    "import telepot\n",
    "from telepot.loop import MessageLoop\n",
    "\n",
    "def handle(msg):\n",
    "    content_type, chat_type, chat_id = telepot.glance(msg)\n",
    "    print(content_type, chat_type, chat_id)\n",
    "\n",
    "    if content_type == 'text':\n",
    "        bot.sendMessage(chat_id, msg['text'])\n",
    "\n",
    "TOKEN = sys.argv[1]  # get token from command-line\n",
    "\n",
    "bot = telepot.Bot(TOKEN)\n",
    "MessageLoop(bot, handle).run_as_thread()\n",
    "print ('Listening ...')\n",
    "\n",
    "# Keep the program running.\n",
    "while 1:\n",
    "    time.sleep(10)"
   ]
  },
  {
   "cell_type": "code",
   "execution_count": 1,
   "metadata": {},
   "outputs": [
    {
     "name": "stderr",
     "output_type": "stream",
     "text": [
      "Exception in thread Thread-4:\n",
      "Traceback (most recent call last):\n",
      "  File \"/Library/Frameworks/Python.framework/Versions/3.9/lib/python3.9/threading.py\", line 954, in _bootstrap_inner\n",
      "    self.run()\n",
      "  File \"/Library/Frameworks/Python.framework/Versions/3.9/lib/python3.9/threading.py\", line 892, in run\n",
      "    self._target(*self._args, **self._kwargs)\n",
      "  File \"/Library/Frameworks/Python.framework/Versions/3.9/lib/python3.9/site-packages/multitasking/__init__.py\", line 102, in _run_via_pool\n",
      "    return callee(*args, **kwargs)\n",
      "  File \"/Library/Frameworks/Python.framework/Versions/3.9/lib/python3.9/site-packages/yfinance/multi.py\", line 167, in _download_one_threaded\n",
      "    data = _download_one(ticker, start, end, auto_adjust, back_adjust,\n",
      "  File \"/Library/Frameworks/Python.framework/Versions/3.9/lib/python3.9/site-packages/yfinance/multi.py\", line 179, in _download_one\n",
      "    return Ticker(ticker).history(period=period, interval=interval,\n",
      "  File \"/Library/Frameworks/Python.framework/Versions/3.9/lib/python3.9/site-packages/yfinance/base.py\", line 157, in history\n",
      "    data = data.json()\n",
      "  File \"/Library/Frameworks/Python.framework/Versions/3.9/lib/python3.9/site-packages/requests/models.py\", line 900, in json\n",
      "    return complexjson.loads(self.text, **kwargs)\n",
      "  File \"/Library/Frameworks/Python.framework/Versions/3.9/lib/python3.9/site-packages/simplejson/__init__.py\", line 525, in loads\n",
      "    return _default_decoder.decode(s)\n",
      "  File \"/Library/Frameworks/Python.framework/Versions/3.9/lib/python3.9/site-packages/simplejson/decoder.py\", line 370, in decode\n",
      "    obj, end = self.raw_decode(s)\n",
      "  File \"/Library/Frameworks/Python.framework/Versions/3.9/lib/python3.9/site-packages/simplejson/decoder.py\", line 400, in raw_decode\n",
      "    return self.scan_once(s, idx=_w(s, idx).end())\n",
      "simplejson.errors.JSONDecodeError: Expecting value: line 1 column 1 (char 0)\n"
     ]
    }
   ],
   "source": [
    "import yfinance as yf\n",
    "import datetime as dt\n",
    "\n",
    "data=yf.download('RELIANCE.NS',dt.datetime.today()-dt.timedelta(34),dt.datetime.today(),interval='15m')"
   ]
  },
  {
   "cell_type": "code",
   "execution_count": null,
   "metadata": {},
   "outputs": [],
   "source": [
    "data"
   ]
  }
 ],
 "metadata": {
  "kernelspec": {
   "display_name": "Python 3.9.5 64-bit",
   "name": "python395jvsc74a57bd0aee8b7b246df8f9039afb4144a1f6fd8d2ca17a180786b69acc140d282b71a49"
  },
  "language_info": {
   "codemirror_mode": {
    "name": "ipython",
    "version": 3
   },
   "file_extension": ".py",
   "mimetype": "text/x-python",
   "name": "python",
   "nbconvert_exporter": "python",
   "pygments_lexer": "ipython3",
   "version": "3.9.5"
  },
  "metadata": {
   "interpreter": {
    "hash": "aee8b7b246df8f9039afb4144a1f6fd8d2ca17a180786b69acc140d282b71a49"
   }
  },
  "orig_nbformat": 2
 },
 "nbformat": 4,
 "nbformat_minor": 2
}