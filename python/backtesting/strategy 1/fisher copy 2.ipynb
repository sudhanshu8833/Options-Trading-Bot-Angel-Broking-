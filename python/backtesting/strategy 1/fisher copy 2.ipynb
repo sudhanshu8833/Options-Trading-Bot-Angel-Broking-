{
 "metadata": {
  "language_info": {
   "codemirror_mode": {
    "name": "ipython",
    "version": 3
   },
   "file_extension": ".py",
   "mimetype": "text/x-python",
   "name": "python",
   "nbconvert_exporter": "python",
   "pygments_lexer": "ipython3",
   "version": "3.9.5"
  },
  "orig_nbformat": 2,
  "kernelspec": {
   "name": "python395jvsc74a57bd0aee8b7b246df8f9039afb4144a1f6fd8d2ca17a180786b69acc140d282b71a49",
   "display_name": "Python 3.9.5 64-bit"
  },
  "metadata": {
   "interpreter": {
    "hash": "aee8b7b246df8f9039afb4144a1f6fd8d2ca17a180786b69acc140d282b71a49"
   }
  }
 },
 "nbformat": 4,
 "nbformat_minor": 2,
 "cells": [
  {
   "cell_type": "code",
   "execution_count": 1,
   "metadata": {},
   "outputs": [
    {
     "output_type": "error",
     "ename": "Exception",
     "evalue": "Please configure your keys in keys.conf",
     "traceback": [
      "\u001b[0;31m---------------------------------------------------------------------------\u001b[0m",
      "\u001b[0;31mKeyError\u001b[0m                                  Traceback (most recent call last)",
      "\u001b[0;32m/Library/Frameworks/Python.framework/Versions/3.9/lib/python3.9/site-packages/py5paisa/conf.py\u001b[0m in \u001b[0;36m<module>\u001b[0;34m\u001b[0m\n\u001b[1;32m      8\u001b[0m \u001b[0;32mtry\u001b[0m\u001b[0;34m:\u001b[0m\u001b[0;34m\u001b[0m\u001b[0;34m\u001b[0m\u001b[0m\n\u001b[0;32m----> 9\u001b[0;31m     \u001b[0msection\u001b[0m \u001b[0;34m=\u001b[0m \u001b[0mconfig\u001b[0m\u001b[0;34m[\u001b[0m\u001b[0;34m\"KEYS\"\u001b[0m\u001b[0;34m]\u001b[0m\u001b[0;34m\u001b[0m\u001b[0;34m\u001b[0m\u001b[0m\n\u001b[0m\u001b[1;32m     10\u001b[0m \u001b[0;32mexcept\u001b[0m \u001b[0mKeyError\u001b[0m\u001b[0;34m:\u001b[0m\u001b[0;34m\u001b[0m\u001b[0;34m\u001b[0m\u001b[0m\n",
      "\u001b[0;32m/Library/Frameworks/Python.framework/Versions/3.9/lib/python3.9/configparser.py\u001b[0m in \u001b[0;36m__getitem__\u001b[0;34m(self, key)\u001b[0m\n\u001b[1;32m    959\u001b[0m         \u001b[0;32mif\u001b[0m \u001b[0mkey\u001b[0m \u001b[0;34m!=\u001b[0m \u001b[0mself\u001b[0m\u001b[0;34m.\u001b[0m\u001b[0mdefault_section\u001b[0m \u001b[0;32mand\u001b[0m \u001b[0;32mnot\u001b[0m \u001b[0mself\u001b[0m\u001b[0;34m.\u001b[0m\u001b[0mhas_section\u001b[0m\u001b[0;34m(\u001b[0m\u001b[0mkey\u001b[0m\u001b[0;34m)\u001b[0m\u001b[0;34m:\u001b[0m\u001b[0;34m\u001b[0m\u001b[0;34m\u001b[0m\u001b[0m\n\u001b[0;32m--> 960\u001b[0;31m             \u001b[0;32mraise\u001b[0m \u001b[0mKeyError\u001b[0m\u001b[0;34m(\u001b[0m\u001b[0mkey\u001b[0m\u001b[0;34m)\u001b[0m\u001b[0;34m\u001b[0m\u001b[0;34m\u001b[0m\u001b[0m\n\u001b[0m\u001b[1;32m    961\u001b[0m         \u001b[0;32mreturn\u001b[0m \u001b[0mself\u001b[0m\u001b[0;34m.\u001b[0m\u001b[0m_proxies\u001b[0m\u001b[0;34m[\u001b[0m\u001b[0mkey\u001b[0m\u001b[0;34m]\u001b[0m\u001b[0;34m\u001b[0m\u001b[0;34m\u001b[0m\u001b[0m\n",
      "\u001b[0;31mKeyError\u001b[0m: 'KEYS'",
      "\nDuring handling of the above exception, another exception occurred:\n",
      "\u001b[0;31mException\u001b[0m                                 Traceback (most recent call last)",
      "\u001b[0;32m<ipython-input-1-63bc0415b88b>\u001b[0m in \u001b[0;36m<module>\u001b[0;34m\u001b[0m\n\u001b[1;32m      7\u001b[0m \u001b[0;32mimport\u001b[0m \u001b[0mcopy\u001b[0m\u001b[0;34m\u001b[0m\u001b[0;34m\u001b[0m\u001b[0m\n\u001b[1;32m      8\u001b[0m \u001b[0;32mimport\u001b[0m \u001b[0mjson\u001b[0m\u001b[0;34m\u001b[0m\u001b[0;34m\u001b[0m\u001b[0m\n\u001b[0;32m----> 9\u001b[0;31m \u001b[0;32mfrom\u001b[0m \u001b[0mpy5paisa\u001b[0m \u001b[0;32mimport\u001b[0m \u001b[0mFivePaisaClient\u001b[0m\u001b[0;34m\u001b[0m\u001b[0;34m\u001b[0m\u001b[0m\n\u001b[0m\u001b[1;32m     10\u001b[0m \u001b[0;34m\u001b[0m\u001b[0m\n\u001b[1;32m     11\u001b[0m \u001b[0mclient\u001b[0m \u001b[0;34m=\u001b[0m \u001b[0mFivePaisaClient\u001b[0m\u001b[0;34m(\u001b[0m\u001b[0memail\u001b[0m\u001b[0;34m=\u001b[0m\u001b[0;34m\"sudhanshu8833@gmail.com\"\u001b[0m\u001b[0;34m,\u001b[0m \u001b[0mpasswd\u001b[0m\u001b[0;34m=\u001b[0m\u001b[0;34m\"Madhya246###\"\u001b[0m\u001b[0;34m,\u001b[0m \u001b[0mdob\u001b[0m\u001b[0;34m=\u001b[0m\u001b[0;34m\"20010626\"\u001b[0m\u001b[0;34m)\u001b[0m\u001b[0;34m\u001b[0m\u001b[0;34m\u001b[0m\u001b[0m\n",
      "\u001b[0;32m/Library/Frameworks/Python.framework/Versions/3.9/lib/python3.9/site-packages/py5paisa/__init__.py\u001b[0m in \u001b[0;36m<module>\u001b[0;34m\u001b[0m\n\u001b[0;32m----> 1\u001b[0;31m \u001b[0;32mfrom\u001b[0m \u001b[0mpy5paisa\u001b[0m\u001b[0;34m.\u001b[0m\u001b[0mpy5paisa\u001b[0m \u001b[0;32mimport\u001b[0m \u001b[0mFivePaisaClient\u001b[0m\u001b[0;34m\u001b[0m\u001b[0;34m\u001b[0m\u001b[0m\n\u001b[0m\u001b[1;32m      2\u001b[0m \u001b[0;34m\u001b[0m\u001b[0m\n\u001b[1;32m      3\u001b[0m \u001b[0m__all__\u001b[0m \u001b[0;34m=\u001b[0m \u001b[0;34m[\u001b[0m\u001b[0;34m\"FivePaisaClient\"\u001b[0m\u001b[0;34m]\u001b[0m\u001b[0;34m\u001b[0m\u001b[0;34m\u001b[0m\u001b[0m\n",
      "\u001b[0;32m/Library/Frameworks/Python.framework/Versions/3.9/lib/python3.9/site-packages/py5paisa/py5paisa.py\u001b[0m in \u001b[0;36m<module>\u001b[0;34m\u001b[0m\n\u001b[1;32m      1\u001b[0m \u001b[0;32mimport\u001b[0m \u001b[0mrequests\u001b[0m\u001b[0;34m\u001b[0m\u001b[0;34m\u001b[0m\u001b[0m\n\u001b[1;32m      2\u001b[0m \u001b[0;32mfrom\u001b[0m \u001b[0mrequests\u001b[0m\u001b[0;34m.\u001b[0m\u001b[0mpackages\u001b[0m\u001b[0;34m.\u001b[0m\u001b[0murllib3\u001b[0m\u001b[0;34m.\u001b[0m\u001b[0mexceptions\u001b[0m \u001b[0;32mimport\u001b[0m \u001b[0mInsecureRequestWarning\u001b[0m\u001b[0;34m\u001b[0m\u001b[0;34m\u001b[0m\u001b[0m\n\u001b[0;32m----> 3\u001b[0;31m \u001b[0;32mfrom\u001b[0m \u001b[0;34m.\u001b[0m\u001b[0mauth\u001b[0m \u001b[0;32mimport\u001b[0m \u001b[0mEncryptionClient\u001b[0m\u001b[0;34m\u001b[0m\u001b[0;34m\u001b[0m\u001b[0m\n\u001b[0m\u001b[1;32m      4\u001b[0m \u001b[0;32mfrom\u001b[0m \u001b[0;34m.\u001b[0m\u001b[0mconst\u001b[0m \u001b[0;32mimport\u001b[0m \u001b[0mGENERIC_PAYLOAD\u001b[0m\u001b[0;34m,\u001b[0m \u001b[0mLOGIN_PAYLOAD\u001b[0m\u001b[0;34m,\u001b[0m \u001b[0mHEADERS\u001b[0m\u001b[0;34m,\u001b[0m \u001b[0mNEXT_DAY_TIMESTAMP\u001b[0m\u001b[0;34m,\u001b[0m \u001b[0mTODAY_TIMESTAMP\u001b[0m\u001b[0;34m,\u001b[0m\u001b[0mLOGIN_CHECK_PAYLOAD\u001b[0m\u001b[0;34m,\u001b[0m\u001b[0mWS_PAYLOAD\u001b[0m\u001b[0;34m,\u001b[0m\u001b[0mJWT_PAYLOAD\u001b[0m\u001b[0;34m,\u001b[0m\u001b[0mJWT_HEADERS\u001b[0m\u001b[0;34m\u001b[0m\u001b[0;34m\u001b[0m\u001b[0m\n\u001b[1;32m      5\u001b[0m \u001b[0;32mfrom\u001b[0m \u001b[0;34m.\u001b[0m\u001b[0mconf\u001b[0m \u001b[0;32mimport\u001b[0m \u001b[0mAPP_SOURCE\u001b[0m\u001b[0;34m\u001b[0m\u001b[0;34m\u001b[0m\u001b[0m\n",
      "\u001b[0;32m/Library/Frameworks/Python.framework/Versions/3.9/lib/python3.9/site-packages/py5paisa/auth.py\u001b[0m in \u001b[0;36m<module>\u001b[0;34m\u001b[0m\n\u001b[1;32m      6\u001b[0m \u001b[0;32mimport\u001b[0m \u001b[0mbase64\u001b[0m\u001b[0;34m\u001b[0m\u001b[0;34m\u001b[0m\u001b[0m\n\u001b[1;32m      7\u001b[0m \u001b[0;32mfrom\u001b[0m \u001b[0mpbkdf2\u001b[0m \u001b[0;32mimport\u001b[0m \u001b[0mPBKDF2\u001b[0m\u001b[0;34m\u001b[0m\u001b[0;34m\u001b[0m\u001b[0m\n\u001b[0;32m----> 8\u001b[0;31m \u001b[0;32mfrom\u001b[0m \u001b[0;34m.\u001b[0m\u001b[0mconf\u001b[0m \u001b[0;32mimport\u001b[0m \u001b[0mENCRYPTION_KEY\u001b[0m\u001b[0;34m\u001b[0m\u001b[0;34m\u001b[0m\u001b[0m\n\u001b[0m\u001b[1;32m      9\u001b[0m \u001b[0;34m\u001b[0m\u001b[0m\n\u001b[1;32m     10\u001b[0m \u001b[0;34m\u001b[0m\u001b[0m\n",
      "\u001b[0;32m/Library/Frameworks/Python.framework/Versions/3.9/lib/python3.9/site-packages/py5paisa/conf.py\u001b[0m in \u001b[0;36m<module>\u001b[0;34m\u001b[0m\n\u001b[1;32m      9\u001b[0m     \u001b[0msection\u001b[0m \u001b[0;34m=\u001b[0m \u001b[0mconfig\u001b[0m\u001b[0;34m[\u001b[0m\u001b[0;34m\"KEYS\"\u001b[0m\u001b[0;34m]\u001b[0m\u001b[0;34m\u001b[0m\u001b[0;34m\u001b[0m\u001b[0m\n\u001b[1;32m     10\u001b[0m \u001b[0;32mexcept\u001b[0m \u001b[0mKeyError\u001b[0m\u001b[0;34m:\u001b[0m\u001b[0;34m\u001b[0m\u001b[0;34m\u001b[0m\u001b[0m\n\u001b[0;32m---> 11\u001b[0;31m     \u001b[0;32mraise\u001b[0m \u001b[0mException\u001b[0m\u001b[0;34m(\u001b[0m\u001b[0;34m\"Please configure your keys in keys.conf\"\u001b[0m\u001b[0;34m)\u001b[0m\u001b[0;34m\u001b[0m\u001b[0;34m\u001b[0m\u001b[0m\n\u001b[0m\u001b[1;32m     12\u001b[0m \u001b[0;34m\u001b[0m\u001b[0m\n\u001b[1;32m     13\u001b[0m \u001b[0mAPP_SOURCE\u001b[0m \u001b[0;34m=\u001b[0m \u001b[0mconfig\u001b[0m\u001b[0;34m[\u001b[0m\u001b[0;34m\"KEYS\"\u001b[0m\u001b[0;34m]\u001b[0m\u001b[0;34m[\u001b[0m\u001b[0;34m\"APP_SOURCE\"\u001b[0m\u001b[0;34m]\u001b[0m\u001b[0;34m\u001b[0m\u001b[0;34m\u001b[0m\u001b[0m\n",
      "\u001b[0;31mException\u001b[0m: Please configure your keys in keys.conf"
     ]
    }
   ],
   "source": [
    "import pandas as pd\n",
    "import time\n",
    "from finta import TA\n",
    "import numpy as np\n",
    "import pandas as pd\n",
    "import datetime as dt\n",
    "import copy\n",
    "import json\n",
    "from py5paisa import FivePaisaClient\n",
    "\n",
    "client = FivePaisaClient(email=\"sudhanshu8833@gmail.com\", passwd=\"Madhya246###\", dob=\"20010626\")\n",
    "client.login()\n"
   ]
  },
  {
   "cell_type": "code",
   "execution_count": null,
   "metadata": {},
   "outputs": [],
   "source": []
  },
  {
   "cell_type": "code",
   "execution_count": null,
   "metadata": {},
   "outputs": [],
   "source": [
    "tickers={\"7\":\"AARTIIND\",\"100\":\"AMARAJABAT\",\"144\":\"GODREJAG\",\"163\":\"APOLLOTYRE\",\"212\":\"ASHOKLEY\",\"220\":\"IEX\",\"275\":\"AUROPHAR\",\"277\":\"GICRE\",\"341\":\"BALRAMCH\",\"357\":\"NAM-INDIA\",\"383\":\"BEL\",\"399\":\"NIACL\",\"404\":\"BERGEPAI\",\"419\":\"BEPL\",\"422\":\"BHARATFO\",\"425\":\"KHADIM\",\"467\":\"HDFCLIFE\",\"477\":\"BIRLACABLE\",\"509\":\"MAZDOCK\",\"526\":\"BPCL\",\"583\":\"CANFINHO\",\"592\":\"GRAPHITE\",\"625\":\"CENTURYT\",\"637\":\"CHAMBLFERT\",\"676\":\"EXIDEIND\",\"685\":\"CHOLAFIN\",\"694\":\"CIPLA\",\"701\":\"HEMIPROP\",\"724\":\"TATACOFF\",\"772\":\"DABUR\",\"811\":\"DCMSHRIR\",\"919\":\"EIHOTEL\",\"981\":\"EPL\",\"1008\":\"FACT\",\"1041\":\"FINPIPE\",\"1076\":\"ZENSARTECH\",\"1085\":\"GABRIEL\",\"1139\":\"GICHSGFIN\",\"1174\":\"GNFC\",\"1235\":\"GREAVESCOT\",\"1247\":\"GSFC\",\"1250\":\"CASTROLIND\"}"
   ]
  },
  {
   "cell_type": "code",
   "execution_count": null,
   "metadata": {},
   "outputs": [],
   "source": []
  },
  {
   "cell_type": "code",
   "execution_count": null,
   "metadata": {},
   "outputs": [],
   "source": [
    "ohlc_intraday={}\n",
    "for ticker in tickers:\n",
    "    print(\"getting data for: \",tickers[ticker])\n",
    "    df=client.historical_data('N','C',int(ticker),'5m','2021-01-20','2021-06-18')\n",
    "    df.set_index(\"Datetime\",inplace=True)\n",
    "    \n",
    "    ohlc_intraday[ticker]=df\n",
    "\n",
    "\n",
    "  "
   ]
  },
  {
   "cell_type": "code",
   "execution_count": null,
   "metadata": {},
   "outputs": [],
   "source": [
    "ohlc_intraday"
   ]
  },
  {
   "cell_type": "code",
   "execution_count": null,
   "metadata": {},
   "outputs": [],
   "source": [
    "ohlc_dict=copy.deepcopy(ohlc_intraday)"
   ]
  },
  {
   "cell_type": "code",
   "execution_count": null,
   "metadata": {},
   "outputs": [],
   "source": [
    "def MACD(DF,a,b,c):\n",
    "    \"\"\"function to calculate MACD\n",
    "       typical values a = 12; b =26, c =9\"\"\"\n",
    "    df = DF.copy()\n",
    "    df[\"MA_Fast\"]=df[\"close\"].ewm(span=a,min_periods=a).mean()\n",
    "    df[\"MA_Slow\"]=df[\"close\"].ewm(span=b,min_periods=b).mean()\n",
    "    df[\"MACD\"]=df[\"MA_Fast\"]-df[\"MA_Slow\"]\n",
    "    df[\"Signal\"]=df[\"MACD\"].ewm(span=c,min_periods=c).mean()\n",
    "    df.dropna(inplace=True)\n",
    "    df.drop([\"MA_Fast\",\"MA_Slow\"],axis=1)\n",
    "    return df\n",
    "\n",
    "\n",
    "def CAGR(DF):\n",
    "    \"function to calculate the Cumulative Annual Growth Rate of a trading strategy\"\n",
    "    df = DF.copy()\n",
    "    df[\"cum_return\"] = (1 + df[\"ret\"]).cumprod()\n",
    "    n = len(df)/(252*74)\n",
    "    CAGR = (df[\"cum_return\"].tolist()[-1])**(1/n) - 1\n",
    "    return CAGR\n",
    "\n",
    "def volatility(DF):\n",
    "    \"function to calculate annualized volatility of a trading strategy\"\n",
    "    df = DF.copy()\n",
    "    vol = df[\"ret\"].std() * np.sqrt(252*74)\n",
    "    return vol\n",
    "\n",
    "def sharpe(DF,rf):\n",
    "    \"function to calculate sharpe ratio ; rf is the risk free rate\"\n",
    "    df = DF.copy()\n",
    "    sr = (CAGR(df) - rf)/volatility(df)\n",
    "    return sr\n",
    "    \n",
    "\n",
    "def max_dd(DF):\n",
    "    \"function to calculate max drawdown\"\n",
    "    df = DF.copy()\n",
    "    df[\"cum_return\"] = (1 + df[\"ret\"]).cumprod()\n",
    "    df[\"cum_roll_max\"] = df[\"cum_return\"].cummax()\n",
    "    df[\"drawdown\"] = df[\"cum_roll_max\"] - df[\"cum_return\"]\n",
    "    df[\"drawdown_pct\"] = df[\"drawdown\"]/df[\"cum_roll_max\"]\n",
    "    max_dd = df[\"drawdown_pct\"].max()\n",
    "    return max_dd\n",
    "\n",
    "def win_pct(DF):\n",
    "    df=DF.copy()\n",
    "    j=0\n",
    "    for i in range(len(df)):\n",
    "        if df[\"profit\"][i]>0:\n",
    "            j+=1\n",
    "\n",
    "    win_percent=j/len(df)*100\n",
    "\n",
    "    return win_percent\n",
    "            \n"
   ]
  },
  {
   "cell_type": "code",
   "execution_count": null,
   "metadata": {},
   "outputs": [],
   "source": [
    "tickers_signal = {}\n",
    "ticker_ret = {}"
   ]
  },
  {
   "cell_type": "code",
   "execution_count": null,
   "metadata": {},
   "outputs": [],
   "source": [
    "for ticker in tickers:\n",
    "\n",
    "    ohlc_dict[ticker].columns=[\"open\",\"high\",\"low\",\"close\",\"volume\"]\n",
    "    ohlc_dict[ticker][\"fisher 20\"]=TA.FISH(ohlc_dict[ticker],20)\n",
    "    ohlc_dict[ticker][\"fisher 10\"]=TA.FISH(ohlc_dict[ticker],10)    \n",
    "    ohlc_dict[ticker][\"RSI 16\"]=TA.RSI(ohlc_dict[ticker],16)\n",
    "    ohlc_dict[ticker][\"RSI 21\"]=TA.RSI(ohlc_dict[ticker],21)\n",
    "    ohlc_dict[ticker][\"MACD macd line\"]=MACD(ohlc_dict[ticker],12,26,9)[\"MACD\"]\n",
    "    ohlc_dict[ticker][\"MACD signal line\"]=MACD(ohlc_dict[ticker],12,26,9)[\"Signal\"]\n",
    "    \n",
    "    ohlc_dict[ticker].dropna(inplace=True)\n",
    "    "
   ]
  },
  {
   "cell_type": "code",
   "execution_count": null,
   "metadata": {},
   "outputs": [],
   "source": [
    "ticker_signal={}\n",
    "ticker_ret={}\n",
    "ohlc_database={}\n",
    "price_in=[]\n",
    "price_out=[]\n",
    "order=[]\n",
    "stock=[]\n"
   ]
  },
  {
   "cell_type": "code",
   "execution_count": null,
   "metadata": {},
   "outputs": [],
   "source": [
    "for ticker in tickers:\n",
    "    ticker_signal[ticker]=[]\n",
    "    ticker_ret[ticker]=[]\n",
    "    ohlc_database[ticker]=pd.DataFrame()\n",
    "\n",
    "    ohlc_dict[].rename(columns={\"open\":\"Open\",\"high\":\"High\",\"low\":\"Low\",\"close\":\"Close\",\"volume\":\"Volume\"},inplace=True)\n",
    "    \n",
    "for ticker in tickers:\n",
    "    signal=\"\"\n",
    "    for i in range(len(ohlc_dict[ticker])):\n",
    "        if signal==\"\":\n",
    "            if ohlc_dict[ticker][\"fisher 10\"][i]>0 and ohlc_dict[ticker][\"fisher 10\"][i-1]<0 and ohlc_dict[ticker][\"RSI 16\"][i]>50: \n",
    "                signal=\"buy\"\n",
    "                price=ohlc_dict[ticker][\"Close\"][i]\n",
    "                price_in.append(ohlc_dict[ticker][\"Close\"][i])\n",
    "                \n",
    "                order.append(\"long\")\n",
    "                stock.append(ticker)\n",
    "\n",
    "                \n",
    "               \n",
    "\n",
    "\n",
    "\n",
    "            elif (ohlc_dict[ticker][\"fisher 20\"][i]<0 and ohlc_dict[ticker][\"fisher 20\"][i-1]>0) and ohlc_dict[ticker][\"MACD macd line\"][i]<ohlc_dict[ticker][\"MACD signal line\"][i] and ohlc_dict[ticker][\"RSI 21\"][i]<42.5:\n",
    "                signal=\"sell\"\n",
    "                price=ohlc_dict[ticker][\"Close\"][i]\n",
    "                \n",
    "                price_in.append(ohlc_dict[ticker][\"Close\"][i])\n",
    "                \n",
    "                order.append(\"short\")\n",
    "                stock.append(ticker)                \n",
    "            ticker_ret[ticker].append(0)\n",
    "\n",
    "        elif signal==\"buy\":\n",
    "            if (ohlc_dict[ticker][\"fisher 20\"][i]<0.5 and ohlc_dict[ticker][\"fisher 20\"][i-1]>0.5) or ohlc_dict[ticker][\"Close\"][i]>=price+.02*price or ohlc_dict[ticker][\"Close\"][i]<=price-.008*price:\n",
    "\n",
    "                signal=\"\"\n",
    "                price_out.append(ohlc_dict[ticker][\"Close\"][i])\n",
    "                ticker_ret[ticker].append((ohlc_dict[ticker][\"Close\"][i]/ohlc_dict[ticker][\"Close\"][i-1])-1)\n",
    "\n",
    "            \n",
    "            \n",
    "            else:\n",
    "                ticker_ret[ticker].append((ohlc_dict[ticker][\"Close\"][i]/ohlc_dict[ticker][\"Close\"][i-1])-1)\n",
    "           \n",
    "        \n",
    "        \n",
    "        elif signal==\"sell\":\n",
    "            if (ohlc_dict[ticker][\"fisher 20\"][i]>-1 and ohlc_dict[ticker][\"fisher 20\"][i-1]<-1) or (ohlc_dict[ticker][\"fisher 20\"][i]>0 and ohlc_dict[ticker][\"fisher 20\"][i-1]<0) or ohlc_dict[ticker][\"Close\"][i]<=price +.02*price or ohlc_dict[ticker][\"Close\"][i]>=price-.005*price:\n",
    "                price_out.append(ohlc_dict[ticker][\"Close\"][i])\n",
    "\n",
    "                signal=\"\"\n",
    "                ticker_ret[ticker].append((ohlc_dict[ticker][\"Close\"][i-1]/ohlc_dict[ticker][\"Close\"][i])-1)\n",
    "\n",
    "          \n",
    "            \n",
    "            else:\n",
    "                ticker_ret[ticker].append((ohlc_dict[ticker][\"Close\"][i-1]/ohlc_dict[ticker][\"Close\"][i])-1)\n",
    "    if len(price_in)!=len(price_out):\n",
    "        price_out.append(ohlc_dict[ticker][\"Close\"][-1])\n",
    "    ohlc_dict[ticker][\"ret\"] = np.array(ticker_ret[ticker])    "
   ]
  },
  {
   "cell_type": "code",
   "execution_count": null,
   "metadata": {},
   "outputs": [],
   "source": [
    "ohlcv_database=pd.DataFrame()\n",
    "\n",
    "ohlcv_database[\"price_in\"]=np.array(price_in)\n",
    "ohlcv_database[\"price_out\"]=np.array(price_out)\n",
    "ohlcv_database[\"order\"]=np.array(order)\n",
    "ohlcv_database[\"stock\"]=np.array(stock)"
   ]
  },
  {
   "cell_type": "code",
   "execution_count": null,
   "metadata": {},
   "outputs": [],
   "source": [
    "profit=[]\n",
    "for i in range(len(ohlcv_database)):\n",
    "    if ohlcv_database[\"order\"][i]==\"long\":\n",
    "        profit.append(((ohlcv_database[\"price_out\"][i]-ohlcv_database[\"price_in\"][i])/ohlcv_database[\"price_in\"][i])*100)\n",
    "\n",
    "    elif ohlcv_database[\"order\"][i]==\"short\":\n",
    "        profit.append(((ohlcv_database[\"price_in\"][i]-ohlcv_database[\"price_out\"][i])/ohlcv_database[\"price_out\"][i])*100)\n",
    "\n",
    "ohlcv_database[\"profit\"]=np.array(profit)"
   ]
  },
  {
   "cell_type": "code",
   "execution_count": null,
   "metadata": {},
   "outputs": [],
   "source": [
    "ohlcv_database"
   ]
  },
  {
   "cell_type": "code",
   "execution_count": null,
   "metadata": {},
   "outputs": [],
   "source": [
    "strategy_df = pd.DataFrame()\n",
    "for ticker in tickers:\n",
    "    strategy_df[ticker] = ohlc_dict[ticker][\"ret\"]\n",
    "strategy_df[\"ret\"] = strategy_df.mean(axis=1)\n",
    "CAGR(strategy_df)\n",
    "\n"
   ]
  },
  {
   "cell_type": "code",
   "execution_count": null,
   "metadata": {},
   "outputs": [],
   "source": [
    "(1+strategy_df[\"ret\"]).cumprod().plot()"
   ]
  },
  {
   "cell_type": "code",
   "execution_count": null,
   "metadata": {},
   "outputs": [],
   "source": [
    "cagr = {}\n",
    "sharpe_ratios = {}\n",
    "max_drawdown = {}\n",
    "win_pcts={}\n",
    "for ticker in tickers:\n",
    "    win=[]\n",
    "    print(\"calculating KPIs for \",ticker)      \n",
    "    cagr[ticker] =  CAGR(ohlc_dict[ticker])\n",
    "    for i in range(len(ohlcv_database)):\n",
    "        if ohlcv_database[\"stock\"][i]==ticker:\n",
    "            \n",
    "            win.append(ohlcv_database[\"profit\"][i])\n",
    "    win_df=pd.DataFrame()\n",
    "    win_df[\"profit\"]=np.array(win)\n",
    "    win_pcts[ticker]=win_pct(win_df)           \n",
    "\n",
    "    sharpe_ratios[ticker] =  sharpe(ohlc_dict[ticker],0.025)\n",
    "    max_drawdown[ticker] =  max_dd(ohlc_dict[ticker])\n",
    "\n",
    "KPI_df = pd.DataFrame([cagr,sharpe_ratios,max_drawdown,win_pcts],index=[\"Return\",\"Sharpe Ratio\",\"Max Drawdown\",\"win_pct\"])      \n",
    "KPI_df.T\n"
   ]
  },
  {
   "cell_type": "code",
   "execution_count": null,
   "metadata": {},
   "outputs": [],
   "source": []
  }
 ]
}