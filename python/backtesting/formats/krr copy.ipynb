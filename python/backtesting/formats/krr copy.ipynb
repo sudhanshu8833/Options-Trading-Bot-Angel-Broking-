{
 "metadata": {
  "language_info": {
   "codemirror_mode": {
    "name": "ipython",
    "version": 3
   },
   "file_extension": ".py",
   "mimetype": "text/x-python",
   "name": "python",
   "nbconvert_exporter": "python",
   "pygments_lexer": "ipython3",
   "version": "3.9.5"
  },
  "orig_nbformat": 2,
  "kernelspec": {
   "name": "python395jvsc74a57bd0aee8b7b246df8f9039afb4144a1f6fd8d2ca17a180786b69acc140d282b71a49",
   "display_name": "Python 3.9.5 64-bit"
  },
  "metadata": {
   "interpreter": {
    "hash": "aee8b7b246df8f9039afb4144a1f6fd8d2ca17a180786b69acc140d282b71a49"
   }
  }
 },
 "nbformat": 4,
 "nbformat_minor": 2,
 "cells": [
  {
   "cell_type": "code",
   "execution_count": 1,
   "metadata": {},
   "outputs": [],
   "source": [
    "import numpy as np\n",
    "import pandas as pd\n",
    "import yfinance as yf\n",
    "from alpha_vantage.timeseries import TimeSeries\n",
    "import datetime as dt\n",
    "import copy\n",
    "import matplotlib.pyplot as plt\n",
    "import time"
   ]
  },
  {
   "cell_type": "code",
   "execution_count": 2,
   "metadata": {},
   "outputs": [],
   "source": [
    "\n",
    "def ATR(DF,n):\n",
    "    \"function to calculate True Range and Average True Range\"\n",
    "    df = DF.copy()\n",
    "    df['H-L']=abs(df['High']-df['Low'])\n",
    "    df['H-PC']=abs(df['High']-df['Close'].shift(1))\n",
    "    df['L-PC']=abs(df['Low']-df['Close'].shift(1))\n",
    "    df['TR']=df[['H-L','H-PC','L-PC']].max(axis=1,skipna=False)\n",
    "    df['ATR'] = df['TR'].rolling(n).mean()\n",
    "    #df['ATR'] = df['TR'].ewm(span=n,adjust=False,min_periods=n).mean()\n",
    "    df2 = df.drop(['H-L','H-PC','L-PC'],axis=1)\n",
    "    return df2['ATR']\n",
    "\n",
    "def CAGR(DF):\n",
    "    \"function to calculate the Cumulative Annual Growth Rate of a trading strategy\"\n",
    "    df = DF.copy()\n",
    "    df[\"cum_return\"] = (1 + df[\"ret\"]).cumprod()\n",
    "    n = len(df)/(252*345)\n",
    "    CAGR = (df[\"cum_return\"].tolist()[-1])**(1/n) - 1\n",
    "    return CAGR\n",
    "\n",
    "def volatility(DF):\n",
    "    \"function to calculate annualized volatility of a trading strategy\"\n",
    "    df = DF.copy()\n",
    "    vol = df[\"ret\"].std() * np.sqrt(252*345)\n",
    "    return vol\n",
    "\n",
    "def sharpe(DF,rf):\n",
    "    \"function to calculate sharpe ratio ; rf is the risk free rate\"\n",
    "    df = DF.copy()\n",
    "    sr = (CAGR(df) - rf)/volatility(df)\n",
    "    return sr\n",
    "    \n",
    "\n",
    "def max_dd(DF):\n",
    "    \"function to calculate max drawdown\"\n",
    "    df = DF.copy()\n",
    "    df[\"cum_return\"] = (1 + df[\"ret\"]).cumprod()\n",
    "    df[\"cum_roll_max\"] = df[\"cum_return\"].cummax()\n",
    "    df[\"drawdown\"] = df[\"cum_roll_max\"] - df[\"cum_return\"]\n",
    "    df[\"drawdown_pct\"] = df[\"drawdown\"]/df[\"cum_roll_max\"]\n",
    "    max_dd = df[\"drawdown_pct\"].max()\n",
    "    return max_dd"
   ]
  },
  {
   "cell_type": "code",
   "execution_count": 3,
   "metadata": {},
   "outputs": [
    {
     "output_type": "stream",
     "name": "stdout",
     "text": [
      "getting data for:  MSFT\n",
      "getting data for:  AAPL\n",
      "moving to next iteration.......error\n"
     ]
    }
   ],
   "source": [
    "tickers = [\"MSFT\",\"AAPL\"]\n",
    "         \n",
    "\n",
    "ts = TimeSeries(key=\"J04L0E3DP2SR0N3P\", output_format='pandas')\n",
    "\n",
    "ohlc_intraday = {} # directory with ohlc value for each stock   \n",
    "api_call_count = 1\n",
    "ts = TimeSeries(key=\"J04L0E3DP2SR0N3P\", output_format='pandas')\n",
    "start_time = time.time()\n",
    "try:\n",
    "    \n",
    "    for ticker in tickers:\n",
    "        print(\"getting data for: \",ticker)\n",
    "        data = ts.get_intraday(symbol=ticker,interval='1min', outputsize='full')[0]\n",
    "        api_call_count+=1\n",
    "        data.columns = [\"Open\",\"High\",\"Low\",\"Close\",\"Volume\"]\n",
    "        data = data.iloc[::-1]\n",
    "        data = data.between_time('09:30', '15:15') #remove data outside regular trading hours\n",
    "        ohlc_intraday[ticker] = data\n",
    "        if api_call_count==2:\n",
    "            api_call_count = 1\n",
    "            time.sleep(60 - ((time.time() - start_time) % 60.0))\n",
    "except:\n",
    "    print(\"moving to next iteration.......error\")        \n",
    "\n",
    "tickers = ohlc_intraday.keys()\n"
   ]
  },
  {
   "cell_type": "code",
   "execution_count": 19,
   "metadata": {},
   "outputs": [
    {
     "output_type": "execute_result",
     "data": {
      "text/plain": [
       "                         Open     High     Low     Close    Volume\n",
       "date                                                              \n",
       "2021-05-25 09:30:00  251.7000  251.890  251.60  251.6500    4800.0\n",
       "2021-05-25 09:31:00  251.7690  251.769  251.34  251.6100  481649.0\n",
       "2021-05-25 09:32:00  251.6200  252.250  251.62  252.1500  112669.0\n",
       "2021-05-25 09:33:00  252.1700  252.750  252.13  252.4700  127702.0\n",
       "2021-05-25 09:34:00  252.4800  252.630  252.30  252.3200   96815.0\n",
       "...                       ...      ...     ...       ...       ...\n",
       "2021-06-07 15:11:00  252.6000  252.630  252.55  252.5900   19663.0\n",
       "2021-06-07 15:12:00  252.5977  252.600  252.54  252.5624   22603.0\n",
       "2021-06-07 15:13:00  252.5686  252.615  252.56  252.6100   21110.0\n",
       "2021-06-07 15:14:00  252.6000  252.710  252.59  252.6400   46320.0\n",
       "2021-06-07 15:15:00  252.6300  252.640  252.58  252.5800   15807.0\n",
       "\n",
       "[3114 rows x 5 columns]"
      ],
      "text/html": "<div>\n<style scoped>\n    .dataframe tbody tr th:only-of-type {\n        vertical-align: middle;\n    }\n\n    .dataframe tbody tr th {\n        vertical-align: top;\n    }\n\n    .dataframe thead th {\n        text-align: right;\n    }\n</style>\n<table border=\"1\" class=\"dataframe\">\n  <thead>\n    <tr style=\"text-align: right;\">\n      <th></th>\n      <th>Open</th>\n      <th>High</th>\n      <th>Low</th>\n      <th>Close</th>\n      <th>Volume</th>\n    </tr>\n    <tr>\n      <th>date</th>\n      <th></th>\n      <th></th>\n      <th></th>\n      <th></th>\n      <th></th>\n    </tr>\n  </thead>\n  <tbody>\n    <tr>\n      <th>2021-05-25 09:30:00</th>\n      <td>251.7000</td>\n      <td>251.890</td>\n      <td>251.60</td>\n      <td>251.6500</td>\n      <td>4800.0</td>\n    </tr>\n    <tr>\n      <th>2021-05-25 09:31:00</th>\n      <td>251.7690</td>\n      <td>251.769</td>\n      <td>251.34</td>\n      <td>251.6100</td>\n      <td>481649.0</td>\n    </tr>\n    <tr>\n      <th>2021-05-25 09:32:00</th>\n      <td>251.6200</td>\n      <td>252.250</td>\n      <td>251.62</td>\n      <td>252.1500</td>\n      <td>112669.0</td>\n    </tr>\n    <tr>\n      <th>2021-05-25 09:33:00</th>\n      <td>252.1700</td>\n      <td>252.750</td>\n      <td>252.13</td>\n      <td>252.4700</td>\n      <td>127702.0</td>\n    </tr>\n    <tr>\n      <th>2021-05-25 09:34:00</th>\n      <td>252.4800</td>\n      <td>252.630</td>\n      <td>252.30</td>\n      <td>252.3200</td>\n      <td>96815.0</td>\n    </tr>\n    <tr>\n      <th>...</th>\n      <td>...</td>\n      <td>...</td>\n      <td>...</td>\n      <td>...</td>\n      <td>...</td>\n    </tr>\n    <tr>\n      <th>2021-06-07 15:11:00</th>\n      <td>252.6000</td>\n      <td>252.630</td>\n      <td>252.55</td>\n      <td>252.5900</td>\n      <td>19663.0</td>\n    </tr>\n    <tr>\n      <th>2021-06-07 15:12:00</th>\n      <td>252.5977</td>\n      <td>252.600</td>\n      <td>252.54</td>\n      <td>252.5624</td>\n      <td>22603.0</td>\n    </tr>\n    <tr>\n      <th>2021-06-07 15:13:00</th>\n      <td>252.5686</td>\n      <td>252.615</td>\n      <td>252.56</td>\n      <td>252.6100</td>\n      <td>21110.0</td>\n    </tr>\n    <tr>\n      <th>2021-06-07 15:14:00</th>\n      <td>252.6000</td>\n      <td>252.710</td>\n      <td>252.59</td>\n      <td>252.6400</td>\n      <td>46320.0</td>\n    </tr>\n    <tr>\n      <th>2021-06-07 15:15:00</th>\n      <td>252.6300</td>\n      <td>252.640</td>\n      <td>252.58</td>\n      <td>252.5800</td>\n      <td>15807.0</td>\n    </tr>\n  </tbody>\n</table>\n<p>3114 rows × 5 columns</p>\n</div>"
     },
     "metadata": {},
     "execution_count": 19
    }
   ],
   "source": [
    "ohlc_intraday[\"MSFT\"]"
   ]
  },
  {
   "cell_type": "code",
   "execution_count": 20,
   "metadata": {},
   "outputs": [],
   "source": [
    "ohlc_dict=copy.deepcopy(ohlc_intraday)"
   ]
  },
  {
   "cell_type": "code",
   "execution_count": 26,
   "metadata": {},
   "outputs": [],
   "source": [
    "for ticker in tickers:\n",
    "    ohlc_dict[ticker][\"o-c\"]=abs(ohlc_dict[ticker][\"Open\"]-ohlc_dict[ticker][\"Close\"])\n",
    "    ohlc_dict[ticker][\"o-c avg\"]=ohlc_dict[ticker][\"o-c\"].rolling(20).mean()\n",
    "    ohlc_dict[ticker][\"avg volume\"]=ohlc_dict[ticker][\"Volume\"].rolling(20).mean()\n",
    "    ohlc_dict[ticker].dropna(inplace=True)\n",
    "    ticker_ret[ticker] = []\n"
   ]
  },
  {
   "cell_type": "code",
   "execution_count": 27,
   "metadata": {},
   "outputs": [
    {
     "output_type": "execute_result",
     "data": {
      "text/plain": [
       "                         Open     High      Low     Close   Volume     o-c  \\\n",
       "date                                                                         \n",
       "2021-05-25 10:27:00  251.1850  251.195  250.950  250.9600  32746.0  0.2250   \n",
       "2021-05-25 10:28:00  250.9500  251.060  250.950  251.0600  26808.0  0.1100   \n",
       "2021-05-25 10:29:00  251.0500  251.080  250.990  251.0300  38188.0  0.0200   \n",
       "2021-05-25 10:30:00  251.0200  251.180  251.000  251.1800  29991.0  0.1600   \n",
       "2021-05-25 10:31:00  251.1800  251.250  251.123  251.1700  26617.0  0.0100   \n",
       "...                       ...      ...      ...       ...      ...     ...   \n",
       "2021-06-07 15:11:00  252.6000  252.630  252.550  252.5900  19663.0  0.0100   \n",
       "2021-06-07 15:12:00  252.5977  252.600  252.540  252.5624  22603.0  0.0353   \n",
       "2021-06-07 15:13:00  252.5686  252.615  252.560  252.6100  21110.0  0.0414   \n",
       "2021-06-07 15:14:00  252.6000  252.710  252.590  252.6400  46320.0  0.0400   \n",
       "2021-06-07 15:15:00  252.6300  252.640  252.580  252.5800  15807.0  0.0500   \n",
       "\n",
       "                      o-c avg  avg volume  \n",
       "date                                       \n",
       "2021-05-25 10:27:00  0.097725    32192.15  \n",
       "2021-05-25 10:28:00  0.102225    31622.00  \n",
       "2021-05-25 10:29:00  0.094225    31633.50  \n",
       "2021-05-25 10:30:00  0.092725    30990.00  \n",
       "2021-05-25 10:31:00  0.088975    30350.95  \n",
       "...                       ...         ...  \n",
       "2021-06-07 15:11:00  0.048325    25667.60  \n",
       "2021-06-07 15:12:00  0.049340    25959.50  \n",
       "2021-06-07 15:13:00  0.048505    26182.65  \n",
       "2021-06-07 15:14:00  0.047010    27446.95  \n",
       "2021-06-07 15:15:00  0.049010    27662.20  \n",
       "\n",
       "[3057 rows x 8 columns]"
      ],
      "text/html": "<div>\n<style scoped>\n    .dataframe tbody tr th:only-of-type {\n        vertical-align: middle;\n    }\n\n    .dataframe tbody tr th {\n        vertical-align: top;\n    }\n\n    .dataframe thead th {\n        text-align: right;\n    }\n</style>\n<table border=\"1\" class=\"dataframe\">\n  <thead>\n    <tr style=\"text-align: right;\">\n      <th></th>\n      <th>Open</th>\n      <th>High</th>\n      <th>Low</th>\n      <th>Close</th>\n      <th>Volume</th>\n      <th>o-c</th>\n      <th>o-c avg</th>\n      <th>avg volume</th>\n    </tr>\n    <tr>\n      <th>date</th>\n      <th></th>\n      <th></th>\n      <th></th>\n      <th></th>\n      <th></th>\n      <th></th>\n      <th></th>\n      <th></th>\n    </tr>\n  </thead>\n  <tbody>\n    <tr>\n      <th>2021-05-25 10:27:00</th>\n      <td>251.1850</td>\n      <td>251.195</td>\n      <td>250.950</td>\n      <td>250.9600</td>\n      <td>32746.0</td>\n      <td>0.2250</td>\n      <td>0.097725</td>\n      <td>32192.15</td>\n    </tr>\n    <tr>\n      <th>2021-05-25 10:28:00</th>\n      <td>250.9500</td>\n      <td>251.060</td>\n      <td>250.950</td>\n      <td>251.0600</td>\n      <td>26808.0</td>\n      <td>0.1100</td>\n      <td>0.102225</td>\n      <td>31622.00</td>\n    </tr>\n    <tr>\n      <th>2021-05-25 10:29:00</th>\n      <td>251.0500</td>\n      <td>251.080</td>\n      <td>250.990</td>\n      <td>251.0300</td>\n      <td>38188.0</td>\n      <td>0.0200</td>\n      <td>0.094225</td>\n      <td>31633.50</td>\n    </tr>\n    <tr>\n      <th>2021-05-25 10:30:00</th>\n      <td>251.0200</td>\n      <td>251.180</td>\n      <td>251.000</td>\n      <td>251.1800</td>\n      <td>29991.0</td>\n      <td>0.1600</td>\n      <td>0.092725</td>\n      <td>30990.00</td>\n    </tr>\n    <tr>\n      <th>2021-05-25 10:31:00</th>\n      <td>251.1800</td>\n      <td>251.250</td>\n      <td>251.123</td>\n      <td>251.1700</td>\n      <td>26617.0</td>\n      <td>0.0100</td>\n      <td>0.088975</td>\n      <td>30350.95</td>\n    </tr>\n    <tr>\n      <th>...</th>\n      <td>...</td>\n      <td>...</td>\n      <td>...</td>\n      <td>...</td>\n      <td>...</td>\n      <td>...</td>\n      <td>...</td>\n      <td>...</td>\n    </tr>\n    <tr>\n      <th>2021-06-07 15:11:00</th>\n      <td>252.6000</td>\n      <td>252.630</td>\n      <td>252.550</td>\n      <td>252.5900</td>\n      <td>19663.0</td>\n      <td>0.0100</td>\n      <td>0.048325</td>\n      <td>25667.60</td>\n    </tr>\n    <tr>\n      <th>2021-06-07 15:12:00</th>\n      <td>252.5977</td>\n      <td>252.600</td>\n      <td>252.540</td>\n      <td>252.5624</td>\n      <td>22603.0</td>\n      <td>0.0353</td>\n      <td>0.049340</td>\n      <td>25959.50</td>\n    </tr>\n    <tr>\n      <th>2021-06-07 15:13:00</th>\n      <td>252.5686</td>\n      <td>252.615</td>\n      <td>252.560</td>\n      <td>252.6100</td>\n      <td>21110.0</td>\n      <td>0.0414</td>\n      <td>0.048505</td>\n      <td>26182.65</td>\n    </tr>\n    <tr>\n      <th>2021-06-07 15:14:00</th>\n      <td>252.6000</td>\n      <td>252.710</td>\n      <td>252.590</td>\n      <td>252.6400</td>\n      <td>46320.0</td>\n      <td>0.0400</td>\n      <td>0.047010</td>\n      <td>27446.95</td>\n    </tr>\n    <tr>\n      <th>2021-06-07 15:15:00</th>\n      <td>252.6300</td>\n      <td>252.640</td>\n      <td>252.580</td>\n      <td>252.5800</td>\n      <td>15807.0</td>\n      <td>0.0500</td>\n      <td>0.049010</td>\n      <td>27662.20</td>\n    </tr>\n  </tbody>\n</table>\n<p>3057 rows × 8 columns</p>\n</div>"
     },
     "metadata": {},
     "execution_count": 27
    }
   ],
   "source": [
    "ohlc_dict[\"MSFT\"]"
   ]
  },
  {
   "cell_type": "code",
   "execution_count": 28,
   "metadata": {},
   "outputs": [],
   "source": [
    "tickers_signal = {}\n",
    "ticker_ret = {}\n"
   ]
  },
  {
   "cell_type": "code",
   "execution_count": 32,
   "metadata": {},
   "outputs": [
    {
     "output_type": "error",
     "ename": "ValueError",
     "evalue": "Length of values (3110) does not match length of index (3057)",
     "traceback": [
      "\u001b[0;31m---------------------------------------------------------------------------\u001b[0m",
      "\u001b[0;31mValueError\u001b[0m                                Traceback (most recent call last)",
      "\u001b[0;32m<ipython-input-32-9bc425155967>\u001b[0m in \u001b[0;36m<module>\u001b[0;34m\u001b[0m\n\u001b[1;32m     41\u001b[0m                 \u001b[0mticker_ret\u001b[0m\u001b[0;34m[\u001b[0m\u001b[0mticker\u001b[0m\u001b[0;34m]\u001b[0m\u001b[0;34m.\u001b[0m\u001b[0mappend\u001b[0m\u001b[0;34m(\u001b[0m\u001b[0;34m(\u001b[0m\u001b[0mohlc_dict\u001b[0m\u001b[0;34m[\u001b[0m\u001b[0mticker\u001b[0m\u001b[0;34m]\u001b[0m\u001b[0;34m[\u001b[0m\u001b[0;34m\"Close\"\u001b[0m\u001b[0;34m]\u001b[0m\u001b[0;34m[\u001b[0m\u001b[0mi\u001b[0m\u001b[0;34m-\u001b[0m\u001b[0;36m1\u001b[0m\u001b[0;34m]\u001b[0m\u001b[0;34m/\u001b[0m\u001b[0mohlc_dict\u001b[0m\u001b[0;34m[\u001b[0m\u001b[0mticker\u001b[0m\u001b[0;34m]\u001b[0m\u001b[0;34m[\u001b[0m\u001b[0;34m\"Close\"\u001b[0m\u001b[0;34m]\u001b[0m\u001b[0;34m[\u001b[0m\u001b[0mi\u001b[0m\u001b[0;34m]\u001b[0m\u001b[0;34m)\u001b[0m\u001b[0;34m-\u001b[0m\u001b[0;36m1\u001b[0m\u001b[0;34m)\u001b[0m\u001b[0;34m\u001b[0m\u001b[0;34m\u001b[0m\u001b[0m\n\u001b[1;32m     42\u001b[0m \u001b[0;34m\u001b[0m\u001b[0m\n\u001b[0;32m---> 43\u001b[0;31m     \u001b[0mohlc_dict\u001b[0m\u001b[0;34m[\u001b[0m\u001b[0mticker\u001b[0m\u001b[0;34m]\u001b[0m\u001b[0;34m[\u001b[0m\u001b[0;34m\"ret\"\u001b[0m\u001b[0;34m]\u001b[0m \u001b[0;34m=\u001b[0m \u001b[0mnp\u001b[0m\u001b[0;34m.\u001b[0m\u001b[0marray\u001b[0m\u001b[0;34m(\u001b[0m\u001b[0mticker_ret\u001b[0m\u001b[0;34m[\u001b[0m\u001b[0mticker\u001b[0m\u001b[0;34m]\u001b[0m\u001b[0;34m)\u001b[0m\u001b[0;34m\u001b[0m\u001b[0;34m\u001b[0m\u001b[0m\n\u001b[0m",
      "\u001b[0;32m/Library/Frameworks/Python.framework/Versions/3.9/lib/python3.9/site-packages/pandas/core/frame.py\u001b[0m in \u001b[0;36m__setitem__\u001b[0;34m(self, key, value)\u001b[0m\n\u001b[1;32m   3161\u001b[0m         \u001b[0;32melse\u001b[0m\u001b[0;34m:\u001b[0m\u001b[0;34m\u001b[0m\u001b[0;34m\u001b[0m\u001b[0m\n\u001b[1;32m   3162\u001b[0m             \u001b[0;31m# set column\u001b[0m\u001b[0;34m\u001b[0m\u001b[0;34m\u001b[0m\u001b[0;34m\u001b[0m\u001b[0m\n\u001b[0;32m-> 3163\u001b[0;31m             \u001b[0mself\u001b[0m\u001b[0;34m.\u001b[0m\u001b[0m_set_item\u001b[0m\u001b[0;34m(\u001b[0m\u001b[0mkey\u001b[0m\u001b[0;34m,\u001b[0m \u001b[0mvalue\u001b[0m\u001b[0;34m)\u001b[0m\u001b[0;34m\u001b[0m\u001b[0;34m\u001b[0m\u001b[0m\n\u001b[0m\u001b[1;32m   3164\u001b[0m \u001b[0;34m\u001b[0m\u001b[0m\n\u001b[1;32m   3165\u001b[0m     \u001b[0;32mdef\u001b[0m \u001b[0m_setitem_slice\u001b[0m\u001b[0;34m(\u001b[0m\u001b[0mself\u001b[0m\u001b[0;34m,\u001b[0m \u001b[0mkey\u001b[0m\u001b[0;34m:\u001b[0m \u001b[0mslice\u001b[0m\u001b[0;34m,\u001b[0m \u001b[0mvalue\u001b[0m\u001b[0;34m)\u001b[0m\u001b[0;34m:\u001b[0m\u001b[0;34m\u001b[0m\u001b[0;34m\u001b[0m\u001b[0m\n",
      "\u001b[0;32m/Library/Frameworks/Python.framework/Versions/3.9/lib/python3.9/site-packages/pandas/core/frame.py\u001b[0m in \u001b[0;36m_set_item\u001b[0;34m(self, key, value)\u001b[0m\n\u001b[1;32m   3240\u001b[0m         \"\"\"\n\u001b[1;32m   3241\u001b[0m         \u001b[0mself\u001b[0m\u001b[0;34m.\u001b[0m\u001b[0m_ensure_valid_index\u001b[0m\u001b[0;34m(\u001b[0m\u001b[0mvalue\u001b[0m\u001b[0;34m)\u001b[0m\u001b[0;34m\u001b[0m\u001b[0;34m\u001b[0m\u001b[0m\n\u001b[0;32m-> 3242\u001b[0;31m         \u001b[0mvalue\u001b[0m \u001b[0;34m=\u001b[0m \u001b[0mself\u001b[0m\u001b[0;34m.\u001b[0m\u001b[0m_sanitize_column\u001b[0m\u001b[0;34m(\u001b[0m\u001b[0mkey\u001b[0m\u001b[0;34m,\u001b[0m \u001b[0mvalue\u001b[0m\u001b[0;34m)\u001b[0m\u001b[0;34m\u001b[0m\u001b[0;34m\u001b[0m\u001b[0m\n\u001b[0m\u001b[1;32m   3243\u001b[0m         \u001b[0mNDFrame\u001b[0m\u001b[0;34m.\u001b[0m\u001b[0m_set_item\u001b[0m\u001b[0;34m(\u001b[0m\u001b[0mself\u001b[0m\u001b[0;34m,\u001b[0m \u001b[0mkey\u001b[0m\u001b[0;34m,\u001b[0m \u001b[0mvalue\u001b[0m\u001b[0;34m)\u001b[0m\u001b[0;34m\u001b[0m\u001b[0;34m\u001b[0m\u001b[0m\n\u001b[1;32m   3244\u001b[0m \u001b[0;34m\u001b[0m\u001b[0m\n",
      "\u001b[0;32m/Library/Frameworks/Python.framework/Versions/3.9/lib/python3.9/site-packages/pandas/core/frame.py\u001b[0m in \u001b[0;36m_sanitize_column\u001b[0;34m(self, key, value, broadcast)\u001b[0m\n\u001b[1;32m   3897\u001b[0m \u001b[0;34m\u001b[0m\u001b[0m\n\u001b[1;32m   3898\u001b[0m             \u001b[0;31m# turn me into an ndarray\u001b[0m\u001b[0;34m\u001b[0m\u001b[0;34m\u001b[0m\u001b[0;34m\u001b[0m\u001b[0m\n\u001b[0;32m-> 3899\u001b[0;31m             \u001b[0mvalue\u001b[0m \u001b[0;34m=\u001b[0m \u001b[0msanitize_index\u001b[0m\u001b[0;34m(\u001b[0m\u001b[0mvalue\u001b[0m\u001b[0;34m,\u001b[0m \u001b[0mself\u001b[0m\u001b[0;34m.\u001b[0m\u001b[0mindex\u001b[0m\u001b[0;34m)\u001b[0m\u001b[0;34m\u001b[0m\u001b[0;34m\u001b[0m\u001b[0m\n\u001b[0m\u001b[1;32m   3900\u001b[0m             \u001b[0;32mif\u001b[0m \u001b[0;32mnot\u001b[0m \u001b[0misinstance\u001b[0m\u001b[0;34m(\u001b[0m\u001b[0mvalue\u001b[0m\u001b[0;34m,\u001b[0m \u001b[0;34m(\u001b[0m\u001b[0mnp\u001b[0m\u001b[0;34m.\u001b[0m\u001b[0mndarray\u001b[0m\u001b[0;34m,\u001b[0m \u001b[0mIndex\u001b[0m\u001b[0;34m)\u001b[0m\u001b[0;34m)\u001b[0m\u001b[0;34m:\u001b[0m\u001b[0;34m\u001b[0m\u001b[0;34m\u001b[0m\u001b[0m\n\u001b[1;32m   3901\u001b[0m                 \u001b[0;32mif\u001b[0m \u001b[0misinstance\u001b[0m\u001b[0;34m(\u001b[0m\u001b[0mvalue\u001b[0m\u001b[0;34m,\u001b[0m \u001b[0mlist\u001b[0m\u001b[0;34m)\u001b[0m \u001b[0;32mand\u001b[0m \u001b[0mlen\u001b[0m\u001b[0;34m(\u001b[0m\u001b[0mvalue\u001b[0m\u001b[0;34m)\u001b[0m \u001b[0;34m>\u001b[0m \u001b[0;36m0\u001b[0m\u001b[0;34m:\u001b[0m\u001b[0;34m\u001b[0m\u001b[0;34m\u001b[0m\u001b[0m\n",
      "\u001b[0;32m/Library/Frameworks/Python.framework/Versions/3.9/lib/python3.9/site-packages/pandas/core/internals/construction.py\u001b[0m in \u001b[0;36msanitize_index\u001b[0;34m(data, index)\u001b[0m\n\u001b[1;32m    749\u001b[0m     \"\"\"\n\u001b[1;32m    750\u001b[0m     \u001b[0;32mif\u001b[0m \u001b[0mlen\u001b[0m\u001b[0;34m(\u001b[0m\u001b[0mdata\u001b[0m\u001b[0;34m)\u001b[0m \u001b[0;34m!=\u001b[0m \u001b[0mlen\u001b[0m\u001b[0;34m(\u001b[0m\u001b[0mindex\u001b[0m\u001b[0;34m)\u001b[0m\u001b[0;34m:\u001b[0m\u001b[0;34m\u001b[0m\u001b[0;34m\u001b[0m\u001b[0m\n\u001b[0;32m--> 751\u001b[0;31m         raise ValueError(\n\u001b[0m\u001b[1;32m    752\u001b[0m             \u001b[0;34m\"Length of values \"\u001b[0m\u001b[0;34m\u001b[0m\u001b[0;34m\u001b[0m\u001b[0m\n\u001b[1;32m    753\u001b[0m             \u001b[0;34mf\"({len(data)}) \"\u001b[0m\u001b[0;34m\u001b[0m\u001b[0;34m\u001b[0m\u001b[0m\n",
      "\u001b[0;31mValueError\u001b[0m: Length of values (3110) does not match length of index (3057)"
     ]
    }
   ],
   "source": [
    "ticker_ret[\"MSFT\"]=[]\n",
    "signal=\"\"\n",
    "for ticker in tickers:\n",
    "    for i in range(len(ohlc_dict[ticker])):\n",
    "        if signal==\"\":\n",
    "            if ohlc_dict[ticker][\"Volume\"][i]>1.5*ohlc_dict[ticker][\"avg volume\"][i-1] and ohlc_dict[ticker][\"Open\"][i]<ohlc_dict[ticker][\"Close\"][i] and ohlc_dict[ticker][\"o-c\"][i]>ohlc_dict[ticker][\"o-c avg\"][i-1]:\n",
    "                signal=\"buy\"\n",
    "                price=ohlc_dict[ticker][\"Close\"][i]\n",
    "\n",
    "\n",
    "            elif ohlc_dict[ticker][\"Volume\"][i]>1.5*ohlc_dict[ticker][\"avg volume\"][i-1] and ohlc_dict[ticker][\"Open\"][i]>ohlc_dict[ticker][\"Close\"][i] and ohlc_dict[ticker][\"o-c\"][i]>ohlc_dict[ticker][\"o-c avg\"][i-1]:\n",
    "                signal=\"sell\"\n",
    "            ticker_ret[ticker].append(0)\n",
    "\n",
    "        if signal==\"buy\":\n",
    "            if ohlc_dict[ticker][\"Volume\"][i]>1.5*ohlc_dict[ticker][\"avg volume\"][i-1] and ohlc_dict[ticker][\"Open\"][i]>ohlc_dict[ticker][\"Close\"][i] and ohlc_dict[ticker][\"o-c\"][i]>ohlc_dict[ticker][\"o-c avg\"][i-1]:\n",
    "\n",
    "                signal=\"sell\"\n",
    "                ticker_ret[ticker].append((ohlc_dict[ticker][\"Close\"][i]/ohlc_dict[ticker][\"Close\"][i-1])-1)\n",
    "\n",
    "            elif ohlc_dict[ticker][\"Close\"][i]>=(price+.02*price) or ohlc_dict[ticker][\"Close\"][i]<=(price-.02*price):\n",
    "                ticker_ret[ticker].append((ohlc_dict[ticker][\"Close\"][i]/ohlc_dict[ticker][\"Close\"][i-1])-1)\n",
    "                signal=\"\"\n",
    "            \n",
    "            else:\n",
    "                ticker_ret[ticker].append((ohlc_dict[ticker][\"Close\"][i]/ohlc_dict[ticker][\"Close\"][i-1])-1)\n",
    "           \n",
    "        \n",
    "        \n",
    "        if signal==\"sell\":\n",
    "            if ohlc_dict[ticker][\"Volume\"][i]>1.5*ohlc_dict[ticker][\"avg volume\"][i-1] and ohlc_dict[ticker][\"Open\"][i]<ohlc_dict[ticker][\"Close\"][i] and ohlc_dict[ticker][\"o-c\"][i]>ohlc_dict[ticker][\"o-c avg\"][i-1]:\n",
    "\n",
    "                signal=\"buy\"\n",
    "                ticker_ret[ticker].append((ohlc_dict[ticker][\"Close\"][i-1]/ohlc_dict[ticker][\"Close\"][i])-1)\n",
    "\n",
    "            elif ohlc_dict[ticker][\"Close\"][i]>=(price+.02*price) or ohlc_dict[ticker][\"Close\"][i]<=(price-.02*price):\n",
    "                ticker_ret[ticker].append((ohlc_dict[ticker][\"Close\"][i-1]/ohlc_dict[ticker][\"Close\"][i])-1)\n",
    "                signal=\"\"\n",
    "            \n",
    "            else:\n",
    "                ticker_ret[ticker].append((ohlc_dict[ticker][\"Close\"][i-1]/ohlc_dict[ticker][\"Close\"][i])-1)\n",
    "\n",
    "    ohlc_dict[ticker][\"ret\"] = np.array(ticker_ret[ticker])    "
   ]
  },
  {
   "cell_type": "code",
   "execution_count": null,
   "metadata": {},
   "outputs": [],
   "source": []
  }
 ]
}