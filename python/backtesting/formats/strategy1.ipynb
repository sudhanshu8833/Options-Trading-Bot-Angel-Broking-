{
 "metadata": {
  "language_info": {
   "codemirror_mode": {
    "name": "ipython",
    "version": 3
   },
   "file_extension": ".py",
   "mimetype": "text/x-python",
   "name": "python",
   "nbconvert_exporter": "python",
   "pygments_lexer": "ipython3",
   "version": "3.9.5"
  },
  "orig_nbformat": 2,
  "kernelspec": {
   "name": "python395jvsc74a57bd0aee8b7b246df8f9039afb4144a1f6fd8d2ca17a180786b69acc140d282b71a49",
   "display_name": "Python 3.9.5 64-bit"
  },
  "metadata": {
   "interpreter": {
    "hash": "aee8b7b246df8f9039afb4144a1f6fd8d2ca17a180786b69acc140d282b71a49"
   }
  }
 },
 "nbformat": 4,
 "nbformat_minor": 2,
 "cells": [
  {
   "cell_type": "code",
   "execution_count": 2,
   "metadata": {},
   "outputs": [],
   "source": [
    "from finta import TA\n",
    "\n",
    "import yfinance as yf\n",
    "import numpy as np\n",
    "import pandas as pd\n",
    "import yfinance as yf\n",
    "from alpha_vantage.timeseries import TimeSeries\n",
    "import datetime as dt\n",
    "import copy\n",
    "import matplotlib.pyplot as plt\n",
    "import time\n"
   ]
  },
  {
   "cell_type": "code",
   "execution_count": 3,
   "metadata": {},
   "outputs": [],
   "source": [
    "tickers=[\"^NSEBANK\"]"
   ]
  },
  {
   "cell_type": "code",
   "execution_count": 4,
   "metadata": {},
   "outputs": [],
   "source": [
    "ohlc_intraday={}"
   ]
  },
  {
   "cell_type": "code",
   "execution_count": 5,
   "metadata": {},
   "outputs": [
    {
     "output_type": "stream",
     "name": "stdout",
     "text": [
      "[*********************100%***********************]  1 of 1 completed\n"
     ]
    }
   ],
   "source": [
    "for ticker in tickers:\n",
    "    ohlc_intraday[ticker]=yf.download(\"^NSEBANK\",dt.datetime.today()-dt.timedelta(30),dt.datetime.today(),interval=\"5m\")"
   ]
  },
  {
   "cell_type": "code",
   "execution_count": 6,
   "metadata": {},
   "outputs": [],
   "source": [
    "ohlc_dict=copy.deepcopy(ohlc_intraday)"
   ]
  },
  {
   "cell_type": "code",
   "execution_count": 7,
   "metadata": {},
   "outputs": [
    {
     "output_type": "execute_result",
     "data": {
      "text/plain": [
       "                                   Open          High           Low  \\\n",
       "Datetime                                                              \n",
       "2021-05-10 13:20:00+05:30  33125.500000  33151.601562  33119.648438   \n",
       "2021-05-10 13:25:00+05:30  33137.898438  33168.199219  33137.898438   \n",
       "2021-05-10 13:30:00+05:30  33157.648438  33180.898438  33144.800781   \n",
       "2021-05-10 13:35:00+05:30  33168.000000  33187.050781  33143.300781   \n",
       "2021-05-10 13:40:00+05:30  33148.300781  33177.351562  33142.300781   \n",
       "...                                 ...           ...           ...   \n",
       "2021-06-09 13:05:00+05:30  35234.300781  35237.300781  35136.449219   \n",
       "2021-06-09 13:10:00+05:30  35141.851562  35156.699219  34890.500000   \n",
       "2021-06-09 13:15:00+05:30  34907.000000  34946.699219  34644.550781   \n",
       "2021-06-09 13:20:00+05:30  34873.148438  34873.148438  34817.000000   \n",
       "2021-06-09 13:21:31+05:30  34836.851562  34836.851562  34836.851562   \n",
       "\n",
       "                                  Close     Adj Close  Volume  \n",
       "Datetime                                                       \n",
       "2021-05-10 13:20:00+05:30  33138.601562  33138.601562       0  \n",
       "2021-05-10 13:25:00+05:30  33157.601562  33157.601562       0  \n",
       "2021-05-10 13:30:00+05:30  33170.050781  33170.050781       0  \n",
       "2021-05-10 13:35:00+05:30  33148.300781  33148.300781       0  \n",
       "2021-05-10 13:40:00+05:30  33171.449219  33171.449219       0  \n",
       "...                                 ...           ...     ...  \n",
       "2021-06-09 13:05:00+05:30  35139.949219  35139.949219       0  \n",
       "2021-06-09 13:10:00+05:30  34903.199219  34903.199219       0  \n",
       "2021-06-09 13:15:00+05:30  34877.800781  34877.800781       0  \n",
       "2021-06-09 13:20:00+05:30  34853.449219  34853.449219       0  \n",
       "2021-06-09 13:21:31+05:30  34836.851562  34836.851562       0  \n",
       "\n",
       "[1576 rows x 6 columns]"
      ],
      "text/html": "<div>\n<style scoped>\n    .dataframe tbody tr th:only-of-type {\n        vertical-align: middle;\n    }\n\n    .dataframe tbody tr th {\n        vertical-align: top;\n    }\n\n    .dataframe thead th {\n        text-align: right;\n    }\n</style>\n<table border=\"1\" class=\"dataframe\">\n  <thead>\n    <tr style=\"text-align: right;\">\n      <th></th>\n      <th>Open</th>\n      <th>High</th>\n      <th>Low</th>\n      <th>Close</th>\n      <th>Adj Close</th>\n      <th>Volume</th>\n    </tr>\n    <tr>\n      <th>Datetime</th>\n      <th></th>\n      <th></th>\n      <th></th>\n      <th></th>\n      <th></th>\n      <th></th>\n    </tr>\n  </thead>\n  <tbody>\n    <tr>\n      <th>2021-05-10 13:20:00+05:30</th>\n      <td>33125.500000</td>\n      <td>33151.601562</td>\n      <td>33119.648438</td>\n      <td>33138.601562</td>\n      <td>33138.601562</td>\n      <td>0</td>\n    </tr>\n    <tr>\n      <th>2021-05-10 13:25:00+05:30</th>\n      <td>33137.898438</td>\n      <td>33168.199219</td>\n      <td>33137.898438</td>\n      <td>33157.601562</td>\n      <td>33157.601562</td>\n      <td>0</td>\n    </tr>\n    <tr>\n      <th>2021-05-10 13:30:00+05:30</th>\n      <td>33157.648438</td>\n      <td>33180.898438</td>\n      <td>33144.800781</td>\n      <td>33170.050781</td>\n      <td>33170.050781</td>\n      <td>0</td>\n    </tr>\n    <tr>\n      <th>2021-05-10 13:35:00+05:30</th>\n      <td>33168.000000</td>\n      <td>33187.050781</td>\n      <td>33143.300781</td>\n      <td>33148.300781</td>\n      <td>33148.300781</td>\n      <td>0</td>\n    </tr>\n    <tr>\n      <th>2021-05-10 13:40:00+05:30</th>\n      <td>33148.300781</td>\n      <td>33177.351562</td>\n      <td>33142.300781</td>\n      <td>33171.449219</td>\n      <td>33171.449219</td>\n      <td>0</td>\n    </tr>\n    <tr>\n      <th>...</th>\n      <td>...</td>\n      <td>...</td>\n      <td>...</td>\n      <td>...</td>\n      <td>...</td>\n      <td>...</td>\n    </tr>\n    <tr>\n      <th>2021-06-09 13:05:00+05:30</th>\n      <td>35234.300781</td>\n      <td>35237.300781</td>\n      <td>35136.449219</td>\n      <td>35139.949219</td>\n      <td>35139.949219</td>\n      <td>0</td>\n    </tr>\n    <tr>\n      <th>2021-06-09 13:10:00+05:30</th>\n      <td>35141.851562</td>\n      <td>35156.699219</td>\n      <td>34890.500000</td>\n      <td>34903.199219</td>\n      <td>34903.199219</td>\n      <td>0</td>\n    </tr>\n    <tr>\n      <th>2021-06-09 13:15:00+05:30</th>\n      <td>34907.000000</td>\n      <td>34946.699219</td>\n      <td>34644.550781</td>\n      <td>34877.800781</td>\n      <td>34877.800781</td>\n      <td>0</td>\n    </tr>\n    <tr>\n      <th>2021-06-09 13:20:00+05:30</th>\n      <td>34873.148438</td>\n      <td>34873.148438</td>\n      <td>34817.000000</td>\n      <td>34853.449219</td>\n      <td>34853.449219</td>\n      <td>0</td>\n    </tr>\n    <tr>\n      <th>2021-06-09 13:21:31+05:30</th>\n      <td>34836.851562</td>\n      <td>34836.851562</td>\n      <td>34836.851562</td>\n      <td>34836.851562</td>\n      <td>34836.851562</td>\n      <td>0</td>\n    </tr>\n  </tbody>\n</table>\n<p>1576 rows × 6 columns</p>\n</div>"
     },
     "metadata": {},
     "execution_count": 7
    }
   ],
   "source": [
    "ohlc_dict[\"^NSEBANK\"]"
   ]
  },
  {
   "cell_type": "code",
   "execution_count": 8,
   "metadata": {},
   "outputs": [],
   "source": [
    "tickers_signal = {}\n",
    "ticker_ret = {}"
   ]
  },
  {
   "cell_type": "code",
   "execution_count": 15,
   "metadata": {},
   "outputs": [
    {
     "output_type": "execute_result",
     "data": {
      "text/plain": [
       "                                   Open          High           Low  \\\n",
       "Datetime                                                              \n",
       "2021-05-10 13:20:00+05:30  33125.500000  33151.601562  33119.648438   \n",
       "2021-05-10 13:25:00+05:30  33137.898438  33168.199219  33137.898438   \n",
       "2021-05-10 13:30:00+05:30  33157.648438  33180.898438  33144.800781   \n",
       "2021-05-10 13:35:00+05:30  33168.000000  33187.050781  33143.300781   \n",
       "2021-05-10 13:40:00+05:30  33148.300781  33177.351562  33142.300781   \n",
       "...                                 ...           ...           ...   \n",
       "2021-06-09 13:05:00+05:30  35234.300781  35237.300781  35136.449219   \n",
       "2021-06-09 13:10:00+05:30  35141.851562  35156.699219  34890.500000   \n",
       "2021-06-09 13:15:00+05:30  34907.000000  34946.699219  34644.550781   \n",
       "2021-06-09 13:20:00+05:30  34873.148438  34873.148438  34817.000000   \n",
       "2021-06-09 13:21:31+05:30  34836.851562  34836.851562  34836.851562   \n",
       "\n",
       "                              Adj Close  Volume  \n",
       "Datetime                                         \n",
       "2021-05-10 13:20:00+05:30  33138.601562       0  \n",
       "2021-05-10 13:25:00+05:30  33157.601562       0  \n",
       "2021-05-10 13:30:00+05:30  33170.050781       0  \n",
       "2021-05-10 13:35:00+05:30  33148.300781       0  \n",
       "2021-05-10 13:40:00+05:30  33171.449219       0  \n",
       "...                                 ...     ...  \n",
       "2021-06-09 13:05:00+05:30  35139.949219       0  \n",
       "2021-06-09 13:10:00+05:30  34903.199219       0  \n",
       "2021-06-09 13:15:00+05:30  34877.800781       0  \n",
       "2021-06-09 13:20:00+05:30  34853.449219       0  \n",
       "2021-06-09 13:21:31+05:30  34836.851562       0  \n",
       "\n",
       "[1576 rows x 5 columns]"
      ],
      "text/html": "<div>\n<style scoped>\n    .dataframe tbody tr th:only-of-type {\n        vertical-align: middle;\n    }\n\n    .dataframe tbody tr th {\n        vertical-align: top;\n    }\n\n    .dataframe thead th {\n        text-align: right;\n    }\n</style>\n<table border=\"1\" class=\"dataframe\">\n  <thead>\n    <tr style=\"text-align: right;\">\n      <th></th>\n      <th>Open</th>\n      <th>High</th>\n      <th>Low</th>\n      <th>Adj Close</th>\n      <th>Volume</th>\n    </tr>\n    <tr>\n      <th>Datetime</th>\n      <th></th>\n      <th></th>\n      <th></th>\n      <th></th>\n      <th></th>\n    </tr>\n  </thead>\n  <tbody>\n    <tr>\n      <th>2021-05-10 13:20:00+05:30</th>\n      <td>33125.500000</td>\n      <td>33151.601562</td>\n      <td>33119.648438</td>\n      <td>33138.601562</td>\n      <td>0</td>\n    </tr>\n    <tr>\n      <th>2021-05-10 13:25:00+05:30</th>\n      <td>33137.898438</td>\n      <td>33168.199219</td>\n      <td>33137.898438</td>\n      <td>33157.601562</td>\n      <td>0</td>\n    </tr>\n    <tr>\n      <th>2021-05-10 13:30:00+05:30</th>\n      <td>33157.648438</td>\n      <td>33180.898438</td>\n      <td>33144.800781</td>\n      <td>33170.050781</td>\n      <td>0</td>\n    </tr>\n    <tr>\n      <th>2021-05-10 13:35:00+05:30</th>\n      <td>33168.000000</td>\n      <td>33187.050781</td>\n      <td>33143.300781</td>\n      <td>33148.300781</td>\n      <td>0</td>\n    </tr>\n    <tr>\n      <th>2021-05-10 13:40:00+05:30</th>\n      <td>33148.300781</td>\n      <td>33177.351562</td>\n      <td>33142.300781</td>\n      <td>33171.449219</td>\n      <td>0</td>\n    </tr>\n    <tr>\n      <th>...</th>\n      <td>...</td>\n      <td>...</td>\n      <td>...</td>\n      <td>...</td>\n      <td>...</td>\n    </tr>\n    <tr>\n      <th>2021-06-09 13:05:00+05:30</th>\n      <td>35234.300781</td>\n      <td>35237.300781</td>\n      <td>35136.449219</td>\n      <td>35139.949219</td>\n      <td>0</td>\n    </tr>\n    <tr>\n      <th>2021-06-09 13:10:00+05:30</th>\n      <td>35141.851562</td>\n      <td>35156.699219</td>\n      <td>34890.500000</td>\n      <td>34903.199219</td>\n      <td>0</td>\n    </tr>\n    <tr>\n      <th>2021-06-09 13:15:00+05:30</th>\n      <td>34907.000000</td>\n      <td>34946.699219</td>\n      <td>34644.550781</td>\n      <td>34877.800781</td>\n      <td>0</td>\n    </tr>\n    <tr>\n      <th>2021-06-09 13:20:00+05:30</th>\n      <td>34873.148438</td>\n      <td>34873.148438</td>\n      <td>34817.000000</td>\n      <td>34853.449219</td>\n      <td>0</td>\n    </tr>\n    <tr>\n      <th>2021-06-09 13:21:31+05:30</th>\n      <td>34836.851562</td>\n      <td>34836.851562</td>\n      <td>34836.851562</td>\n      <td>34836.851562</td>\n      <td>0</td>\n    </tr>\n  </tbody>\n</table>\n<p>1576 rows × 5 columns</p>\n</div>"
     },
     "metadata": {},
     "execution_count": 15
    }
   ],
   "source": [
    "ohlc_pk=ohlc_dict[\"^NSEBANK\"].iloc[:,[0,1,2,4,5]]"
   ]
  },
  {
   "cell_type": "code",
   "execution_count": null,
   "metadata": {},
   "outputs": [],
   "source": [
    "ohlc_pk.columns"
   ]
  },
  {
   "cell_type": "code",
   "execution_count": 16,
   "metadata": {},
   "outputs": [],
   "source": [
    "for ticker in tickers:\n",
    "    ohlc_dict[ticker]=ohlc_dict[ticker].iloc[:,[0,1,2,4,5]]\n",
    "    ohlc_dict[ticker].columns=[\"open\",\"high\",\"low\",\"close\",\"volume\"]\n",
    "    ohlc_dict[ticker][\"fisher\"]=TA.FISH(ohlc_dict[ticker],10)\n",
    "    ohlc_dict[ticker][\"RSI\"]=TA.RSI(ohlc_dict[ticker],14)\n",
    "    ohlc_dict[ticker][\"MACD\"]=TA.MACD(ohlc_dict[ticker],26,12,9)\n",
    "    ohlc_dict[ticker][\"avg volume\"]=ohlc_dict[ticker][\"Volume\"].rolling(20).mean()\n",
    "    ohlc_dict[ticker].dropna(inplace=True)\n",
    "    ticker_ret[ticker] = []"
   ]
  },
  {
   "cell_type": "code",
   "execution_count": null,
   "metadata": {},
   "outputs": [],
   "source": [
    "ohlc_dict[\"^NSEBANK\"][\"rsi\"]=ta.momentum.rsi(ohlc_dict[\"^NSEBANK\"][\"close\"],window=14,fillna=False)"
   ]
  },
  {
   "cell_type": "code",
   "execution_count": null,
   "metadata": {},
   "outputs": [],
   "source": [
    "ohlc_dict[\"^NSEBANK\"][\"rsi\"]=TA.RSI(ohlc_dict[\"^NSEBANK\"],14)"
   ]
  },
  {
   "cell_type": "code",
   "execution_count": null,
   "metadata": {},
   "outputs": [],
   "source": [
    "ohlc_dict[\"^NSEBANK\"]"
   ]
  },
  {
   "cell_type": "code",
   "execution_count": null,
   "metadata": {},
   "outputs": [],
   "source": [
    "ohlc_dict[\"^NSEBANK\"][\"MACD\"]=TA.MACD( ohlc_dict[\"^NSEBANK\"][\"Close\"],12,26,9,\"Close\")\n",
    "        # period_fast: int = 12,\n",
    "        # period_slow: int = 26,\n",
    "        # signal: int = 9,\n",
    "        # column: str = \"close\",)"
   ]
  },
  {
   "cell_type": "code",
   "execution_count": null,
   "metadata": {},
   "outputs": [],
   "source": []
  },
  {
   "cell_type": "code",
   "execution_count": null,
   "metadata": {},
   "outputs": [],
   "source": []
  }
 ]
}